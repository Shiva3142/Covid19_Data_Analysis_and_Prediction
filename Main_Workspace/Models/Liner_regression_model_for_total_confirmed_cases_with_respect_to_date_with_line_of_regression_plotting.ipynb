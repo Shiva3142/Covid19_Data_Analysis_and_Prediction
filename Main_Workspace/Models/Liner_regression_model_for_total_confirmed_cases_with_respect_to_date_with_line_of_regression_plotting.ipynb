{
 "cells": [
  {
   "cell_type": "markdown",
   "id": "valuable-maple",
   "metadata": {},
   "source": [
    "## Imports"
   ]
  },
  {
   "cell_type": "code",
   "execution_count": 1,
   "id": "matched-globe",
   "metadata": {},
   "outputs": [],
   "source": [
    "import pandas\n",
    "import numpy\n",
    "import matplotlib.pyplot as plt\n",
    "from pandas.plotting import scatter_matrix\n",
    "import mysql.connector\n",
    "from sklearn.linear_model import LinearRegression\n",
    "from sklearn.metrics import mean_squared_error,mean_absolute_error\n",
    "import joblib\n",
    "%matplotlib qt"
   ]
  },
  {
   "cell_type": "code",
   "execution_count": 2,
   "id": "dominant-upper",
   "metadata": {},
   "outputs": [],
   "source": [
    "with open('../config.env') as f:\n",
    "    credentials=f.read()\n",
    "credentials=credentials.split(\" \")\n",
    "con = mysql.connector.connect(username=credentials[0],password=credentials[1],host=credentials[2],port=credentials[3],database=credentials[4])\n",
    "query=con.cursor()\n",
    "\n"
   ]
  },
  {
   "cell_type": "code",
   "execution_count": 3,
   "id": "characteristic-shower",
   "metadata": {},
   "outputs": [],
   "source": [
    "sql=\"SELECT * FROM total_india_cases\"\n",
    "query.execute(sql)\n",
    "result=query.fetchall()\n",
    "column=[columns[0] for columns in query.description]"
   ]
  },
  {
   "cell_type": "code",
   "execution_count": 4,
   "id": "warming-orchestra",
   "metadata": {},
   "outputs": [],
   "source": [
    "data=pandas.DataFrame(result,columns=column)"
   ]
  },
  {
   "cell_type": "code",
   "execution_count": 5,
   "id": "honest-alexander",
   "metadata": {},
   "outputs": [],
   "source": [
    "# data"
   ]
  },
  {
   "cell_type": "code",
   "execution_count": 6,
   "id": "thick-curve",
   "metadata": {},
   "outputs": [],
   "source": [
    "# data.info()"
   ]
  },
  {
   "cell_type": "code",
   "execution_count": 7,
   "id": "powered-aaron",
   "metadata": {},
   "outputs": [],
   "source": [
    "# data.describe()"
   ]
  },
  {
   "cell_type": "code",
   "execution_count": 8,
   "id": "after-guide",
   "metadata": {},
   "outputs": [],
   "source": [
    "# data.plot(kind='line',x='date',y=['total_confirmed','total_active','total_tested'],figsize=(20,15))"
   ]
  },
  {
   "cell_type": "code",
   "execution_count": 9,
   "id": "documentary-motion",
   "metadata": {},
   "outputs": [],
   "source": [
    "# data.plot(kind='line',x='date',y=['delta_confirmed','delta_active','delta_tested'],figsize=(20,15))"
   ]
  },
  {
   "cell_type": "code",
   "execution_count": 10,
   "id": "lyric-nerve",
   "metadata": {},
   "outputs": [],
   "source": [
    "# data.plot(kind='line',x='date',y=['delta7_confirmed','delta7_active','delta7_tested'],figsize=(20,15))"
   ]
  },
  {
   "cell_type": "code",
   "execution_count": 11,
   "id": "virgin-lawyer",
   "metadata": {},
   "outputs": [],
   "source": [
    "# data.corr()"
   ]
  },
  {
   "cell_type": "code",
   "execution_count": null,
   "id": "quick-farmer",
   "metadata": {},
   "outputs": [],
   "source": []
  },
  {
   "cell_type": "markdown",
   "id": "compatible-declaration",
   "metadata": {},
   "source": [
    "## Train Test Splitting"
   ]
  },
  {
   "cell_type": "code",
   "execution_count": 12,
   "id": "frequent-contest",
   "metadata": {},
   "outputs": [],
   "source": [
    "def splitting(data,training_ratio):\n",
    "    length=len(data)\n",
    "    traing_indexes=int(length*training_ratio)\n",
    "    training_set=data[:traing_indexes]\n",
    "    testing_set=data[traing_indexes:]\n",
    "    return training_set,testing_set"
   ]
  },
  {
   "cell_type": "code",
   "execution_count": 13,
   "id": "alpha-botswana",
   "metadata": {},
   "outputs": [],
   "source": [
    "training_data,testing_data=splitting(data,0.95)"
   ]
  },
  {
   "cell_type": "code",
   "execution_count": 14,
   "id": "sexual-maker",
   "metadata": {},
   "outputs": [
    {
     "data": {
      "text/plain": [
       "534"
      ]
     },
     "execution_count": 14,
     "metadata": {},
     "output_type": "execute_result"
    }
   ],
   "source": [
    "len(training_data)"
   ]
  },
  {
   "cell_type": "code",
   "execution_count": 15,
   "id": "unavailable-protocol",
   "metadata": {},
   "outputs": [
    {
     "data": {
      "text/plain": [
       "29"
      ]
     },
     "execution_count": 15,
     "metadata": {},
     "output_type": "execute_result"
    }
   ],
   "source": [
    "len(testing_data)"
   ]
  },
  {
   "cell_type": "code",
   "execution_count": 16,
   "id": "amazing-phrase",
   "metadata": {},
   "outputs": [],
   "source": [
    "# training_data.value_counts()"
   ]
  },
  {
   "cell_type": "code",
   "execution_count": 17,
   "id": "amended-queen",
   "metadata": {},
   "outputs": [],
   "source": [
    "# testing_data.value_counts()"
   ]
  },
  {
   "cell_type": "code",
   "execution_count": 18,
   "id": "reliable-gazette",
   "metadata": {},
   "outputs": [],
   "source": [
    "features_data=training_data[['ordinal_date']]"
   ]
  },
  {
   "cell_type": "code",
   "execution_count": 19,
   "id": "endangered-review",
   "metadata": {},
   "outputs": [],
   "source": [
    "# features_data"
   ]
  },
  {
   "cell_type": "code",
   "execution_count": 20,
   "id": "green-bundle",
   "metadata": {},
   "outputs": [],
   "source": [
    "labels=training_data['total_confirmed']"
   ]
  },
  {
   "cell_type": "code",
   "execution_count": 21,
   "id": "separate-civilian",
   "metadata": {},
   "outputs": [],
   "source": [
    "# labels"
   ]
  },
  {
   "cell_type": "code",
   "execution_count": 22,
   "id": "diagnostic-humanitarian",
   "metadata": {},
   "outputs": [],
   "source": [
    "features=features_data.to_numpy()"
   ]
  },
  {
   "cell_type": "code",
   "execution_count": 23,
   "id": "requested-fireplace",
   "metadata": {},
   "outputs": [],
   "source": [
    "# features"
   ]
  },
  {
   "cell_type": "code",
   "execution_count": null,
   "id": "intense-cassette",
   "metadata": {},
   "outputs": [],
   "source": []
  },
  {
   "cell_type": "markdown",
   "id": "accurate-banana",
   "metadata": {},
   "source": [
    "# model implementation"
   ]
  },
  {
   "cell_type": "code",
   "execution_count": 24,
   "id": "anonymous-check",
   "metadata": {},
   "outputs": [],
   "source": [
    "model=LinearRegression()"
   ]
  },
  {
   "cell_type": "code",
   "execution_count": 25,
   "id": "intelligent-vertical",
   "metadata": {
    "scrolled": true
   },
   "outputs": [
    {
     "data": {
      "text/plain": [
       "LinearRegression()"
      ]
     },
     "execution_count": 25,
     "metadata": {},
     "output_type": "execute_result"
    }
   ],
   "source": [
    "model.fit(features,labels)"
   ]
  },
  {
   "cell_type": "code",
   "execution_count": null,
   "id": "hidden-grave",
   "metadata": {},
   "outputs": [],
   "source": []
  },
  {
   "cell_type": "markdown",
   "id": "elect-crown",
   "metadata": {},
   "source": [
    "## Testing"
   ]
  },
  {
   "cell_type": "code",
   "execution_count": 26,
   "id": "exterior-dining",
   "metadata": {},
   "outputs": [
    {
     "data": {
      "text/plain": [
       "array([25157900.92749023])"
      ]
     },
     "execution_count": 26,
     "metadata": {},
     "output_type": "execute_result"
    }
   ],
   "source": [
    "model.predict([[737987]])"
   ]
  },
  {
   "cell_type": "code",
   "execution_count": 27,
   "id": "contained-scheduling",
   "metadata": {},
   "outputs": [],
   "source": [
    "train_predicted=model.predict(features)"
   ]
  },
  {
   "cell_type": "code",
   "execution_count": 28,
   "id": "suited-virgin",
   "metadata": {},
   "outputs": [],
   "source": [
    "test_features=testing_data[['ordinal_date']].to_numpy()"
   ]
  },
  {
   "cell_type": "code",
   "execution_count": 29,
   "id": "furnished-eagle",
   "metadata": {},
   "outputs": [],
   "source": [
    "test_labels=testing_data['total_confirmed']"
   ]
  },
  {
   "cell_type": "code",
   "execution_count": 30,
   "id": "awful-freedom",
   "metadata": {},
   "outputs": [],
   "source": [
    "test_predicted=model.predict(test_features)"
   ]
  },
  {
   "cell_type": "code",
   "execution_count": 31,
   "id": "forward-cowboy",
   "metadata": {},
   "outputs": [],
   "source": [
    "# train_predicted"
   ]
  },
  {
   "cell_type": "code",
   "execution_count": 32,
   "id": "historic-family",
   "metadata": {
    "scrolled": false
   },
   "outputs": [],
   "source": [
    "# test_predicted"
   ]
  },
  {
   "cell_type": "code",
   "execution_count": null,
   "id": "equal-secretariat",
   "metadata": {},
   "outputs": [],
   "source": []
  },
  {
   "cell_type": "markdown",
   "id": "falling-elder",
   "metadata": {},
   "source": [
    "## Evaluation"
   ]
  },
  {
   "cell_type": "code",
   "execution_count": 38,
   "id": "endless-index",
   "metadata": {},
   "outputs": [
    {
     "data": {
      "text/plain": [
       "11097163.509027103"
      ]
     },
     "execution_count": 38,
     "metadata": {},
     "output_type": "execute_result"
    }
   ],
   "source": [
    "mean_absolute_error(features,train_predicted)"
   ]
  },
  {
   "cell_type": "code",
   "execution_count": 39,
   "id": "imported-shaft",
   "metadata": {},
   "outputs": [
    {
     "data": {
      "text/plain": [
       "13583432.988056166"
      ]
     },
     "execution_count": 39,
     "metadata": {},
     "output_type": "execute_result"
    }
   ],
   "source": [
    "numpy.sqrt(mean_squared_error(features,train_predicted))"
   ]
  },
  {
   "cell_type": "code",
   "execution_count": null,
   "id": "ambient-desire",
   "metadata": {},
   "outputs": [],
   "source": []
  },
  {
   "cell_type": "code",
   "execution_count": 33,
   "id": "blessed-technician",
   "metadata": {},
   "outputs": [],
   "source": [
    "mean_squared_error_evaluation=mean_squared_error(test_labels,test_predicted)\n",
    "mean_absolute_error_evaluation=mean_absolute_error(test_labels,test_predicted)"
   ]
  },
  {
   "cell_type": "code",
   "execution_count": 34,
   "id": "afraid-token",
   "metadata": {},
   "outputs": [
    {
     "data": {
      "text/plain": [
       "23868513155228.46"
      ]
     },
     "execution_count": 34,
     "metadata": {},
     "output_type": "execute_result"
    }
   ],
   "source": [
    "mean_squared_error_evaluation"
   ]
  },
  {
   "cell_type": "code",
   "execution_count": 35,
   "id": "blond-segment",
   "metadata": {},
   "outputs": [
    {
     "data": {
      "text/plain": [
       "4885541.2346257465"
      ]
     },
     "execution_count": 35,
     "metadata": {},
     "output_type": "execute_result"
    }
   ],
   "source": [
    "numpy.sqrt(mean_squared_error_evaluation)"
   ]
  },
  {
   "cell_type": "code",
   "execution_count": 36,
   "id": "legendary-meditation",
   "metadata": {
    "scrolled": true
   },
   "outputs": [
    {
     "data": {
      "text/plain": [
       "4881626.298101754"
      ]
     },
     "execution_count": 36,
     "metadata": {},
     "output_type": "execute_result"
    }
   ],
   "source": [
    "mean_absolute_error_evaluation"
   ]
  },
  {
   "cell_type": "code",
   "execution_count": null,
   "id": "offshore-scope",
   "metadata": {},
   "outputs": [],
   "source": []
  },
  {
   "cell_type": "markdown",
   "id": "complex-title",
   "metadata": {},
   "source": [
    "## Plotting the line of regression for whole data"
   ]
  },
  {
   "cell_type": "code",
   "execution_count": 37,
   "id": "tutorial-waste",
   "metadata": {},
   "outputs": [],
   "source": [
    "line_of_regression=numpy.concatenate((train_predicted,test_predicted))\n",
    "actual_data=numpy.concatenate((labels,test_labels))\n",
    "plt.plot(data['date'],line_of_regression,label='Line of Regression')\n",
    "plt.plot(data['date'],actual_data,label='Acual Data')\n",
    "plt.legend()\n",
    "plt.show()"
   ]
  },
  {
   "cell_type": "code",
   "execution_count": null,
   "id": "surgical-characteristic",
   "metadata": {},
   "outputs": [],
   "source": []
  }
 ],
 "metadata": {
  "interpreter": {
   "hash": "ac59ebe37160ed0dfa835113d9b8498d9f09ceb179beaac4002f036b9467c963"
  },
  "kernelspec": {
   "display_name": "Python 3",
   "language": "python",
   "name": "python3"
  },
  "language_info": {
   "codemirror_mode": {
    "name": "ipython",
    "version": 3
   },
   "file_extension": ".py",
   "mimetype": "text/x-python",
   "name": "python",
   "nbconvert_exporter": "python",
   "pygments_lexer": "ipython3",
   "version": "3.9.2"
  }
 },
 "nbformat": 4,
 "nbformat_minor": 5
}
