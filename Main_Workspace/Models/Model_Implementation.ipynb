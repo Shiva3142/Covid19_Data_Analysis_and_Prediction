{
 "cells": [
  {
   "cell_type": "markdown",
   "id": "statistical-stock",
   "metadata": {},
   "source": [
    "## imports"
   ]
  },
  {
   "cell_type": "code",
   "execution_count": 1,
   "id": "metallic-radar",
   "metadata": {},
   "outputs": [],
   "source": [
    "import pandas\n",
    "import numpy\n",
    "from matplotlib import pyplot\n",
    "from pandas.plotting import scatter_matrix\n",
    "import mysql.connector\n",
    "from sklearn.linear_model import LinearRegression\n",
    "from sklearn.preprocessing import PolynomialFeatures\n",
    "from sklearn.ensemble import RandomForestRegressor\n",
    "from sklearn.tree import DecisionTreeRegressor\n",
    "from sklearn.metrics import mean_squared_error,mean_absolute_error\n",
    "import joblib\n",
    "import datetime\n",
    "from statsmodels.tsa.arima.model import ARIMA\n",
    "from statsmodels.tsa.statespace.sarimax import SARIMAX\n",
    "from statsmodels.tsa.vector_ar.var_model import VAR\n",
    "\n",
    "%matplotlib qt"
   ]
  },
  {
   "cell_type": "markdown",
   "id": "annoying-guatemala",
   "metadata": {},
   "source": [
    "## Database Connection and data Fetching"
   ]
  },
  {
   "cell_type": "code",
   "execution_count": 2,
   "id": "greater-beads",
   "metadata": {},
   "outputs": [],
   "source": [
    "with open('../config.env') as f:\n",
    "    credentials=f.read()\n",
    "credentials=credentials.split(\" \")\n",
    "con = mysql.connector.connect(username=credentials[0],password=credentials[1],host=credentials[2],port=credentials[3],database=credentials[4])\n",
    "query=con.cursor()"
   ]
  },
  {
   "cell_type": "code",
   "execution_count": 3,
   "id": "continental-jungle",
   "metadata": {},
   "outputs": [],
   "source": [
    "sql=\"SELECT * FROM total_india_cases\"\n",
    "query.execute(sql)\n",
    "result=query.fetchall()\n",
    "column=[columns[0] for columns in query.description]\n",
    "india_data=pandas.DataFrame(result,columns=column)"
   ]
  },
  {
   "cell_type": "code",
   "execution_count": 4,
   "id": "catholic-footage",
   "metadata": {},
   "outputs": [
    {
     "data": {
      "text/html": [
       "<div>\n",
       "<style scoped>\n",
       "    .dataframe tbody tr th:only-of-type {\n",
       "        vertical-align: middle;\n",
       "    }\n",
       "\n",
       "    .dataframe tbody tr th {\n",
       "        vertical-align: top;\n",
       "    }\n",
       "\n",
       "    .dataframe thead th {\n",
       "        text-align: right;\n",
       "    }\n",
       "</style>\n",
       "<table border=\"1\" class=\"dataframe\">\n",
       "  <thead>\n",
       "    <tr style=\"text-align: right;\">\n",
       "      <th></th>\n",
       "      <th>index_no</th>\n",
       "      <th>date</th>\n",
       "      <th>ordinal_date</th>\n",
       "      <th>total_confirmed</th>\n",
       "      <th>total_active</th>\n",
       "      <th>total_recovered</th>\n",
       "      <th>total_deaths</th>\n",
       "      <th>total_tested</th>\n",
       "      <th>total_vaccinated1</th>\n",
       "      <th>total_vaccinated2</th>\n",
       "      <th>...</th>\n",
       "      <th>delta7_confirmed</th>\n",
       "      <th>delta7_active</th>\n",
       "      <th>delta7_recovered</th>\n",
       "      <th>delta7_deaths</th>\n",
       "      <th>delta7_tested</th>\n",
       "      <th>delta7_vaccinated1</th>\n",
       "      <th>delta7_vaccinated2</th>\n",
       "      <th>total_other</th>\n",
       "      <th>delta_other</th>\n",
       "      <th>delta7_other</th>\n",
       "    </tr>\n",
       "  </thead>\n",
       "  <tbody>\n",
       "    <tr>\n",
       "      <th>0</th>\n",
       "      <td>613</td>\n",
       "      <td>2020-01-30</td>\n",
       "      <td>737454</td>\n",
       "      <td>1</td>\n",
       "      <td>1</td>\n",
       "      <td>0</td>\n",
       "      <td>0</td>\n",
       "      <td>0</td>\n",
       "      <td>0</td>\n",
       "      <td>0</td>\n",
       "      <td>...</td>\n",
       "      <td>1</td>\n",
       "      <td>1</td>\n",
       "      <td>0</td>\n",
       "      <td>0</td>\n",
       "      <td>0</td>\n",
       "      <td>0</td>\n",
       "      <td>0</td>\n",
       "      <td>0</td>\n",
       "      <td>0</td>\n",
       "      <td>0</td>\n",
       "    </tr>\n",
       "    <tr>\n",
       "      <th>1</th>\n",
       "      <td>614</td>\n",
       "      <td>2020-02-02</td>\n",
       "      <td>737457</td>\n",
       "      <td>2</td>\n",
       "      <td>2</td>\n",
       "      <td>0</td>\n",
       "      <td>0</td>\n",
       "      <td>0</td>\n",
       "      <td>0</td>\n",
       "      <td>0</td>\n",
       "      <td>...</td>\n",
       "      <td>2</td>\n",
       "      <td>2</td>\n",
       "      <td>0</td>\n",
       "      <td>0</td>\n",
       "      <td>0</td>\n",
       "      <td>0</td>\n",
       "      <td>0</td>\n",
       "      <td>0</td>\n",
       "      <td>0</td>\n",
       "      <td>0</td>\n",
       "    </tr>\n",
       "    <tr>\n",
       "      <th>2</th>\n",
       "      <td>615</td>\n",
       "      <td>2020-02-03</td>\n",
       "      <td>737458</td>\n",
       "      <td>3</td>\n",
       "      <td>3</td>\n",
       "      <td>0</td>\n",
       "      <td>0</td>\n",
       "      <td>0</td>\n",
       "      <td>0</td>\n",
       "      <td>0</td>\n",
       "      <td>...</td>\n",
       "      <td>3</td>\n",
       "      <td>3</td>\n",
       "      <td>0</td>\n",
       "      <td>0</td>\n",
       "      <td>0</td>\n",
       "      <td>0</td>\n",
       "      <td>0</td>\n",
       "      <td>0</td>\n",
       "      <td>0</td>\n",
       "      <td>0</td>\n",
       "    </tr>\n",
       "    <tr>\n",
       "      <th>3</th>\n",
       "      <td>616</td>\n",
       "      <td>2020-02-14</td>\n",
       "      <td>737469</td>\n",
       "      <td>3</td>\n",
       "      <td>0</td>\n",
       "      <td>3</td>\n",
       "      <td>0</td>\n",
       "      <td>0</td>\n",
       "      <td>0</td>\n",
       "      <td>0</td>\n",
       "      <td>...</td>\n",
       "      <td>0</td>\n",
       "      <td>-3</td>\n",
       "      <td>3</td>\n",
       "      <td>0</td>\n",
       "      <td>0</td>\n",
       "      <td>0</td>\n",
       "      <td>0</td>\n",
       "      <td>0</td>\n",
       "      <td>0</td>\n",
       "      <td>0</td>\n",
       "    </tr>\n",
       "    <tr>\n",
       "      <th>4</th>\n",
       "      <td>617</td>\n",
       "      <td>2020-03-02</td>\n",
       "      <td>737486</td>\n",
       "      <td>5</td>\n",
       "      <td>2</td>\n",
       "      <td>3</td>\n",
       "      <td>0</td>\n",
       "      <td>0</td>\n",
       "      <td>0</td>\n",
       "      <td>0</td>\n",
       "      <td>...</td>\n",
       "      <td>2</td>\n",
       "      <td>2</td>\n",
       "      <td>0</td>\n",
       "      <td>0</td>\n",
       "      <td>0</td>\n",
       "      <td>0</td>\n",
       "      <td>0</td>\n",
       "      <td>0</td>\n",
       "      <td>0</td>\n",
       "      <td>0</td>\n",
       "    </tr>\n",
       "    <tr>\n",
       "      <th>...</th>\n",
       "      <td>...</td>\n",
       "      <td>...</td>\n",
       "      <td>...</td>\n",
       "      <td>...</td>\n",
       "      <td>...</td>\n",
       "      <td>...</td>\n",
       "      <td>...</td>\n",
       "      <td>...</td>\n",
       "      <td>...</td>\n",
       "      <td>...</td>\n",
       "      <td>...</td>\n",
       "      <td>...</td>\n",
       "      <td>...</td>\n",
       "      <td>...</td>\n",
       "      <td>...</td>\n",
       "      <td>...</td>\n",
       "      <td>...</td>\n",
       "      <td>...</td>\n",
       "      <td>...</td>\n",
       "      <td>...</td>\n",
       "      <td>...</td>\n",
       "    </tr>\n",
       "    <tr>\n",
       "      <th>607</th>\n",
       "      <td>1220</td>\n",
       "      <td>2021-10-26</td>\n",
       "      <td>738089</td>\n",
       "      <td>34214892</td>\n",
       "      <td>156336</td>\n",
       "      <td>33589700</td>\n",
       "      <td>455684</td>\n",
       "      <td>603207505</td>\n",
       "      <td>721557725</td>\n",
       "      <td>313767852</td>\n",
       "      <td>...</td>\n",
       "      <td>106567</td>\n",
       "      <td>-15547</td>\n",
       "      <td>119077</td>\n",
       "      <td>3000</td>\n",
       "      <td>8777615</td>\n",
       "      <td>20413094</td>\n",
       "      <td>23630200</td>\n",
       "      <td>13172</td>\n",
       "      <td>9</td>\n",
       "      <td>37</td>\n",
       "    </tr>\n",
       "    <tr>\n",
       "      <th>608</th>\n",
       "      <td>1221</td>\n",
       "      <td>2021-10-27</td>\n",
       "      <td>738090</td>\n",
       "      <td>34231243</td>\n",
       "      <td>154866</td>\n",
       "      <td>33606777</td>\n",
       "      <td>456418</td>\n",
       "      <td>604498405</td>\n",
       "      <td>723497151</td>\n",
       "      <td>317002722</td>\n",
       "      <td>...</td>\n",
       "      <td>104536</td>\n",
       "      <td>-17668</td>\n",
       "      <td>118586</td>\n",
       "      <td>3574</td>\n",
       "      <td>8756187</td>\n",
       "      <td>17828127</td>\n",
       "      <td>24133671</td>\n",
       "      <td>13182</td>\n",
       "      <td>10</td>\n",
       "      <td>44</td>\n",
       "    </tr>\n",
       "    <tr>\n",
       "      <th>609</th>\n",
       "      <td>1222</td>\n",
       "      <td>2021-10-28</td>\n",
       "      <td>738091</td>\n",
       "      <td>34245550</td>\n",
       "      <td>155174</td>\n",
       "      <td>33619966</td>\n",
       "      <td>457223</td>\n",
       "      <td>605885769</td>\n",
       "      <td>726445742</td>\n",
       "      <td>321755224</td>\n",
       "      <td>...</td>\n",
       "      <td>103069</td>\n",
       "      <td>-14258</td>\n",
       "      <td>113133</td>\n",
       "      <td>4147</td>\n",
       "      <td>8819288</td>\n",
       "      <td>17058938</td>\n",
       "      <td>25237448</td>\n",
       "      <td>13187</td>\n",
       "      <td>5</td>\n",
       "      <td>47</td>\n",
       "    </tr>\n",
       "    <tr>\n",
       "      <th>610</th>\n",
       "      <td>1223</td>\n",
       "      <td>2021-10-29</td>\n",
       "      <td>738092</td>\n",
       "      <td>34259765</td>\n",
       "      <td>155281</td>\n",
       "      <td>33633515</td>\n",
       "      <td>457774</td>\n",
       "      <td>607062619</td>\n",
       "      <td>728940103</td>\n",
       "      <td>325373874</td>\n",
       "      <td>...</td>\n",
       "      <td>100957</td>\n",
       "      <td>-12163</td>\n",
       "      <td>109046</td>\n",
       "      <td>4032</td>\n",
       "      <td>8631457</td>\n",
       "      <td>16526747</td>\n",
       "      <td>24758819</td>\n",
       "      <td>13195</td>\n",
       "      <td>8</td>\n",
       "      <td>42</td>\n",
       "    </tr>\n",
       "    <tr>\n",
       "      <th>611</th>\n",
       "      <td>1224</td>\n",
       "      <td>2021-10-30</td>\n",
       "      <td>738093</td>\n",
       "      <td>34272705</td>\n",
       "      <td>153103</td>\n",
       "      <td>33648187</td>\n",
       "      <td>458219</td>\n",
       "      <td>608319915</td>\n",
       "      <td>731621098</td>\n",
       "      <td>329819237</td>\n",
       "      <td>...</td>\n",
       "      <td>97818</td>\n",
       "      <td>-13347</td>\n",
       "      <td>107209</td>\n",
       "      <td>3918</td>\n",
       "      <td>8548595</td>\n",
       "      <td>15887789</td>\n",
       "      <td>24509288</td>\n",
       "      <td>13196</td>\n",
       "      <td>1</td>\n",
       "      <td>38</td>\n",
       "    </tr>\n",
       "  </tbody>\n",
       "</table>\n",
       "<p>612 rows × 27 columns</p>\n",
       "</div>"
      ],
      "text/plain": [
       "     index_no        date  ordinal_date  total_confirmed  total_active  \\\n",
       "0         613  2020-01-30        737454                1             1   \n",
       "1         614  2020-02-02        737457                2             2   \n",
       "2         615  2020-02-03        737458                3             3   \n",
       "3         616  2020-02-14        737469                3             0   \n",
       "4         617  2020-03-02        737486                5             2   \n",
       "..        ...         ...           ...              ...           ...   \n",
       "607      1220  2021-10-26        738089         34214892        156336   \n",
       "608      1221  2021-10-27        738090         34231243        154866   \n",
       "609      1222  2021-10-28        738091         34245550        155174   \n",
       "610      1223  2021-10-29        738092         34259765        155281   \n",
       "611      1224  2021-10-30        738093         34272705        153103   \n",
       "\n",
       "     total_recovered  total_deaths  total_tested  total_vaccinated1  \\\n",
       "0                  0             0             0                  0   \n",
       "1                  0             0             0                  0   \n",
       "2                  0             0             0                  0   \n",
       "3                  3             0             0                  0   \n",
       "4                  3             0             0                  0   \n",
       "..               ...           ...           ...                ...   \n",
       "607         33589700        455684     603207505          721557725   \n",
       "608         33606777        456418     604498405          723497151   \n",
       "609         33619966        457223     605885769          726445742   \n",
       "610         33633515        457774     607062619          728940103   \n",
       "611         33648187        458219     608319915          731621098   \n",
       "\n",
       "     total_vaccinated2  ...  delta7_confirmed  delta7_active  \\\n",
       "0                    0  ...                 1              1   \n",
       "1                    0  ...                 2              2   \n",
       "2                    0  ...                 3              3   \n",
       "3                    0  ...                 0             -3   \n",
       "4                    0  ...                 2              2   \n",
       "..                 ...  ...               ...            ...   \n",
       "607          313767852  ...            106567         -15547   \n",
       "608          317002722  ...            104536         -17668   \n",
       "609          321755224  ...            103069         -14258   \n",
       "610          325373874  ...            100957         -12163   \n",
       "611          329819237  ...             97818         -13347   \n",
       "\n",
       "     delta7_recovered  delta7_deaths  delta7_tested  delta7_vaccinated1  \\\n",
       "0                   0              0              0                   0   \n",
       "1                   0              0              0                   0   \n",
       "2                   0              0              0                   0   \n",
       "3                   3              0              0                   0   \n",
       "4                   0              0              0                   0   \n",
       "..                ...            ...            ...                 ...   \n",
       "607            119077           3000        8777615            20413094   \n",
       "608            118586           3574        8756187            17828127   \n",
       "609            113133           4147        8819288            17058938   \n",
       "610            109046           4032        8631457            16526747   \n",
       "611            107209           3918        8548595            15887789   \n",
       "\n",
       "     delta7_vaccinated2  total_other  delta_other  delta7_other  \n",
       "0                     0            0            0             0  \n",
       "1                     0            0            0             0  \n",
       "2                     0            0            0             0  \n",
       "3                     0            0            0             0  \n",
       "4                     0            0            0             0  \n",
       "..                  ...          ...          ...           ...  \n",
       "607            23630200        13172            9            37  \n",
       "608            24133671        13182           10            44  \n",
       "609            25237448        13187            5            47  \n",
       "610            24758819        13195            8            42  \n",
       "611            24509288        13196            1            38  \n",
       "\n",
       "[612 rows x 27 columns]"
      ]
     },
     "execution_count": 4,
     "metadata": {},
     "output_type": "execute_result"
    }
   ],
   "source": [
    "india_data"
   ]
  },
  {
   "cell_type": "code",
   "execution_count": 5,
   "id": "stable-monster",
   "metadata": {},
   "outputs": [],
   "source": [
    "sql=\"SELECT * FROM total_state_cases WHERE state_name='MH'\"\n",
    "query.execute(sql)\n",
    "result=query.fetchall()\n",
    "column=[columns[0] for columns in query.description]\n",
    "maharashtra_data=pandas.DataFrame(result,columns=column)"
   ]
  },
  {
   "cell_type": "code",
   "execution_count": 6,
   "id": "reasonable-administration",
   "metadata": {},
   "outputs": [
    {
     "data": {
      "text/html": [
       "<div>\n",
       "<style scoped>\n",
       "    .dataframe tbody tr th:only-of-type {\n",
       "        vertical-align: middle;\n",
       "    }\n",
       "\n",
       "    .dataframe tbody tr th {\n",
       "        vertical-align: top;\n",
       "    }\n",
       "\n",
       "    .dataframe thead th {\n",
       "        text-align: right;\n",
       "    }\n",
       "</style>\n",
       "<table border=\"1\" class=\"dataframe\">\n",
       "  <thead>\n",
       "    <tr style=\"text-align: right;\">\n",
       "      <th></th>\n",
       "      <th>index_no</th>\n",
       "      <th>date</th>\n",
       "      <th>ordinal_date</th>\n",
       "      <th>state_name</th>\n",
       "      <th>total_confirmed</th>\n",
       "      <th>total_active</th>\n",
       "      <th>total_recovered</th>\n",
       "      <th>total_deaths</th>\n",
       "      <th>total_tested</th>\n",
       "      <th>total_vaccinated1</th>\n",
       "      <th>...</th>\n",
       "      <th>delta7_confirmed</th>\n",
       "      <th>delta7_active</th>\n",
       "      <th>delta7_recovered</th>\n",
       "      <th>delta7_deaths</th>\n",
       "      <th>delta7_tested</th>\n",
       "      <th>delta7_vaccinated1</th>\n",
       "      <th>delta7_vaccinated2</th>\n",
       "      <th>total_other</th>\n",
       "      <th>delta_other</th>\n",
       "      <th>delta7_other</th>\n",
       "    </tr>\n",
       "  </thead>\n",
       "  <tbody>\n",
       "    <tr>\n",
       "      <th>0</th>\n",
       "      <td>52</td>\n",
       "      <td>2020-03-09</td>\n",
       "      <td>737493</td>\n",
       "      <td>MH</td>\n",
       "      <td>2</td>\n",
       "      <td>2</td>\n",
       "      <td>0</td>\n",
       "      <td>0</td>\n",
       "      <td>0</td>\n",
       "      <td>0</td>\n",
       "      <td>...</td>\n",
       "      <td>2</td>\n",
       "      <td>2</td>\n",
       "      <td>0</td>\n",
       "      <td>0</td>\n",
       "      <td>0</td>\n",
       "      <td>0</td>\n",
       "      <td>0</td>\n",
       "      <td>0</td>\n",
       "      <td>0</td>\n",
       "      <td>0</td>\n",
       "    </tr>\n",
       "    <tr>\n",
       "      <th>1</th>\n",
       "      <td>64</td>\n",
       "      <td>2020-03-10</td>\n",
       "      <td>737494</td>\n",
       "      <td>MH</td>\n",
       "      <td>5</td>\n",
       "      <td>5</td>\n",
       "      <td>0</td>\n",
       "      <td>0</td>\n",
       "      <td>0</td>\n",
       "      <td>0</td>\n",
       "      <td>...</td>\n",
       "      <td>5</td>\n",
       "      <td>5</td>\n",
       "      <td>0</td>\n",
       "      <td>0</td>\n",
       "      <td>0</td>\n",
       "      <td>0</td>\n",
       "      <td>0</td>\n",
       "      <td>0</td>\n",
       "      <td>0</td>\n",
       "      <td>0</td>\n",
       "    </tr>\n",
       "    <tr>\n",
       "      <th>2</th>\n",
       "      <td>76</td>\n",
       "      <td>2020-03-11</td>\n",
       "      <td>737495</td>\n",
       "      <td>MH</td>\n",
       "      <td>11</td>\n",
       "      <td>11</td>\n",
       "      <td>0</td>\n",
       "      <td>0</td>\n",
       "      <td>0</td>\n",
       "      <td>0</td>\n",
       "      <td>...</td>\n",
       "      <td>11</td>\n",
       "      <td>11</td>\n",
       "      <td>0</td>\n",
       "      <td>0</td>\n",
       "      <td>0</td>\n",
       "      <td>0</td>\n",
       "      <td>0</td>\n",
       "      <td>0</td>\n",
       "      <td>0</td>\n",
       "      <td>0</td>\n",
       "    </tr>\n",
       "    <tr>\n",
       "      <th>3</th>\n",
       "      <td>89</td>\n",
       "      <td>2020-03-12</td>\n",
       "      <td>737496</td>\n",
       "      <td>MH</td>\n",
       "      <td>14</td>\n",
       "      <td>14</td>\n",
       "      <td>0</td>\n",
       "      <td>0</td>\n",
       "      <td>0</td>\n",
       "      <td>0</td>\n",
       "      <td>...</td>\n",
       "      <td>14</td>\n",
       "      <td>14</td>\n",
       "      <td>0</td>\n",
       "      <td>0</td>\n",
       "      <td>0</td>\n",
       "      <td>0</td>\n",
       "      <td>0</td>\n",
       "      <td>0</td>\n",
       "      <td>0</td>\n",
       "      <td>0</td>\n",
       "    </tr>\n",
       "    <tr>\n",
       "      <th>4</th>\n",
       "      <td>102</td>\n",
       "      <td>2020-03-13</td>\n",
       "      <td>737497</td>\n",
       "      <td>MH</td>\n",
       "      <td>17</td>\n",
       "      <td>17</td>\n",
       "      <td>0</td>\n",
       "      <td>0</td>\n",
       "      <td>0</td>\n",
       "      <td>0</td>\n",
       "      <td>...</td>\n",
       "      <td>17</td>\n",
       "      <td>17</td>\n",
       "      <td>0</td>\n",
       "      <td>0</td>\n",
       "      <td>0</td>\n",
       "      <td>0</td>\n",
       "      <td>0</td>\n",
       "      <td>0</td>\n",
       "      <td>0</td>\n",
       "      <td>0</td>\n",
       "    </tr>\n",
       "    <tr>\n",
       "      <th>...</th>\n",
       "      <td>...</td>\n",
       "      <td>...</td>\n",
       "      <td>...</td>\n",
       "      <td>...</td>\n",
       "      <td>...</td>\n",
       "      <td>...</td>\n",
       "      <td>...</td>\n",
       "      <td>...</td>\n",
       "      <td>...</td>\n",
       "      <td>...</td>\n",
       "      <td>...</td>\n",
       "      <td>...</td>\n",
       "      <td>...</td>\n",
       "      <td>...</td>\n",
       "      <td>...</td>\n",
       "      <td>...</td>\n",
       "      <td>...</td>\n",
       "      <td>...</td>\n",
       "      <td>...</td>\n",
       "      <td>...</td>\n",
       "      <td>...</td>\n",
       "    </tr>\n",
       "    <tr>\n",
       "      <th>597</th>\n",
       "      <td>20925</td>\n",
       "      <td>2021-10-27</td>\n",
       "      <td>738090</td>\n",
       "      <td>MH</td>\n",
       "      <td>6606536</td>\n",
       "      <td>19480</td>\n",
       "      <td>6443342</td>\n",
       "      <td>140098</td>\n",
       "      <td>62202811</td>\n",
       "      <td>66397746</td>\n",
       "      <td>...</td>\n",
       "      <td>9891</td>\n",
       "      <td>-6248</td>\n",
       "      <td>15916</td>\n",
       "      <td>212</td>\n",
       "      <td>832421</td>\n",
       "      <td>2010496</td>\n",
       "      <td>1534138</td>\n",
       "      <td>3616</td>\n",
       "      <td>1</td>\n",
       "      <td>11</td>\n",
       "    </tr>\n",
       "    <tr>\n",
       "      <th>598</th>\n",
       "      <td>20961</td>\n",
       "      <td>2021-10-28</td>\n",
       "      <td>738091</td>\n",
       "      <td>MH</td>\n",
       "      <td>6607954</td>\n",
       "      <td>18748</td>\n",
       "      <td>6445454</td>\n",
       "      <td>140134</td>\n",
       "      <td>62316910</td>\n",
       "      <td>66658668</td>\n",
       "      <td>...</td>\n",
       "      <td>9736</td>\n",
       "      <td>-5544</td>\n",
       "      <td>15060</td>\n",
       "      <td>209</td>\n",
       "      <td>822820</td>\n",
       "      <td>1731722</td>\n",
       "      <td>1480512</td>\n",
       "      <td>3618</td>\n",
       "      <td>2</td>\n",
       "      <td>11</td>\n",
       "    </tr>\n",
       "    <tr>\n",
       "      <th>599</th>\n",
       "      <td>20997</td>\n",
       "      <td>2021-10-29</td>\n",
       "      <td>738092</td>\n",
       "      <td>MH</td>\n",
       "      <td>6609292</td>\n",
       "      <td>18465</td>\n",
       "      <td>6447038</td>\n",
       "      <td>140170</td>\n",
       "      <td>62439900</td>\n",
       "      <td>66908849</td>\n",
       "      <td>...</td>\n",
       "      <td>9442</td>\n",
       "      <td>-5673</td>\n",
       "      <td>14900</td>\n",
       "      <td>205</td>\n",
       "      <td>813601</td>\n",
       "      <td>1677329</td>\n",
       "      <td>1399884</td>\n",
       "      <td>3619</td>\n",
       "      <td>1</td>\n",
       "      <td>10</td>\n",
       "    </tr>\n",
       "    <tr>\n",
       "      <th>600</th>\n",
       "      <td>21033</td>\n",
       "      <td>2021-10-30</td>\n",
       "      <td>738093</td>\n",
       "      <td>MH</td>\n",
       "      <td>6609906</td>\n",
       "      <td>16905</td>\n",
       "      <td>6449186</td>\n",
       "      <td>140196</td>\n",
       "      <td>62559171</td>\n",
       "      <td>67145633</td>\n",
       "      <td>...</td>\n",
       "      <td>8355</td>\n",
       "      <td>-7117</td>\n",
       "      <td>15267</td>\n",
       "      <td>198</td>\n",
       "      <td>796208</td>\n",
       "      <td>1625770</td>\n",
       "      <td>1298054</td>\n",
       "      <td>3619</td>\n",
       "      <td>0</td>\n",
       "      <td>7</td>\n",
       "    </tr>\n",
       "    <tr>\n",
       "      <th>601</th>\n",
       "      <td>21069</td>\n",
       "      <td>2021-10-31</td>\n",
       "      <td>738094</td>\n",
       "      <td>MH</td>\n",
       "      <td>6611078</td>\n",
       "      <td>16658</td>\n",
       "      <td>6450585</td>\n",
       "      <td>140216</td>\n",
       "      <td>62667211</td>\n",
       "      <td>67198794</td>\n",
       "      <td>...</td>\n",
       "      <td>8117</td>\n",
       "      <td>-7236</td>\n",
       "      <td>15146</td>\n",
       "      <td>200</td>\n",
       "      <td>773516</td>\n",
       "      <td>1611778</td>\n",
       "      <td>1282938</td>\n",
       "      <td>3619</td>\n",
       "      <td>0</td>\n",
       "      <td>7</td>\n",
       "    </tr>\n",
       "  </tbody>\n",
       "</table>\n",
       "<p>602 rows × 28 columns</p>\n",
       "</div>"
      ],
      "text/plain": [
       "     index_no        date  ordinal_date state_name  total_confirmed  \\\n",
       "0          52  2020-03-09        737493         MH                2   \n",
       "1          64  2020-03-10        737494         MH                5   \n",
       "2          76  2020-03-11        737495         MH               11   \n",
       "3          89  2020-03-12        737496         MH               14   \n",
       "4         102  2020-03-13        737497         MH               17   \n",
       "..        ...         ...           ...        ...              ...   \n",
       "597     20925  2021-10-27        738090         MH          6606536   \n",
       "598     20961  2021-10-28        738091         MH          6607954   \n",
       "599     20997  2021-10-29        738092         MH          6609292   \n",
       "600     21033  2021-10-30        738093         MH          6609906   \n",
       "601     21069  2021-10-31        738094         MH          6611078   \n",
       "\n",
       "     total_active  total_recovered  total_deaths  total_tested  \\\n",
       "0               2                0             0             0   \n",
       "1               5                0             0             0   \n",
       "2              11                0             0             0   \n",
       "3              14                0             0             0   \n",
       "4              17                0             0             0   \n",
       "..            ...              ...           ...           ...   \n",
       "597         19480          6443342        140098      62202811   \n",
       "598         18748          6445454        140134      62316910   \n",
       "599         18465          6447038        140170      62439900   \n",
       "600         16905          6449186        140196      62559171   \n",
       "601         16658          6450585        140216      62667211   \n",
       "\n",
       "     total_vaccinated1  ...  delta7_confirmed  delta7_active  \\\n",
       "0                    0  ...                 2              2   \n",
       "1                    0  ...                 5              5   \n",
       "2                    0  ...                11             11   \n",
       "3                    0  ...                14             14   \n",
       "4                    0  ...                17             17   \n",
       "..                 ...  ...               ...            ...   \n",
       "597           66397746  ...              9891          -6248   \n",
       "598           66658668  ...              9736          -5544   \n",
       "599           66908849  ...              9442          -5673   \n",
       "600           67145633  ...              8355          -7117   \n",
       "601           67198794  ...              8117          -7236   \n",
       "\n",
       "     delta7_recovered  delta7_deaths  delta7_tested  delta7_vaccinated1  \\\n",
       "0                   0              0              0                   0   \n",
       "1                   0              0              0                   0   \n",
       "2                   0              0              0                   0   \n",
       "3                   0              0              0                   0   \n",
       "4                   0              0              0                   0   \n",
       "..                ...            ...            ...                 ...   \n",
       "597             15916            212         832421             2010496   \n",
       "598             15060            209         822820             1731722   \n",
       "599             14900            205         813601             1677329   \n",
       "600             15267            198         796208             1625770   \n",
       "601             15146            200         773516             1611778   \n",
       "\n",
       "     delta7_vaccinated2  total_other  delta_other  delta7_other  \n",
       "0                     0            0            0             0  \n",
       "1                     0            0            0             0  \n",
       "2                     0            0            0             0  \n",
       "3                     0            0            0             0  \n",
       "4                     0            0            0             0  \n",
       "..                  ...          ...          ...           ...  \n",
       "597             1534138         3616            1            11  \n",
       "598             1480512         3618            2            11  \n",
       "599             1399884         3619            1            10  \n",
       "600             1298054         3619            0             7  \n",
       "601             1282938         3619            0             7  \n",
       "\n",
       "[602 rows x 28 columns]"
      ]
     },
     "execution_count": 6,
     "metadata": {},
     "output_type": "execute_result"
    }
   ],
   "source": [
    "maharashtra_data"
   ]
  },
  {
   "cell_type": "code",
   "execution_count": 7,
   "id": "turkish-september",
   "metadata": {},
   "outputs": [],
   "source": [
    "def get_district_data(districtname='Raigad'):\n",
    "    sql=\"SELECT * FROM total_district_cases WHERE district_name='{}'\".format(districtname)\n",
    "    query.execute(sql)\n",
    "    result=query.fetchall()\n",
    "    column=[columns[0] for columns in query.description]\n",
    "    district_data=pandas.DataFrame(result,columns=column)\n",
    "    return district_data\n",
    "\n",
    "raigad_data=get_district_data()\n",
    "pune_data=get_district_data('Pune')\n",
    "thane_data=get_district_data('Thane')\n",
    "mumbai_data=get_district_data('Mumbai')"
   ]
  },
  {
   "cell_type": "code",
   "execution_count": 8,
   "id": "constitutional-parameter",
   "metadata": {},
   "outputs": [
    {
     "data": {
      "text/html": [
       "<div>\n",
       "<style scoped>\n",
       "    .dataframe tbody tr th:only-of-type {\n",
       "        vertical-align: middle;\n",
       "    }\n",
       "\n",
       "    .dataframe tbody tr th {\n",
       "        vertical-align: top;\n",
       "    }\n",
       "\n",
       "    .dataframe thead th {\n",
       "        text-align: right;\n",
       "    }\n",
       "</style>\n",
       "<table border=\"1\" class=\"dataframe\">\n",
       "  <thead>\n",
       "    <tr style=\"text-align: right;\">\n",
       "      <th></th>\n",
       "      <th>index_no</th>\n",
       "      <th>date</th>\n",
       "      <th>ordinal_date</th>\n",
       "      <th>state_name</th>\n",
       "      <th>district_name</th>\n",
       "      <th>total_confirmed</th>\n",
       "      <th>total_active</th>\n",
       "      <th>total_recovered</th>\n",
       "      <th>total_deaths</th>\n",
       "      <th>delta_confirmed</th>\n",
       "      <th>...</th>\n",
       "      <th>delta7_deaths</th>\n",
       "      <th>total_vaccinated1</th>\n",
       "      <th>total_vaccinated2</th>\n",
       "      <th>delta_vaccinated1</th>\n",
       "      <th>delta_vaccinated2</th>\n",
       "      <th>delta7_vaccinated1</th>\n",
       "      <th>delta7_vaccinated2</th>\n",
       "      <th>total_other</th>\n",
       "      <th>delta_other</th>\n",
       "      <th>delta7_other</th>\n",
       "    </tr>\n",
       "  </thead>\n",
       "  <tbody>\n",
       "    <tr>\n",
       "      <th>0</th>\n",
       "      <td>19918</td>\n",
       "      <td>2020-04-26</td>\n",
       "      <td>737541</td>\n",
       "      <td>MH</td>\n",
       "      <td>Raigad</td>\n",
       "      <td>57</td>\n",
       "      <td>36</td>\n",
       "      <td>20</td>\n",
       "      <td>1</td>\n",
       "      <td>0</td>\n",
       "      <td>...</td>\n",
       "      <td>0</td>\n",
       "      <td>0</td>\n",
       "      <td>0</td>\n",
       "      <td>0</td>\n",
       "      <td>0</td>\n",
       "      <td>0</td>\n",
       "      <td>0</td>\n",
       "      <td>0</td>\n",
       "      <td>0</td>\n",
       "      <td>0</td>\n",
       "    </tr>\n",
       "    <tr>\n",
       "      <th>1</th>\n",
       "      <td>20334</td>\n",
       "      <td>2020-04-27</td>\n",
       "      <td>737542</td>\n",
       "      <td>MH</td>\n",
       "      <td>Raigad</td>\n",
       "      <td>61</td>\n",
       "      <td>39</td>\n",
       "      <td>21</td>\n",
       "      <td>1</td>\n",
       "      <td>4</td>\n",
       "      <td>...</td>\n",
       "      <td>0</td>\n",
       "      <td>0</td>\n",
       "      <td>0</td>\n",
       "      <td>0</td>\n",
       "      <td>0</td>\n",
       "      <td>0</td>\n",
       "      <td>0</td>\n",
       "      <td>0</td>\n",
       "      <td>0</td>\n",
       "      <td>0</td>\n",
       "    </tr>\n",
       "    <tr>\n",
       "      <th>2</th>\n",
       "      <td>20759</td>\n",
       "      <td>2020-04-28</td>\n",
       "      <td>737543</td>\n",
       "      <td>MH</td>\n",
       "      <td>Raigad</td>\n",
       "      <td>66</td>\n",
       "      <td>44</td>\n",
       "      <td>21</td>\n",
       "      <td>1</td>\n",
       "      <td>5</td>\n",
       "      <td>...</td>\n",
       "      <td>0</td>\n",
       "      <td>0</td>\n",
       "      <td>0</td>\n",
       "      <td>0</td>\n",
       "      <td>0</td>\n",
       "      <td>0</td>\n",
       "      <td>0</td>\n",
       "      <td>0</td>\n",
       "      <td>0</td>\n",
       "      <td>0</td>\n",
       "    </tr>\n",
       "    <tr>\n",
       "      <th>3</th>\n",
       "      <td>21189</td>\n",
       "      <td>2020-04-29</td>\n",
       "      <td>737544</td>\n",
       "      <td>MH</td>\n",
       "      <td>Raigad</td>\n",
       "      <td>69</td>\n",
       "      <td>44</td>\n",
       "      <td>23</td>\n",
       "      <td>2</td>\n",
       "      <td>3</td>\n",
       "      <td>...</td>\n",
       "      <td>1</td>\n",
       "      <td>0</td>\n",
       "      <td>0</td>\n",
       "      <td>0</td>\n",
       "      <td>0</td>\n",
       "      <td>0</td>\n",
       "      <td>0</td>\n",
       "      <td>0</td>\n",
       "      <td>0</td>\n",
       "      <td>0</td>\n",
       "    </tr>\n",
       "    <tr>\n",
       "      <th>4</th>\n",
       "      <td>21623</td>\n",
       "      <td>2020-04-30</td>\n",
       "      <td>737545</td>\n",
       "      <td>MH</td>\n",
       "      <td>Raigad</td>\n",
       "      <td>71</td>\n",
       "      <td>44</td>\n",
       "      <td>24</td>\n",
       "      <td>3</td>\n",
       "      <td>2</td>\n",
       "      <td>...</td>\n",
       "      <td>2</td>\n",
       "      <td>0</td>\n",
       "      <td>0</td>\n",
       "      <td>0</td>\n",
       "      <td>0</td>\n",
       "      <td>0</td>\n",
       "      <td>0</td>\n",
       "      <td>0</td>\n",
       "      <td>0</td>\n",
       "      <td>0</td>\n",
       "    </tr>\n",
       "    <tr>\n",
       "      <th>...</th>\n",
       "      <td>...</td>\n",
       "      <td>...</td>\n",
       "      <td>...</td>\n",
       "      <td>...</td>\n",
       "      <td>...</td>\n",
       "      <td>...</td>\n",
       "      <td>...</td>\n",
       "      <td>...</td>\n",
       "      <td>...</td>\n",
       "      <td>...</td>\n",
       "      <td>...</td>\n",
       "      <td>...</td>\n",
       "      <td>...</td>\n",
       "      <td>...</td>\n",
       "      <td>...</td>\n",
       "      <td>...</td>\n",
       "      <td>...</td>\n",
       "      <td>...</td>\n",
       "      <td>...</td>\n",
       "      <td>...</td>\n",
       "      <td>...</td>\n",
       "    </tr>\n",
       "    <tr>\n",
       "      <th>549</th>\n",
       "      <td>400570</td>\n",
       "      <td>2021-10-27</td>\n",
       "      <td>738090</td>\n",
       "      <td>MH</td>\n",
       "      <td>Raigad</td>\n",
       "      <td>195812</td>\n",
       "      <td>639</td>\n",
       "      <td>190620</td>\n",
       "      <td>4546</td>\n",
       "      <td>39</td>\n",
       "      <td>...</td>\n",
       "      <td>8</td>\n",
       "      <td>1850609</td>\n",
       "      <td>758887</td>\n",
       "      <td>3536</td>\n",
       "      <td>4449</td>\n",
       "      <td>67903</td>\n",
       "      <td>36282</td>\n",
       "      <td>7</td>\n",
       "      <td>0</td>\n",
       "      <td>0</td>\n",
       "    </tr>\n",
       "    <tr>\n",
       "      <th>550</th>\n",
       "      <td>401318</td>\n",
       "      <td>2021-10-28</td>\n",
       "      <td>738091</td>\n",
       "      <td>MH</td>\n",
       "      <td>Raigad</td>\n",
       "      <td>195860</td>\n",
       "      <td>659</td>\n",
       "      <td>190648</td>\n",
       "      <td>4546</td>\n",
       "      <td>48</td>\n",
       "      <td>...</td>\n",
       "      <td>5</td>\n",
       "      <td>1853351</td>\n",
       "      <td>763345</td>\n",
       "      <td>2742</td>\n",
       "      <td>4458</td>\n",
       "      <td>28042</td>\n",
       "      <td>35389</td>\n",
       "      <td>7</td>\n",
       "      <td>0</td>\n",
       "      <td>0</td>\n",
       "    </tr>\n",
       "    <tr>\n",
       "      <th>551</th>\n",
       "      <td>402066</td>\n",
       "      <td>2021-10-29</td>\n",
       "      <td>738092</td>\n",
       "      <td>MH</td>\n",
       "      <td>Raigad</td>\n",
       "      <td>195919</td>\n",
       "      <td>662</td>\n",
       "      <td>190703</td>\n",
       "      <td>4547</td>\n",
       "      <td>59</td>\n",
       "      <td>...</td>\n",
       "      <td>6</td>\n",
       "      <td>1856154</td>\n",
       "      <td>767986</td>\n",
       "      <td>2803</td>\n",
       "      <td>4641</td>\n",
       "      <td>24312</td>\n",
       "      <td>33312</td>\n",
       "      <td>7</td>\n",
       "      <td>0</td>\n",
       "      <td>0</td>\n",
       "    </tr>\n",
       "    <tr>\n",
       "      <th>552</th>\n",
       "      <td>402814</td>\n",
       "      <td>2021-10-30</td>\n",
       "      <td>738093</td>\n",
       "      <td>MH</td>\n",
       "      <td>Raigad</td>\n",
       "      <td>195932</td>\n",
       "      <td>649</td>\n",
       "      <td>190725</td>\n",
       "      <td>4551</td>\n",
       "      <td>13</td>\n",
       "      <td>...</td>\n",
       "      <td>10</td>\n",
       "      <td>1859181</td>\n",
       "      <td>773699</td>\n",
       "      <td>3027</td>\n",
       "      <td>5713</td>\n",
       "      <td>22326</td>\n",
       "      <td>32055</td>\n",
       "      <td>7</td>\n",
       "      <td>0</td>\n",
       "      <td>0</td>\n",
       "    </tr>\n",
       "    <tr>\n",
       "      <th>553</th>\n",
       "      <td>403562</td>\n",
       "      <td>2021-10-31</td>\n",
       "      <td>738094</td>\n",
       "      <td>MH</td>\n",
       "      <td>Raigad</td>\n",
       "      <td>195958</td>\n",
       "      <td>641</td>\n",
       "      <td>190759</td>\n",
       "      <td>4551</td>\n",
       "      <td>26</td>\n",
       "      <td>...</td>\n",
       "      <td>10</td>\n",
       "      <td>1859507</td>\n",
       "      <td>774913</td>\n",
       "      <td>326</td>\n",
       "      <td>1214</td>\n",
       "      <td>21737</td>\n",
       "      <td>31684</td>\n",
       "      <td>7</td>\n",
       "      <td>0</td>\n",
       "      <td>0</td>\n",
       "    </tr>\n",
       "  </tbody>\n",
       "</table>\n",
       "<p>554 rows × 26 columns</p>\n",
       "</div>"
      ],
      "text/plain": [
       "     index_no        date  ordinal_date state_name district_name  \\\n",
       "0       19918  2020-04-26        737541         MH        Raigad   \n",
       "1       20334  2020-04-27        737542         MH        Raigad   \n",
       "2       20759  2020-04-28        737543         MH        Raigad   \n",
       "3       21189  2020-04-29        737544         MH        Raigad   \n",
       "4       21623  2020-04-30        737545         MH        Raigad   \n",
       "..        ...         ...           ...        ...           ...   \n",
       "549    400570  2021-10-27        738090         MH        Raigad   \n",
       "550    401318  2021-10-28        738091         MH        Raigad   \n",
       "551    402066  2021-10-29        738092         MH        Raigad   \n",
       "552    402814  2021-10-30        738093         MH        Raigad   \n",
       "553    403562  2021-10-31        738094         MH        Raigad   \n",
       "\n",
       "     total_confirmed  total_active  total_recovered  total_deaths  \\\n",
       "0                 57            36               20             1   \n",
       "1                 61            39               21             1   \n",
       "2                 66            44               21             1   \n",
       "3                 69            44               23             2   \n",
       "4                 71            44               24             3   \n",
       "..               ...           ...              ...           ...   \n",
       "549           195812           639           190620          4546   \n",
       "550           195860           659           190648          4546   \n",
       "551           195919           662           190703          4547   \n",
       "552           195932           649           190725          4551   \n",
       "553           195958           641           190759          4551   \n",
       "\n",
       "     delta_confirmed  ...  delta7_deaths  total_vaccinated1  \\\n",
       "0                  0  ...              0                  0   \n",
       "1                  4  ...              0                  0   \n",
       "2                  5  ...              0                  0   \n",
       "3                  3  ...              1                  0   \n",
       "4                  2  ...              2                  0   \n",
       "..               ...  ...            ...                ...   \n",
       "549               39  ...              8            1850609   \n",
       "550               48  ...              5            1853351   \n",
       "551               59  ...              6            1856154   \n",
       "552               13  ...             10            1859181   \n",
       "553               26  ...             10            1859507   \n",
       "\n",
       "     total_vaccinated2  delta_vaccinated1  delta_vaccinated2  \\\n",
       "0                    0                  0                  0   \n",
       "1                    0                  0                  0   \n",
       "2                    0                  0                  0   \n",
       "3                    0                  0                  0   \n",
       "4                    0                  0                  0   \n",
       "..                 ...                ...                ...   \n",
       "549             758887               3536               4449   \n",
       "550             763345               2742               4458   \n",
       "551             767986               2803               4641   \n",
       "552             773699               3027               5713   \n",
       "553             774913                326               1214   \n",
       "\n",
       "     delta7_vaccinated1  delta7_vaccinated2  total_other  delta_other  \\\n",
       "0                     0                   0            0            0   \n",
       "1                     0                   0            0            0   \n",
       "2                     0                   0            0            0   \n",
       "3                     0                   0            0            0   \n",
       "4                     0                   0            0            0   \n",
       "..                  ...                 ...          ...          ...   \n",
       "549               67903               36282            7            0   \n",
       "550               28042               35389            7            0   \n",
       "551               24312               33312            7            0   \n",
       "552               22326               32055            7            0   \n",
       "553               21737               31684            7            0   \n",
       "\n",
       "     delta7_other  \n",
       "0               0  \n",
       "1               0  \n",
       "2               0  \n",
       "3               0  \n",
       "4               0  \n",
       "..            ...  \n",
       "549             0  \n",
       "550             0  \n",
       "551             0  \n",
       "552             0  \n",
       "553             0  \n",
       "\n",
       "[554 rows x 26 columns]"
      ]
     },
     "execution_count": 8,
     "metadata": {},
     "output_type": "execute_result"
    }
   ],
   "source": [
    "raigad_data"
   ]
  },
  {
   "cell_type": "markdown",
   "id": "interior-occupation",
   "metadata": {},
   "source": [
    "## function for traintest_splitting and next days ordinal_date creating"
   ]
  },
  {
   "cell_type": "code",
   "execution_count": 9,
   "id": "liberal-brand",
   "metadata": {},
   "outputs": [],
   "source": [
    "def splitting(data,training_ratio):\n",
    "    print('Training data percentage = {}%'.format(training_ratio*100))\n",
    "    length=len(data)\n",
    "    traing_indexes=int(length*training_ratio)\n",
    "    training_set=data[:traing_indexes]\n",
    "    testing_set=data[traing_indexes:]\n",
    "    print('rows in training data : {}     rows in testing data : {}'.format(len(training_set),len(testing_set)))\n",
    "    return training_set,testing_set"
   ]
  },
  {
   "cell_type": "code",
   "execution_count": 10,
   "id": "incoming-substitute",
   "metadata": {},
   "outputs": [],
   "source": [
    "number_of_next_days=7\n",
    "def returnNextdays():\n",
    "    date=738094\n",
    "    date_range=[]\n",
    "    l=[]\n",
    "    for i in range(1,number_of_next_days+1):\n",
    "        l.append([date+i])\n",
    "        date_range.append(datetime.date.fromordinal(date+i))\n",
    "    return l,date_range\n",
    "predictingdate,daterange=returnNextdays()\n"
   ]
  },
  {
   "cell_type": "code",
   "execution_count": 11,
   "id": "classified-earthquake",
   "metadata": {},
   "outputs": [
    {
     "data": {
      "text/plain": [
       "datetime.date(2021, 10, 31)"
      ]
     },
     "execution_count": 11,
     "metadata": {},
     "output_type": "execute_result"
    }
   ],
   "source": [
    "datetime.date.fromordinal(738094)"
   ]
  },
  {
   "cell_type": "markdown",
   "id": "acquired-fighter",
   "metadata": {},
   "source": [
    "## Train Test Splitting"
   ]
  },
  {
   "cell_type": "code",
   "execution_count": 12,
   "id": "killing-plaintiff",
   "metadata": {},
   "outputs": [],
   "source": [
    "# maindata=india_data\n",
    "\n",
    "\n",
    "# maindata=maharashtra_data\n",
    "\n",
    "\n",
    "maindata=raigad_data\n",
    "# maindata=pune_data\n",
    "# maindata=thane_data\n",
    "# maindata=mumbai_data"
   ]
  },
  {
   "cell_type": "code",
   "execution_count": 13,
   "id": "statutory-picnic",
   "metadata": {},
   "outputs": [],
   "source": [
    "try_data=numpy.concatenate((maindata['ordinal_date'].to_numpy(),predictingdate),axis=None)"
   ]
  },
  {
   "cell_type": "code",
   "execution_count": 14,
   "id": "early-employment",
   "metadata": {},
   "outputs": [
    {
     "data": {
      "text/html": [
       "<div>\n",
       "<style scoped>\n",
       "    .dataframe tbody tr th:only-of-type {\n",
       "        vertical-align: middle;\n",
       "    }\n",
       "\n",
       "    .dataframe tbody tr th {\n",
       "        vertical-align: top;\n",
       "    }\n",
       "\n",
       "    .dataframe thead th {\n",
       "        text-align: right;\n",
       "    }\n",
       "</style>\n",
       "<table border=\"1\" class=\"dataframe\">\n",
       "  <thead>\n",
       "    <tr style=\"text-align: right;\">\n",
       "      <th></th>\n",
       "      <th>index_no</th>\n",
       "      <th>date</th>\n",
       "      <th>ordinal_date</th>\n",
       "      <th>state_name</th>\n",
       "      <th>district_name</th>\n",
       "      <th>total_confirmed</th>\n",
       "      <th>total_active</th>\n",
       "      <th>total_recovered</th>\n",
       "      <th>total_deaths</th>\n",
       "      <th>delta_confirmed</th>\n",
       "      <th>...</th>\n",
       "      <th>delta7_deaths</th>\n",
       "      <th>total_vaccinated1</th>\n",
       "      <th>total_vaccinated2</th>\n",
       "      <th>delta_vaccinated1</th>\n",
       "      <th>delta_vaccinated2</th>\n",
       "      <th>delta7_vaccinated1</th>\n",
       "      <th>delta7_vaccinated2</th>\n",
       "      <th>total_other</th>\n",
       "      <th>delta_other</th>\n",
       "      <th>delta7_other</th>\n",
       "    </tr>\n",
       "  </thead>\n",
       "  <tbody>\n",
       "    <tr>\n",
       "      <th>0</th>\n",
       "      <td>19918</td>\n",
       "      <td>2020-04-26</td>\n",
       "      <td>737541</td>\n",
       "      <td>MH</td>\n",
       "      <td>Raigad</td>\n",
       "      <td>57</td>\n",
       "      <td>36</td>\n",
       "      <td>20</td>\n",
       "      <td>1</td>\n",
       "      <td>0</td>\n",
       "      <td>...</td>\n",
       "      <td>0</td>\n",
       "      <td>0</td>\n",
       "      <td>0</td>\n",
       "      <td>0</td>\n",
       "      <td>0</td>\n",
       "      <td>0</td>\n",
       "      <td>0</td>\n",
       "      <td>0</td>\n",
       "      <td>0</td>\n",
       "      <td>0</td>\n",
       "    </tr>\n",
       "    <tr>\n",
       "      <th>1</th>\n",
       "      <td>20334</td>\n",
       "      <td>2020-04-27</td>\n",
       "      <td>737542</td>\n",
       "      <td>MH</td>\n",
       "      <td>Raigad</td>\n",
       "      <td>61</td>\n",
       "      <td>39</td>\n",
       "      <td>21</td>\n",
       "      <td>1</td>\n",
       "      <td>4</td>\n",
       "      <td>...</td>\n",
       "      <td>0</td>\n",
       "      <td>0</td>\n",
       "      <td>0</td>\n",
       "      <td>0</td>\n",
       "      <td>0</td>\n",
       "      <td>0</td>\n",
       "      <td>0</td>\n",
       "      <td>0</td>\n",
       "      <td>0</td>\n",
       "      <td>0</td>\n",
       "    </tr>\n",
       "    <tr>\n",
       "      <th>2</th>\n",
       "      <td>20759</td>\n",
       "      <td>2020-04-28</td>\n",
       "      <td>737543</td>\n",
       "      <td>MH</td>\n",
       "      <td>Raigad</td>\n",
       "      <td>66</td>\n",
       "      <td>44</td>\n",
       "      <td>21</td>\n",
       "      <td>1</td>\n",
       "      <td>5</td>\n",
       "      <td>...</td>\n",
       "      <td>0</td>\n",
       "      <td>0</td>\n",
       "      <td>0</td>\n",
       "      <td>0</td>\n",
       "      <td>0</td>\n",
       "      <td>0</td>\n",
       "      <td>0</td>\n",
       "      <td>0</td>\n",
       "      <td>0</td>\n",
       "      <td>0</td>\n",
       "    </tr>\n",
       "    <tr>\n",
       "      <th>3</th>\n",
       "      <td>21189</td>\n",
       "      <td>2020-04-29</td>\n",
       "      <td>737544</td>\n",
       "      <td>MH</td>\n",
       "      <td>Raigad</td>\n",
       "      <td>69</td>\n",
       "      <td>44</td>\n",
       "      <td>23</td>\n",
       "      <td>2</td>\n",
       "      <td>3</td>\n",
       "      <td>...</td>\n",
       "      <td>1</td>\n",
       "      <td>0</td>\n",
       "      <td>0</td>\n",
       "      <td>0</td>\n",
       "      <td>0</td>\n",
       "      <td>0</td>\n",
       "      <td>0</td>\n",
       "      <td>0</td>\n",
       "      <td>0</td>\n",
       "      <td>0</td>\n",
       "    </tr>\n",
       "    <tr>\n",
       "      <th>4</th>\n",
       "      <td>21623</td>\n",
       "      <td>2020-04-30</td>\n",
       "      <td>737545</td>\n",
       "      <td>MH</td>\n",
       "      <td>Raigad</td>\n",
       "      <td>71</td>\n",
       "      <td>44</td>\n",
       "      <td>24</td>\n",
       "      <td>3</td>\n",
       "      <td>2</td>\n",
       "      <td>...</td>\n",
       "      <td>2</td>\n",
       "      <td>0</td>\n",
       "      <td>0</td>\n",
       "      <td>0</td>\n",
       "      <td>0</td>\n",
       "      <td>0</td>\n",
       "      <td>0</td>\n",
       "      <td>0</td>\n",
       "      <td>0</td>\n",
       "      <td>0</td>\n",
       "    </tr>\n",
       "    <tr>\n",
       "      <th>...</th>\n",
       "      <td>...</td>\n",
       "      <td>...</td>\n",
       "      <td>...</td>\n",
       "      <td>...</td>\n",
       "      <td>...</td>\n",
       "      <td>...</td>\n",
       "      <td>...</td>\n",
       "      <td>...</td>\n",
       "      <td>...</td>\n",
       "      <td>...</td>\n",
       "      <td>...</td>\n",
       "      <td>...</td>\n",
       "      <td>...</td>\n",
       "      <td>...</td>\n",
       "      <td>...</td>\n",
       "      <td>...</td>\n",
       "      <td>...</td>\n",
       "      <td>...</td>\n",
       "      <td>...</td>\n",
       "      <td>...</td>\n",
       "      <td>...</td>\n",
       "    </tr>\n",
       "    <tr>\n",
       "      <th>549</th>\n",
       "      <td>400570</td>\n",
       "      <td>2021-10-27</td>\n",
       "      <td>738090</td>\n",
       "      <td>MH</td>\n",
       "      <td>Raigad</td>\n",
       "      <td>195812</td>\n",
       "      <td>639</td>\n",
       "      <td>190620</td>\n",
       "      <td>4546</td>\n",
       "      <td>39</td>\n",
       "      <td>...</td>\n",
       "      <td>8</td>\n",
       "      <td>1850609</td>\n",
       "      <td>758887</td>\n",
       "      <td>3536</td>\n",
       "      <td>4449</td>\n",
       "      <td>67903</td>\n",
       "      <td>36282</td>\n",
       "      <td>7</td>\n",
       "      <td>0</td>\n",
       "      <td>0</td>\n",
       "    </tr>\n",
       "    <tr>\n",
       "      <th>550</th>\n",
       "      <td>401318</td>\n",
       "      <td>2021-10-28</td>\n",
       "      <td>738091</td>\n",
       "      <td>MH</td>\n",
       "      <td>Raigad</td>\n",
       "      <td>195860</td>\n",
       "      <td>659</td>\n",
       "      <td>190648</td>\n",
       "      <td>4546</td>\n",
       "      <td>48</td>\n",
       "      <td>...</td>\n",
       "      <td>5</td>\n",
       "      <td>1853351</td>\n",
       "      <td>763345</td>\n",
       "      <td>2742</td>\n",
       "      <td>4458</td>\n",
       "      <td>28042</td>\n",
       "      <td>35389</td>\n",
       "      <td>7</td>\n",
       "      <td>0</td>\n",
       "      <td>0</td>\n",
       "    </tr>\n",
       "    <tr>\n",
       "      <th>551</th>\n",
       "      <td>402066</td>\n",
       "      <td>2021-10-29</td>\n",
       "      <td>738092</td>\n",
       "      <td>MH</td>\n",
       "      <td>Raigad</td>\n",
       "      <td>195919</td>\n",
       "      <td>662</td>\n",
       "      <td>190703</td>\n",
       "      <td>4547</td>\n",
       "      <td>59</td>\n",
       "      <td>...</td>\n",
       "      <td>6</td>\n",
       "      <td>1856154</td>\n",
       "      <td>767986</td>\n",
       "      <td>2803</td>\n",
       "      <td>4641</td>\n",
       "      <td>24312</td>\n",
       "      <td>33312</td>\n",
       "      <td>7</td>\n",
       "      <td>0</td>\n",
       "      <td>0</td>\n",
       "    </tr>\n",
       "    <tr>\n",
       "      <th>552</th>\n",
       "      <td>402814</td>\n",
       "      <td>2021-10-30</td>\n",
       "      <td>738093</td>\n",
       "      <td>MH</td>\n",
       "      <td>Raigad</td>\n",
       "      <td>195932</td>\n",
       "      <td>649</td>\n",
       "      <td>190725</td>\n",
       "      <td>4551</td>\n",
       "      <td>13</td>\n",
       "      <td>...</td>\n",
       "      <td>10</td>\n",
       "      <td>1859181</td>\n",
       "      <td>773699</td>\n",
       "      <td>3027</td>\n",
       "      <td>5713</td>\n",
       "      <td>22326</td>\n",
       "      <td>32055</td>\n",
       "      <td>7</td>\n",
       "      <td>0</td>\n",
       "      <td>0</td>\n",
       "    </tr>\n",
       "    <tr>\n",
       "      <th>553</th>\n",
       "      <td>403562</td>\n",
       "      <td>2021-10-31</td>\n",
       "      <td>738094</td>\n",
       "      <td>MH</td>\n",
       "      <td>Raigad</td>\n",
       "      <td>195958</td>\n",
       "      <td>641</td>\n",
       "      <td>190759</td>\n",
       "      <td>4551</td>\n",
       "      <td>26</td>\n",
       "      <td>...</td>\n",
       "      <td>10</td>\n",
       "      <td>1859507</td>\n",
       "      <td>774913</td>\n",
       "      <td>326</td>\n",
       "      <td>1214</td>\n",
       "      <td>21737</td>\n",
       "      <td>31684</td>\n",
       "      <td>7</td>\n",
       "      <td>0</td>\n",
       "      <td>0</td>\n",
       "    </tr>\n",
       "  </tbody>\n",
       "</table>\n",
       "<p>554 rows × 26 columns</p>\n",
       "</div>"
      ],
      "text/plain": [
       "     index_no        date  ordinal_date state_name district_name  \\\n",
       "0       19918  2020-04-26        737541         MH        Raigad   \n",
       "1       20334  2020-04-27        737542         MH        Raigad   \n",
       "2       20759  2020-04-28        737543         MH        Raigad   \n",
       "3       21189  2020-04-29        737544         MH        Raigad   \n",
       "4       21623  2020-04-30        737545         MH        Raigad   \n",
       "..        ...         ...           ...        ...           ...   \n",
       "549    400570  2021-10-27        738090         MH        Raigad   \n",
       "550    401318  2021-10-28        738091         MH        Raigad   \n",
       "551    402066  2021-10-29        738092         MH        Raigad   \n",
       "552    402814  2021-10-30        738093         MH        Raigad   \n",
       "553    403562  2021-10-31        738094         MH        Raigad   \n",
       "\n",
       "     total_confirmed  total_active  total_recovered  total_deaths  \\\n",
       "0                 57            36               20             1   \n",
       "1                 61            39               21             1   \n",
       "2                 66            44               21             1   \n",
       "3                 69            44               23             2   \n",
       "4                 71            44               24             3   \n",
       "..               ...           ...              ...           ...   \n",
       "549           195812           639           190620          4546   \n",
       "550           195860           659           190648          4546   \n",
       "551           195919           662           190703          4547   \n",
       "552           195932           649           190725          4551   \n",
       "553           195958           641           190759          4551   \n",
       "\n",
       "     delta_confirmed  ...  delta7_deaths  total_vaccinated1  \\\n",
       "0                  0  ...              0                  0   \n",
       "1                  4  ...              0                  0   \n",
       "2                  5  ...              0                  0   \n",
       "3                  3  ...              1                  0   \n",
       "4                  2  ...              2                  0   \n",
       "..               ...  ...            ...                ...   \n",
       "549               39  ...              8            1850609   \n",
       "550               48  ...              5            1853351   \n",
       "551               59  ...              6            1856154   \n",
       "552               13  ...             10            1859181   \n",
       "553               26  ...             10            1859507   \n",
       "\n",
       "     total_vaccinated2  delta_vaccinated1  delta_vaccinated2  \\\n",
       "0                    0                  0                  0   \n",
       "1                    0                  0                  0   \n",
       "2                    0                  0                  0   \n",
       "3                    0                  0                  0   \n",
       "4                    0                  0                  0   \n",
       "..                 ...                ...                ...   \n",
       "549             758887               3536               4449   \n",
       "550             763345               2742               4458   \n",
       "551             767986               2803               4641   \n",
       "552             773699               3027               5713   \n",
       "553             774913                326               1214   \n",
       "\n",
       "     delta7_vaccinated1  delta7_vaccinated2  total_other  delta_other  \\\n",
       "0                     0                   0            0            0   \n",
       "1                     0                   0            0            0   \n",
       "2                     0                   0            0            0   \n",
       "3                     0                   0            0            0   \n",
       "4                     0                   0            0            0   \n",
       "..                  ...                 ...          ...          ...   \n",
       "549               67903               36282            7            0   \n",
       "550               28042               35389            7            0   \n",
       "551               24312               33312            7            0   \n",
       "552               22326               32055            7            0   \n",
       "553               21737               31684            7            0   \n",
       "\n",
       "     delta7_other  \n",
       "0               0  \n",
       "1               0  \n",
       "2               0  \n",
       "3               0  \n",
       "4               0  \n",
       "..            ...  \n",
       "549             0  \n",
       "550             0  \n",
       "551             0  \n",
       "552             0  \n",
       "553             0  \n",
       "\n",
       "[554 rows x 26 columns]"
      ]
     },
     "execution_count": 14,
     "metadata": {},
     "output_type": "execute_result"
    }
   ],
   "source": [
    "maindata"
   ]
  },
  {
   "cell_type": "code",
   "execution_count": 15,
   "id": "turned-conditioning",
   "metadata": {},
   "outputs": [],
   "source": [
    "type_of_case='delta_confirmed'\n",
    "# type_of_case='delta_recovered'\n",
    "# type_of_case='delta_deaths'\n",
    "# type_of_case='delta_active'\n",
    "# type_of_case='total_active'\n",
    "\n",
    "\n",
    "name_of_case='daily confirmed'\n",
    "# name_of_case='daily recovered'\n",
    "# name_of_case='daily deaths'\n",
    "# name_of_case='daily change in Active'\n",
    "# name_of_case='Active '\n",
    "\n",
    "maindata_labels=maindata[type_of_case]"
   ]
  },
  {
   "cell_type": "code",
   "execution_count": 16,
   "id": "phantom-visibility",
   "metadata": {},
   "outputs": [
    {
     "name": "stdout",
     "output_type": "stream",
     "text": [
      "Training data percentage = 95.0%\n",
      "rows in training data : 526     rows in testing data : 28\n"
     ]
    }
   ],
   "source": [
    "train_data,test_data=splitting(maindata,0.95)"
   ]
  },
  {
   "cell_type": "code",
   "execution_count": 17,
   "id": "gorgeous-kingston",
   "metadata": {},
   "outputs": [],
   "source": [
    "train_labels=train_data[type_of_case]\n",
    "# train_labels=train_data['total_confirmed']"
   ]
  },
  {
   "cell_type": "code",
   "execution_count": 18,
   "id": "brilliant-pointer",
   "metadata": {},
   "outputs": [],
   "source": [
    "train_features=train_data[['ordinal_date']]\n",
    "# train_fetures=train_data[['ordinal_date','delta_tested']]"
   ]
  },
  {
   "cell_type": "code",
   "execution_count": 19,
   "id": "single-gates",
   "metadata": {},
   "outputs": [
    {
     "data": {
      "text/html": [
       "<div>\n",
       "<style scoped>\n",
       "    .dataframe tbody tr th:only-of-type {\n",
       "        vertical-align: middle;\n",
       "    }\n",
       "\n",
       "    .dataframe tbody tr th {\n",
       "        vertical-align: top;\n",
       "    }\n",
       "\n",
       "    .dataframe thead th {\n",
       "        text-align: right;\n",
       "    }\n",
       "</style>\n",
       "<table border=\"1\" class=\"dataframe\">\n",
       "  <thead>\n",
       "    <tr style=\"text-align: right;\">\n",
       "      <th></th>\n",
       "      <th>ordinal_date</th>\n",
       "    </tr>\n",
       "  </thead>\n",
       "  <tbody>\n",
       "    <tr>\n",
       "      <th>0</th>\n",
       "      <td>737541</td>\n",
       "    </tr>\n",
       "    <tr>\n",
       "      <th>1</th>\n",
       "      <td>737542</td>\n",
       "    </tr>\n",
       "    <tr>\n",
       "      <th>2</th>\n",
       "      <td>737543</td>\n",
       "    </tr>\n",
       "    <tr>\n",
       "      <th>3</th>\n",
       "      <td>737544</td>\n",
       "    </tr>\n",
       "    <tr>\n",
       "      <th>4</th>\n",
       "      <td>737545</td>\n",
       "    </tr>\n",
       "    <tr>\n",
       "      <th>...</th>\n",
       "      <td>...</td>\n",
       "    </tr>\n",
       "    <tr>\n",
       "      <th>521</th>\n",
       "      <td>738062</td>\n",
       "    </tr>\n",
       "    <tr>\n",
       "      <th>522</th>\n",
       "      <td>738063</td>\n",
       "    </tr>\n",
       "    <tr>\n",
       "      <th>523</th>\n",
       "      <td>738064</td>\n",
       "    </tr>\n",
       "    <tr>\n",
       "      <th>524</th>\n",
       "      <td>738065</td>\n",
       "    </tr>\n",
       "    <tr>\n",
       "      <th>525</th>\n",
       "      <td>738066</td>\n",
       "    </tr>\n",
       "  </tbody>\n",
       "</table>\n",
       "<p>526 rows × 1 columns</p>\n",
       "</div>"
      ],
      "text/plain": [
       "     ordinal_date\n",
       "0          737541\n",
       "1          737542\n",
       "2          737543\n",
       "3          737544\n",
       "4          737545\n",
       "..            ...\n",
       "521        738062\n",
       "522        738063\n",
       "523        738064\n",
       "524        738065\n",
       "525        738066\n",
       "\n",
       "[526 rows x 1 columns]"
      ]
     },
     "execution_count": 19,
     "metadata": {},
     "output_type": "execute_result"
    }
   ],
   "source": [
    "train_features"
   ]
  },
  {
   "cell_type": "code",
   "execution_count": 20,
   "id": "sonic-tuition",
   "metadata": {},
   "outputs": [
    {
     "data": {
      "text/plain": [
       "0        0\n",
       "1        4\n",
       "2        5\n",
       "3        3\n",
       "4        2\n",
       "      ... \n",
       "521    157\n",
       "522    126\n",
       "523    120\n",
       "524    140\n",
       "525    122\n",
       "Name: delta_confirmed, Length: 526, dtype: int64"
      ]
     },
     "execution_count": 20,
     "metadata": {},
     "output_type": "execute_result"
    }
   ],
   "source": [
    "train_labels"
   ]
  },
  {
   "cell_type": "code",
   "execution_count": 21,
   "id": "original-advance",
   "metadata": {},
   "outputs": [],
   "source": [
    "test_labels=test_data[type_of_case]\n",
    "# test_labels=test_data['total_confirmed']"
   ]
  },
  {
   "cell_type": "code",
   "execution_count": 22,
   "id": "figured-receiver",
   "metadata": {},
   "outputs": [],
   "source": [
    "test_features=test_data[['ordinal_date']]\n",
    "# test_features=test_data[['ordinal_date','delta_tested']]"
   ]
  },
  {
   "cell_type": "code",
   "execution_count": 23,
   "id": "negative-bahamas",
   "metadata": {},
   "outputs": [],
   "source": [
    "# test_features"
   ]
  },
  {
   "cell_type": "code",
   "execution_count": 24,
   "id": "innocent-barcelona",
   "metadata": {},
   "outputs": [],
   "source": [
    "# test_labels"
   ]
  },
  {
   "cell_type": "code",
   "execution_count": null,
   "id": "pressing-exclusive",
   "metadata": {},
   "outputs": [],
   "source": []
  },
  {
   "cell_type": "code",
   "execution_count": 25,
   "id": "powerful-parameter",
   "metadata": {},
   "outputs": [],
   "source": [
    "# print(predictingdate)\n",
    "# print(daterange)"
   ]
  },
  {
   "cell_type": "code",
   "execution_count": 26,
   "id": "aggregate-federal",
   "metadata": {},
   "outputs": [],
   "source": [
    "# maindata[['date','delta_deaths']][540:]"
   ]
  },
  {
   "cell_type": "markdown",
   "id": "intensive-spending",
   "metadata": {},
   "source": [
    "## Model Implementation \n",
    "1. Linear Regression\n",
    "2. Random Forest Regression\n",
    "3. Decision Tree Regression"
   ]
  },
  {
   "cell_type": "code",
   "execution_count": 27,
   "id": "aboriginal-jewelry",
   "metadata": {},
   "outputs": [],
   "source": [
    "linear_regression_model=LinearRegression()\n",
    "random_forest_model=RandomForestRegressor()\n",
    "decision_tree_model=DecisionTreeRegressor()"
   ]
  },
  {
   "cell_type": "code",
   "execution_count": null,
   "id": "coordinate-sharp",
   "metadata": {},
   "outputs": [],
   "source": []
  },
  {
   "cell_type": "markdown",
   "id": "passing-japanese",
   "metadata": {},
   "source": [
    "#### Linear regression"
   ]
  },
  {
   "cell_type": "code",
   "execution_count": 28,
   "id": "martial-snake",
   "metadata": {},
   "outputs": [
    {
     "data": {
      "text/plain": [
       "LinearRegression()"
      ]
     },
     "execution_count": 28,
     "metadata": {},
     "output_type": "execute_result"
    }
   ],
   "source": [
    "linear_regression_model.fit(train_features,train_labels)"
   ]
  },
  {
   "cell_type": "code",
   "execution_count": 29,
   "id": "loose-fluid",
   "metadata": {},
   "outputs": [],
   "source": [
    "linear_regression_model_train_predicted=linear_regression_model.predict(train_features)"
   ]
  },
  {
   "cell_type": "code",
   "execution_count": 30,
   "id": "random-madness",
   "metadata": {},
   "outputs": [],
   "source": [
    "# linear_regression_model_train_predicted"
   ]
  },
  {
   "cell_type": "code",
   "execution_count": 31,
   "id": "productive-radar",
   "metadata": {},
   "outputs": [],
   "source": [
    "linear_regression_model_test_predicted=linear_regression_model.predict(test_features)"
   ]
  },
  {
   "cell_type": "code",
   "execution_count": 32,
   "id": "attempted-soldier",
   "metadata": {},
   "outputs": [],
   "source": [
    "# linear_regression_model_test_predicted"
   ]
  },
  {
   "cell_type": "code",
   "execution_count": 33,
   "id": "photographic-poetry",
   "metadata": {},
   "outputs": [],
   "source": [
    "linear_regression_model_next_days_predicted=linear_regression_model.predict(predictingdate)"
   ]
  },
  {
   "cell_type": "code",
   "execution_count": 34,
   "id": "nominated-programming",
   "metadata": {},
   "outputs": [],
   "source": [
    "# linear_regression_model_next_days_predicted"
   ]
  },
  {
   "cell_type": "code",
   "execution_count": 35,
   "id": "earlier-terrorist",
   "metadata": {},
   "outputs": [],
   "source": [
    "pyplot.figure('linear regression')\n",
    "line_of_regression=numpy.concatenate((linear_regression_model_train_predicted,linear_regression_model_test_predicted))\n",
    "pyplot.plot(maindata['date'],maindata_labels,label='Original Data')\n",
    "pyplot.plot(maindata['date'],line_of_regression,label='Line of Regression')\n",
    "pyplot.plot(train_data['date'],linear_regression_model_train_predicted,label='Train Data')\n",
    "pyplot.plot(test_data['date'],linear_regression_model_test_predicted,label='Test Data')\n",
    "pyplot.plot(daterange,linear_regression_model_next_days_predicted,label='Future Prediction')\n",
    "pyplot.xlabel('Date')\n",
    "pyplot.ylabel('{}'.format(name_of_case))\n",
    "pyplot.legend()\n",
    "pyplot.show()"
   ]
  },
  {
   "cell_type": "code",
   "execution_count": null,
   "id": "given-soldier",
   "metadata": {},
   "outputs": [],
   "source": []
  },
  {
   "cell_type": "markdown",
   "id": "infinite-commission",
   "metadata": {},
   "source": [
    "#### Ramdom Forest Regression regression"
   ]
  },
  {
   "cell_type": "code",
   "execution_count": 36,
   "id": "amended-velvet",
   "metadata": {},
   "outputs": [
    {
     "data": {
      "text/plain": [
       "RandomForestRegressor()"
      ]
     },
     "execution_count": 36,
     "metadata": {},
     "output_type": "execute_result"
    }
   ],
   "source": [
    "random_forest_model.fit(train_features,train_labels)"
   ]
  },
  {
   "cell_type": "code",
   "execution_count": 37,
   "id": "opened-trademark",
   "metadata": {},
   "outputs": [],
   "source": [
    "random_forest_model_train_predicted=random_forest_model.predict(train_features)"
   ]
  },
  {
   "cell_type": "code",
   "execution_count": 38,
   "id": "biblical-indianapolis",
   "metadata": {},
   "outputs": [],
   "source": [
    "# random_forest_model_train_predicted"
   ]
  },
  {
   "cell_type": "code",
   "execution_count": 39,
   "id": "prostate-company",
   "metadata": {},
   "outputs": [],
   "source": [
    "random_forest_model_test_predicted=random_forest_model.predict(test_features)"
   ]
  },
  {
   "cell_type": "code",
   "execution_count": 40,
   "id": "renewable-message",
   "metadata": {},
   "outputs": [],
   "source": [
    "# random_forest_model_test_predicted"
   ]
  },
  {
   "cell_type": "code",
   "execution_count": 41,
   "id": "wanted-messenger",
   "metadata": {},
   "outputs": [],
   "source": [
    "random_forest_model_next_days_predicted=random_forest_model.predict(predictingdate)"
   ]
  },
  {
   "cell_type": "code",
   "execution_count": 42,
   "id": "severe-benchmark",
   "metadata": {},
   "outputs": [],
   "source": [
    "# random_forest_model_next_days_predicted"
   ]
  },
  {
   "cell_type": "code",
   "execution_count": 43,
   "id": "classified-introduction",
   "metadata": {},
   "outputs": [],
   "source": [
    "pyplot.figure('random forest regression')\n",
    "pyplot.plot(maindata['date'],maindata_labels,label='Original Data')\n",
    "pyplot.plot(train_data['date'],random_forest_model_train_predicted,label='Train Data')\n",
    "pyplot.plot(test_data['date'],random_forest_model_test_predicted,label='Test Data')\n",
    "pyplot.plot(daterange,random_forest_model_next_days_predicted,label='Future Prediction')\n",
    "pyplot.xlabel('Date')\n",
    "pyplot.ylabel('{}'.format(name_of_case))\n",
    "pyplot.legend()\n",
    "pyplot.show()"
   ]
  },
  {
   "cell_type": "code",
   "execution_count": null,
   "id": "further-format",
   "metadata": {},
   "outputs": [],
   "source": []
  },
  {
   "cell_type": "markdown",
   "id": "serious-wagner",
   "metadata": {},
   "source": [
    "#### Decision Tree regression"
   ]
  },
  {
   "cell_type": "code",
   "execution_count": 44,
   "id": "herbal-truck",
   "metadata": {},
   "outputs": [
    {
     "data": {
      "text/plain": [
       "DecisionTreeRegressor()"
      ]
     },
     "execution_count": 44,
     "metadata": {},
     "output_type": "execute_result"
    }
   ],
   "source": [
    "decision_tree_model.fit(train_features,train_labels)"
   ]
  },
  {
   "cell_type": "code",
   "execution_count": 45,
   "id": "current-admission",
   "metadata": {},
   "outputs": [],
   "source": [
    "decision_tree_model_train_predicted=decision_tree_model.predict(train_features)"
   ]
  },
  {
   "cell_type": "code",
   "execution_count": 46,
   "id": "atomic-terror",
   "metadata": {},
   "outputs": [],
   "source": [
    "# decision_tree_model_train_predicted"
   ]
  },
  {
   "cell_type": "code",
   "execution_count": 47,
   "id": "several-supervisor",
   "metadata": {},
   "outputs": [],
   "source": [
    "decision_tree_model_test_predicted=decision_tree_model.predict(test_features)"
   ]
  },
  {
   "cell_type": "code",
   "execution_count": 48,
   "id": "marine-verse",
   "metadata": {},
   "outputs": [],
   "source": [
    "# decision_tree_model_test_predicted"
   ]
  },
  {
   "cell_type": "code",
   "execution_count": 49,
   "id": "anonymous-architecture",
   "metadata": {},
   "outputs": [],
   "source": [
    "decision_tree_model_next_days_predicted=decision_tree_model.predict(predictingdate)"
   ]
  },
  {
   "cell_type": "code",
   "execution_count": 50,
   "id": "unusual-solomon",
   "metadata": {},
   "outputs": [],
   "source": [
    "# decision_tree_model_next_days_predicted"
   ]
  },
  {
   "cell_type": "code",
   "execution_count": 51,
   "id": "nervous-nature",
   "metadata": {},
   "outputs": [],
   "source": [
    "pyplot.figure('Decision tree regression')\n",
    "pyplot.plot(maindata['date'],maindata_labels,label='Original Data')\n",
    "pyplot.plot(train_data['date'],decision_tree_model_train_predicted,label='Train Data')\n",
    "pyplot.plot(test_data['date'],decision_tree_model_test_predicted,label='Test Data')\n",
    "pyplot.plot(daterange,decision_tree_model_next_days_predicted,label='Future Prediction')\n",
    "pyplot.xlabel('Date')\n",
    "pyplot.ylabel('{}'.format(name_of_case))\n",
    "pyplot.legend()\n",
    "pyplot.show()"
   ]
  },
  {
   "cell_type": "code",
   "execution_count": null,
   "id": "dated-stock",
   "metadata": {},
   "outputs": [],
   "source": []
  },
  {
   "cell_type": "markdown",
   "id": "secondary-greeting",
   "metadata": {},
   "source": [
    "## Evaluation\n",
    "    model\n",
    "    train : mean_absolute_error     root_mean_squared_error\n",
    "    test :  mean_absolute_error     root_mean_squared_error"
   ]
  },
  {
   "cell_type": "code",
   "execution_count": 52,
   "id": "accepting-irish",
   "metadata": {},
   "outputs": [
    {
     "name": "stdout",
     "output_type": "stream",
     "text": [
      "linear regrassion\n",
      "283.7287960292181 368.0271266950748\n",
      "439.50933464417176 444.49449843172175\n"
     ]
    }
   ],
   "source": [
    "print('linear regrassion')\n",
    "print(mean_absolute_error(linear_regression_model_train_predicted,train_labels),numpy.sqrt(mean_squared_error(linear_regression_model_train_predicted,train_labels)))\n",
    "print(mean_absolute_error(linear_regression_model_test_predicted,test_labels),numpy.sqrt(mean_squared_error(linear_regression_model_test_predicted,test_labels)))"
   ]
  },
  {
   "cell_type": "code",
   "execution_count": 53,
   "id": "ultimate-montreal",
   "metadata": {},
   "outputs": [
    {
     "name": "stdout",
     "output_type": "stream",
     "text": [
      "random forest regrassion\n",
      "25.767870722433464 49.214259664985555\n",
      "71.39214285714284 119.96371755064708\n"
     ]
    }
   ],
   "source": [
    "print('random forest regrassion')\n",
    "print(mean_absolute_error(random_forest_model_train_predicted,train_labels),numpy.sqrt(mean_squared_error(random_forest_model_train_predicted,train_labels)))\n",
    "print(mean_absolute_error(random_forest_model_test_predicted,test_labels),numpy.sqrt(mean_squared_error(random_forest_model_test_predicted,test_labels)))"
   ]
  },
  {
   "cell_type": "code",
   "execution_count": 54,
   "id": "attractive-lightning",
   "metadata": {
    "scrolled": true
   },
   "outputs": [
    {
     "name": "stdout",
     "output_type": "stream",
     "text": [
      "Decision Tree regression\n",
      "0.0 0.0\n",
      "67.92857142857143 118.74071392263541\n"
     ]
    }
   ],
   "source": [
    "print('Decision Tree regression')\n",
    "print(mean_absolute_error(decision_tree_model_train_predicted,train_labels),numpy.sqrt(mean_squared_error(decision_tree_model_train_predicted,train_labels)))\n",
    "print(mean_absolute_error(decision_tree_model_test_predicted,test_labels),numpy.sqrt(mean_squared_error(decision_tree_model_test_predicted,test_labels)))"
   ]
  },
  {
   "cell_type": "code",
   "execution_count": null,
   "id": "hollywood-hazard",
   "metadata": {},
   "outputs": [],
   "source": []
  },
  {
   "cell_type": "code",
   "execution_count": null,
   "id": "wicked-there",
   "metadata": {},
   "outputs": [],
   "source": []
  },
  {
   "cell_type": "markdown",
   "id": "bridal-macedonia",
   "metadata": {},
   "source": [
    "## Polynomial Regression"
   ]
  },
  {
   "cell_type": "code",
   "execution_count": 55,
   "id": "arbitrary-edition",
   "metadata": {},
   "outputs": [],
   "source": [
    "# pyplot.scatter(train_features,train_labels)"
   ]
  },
  {
   "cell_type": "code",
   "execution_count": null,
   "id": "worse-terrorism",
   "metadata": {},
   "outputs": [],
   "source": []
  },
  {
   "cell_type": "code",
   "execution_count": 52,
   "id": "negative-density",
   "metadata": {
    "scrolled": true
   },
   "outputs": [],
   "source": [
    "def polynomial_regrassion_model(degree_of_equation=1):\n",
    "    polynomial=PolynomialFeatures(degree=degree_of_equation)\n",
    "    polynomial_train_data=polynomial.fit_transform(train_features.to_numpy())\n",
    "    polynomial_test_data=polynomial.fit_transform(test_features.to_numpy())\n",
    "    polynomial_future_test_data=polynomial.fit_transform(predictingdate)\n",
    "    polynomial_regression=LinearRegression()\n",
    "    polynomial_regression.fit(polynomial_train_data,train_labels)\n",
    "    polynomial_regression_model_train_predicted=polynomial_regression.predict(polynomial_train_data)\n",
    "    polynomial_regression_model_test_predicted=polynomial_regression.predict(polynomial_test_data)\n",
    "    polynomial_regression_model_next_days_predicted=polynomial_regression.predict(polynomial_future_test_data)\n",
    "#     print('Train Data Prediction')\n",
    "#     print(polynomial_regression_model_train_predicted)\n",
    "#     print('\\n\\n\\nTest Data Prediction')\n",
    "#     print(polynomial_regression_model_test_predicted)\n",
    "#     print('\\n\\n\\nFuture Data Prediction')\n",
    "#     print(polynomial_regression_model_next_days_predicted)\n",
    "#     print('\\n\\n\\n')\n",
    "    print('{} degree Polynomial regression'.format(degree_of_equation))\n",
    "    print(mean_absolute_error(polynomial_regression_model_train_predicted,train_labels),numpy.sqrt(mean_squared_error(polynomial_regression_model_train_predicted,train_labels)))\n",
    "    print(mean_absolute_error(polynomial_regression_model_test_predicted,test_labels),numpy.sqrt(mean_squared_error(polynomial_regression_model_test_predicted,test_labels)))\n",
    "    pyplot.figure('{} degree Polynomial regression'.format(degree_of_equation))\n",
    "    pyplot.plot(maindata['date'],maindata_labels,label='Original Data')\n",
    "    pyplot.plot(train_data['date'],polynomial_regression_model_train_predicted,label='Train Data')\n",
    "    pyplot.plot(test_data['date'],polynomial_regression_model_test_predicted,label='Test Data')\n",
    "    pyplot.plot(daterange,polynomial_regression_model_next_days_predicted,label='Future Prediction')\n",
    "    pyplot.xlabel('Date')\n",
    "    pyplot.ylabel('{}'.format(name_of_case))\n",
    "    pyplot.legend()\n",
    "    pyplot.show()"
   ]
  },
  {
   "cell_type": "code",
   "execution_count": null,
   "id": "latest-questionnaire",
   "metadata": {},
   "outputs": [],
   "source": []
  },
  {
   "cell_type": "code",
   "execution_count": 53,
   "id": "vocal-hazard",
   "metadata": {
    "scrolled": true
   },
   "outputs": [],
   "source": [
    "# polynomial_regrassion_model()"
   ]
  },
  {
   "cell_type": "code",
   "execution_count": 54,
   "id": "curious-product",
   "metadata": {
    "scrolled": true
   },
   "outputs": [
    {
     "name": "stdout",
     "output_type": "stream",
     "text": [
      "2 degree Polynomial regression\n",
      "273.43034125552884 359.26357130628537\n",
      "244.29481748172216 246.14881037222935\n"
     ]
    }
   ],
   "source": [
    "polynomial_regrassion_model(2)"
   ]
  },
  {
   "cell_type": "code",
   "execution_count": 55,
   "id": "artificial-capacity",
   "metadata": {
    "scrolled": false
   },
   "outputs": [
    {
     "name": "stdout",
     "output_type": "stream",
     "text": [
      "3 degree Polynomial regression\n",
      "273.4283158375736 359.2611594529157\n",
      "244.23563034193856 246.0910541563638\n"
     ]
    }
   ],
   "source": [
    "polynomial_regrassion_model(3)"
   ]
  },
  {
   "cell_type": "code",
   "execution_count": 62,
   "id": "unauthorized-testing",
   "metadata": {},
   "outputs": [
    {
     "name": "stdout",
     "output_type": "stream",
     "text": [
      "4 degree Polynomial regression\n",
      "273.42629178633257 359.2587466446998\n",
      "244.1765894698245 246.03344171185472\n"
     ]
    }
   ],
   "source": [
    "polynomial_regrassion_model(4)"
   ]
  },
  {
   "cell_type": "code",
   "execution_count": 63,
   "id": "convenient-dinner",
   "metadata": {},
   "outputs": [
    {
     "name": "stdout",
     "output_type": "stream",
     "text": [
      "5 degree Polynomial regression\n",
      "273.42426577170767 359.25633287964564\n",
      "244.11752731991666 245.97581110958728\n"
     ]
    }
   ],
   "source": [
    "polynomial_regrassion_model(5)"
   ]
  },
  {
   "cell_type": "code",
   "execution_count": 64,
   "id": "amended-traffic",
   "metadata": {},
   "outputs": [
    {
     "name": "stdout",
     "output_type": "stream",
     "text": [
      "6 degree Polynomial regression\n",
      "273.422239291124 359.2539181638695\n",
      "244.0584507680365 245.9181689964809\n"
     ]
    }
   ],
   "source": [
    "polynomial_regrassion_model(6)"
   ]
  },
  {
   "cell_type": "code",
   "execution_count": null,
   "id": "binding-negative",
   "metadata": {},
   "outputs": [],
   "source": []
  },
  {
   "cell_type": "code",
   "execution_count": null,
   "id": "hungarian-guidance",
   "metadata": {},
   "outputs": [],
   "source": []
  },
  {
   "cell_type": "markdown",
   "id": "civilian-testament",
   "metadata": {},
   "source": [
    "# Forcasting Models"
   ]
  },
  {
   "cell_type": "code",
   "execution_count": 56,
   "id": "abroad-syntax",
   "metadata": {},
   "outputs": [],
   "source": [
    "# order-1 (prefered for india level)\n",
    "# order_of_forecasting_models1=(5,0,2)\n",
    "# order_of_forecasting_models2=(4,0,3)\n",
    "\n",
    "# order-2 (prefered for state and district level)\n",
    "order_of_forecasting_models1=(5,0,3)\n",
    "order_of_forecasting_models2=(3,0,3)"
   ]
  },
  {
   "cell_type": "code",
   "execution_count": 57,
   "id": "lined-equity",
   "metadata": {},
   "outputs": [],
   "source": [
    "forcasting_data_features=maindata[['date',type_of_case]]\n",
    "\n",
    "forcasting_train_data_features=train_data[['date',type_of_case]]\n",
    "\n",
    "forcasting_test_data_features=test_data[['date',type_of_case]]"
   ]
  },
  {
   "cell_type": "code",
   "execution_count": 58,
   "id": "historical-visiting",
   "metadata": {},
   "outputs": [
    {
     "name": "stderr",
     "output_type": "stream",
     "text": [
      "<ipython-input-58-7a0089d374bb>:1: SettingWithCopyWarning: \n",
      "A value is trying to be set on a copy of a slice from a DataFrame.\n",
      "Try using .loc[row_indexer,col_indexer] = value instead\n",
      "\n",
      "See the caveats in the documentation: https://pandas.pydata.org/pandas-docs/stable/user_guide/indexing.html#returning-a-view-versus-a-copy\n",
      "  forcasting_data_features['date']=pandas.to_datetime(forcasting_data_features['date'])\n",
      "<ipython-input-58-7a0089d374bb>:3: SettingWithCopyWarning: \n",
      "A value is trying to be set on a copy of a slice from a DataFrame.\n",
      "Try using .loc[row_indexer,col_indexer] = value instead\n",
      "\n",
      "See the caveats in the documentation: https://pandas.pydata.org/pandas-docs/stable/user_guide/indexing.html#returning-a-view-versus-a-copy\n",
      "  forcasting_train_data_features['date']=pandas.to_datetime(forcasting_train_data_features['date'])\n",
      "<ipython-input-58-7a0089d374bb>:5: SettingWithCopyWarning: \n",
      "A value is trying to be set on a copy of a slice from a DataFrame.\n",
      "Try using .loc[row_indexer,col_indexer] = value instead\n",
      "\n",
      "See the caveats in the documentation: https://pandas.pydata.org/pandas-docs/stable/user_guide/indexing.html#returning-a-view-versus-a-copy\n",
      "  forcasting_test_data_features['date']=pandas.to_datetime(forcasting_test_data_features['date'])\n"
     ]
    }
   ],
   "source": [
    "forcasting_data_features['date']=pandas.to_datetime(forcasting_data_features['date'])\n",
    "\n",
    "forcasting_train_data_features['date']=pandas.to_datetime(forcasting_train_data_features['date'])\n",
    "\n",
    "forcasting_test_data_features['date']=pandas.to_datetime(forcasting_test_data_features['date'])"
   ]
  },
  {
   "cell_type": "code",
   "execution_count": 59,
   "id": "strategic-carry",
   "metadata": {},
   "outputs": [],
   "source": [
    "forcasting_data_features=forcasting_data_features.set_index('date')\n",
    "\n",
    "forcasting_train_data_features=forcasting_train_data_features.set_index('date')\n",
    "\n",
    "forcasting_test_data_features=forcasting_test_data_features.set_index('date')"
   ]
  },
  {
   "cell_type": "code",
   "execution_count": 60,
   "id": "dependent-private",
   "metadata": {},
   "outputs": [],
   "source": [
    "# forcasting_data_features"
   ]
  },
  {
   "cell_type": "code",
   "execution_count": 61,
   "id": "cleared-spending",
   "metadata": {},
   "outputs": [],
   "source": [
    "# forcasting_train_data_features"
   ]
  },
  {
   "cell_type": "code",
   "execution_count": 62,
   "id": "arabic-camping",
   "metadata": {},
   "outputs": [],
   "source": [
    "# forcasting_test_data_features"
   ]
  },
  {
   "cell_type": "markdown",
   "id": "removable-ethics",
   "metadata": {},
   "source": [
    "## ARIMA model"
   ]
  },
  {
   "cell_type": "code",
   "execution_count": null,
   "id": "timely-battery",
   "metadata": {},
   "outputs": [],
   "source": []
  },
  {
   "cell_type": "code",
   "execution_count": 63,
   "id": "innocent-guatemala",
   "metadata": {},
   "outputs": [
    {
     "name": "stderr",
     "output_type": "stream",
     "text": [
      "C:\\Users\\Pankaj singh\\AppData\\Roaming\\Python\\Python39\\site-packages\\statsmodels\\tsa\\base\\tsa_model.py:524: ValueWarning: No frequency information was provided, so inferred frequency D will be used.\n",
      "  warnings.warn('No frequency information was'\n",
      "C:\\Users\\Pankaj singh\\AppData\\Roaming\\Python\\Python39\\site-packages\\statsmodels\\tsa\\base\\tsa_model.py:524: ValueWarning: No frequency information was provided, so inferred frequency D will be used.\n",
      "  warnings.warn('No frequency information was'\n",
      "C:\\Users\\Pankaj singh\\AppData\\Roaming\\Python\\Python39\\site-packages\\statsmodels\\tsa\\base\\tsa_model.py:524: ValueWarning: No frequency information was provided, so inferred frequency D will be used.\n",
      "  warnings.warn('No frequency information was'\n",
      "C:\\Users\\Pankaj singh\\AppData\\Roaming\\Python\\Python39\\site-packages\\statsmodels\\tsa\\base\\tsa_model.py:524: ValueWarning: No frequency information was provided, so inferred frequency D will be used.\n",
      "  warnings.warn('No frequency information was'\n",
      "C:\\Users\\Pankaj singh\\AppData\\Roaming\\Python\\Python39\\site-packages\\statsmodels\\tsa\\base\\tsa_model.py:524: ValueWarning: No frequency information was provided, so inferred frequency D will be used.\n",
      "  warnings.warn('No frequency information was'\n",
      "C:\\Users\\Pankaj singh\\AppData\\Roaming\\Python\\Python39\\site-packages\\statsmodels\\tsa\\base\\tsa_model.py:524: ValueWarning: No frequency information was provided, so inferred frequency D will be used.\n",
      "  warnings.warn('No frequency information was'\n"
     ]
    }
   ],
   "source": [
    "main_arima_model = ARIMA(forcasting_data_features,order=order_of_forecasting_models1)\n",
    "train_arima_model = ARIMA(forcasting_train_data_features,order=order_of_forecasting_models1)"
   ]
  },
  {
   "cell_type": "code",
   "execution_count": 64,
   "id": "accurate-return",
   "metadata": {},
   "outputs": [
    {
     "name": "stderr",
     "output_type": "stream",
     "text": [
      "C:\\Users\\Pankaj singh\\AppData\\Roaming\\Python\\Python39\\site-packages\\statsmodels\\tsa\\statespace\\sarimax.py:966: UserWarning: Non-stationary starting autoregressive parameters found. Using zeros as starting parameters.\n",
      "  warn('Non-stationary starting autoregressive parameters'\n",
      "C:\\Users\\Pankaj singh\\AppData\\Roaming\\Python\\Python39\\site-packages\\statsmodels\\tsa\\statespace\\sarimax.py:978: UserWarning: Non-invertible starting MA parameters found. Using zeros as starting parameters.\n",
      "  warn('Non-invertible starting MA parameters found.'\n",
      "C:\\Users\\Pankaj singh\\AppData\\Roaming\\Python\\Python39\\site-packages\\statsmodels\\base\\model.py:566: ConvergenceWarning: Maximum Likelihood optimization failed to converge. Check mle_retvals\n",
      "  warnings.warn(\"Maximum Likelihood optimization failed to \"\n",
      "C:\\Users\\Pankaj singh\\AppData\\Roaming\\Python\\Python39\\site-packages\\statsmodels\\base\\model.py:566: ConvergenceWarning: Maximum Likelihood optimization failed to converge. Check mle_retvals\n",
      "  warnings.warn(\"Maximum Likelihood optimization failed to \"\n"
     ]
    }
   ],
   "source": [
    "main_arima_fit_model=main_arima_model.fit()\n",
    "train_arima_fit_model=train_arima_model.fit()"
   ]
  },
  {
   "cell_type": "code",
   "execution_count": 65,
   "id": "entire-turtle",
   "metadata": {},
   "outputs": [],
   "source": [
    "main_arima_fit_model_predicted=main_arima_fit_model.predict()\n",
    "train_arima_fit_model_predicted=train_arima_fit_model.predict()\n",
    "test_arima_predicted=train_arima_fit_model.forecast(steps=len(forcasting_test_data_features))"
   ]
  },
  {
   "cell_type": "code",
   "execution_count": 66,
   "id": "variable-ownership",
   "metadata": {
    "scrolled": false
   },
   "outputs": [],
   "source": [
    "arima_model_forcast=main_arima_fit_model.forecast(steps=number_of_next_days)"
   ]
  },
  {
   "cell_type": "code",
   "execution_count": 67,
   "id": "surprising-roulette",
   "metadata": {
    "scrolled": false
   },
   "outputs": [
    {
     "data": {
      "text/plain": [
       "2021-11-01    27.857880\n",
       "2021-11-02    55.117316\n",
       "2021-11-03    35.891366\n",
       "2021-11-04    47.003866\n",
       "2021-11-05    53.861303\n",
       "2021-11-06    43.184289\n",
       "2021-11-07    63.668474\n",
       "Freq: D, Name: predicted_mean, dtype: float64"
      ]
     },
     "execution_count": 67,
     "metadata": {},
     "output_type": "execute_result"
    }
   ],
   "source": [
    "# main_arima_fit_model_predicted\n",
    "# train_arima_fit_model_predicted\n",
    "# test_arima_predicted\n",
    "arima_model_forcast"
   ]
  },
  {
   "cell_type": "code",
   "execution_count": 68,
   "id": "adjacent-metallic",
   "metadata": {
    "scrolled": true
   },
   "outputs": [],
   "source": [
    "pyplot.figure('ARIMA model Forcasting')\n",
    "pyplot.plot(maindata['date'],maindata_labels,label='Original Data')\n",
    "pyplot.plot(train_data['date'],train_arima_fit_model_predicted,label='Train Data')\n",
    "pyplot.plot(test_data['date'],test_arima_predicted,label='Test Data')\n",
    "pyplot.plot(daterange,arima_model_forcast,label='ARIMA Future Prediction')\n",
    "pyplot.xlabel('Date')\n",
    "pyplot.ylabel('{}'.format(name_of_case))\n",
    "pyplot.legend()\n",
    "pyplot.show()"
   ]
  },
  {
   "cell_type": "code",
   "execution_count": 69,
   "id": "surface-niagara",
   "metadata": {},
   "outputs": [
    {
     "name": "stdout",
     "output_type": "stream",
     "text": [
      "74.74710378044784 128.9800894057669\n",
      "104.23495538079318 143.42273131150176\n"
     ]
    }
   ],
   "source": [
    "print(mean_absolute_error(train_arima_fit_model_predicted,train_labels),numpy.sqrt(mean_squared_error(train_arima_fit_model_predicted,train_labels)))\n",
    "print(mean_absolute_error(test_arima_predicted,test_labels),numpy.sqrt(mean_squared_error(test_arima_predicted,test_labels)))\n",
    "    "
   ]
  },
  {
   "cell_type": "code",
   "execution_count": null,
   "id": "cultural-fiction",
   "metadata": {},
   "outputs": [],
   "source": []
  },
  {
   "cell_type": "code",
   "execution_count": null,
   "id": "younger-arrow",
   "metadata": {},
   "outputs": [],
   "source": []
  },
  {
   "cell_type": "code",
   "execution_count": 70,
   "id": "athletic-composite",
   "metadata": {},
   "outputs": [],
   "source": [
    "try_arima_labels=numpy.concatenate((maindata_labels,arima_model_forcast))"
   ]
  },
  {
   "cell_type": "code",
   "execution_count": 71,
   "id": "conventional-glenn",
   "metadata": {},
   "outputs": [
    {
     "data": {
      "text/plain": [
       "array([27.85787979, 55.11731605, 35.89136579, 47.00386558, 53.86130288,\n",
       "       43.1842891 , 63.66847391])"
      ]
     },
     "execution_count": 71,
     "metadata": {},
     "output_type": "execute_result"
    }
   ],
   "source": [
    "try_arima_labels[-number_of_next_days:]"
   ]
  },
  {
   "cell_type": "code",
   "execution_count": 72,
   "id": "foreign-karma",
   "metadata": {
    "scrolled": true
   },
   "outputs": [
    {
     "data": {
      "text/plain": [
       "RandomForestRegressor()"
      ]
     },
     "execution_count": 72,
     "metadata": {},
     "output_type": "execute_result"
    }
   ],
   "source": [
    "random_forest_model.fit(pandas.DataFrame(try_data),try_arima_labels)"
   ]
  },
  {
   "cell_type": "code",
   "execution_count": 73,
   "id": "separate-cardiff",
   "metadata": {},
   "outputs": [],
   "source": [
    "final_arima_model_forcast=random_forest_model.predict(pandas.DataFrame(try_data))[-number_of_next_days:]"
   ]
  },
  {
   "cell_type": "code",
   "execution_count": 74,
   "id": "determined-trinity",
   "metadata": {},
   "outputs": [
    {
     "data": {
      "text/plain": [
       "array([29.40611726, 44.1535135 , 40.46895669, 44.96659512, 51.7719105 ,\n",
       "       46.714568  , 57.29675668])"
      ]
     },
     "execution_count": 74,
     "metadata": {},
     "output_type": "execute_result"
    }
   ],
   "source": [
    "final_arima_model_forcast"
   ]
  },
  {
   "cell_type": "code",
   "execution_count": null,
   "id": "southwest-zealand",
   "metadata": {},
   "outputs": [],
   "source": []
  },
  {
   "cell_type": "markdown",
   "id": "turkish-silence",
   "metadata": {},
   "source": [
    "## SARIMA model"
   ]
  },
  {
   "cell_type": "code",
   "execution_count": null,
   "id": "alpine-scope",
   "metadata": {},
   "outputs": [],
   "source": []
  },
  {
   "cell_type": "code",
   "execution_count": 75,
   "id": "adverse-promotion",
   "metadata": {},
   "outputs": [
    {
     "name": "stderr",
     "output_type": "stream",
     "text": [
      "C:\\Users\\Pankaj singh\\AppData\\Roaming\\Python\\Python39\\site-packages\\statsmodels\\tsa\\base\\tsa_model.py:524: ValueWarning: No frequency information was provided, so inferred frequency D will be used.\n",
      "  warnings.warn('No frequency information was'\n",
      "C:\\Users\\Pankaj singh\\AppData\\Roaming\\Python\\Python39\\site-packages\\statsmodels\\tsa\\base\\tsa_model.py:524: ValueWarning: No frequency information was provided, so inferred frequency D will be used.\n",
      "  warnings.warn('No frequency information was'\n",
      "C:\\Users\\Pankaj singh\\AppData\\Roaming\\Python\\Python39\\site-packages\\statsmodels\\tsa\\base\\tsa_model.py:524: ValueWarning: No frequency information was provided, so inferred frequency D will be used.\n",
      "  warnings.warn('No frequency information was'\n",
      "C:\\Users\\Pankaj singh\\AppData\\Roaming\\Python\\Python39\\site-packages\\statsmodels\\tsa\\base\\tsa_model.py:524: ValueWarning: No frequency information was provided, so inferred frequency D will be used.\n",
      "  warnings.warn('No frequency information was'\n"
     ]
    }
   ],
   "source": [
    "main_sarima_model=SARIMAX(forcasting_data_features,order=order_of_forecasting_models2)\n",
    "train_sarima_model = SARIMAX(forcasting_train_data_features,order=order_of_forecasting_models2)"
   ]
  },
  {
   "cell_type": "code",
   "execution_count": 76,
   "id": "alive-klein",
   "metadata": {},
   "outputs": [
    {
     "name": "stderr",
     "output_type": "stream",
     "text": [
      "C:\\Users\\Pankaj singh\\AppData\\Roaming\\Python\\Python39\\site-packages\\statsmodels\\tsa\\statespace\\sarimax.py:966: UserWarning: Non-stationary starting autoregressive parameters found. Using zeros as starting parameters.\n",
      "  warn('Non-stationary starting autoregressive parameters'\n",
      "C:\\Users\\Pankaj singh\\AppData\\Roaming\\Python\\Python39\\site-packages\\statsmodels\\tsa\\statespace\\sarimax.py:978: UserWarning: Non-invertible starting MA parameters found. Using zeros as starting parameters.\n",
      "  warn('Non-invertible starting MA parameters found.'\n",
      "C:\\Users\\Pankaj singh\\AppData\\Roaming\\Python\\Python39\\site-packages\\statsmodels\\base\\model.py:566: ConvergenceWarning: Maximum Likelihood optimization failed to converge. Check mle_retvals\n",
      "  warnings.warn(\"Maximum Likelihood optimization failed to \"\n",
      "C:\\Users\\Pankaj singh\\AppData\\Roaming\\Python\\Python39\\site-packages\\statsmodels\\base\\model.py:566: ConvergenceWarning: Maximum Likelihood optimization failed to converge. Check mle_retvals\n",
      "  warnings.warn(\"Maximum Likelihood optimization failed to \"\n"
     ]
    }
   ],
   "source": [
    "main_sarima_fit_model=main_sarima_model.fit()\n",
    "train_sarima_fit_model=train_sarima_model.fit()"
   ]
  },
  {
   "cell_type": "code",
   "execution_count": 77,
   "id": "coated-north",
   "metadata": {},
   "outputs": [],
   "source": [
    "# sarima_model_fit.predict(590)\n",
    "main_sarima_fit_model_predicted=main_sarima_fit_model.predict()\n",
    "train_sarima_fit_model_predicted=train_sarima_fit_model.predict()\n",
    "test_sarima_predicted=train_sarima_fit_model.forecast(steps=len(forcasting_test_data_features))"
   ]
  },
  {
   "cell_type": "code",
   "execution_count": 78,
   "id": "musical-annex",
   "metadata": {
    "scrolled": true
   },
   "outputs": [],
   "source": [
    "sarima_model_forcast=main_sarima_fit_model.forecast(steps=number_of_next_days)"
   ]
  },
  {
   "cell_type": "code",
   "execution_count": 79,
   "id": "generous-blood",
   "metadata": {
    "scrolled": false
   },
   "outputs": [
    {
     "data": {
      "text/plain": [
       "2021-11-01    25.656719\n",
       "2021-11-02    38.881787\n",
       "2021-11-03    24.928360\n",
       "2021-11-04    33.656291\n",
       "2021-11-05    32.629916\n",
       "2021-11-06    25.355898\n",
       "2021-11-07    37.157403\n",
       "Freq: D, Name: predicted_mean, dtype: float64"
      ]
     },
     "execution_count": 79,
     "metadata": {},
     "output_type": "execute_result"
    }
   ],
   "source": [
    "# main_sarima_fit_model_predicted\n",
    "# train_sarima_fit_model_predicted\n",
    "# test_sarima_predicted\n",
    "sarima_model_forcast"
   ]
  },
  {
   "cell_type": "code",
   "execution_count": 80,
   "id": "selective-russell",
   "metadata": {},
   "outputs": [],
   "source": [
    "pyplot.figure('SARIMA model Forcasting')\n",
    "pyplot.plot(maindata['date'],maindata_labels,label='Original Data')\n",
    "pyplot.plot(train_data['date'],train_sarima_fit_model_predicted,label='Train Data')\n",
    "pyplot.plot(test_data['date'],test_sarima_predicted,label='Test Data')\n",
    "pyplot.plot(daterange,sarima_model_forcast,label='SARIMA Future Prediction')\n",
    "pyplot.xlabel('Date')\n",
    "pyplot.ylabel('{}'.format(name_of_case))\n",
    "pyplot.legend()\n",
    "pyplot.show()"
   ]
  },
  {
   "cell_type": "code",
   "execution_count": 81,
   "id": "introductory-chair",
   "metadata": {},
   "outputs": [
    {
     "name": "stdout",
     "output_type": "stream",
     "text": [
      "74.20716118750424 128.89884534571124\n",
      "61.03026576502107 113.62207386040494\n"
     ]
    }
   ],
   "source": [
    "print(mean_absolute_error(train_sarima_fit_model_predicted,train_labels),numpy.sqrt(mean_squared_error(train_sarima_fit_model_predicted,train_labels)))\n",
    "print(mean_absolute_error(test_sarima_predicted,test_labels),numpy.sqrt(mean_squared_error(test_sarima_predicted,test_labels)))\n",
    "    "
   ]
  },
  {
   "cell_type": "code",
   "execution_count": null,
   "id": "optimum-member",
   "metadata": {},
   "outputs": [],
   "source": []
  },
  {
   "cell_type": "code",
   "execution_count": 82,
   "id": "ahead-poetry",
   "metadata": {},
   "outputs": [],
   "source": [
    "try_sarima_labels=numpy.concatenate((maindata_labels,sarima_model_forcast))"
   ]
  },
  {
   "cell_type": "code",
   "execution_count": 83,
   "id": "funded-replacement",
   "metadata": {},
   "outputs": [
    {
     "data": {
      "text/plain": [
       "array([25.65671933, 38.88178735, 24.92835974, 33.65629089, 32.62991571,\n",
       "       25.35589812, 37.15740348])"
      ]
     },
     "execution_count": 83,
     "metadata": {},
     "output_type": "execute_result"
    }
   ],
   "source": [
    "try_sarima_labels[-number_of_next_days:]"
   ]
  },
  {
   "cell_type": "code",
   "execution_count": 84,
   "id": "unusual-recorder",
   "metadata": {},
   "outputs": [
    {
     "data": {
      "text/plain": [
       "RandomForestRegressor()"
      ]
     },
     "execution_count": 84,
     "metadata": {},
     "output_type": "execute_result"
    }
   ],
   "source": [
    "random_forest_model.fit(pandas.DataFrame(try_data),try_sarima_labels)"
   ]
  },
  {
   "cell_type": "code",
   "execution_count": 85,
   "id": "deadly-economy",
   "metadata": {},
   "outputs": [],
   "source": [
    "final_sarima_model_forcast=random_forest_model.predict(pandas.DataFrame(try_data))[-number_of_next_days:]"
   ]
  },
  {
   "cell_type": "code",
   "execution_count": 86,
   "id": "embedded-concord",
   "metadata": {},
   "outputs": [
    {
     "data": {
      "text/plain": [
       "array([25.88036009, 33.42127987, 29.34606816, 31.74075222, 32.10079568,\n",
       "       28.78344828, 34.19132746])"
      ]
     },
     "execution_count": 86,
     "metadata": {},
     "output_type": "execute_result"
    }
   ],
   "source": [
    "final_sarima_model_forcast"
   ]
  },
  {
   "cell_type": "code",
   "execution_count": null,
   "id": "korean-detector",
   "metadata": {},
   "outputs": [],
   "source": []
  },
  {
   "cell_type": "code",
   "execution_count": null,
   "id": "serious-location",
   "metadata": {},
   "outputs": [],
   "source": []
  },
  {
   "cell_type": "markdown",
   "id": "brown-ballot",
   "metadata": {},
   "source": [
    "## Evaluation\n",
    "  \n",
    "    train : mean_absolute_error     root_mean_squared_error\n",
    "    test :  mean_absolute_error     root_mean_squared_error"
   ]
  },
  {
   "cell_type": "code",
   "execution_count": 87,
   "id": "alleged-intersection",
   "metadata": {},
   "outputs": [
    {
     "name": "stdout",
     "output_type": "stream",
     "text": [
      "ARIMA model\n",
      "74.74710378044784 128.9800894057669\n",
      "104.23495538079318 143.42273131150176\n"
     ]
    }
   ],
   "source": [
    "print('ARIMA model')\n",
    "print(mean_absolute_error(train_arima_fit_model_predicted,train_labels),numpy.sqrt(mean_squared_error(train_arima_fit_model_predicted,train_labels)))\n",
    "print(mean_absolute_error(test_arima_predicted,test_labels),numpy.sqrt(mean_squared_error(test_arima_predicted,test_labels)))\n",
    "    "
   ]
  },
  {
   "cell_type": "code",
   "execution_count": 88,
   "id": "private-italic",
   "metadata": {},
   "outputs": [
    {
     "name": "stdout",
     "output_type": "stream",
     "text": [
      "SARIMA model\n",
      "74.20716118750424 128.89884534571124\n",
      "61.03026576502107 113.62207386040494\n"
     ]
    }
   ],
   "source": [
    "print('SARIMA model')\n",
    "print(mean_absolute_error(train_sarima_fit_model_predicted,train_labels),numpy.sqrt(mean_squared_error(train_sarima_fit_model_predicted,train_labels)))\n",
    "print(mean_absolute_error(test_sarima_predicted,test_labels),numpy.sqrt(mean_squared_error(test_sarima_predicted,test_labels)))\n",
    "    "
   ]
  },
  {
   "cell_type": "markdown",
   "id": "fatal-dividend",
   "metadata": {},
   "source": [
    "## Final Model Forecast"
   ]
  },
  {
   "cell_type": "code",
   "execution_count": null,
   "id": "searching-windsor",
   "metadata": {},
   "outputs": [],
   "source": []
  },
  {
   "cell_type": "code",
   "execution_count": 89,
   "id": "undefined-weekend",
   "metadata": {},
   "outputs": [
    {
     "data": {
      "text/plain": [
       "array([29.40611726, 44.1535135 , 40.46895669, 44.96659512, 51.7719105 ,\n",
       "       46.714568  , 57.29675668])"
      ]
     },
     "execution_count": 89,
     "metadata": {},
     "output_type": "execute_result"
    }
   ],
   "source": [
    "final_arima_model_forcast"
   ]
  },
  {
   "cell_type": "code",
   "execution_count": 90,
   "id": "alone-salon",
   "metadata": {},
   "outputs": [
    {
     "data": {
      "text/plain": [
       "array([25.88036009, 33.42127987, 29.34606816, 31.74075222, 32.10079568,\n",
       "       28.78344828, 34.19132746])"
      ]
     },
     "execution_count": 90,
     "metadata": {},
     "output_type": "execute_result"
    }
   ],
   "source": [
    "final_sarima_model_forcast"
   ]
  },
  {
   "cell_type": "code",
   "execution_count": 91,
   "id": "alternative-philip",
   "metadata": {},
   "outputs": [],
   "source": [
    "final_data_forcast=(final_arima_model_forcast+final_sarima_model_forcast)/2"
   ]
  },
  {
   "cell_type": "code",
   "execution_count": 92,
   "id": "present-pioneer",
   "metadata": {
    "scrolled": true
   },
   "outputs": [
    {
     "data": {
      "text/plain": [
       "array([27.64323868, 38.78739669, 34.90751242, 38.35367367, 41.93635309,\n",
       "       37.74900814, 45.74404207])"
      ]
     },
     "execution_count": 92,
     "metadata": {},
     "output_type": "execute_result"
    }
   ],
   "source": [
    "final_data_forcast"
   ]
  },
  {
   "cell_type": "code",
   "execution_count": null,
   "id": "tough-playlist",
   "metadata": {},
   "outputs": [],
   "source": []
  },
  {
   "cell_type": "code",
   "execution_count": 93,
   "id": "divided-communication",
   "metadata": {},
   "outputs": [],
   "source": [
    "final_forecast_labels=numpy.concatenate((maindata_labels,final_data_forcast))"
   ]
  },
  {
   "cell_type": "code",
   "execution_count": 94,
   "id": "dangerous-chapel",
   "metadata": {},
   "outputs": [
    {
     "data": {
      "text/plain": [
       "array([27.64323868, 38.78739669, 34.90751242, 38.35367367, 41.93635309,\n",
       "       37.74900814, 45.74404207])"
      ]
     },
     "execution_count": 94,
     "metadata": {},
     "output_type": "execute_result"
    }
   ],
   "source": [
    "final_forecast_labels[-number_of_next_days:]"
   ]
  },
  {
   "cell_type": "code",
   "execution_count": 95,
   "id": "defined-english",
   "metadata": {},
   "outputs": [
    {
     "data": {
      "text/plain": [
       "RandomForestRegressor()"
      ]
     },
     "execution_count": 95,
     "metadata": {},
     "output_type": "execute_result"
    }
   ],
   "source": [
    "random_forest_model.fit(pandas.DataFrame(try_data),final_forecast_labels)"
   ]
  },
  {
   "cell_type": "code",
   "execution_count": 96,
   "id": "advance-homework",
   "metadata": {},
   "outputs": [],
   "source": [
    "final_model_forcast=random_forest_model.predict(pandas.DataFrame(try_data))[-number_of_next_days:]"
   ]
  },
  {
   "cell_type": "code",
   "execution_count": 97,
   "id": "velvet-english",
   "metadata": {},
   "outputs": [
    {
     "data": {
      "text/plain": [
       "547    41\n",
       "548    41\n",
       "549    39\n",
       "550    48\n",
       "551    59\n",
       "552    13\n",
       "553    26\n",
       "Name: delta_confirmed, dtype: int64"
      ]
     },
     "execution_count": 97,
     "metadata": {},
     "output_type": "execute_result"
    }
   ],
   "source": [
    "maindata_labels[-number_of_next_days:]"
   ]
  },
  {
   "cell_type": "code",
   "execution_count": 98,
   "id": "similar-governor",
   "metadata": {},
   "outputs": [
    {
     "data": {
      "text/plain": [
       "array([28.20519958, 35.61051578, 35.99972159, 38.01075518, 40.40619363,\n",
       "       39.25326869, 42.7901777 ])"
      ]
     },
     "execution_count": 98,
     "metadata": {},
     "output_type": "execute_result"
    }
   ],
   "source": [
    "final_model_forcast"
   ]
  },
  {
   "cell_type": "code",
   "execution_count": 99,
   "id": "forbidden-delivery",
   "metadata": {},
   "outputs": [],
   "source": [
    "final_prediction=pandas.DataFrame()"
   ]
  },
  {
   "cell_type": "code",
   "execution_count": 100,
   "id": "effective-contribution",
   "metadata": {},
   "outputs": [],
   "source": [
    "final_prediction['Future Dates']=daterange"
   ]
  },
  {
   "cell_type": "code",
   "execution_count": 101,
   "id": "dirty-offering",
   "metadata": {},
   "outputs": [],
   "source": [
    "final_prediction['ARIMA Prediction']=arima_model_forcast.to_numpy()"
   ]
  },
  {
   "cell_type": "code",
   "execution_count": 102,
   "id": "computational-glass",
   "metadata": {},
   "outputs": [],
   "source": [
    "final_prediction['SARIMA Prediction']=sarima_model_forcast.to_numpy()"
   ]
  },
  {
   "cell_type": "code",
   "execution_count": 103,
   "id": "golden-modification",
   "metadata": {},
   "outputs": [
    {
     "name": "stdout",
     "output_type": "stream",
     "text": [
      "['25   to   27', '38   to   55', '24   to   35', '33   to   47', '32   to   53', '25   to   43', '37   to   63']\n"
     ]
    }
   ],
   "source": [
    "def range_finder(x,y):\n",
    "    if x<y:\n",
    "        return(x,y)\n",
    "    else:\n",
    "        return(y,x)\n",
    "range_of_prediction=[]\n",
    "for i in range(number_of_next_days):\n",
    "    range_of_prediction.append(range_finder(arima_model_forcast.to_numpy()[i],sarima_model_forcast.to_numpy()[i]))\n",
    "# print(range_of_prediction)\n",
    "excepted_range_of_prediction=[\"{}   to   {}\".format(int(value[0]),int(value[1])) for value in range_of_prediction]\n",
    "print(excepted_range_of_prediction)"
   ]
  },
  {
   "cell_type": "code",
   "execution_count": 104,
   "id": "ruled-standard",
   "metadata": {},
   "outputs": [],
   "source": [
    "final_prediction['Excepted Range of Prediction']=excepted_range_of_prediction"
   ]
  },
  {
   "cell_type": "code",
   "execution_count": 105,
   "id": "affecting-flash",
   "metadata": {},
   "outputs": [],
   "source": [
    "final_prediction['Final Excepted Prediction']=final_model_forcast.astype(int)"
   ]
  },
  {
   "cell_type": "code",
   "execution_count": 106,
   "id": "stunning-martin",
   "metadata": {},
   "outputs": [],
   "source": [
    "final_prediction['Future Dates']=[str(value) for value in daterange]"
   ]
  },
  {
   "cell_type": "code",
   "execution_count": null,
   "id": "grand-basin",
   "metadata": {},
   "outputs": [],
   "source": []
  },
  {
   "cell_type": "code",
   "execution_count": null,
   "id": "russian-business",
   "metadata": {},
   "outputs": [],
   "source": []
  },
  {
   "cell_type": "code",
   "execution_count": 107,
   "id": "dying-colony",
   "metadata": {},
   "outputs": [
    {
     "data": {
      "text/html": [
       "<div>\n",
       "<style scoped>\n",
       "    .dataframe tbody tr th:only-of-type {\n",
       "        vertical-align: middle;\n",
       "    }\n",
       "\n",
       "    .dataframe tbody tr th {\n",
       "        vertical-align: top;\n",
       "    }\n",
       "\n",
       "    .dataframe thead th {\n",
       "        text-align: right;\n",
       "    }\n",
       "</style>\n",
       "<table border=\"1\" class=\"dataframe\">\n",
       "  <thead>\n",
       "    <tr style=\"text-align: right;\">\n",
       "      <th></th>\n",
       "      <th>Future Dates</th>\n",
       "      <th>ARIMA Prediction</th>\n",
       "      <th>SARIMA Prediction</th>\n",
       "      <th>Excepted Range of Prediction</th>\n",
       "      <th>Final Excepted Prediction</th>\n",
       "    </tr>\n",
       "  </thead>\n",
       "  <tbody>\n",
       "    <tr>\n",
       "      <th>0</th>\n",
       "      <td>2021-11-01</td>\n",
       "      <td>27.857880</td>\n",
       "      <td>25.656719</td>\n",
       "      <td>25   to   27</td>\n",
       "      <td>28</td>\n",
       "    </tr>\n",
       "    <tr>\n",
       "      <th>1</th>\n",
       "      <td>2021-11-02</td>\n",
       "      <td>55.117316</td>\n",
       "      <td>38.881787</td>\n",
       "      <td>38   to   55</td>\n",
       "      <td>35</td>\n",
       "    </tr>\n",
       "    <tr>\n",
       "      <th>2</th>\n",
       "      <td>2021-11-03</td>\n",
       "      <td>35.891366</td>\n",
       "      <td>24.928360</td>\n",
       "      <td>24   to   35</td>\n",
       "      <td>35</td>\n",
       "    </tr>\n",
       "    <tr>\n",
       "      <th>3</th>\n",
       "      <td>2021-11-04</td>\n",
       "      <td>47.003866</td>\n",
       "      <td>33.656291</td>\n",
       "      <td>33   to   47</td>\n",
       "      <td>38</td>\n",
       "    </tr>\n",
       "    <tr>\n",
       "      <th>4</th>\n",
       "      <td>2021-11-05</td>\n",
       "      <td>53.861303</td>\n",
       "      <td>32.629916</td>\n",
       "      <td>32   to   53</td>\n",
       "      <td>40</td>\n",
       "    </tr>\n",
       "    <tr>\n",
       "      <th>5</th>\n",
       "      <td>2021-11-06</td>\n",
       "      <td>43.184289</td>\n",
       "      <td>25.355898</td>\n",
       "      <td>25   to   43</td>\n",
       "      <td>39</td>\n",
       "    </tr>\n",
       "    <tr>\n",
       "      <th>6</th>\n",
       "      <td>2021-11-07</td>\n",
       "      <td>63.668474</td>\n",
       "      <td>37.157403</td>\n",
       "      <td>37   to   63</td>\n",
       "      <td>42</td>\n",
       "    </tr>\n",
       "  </tbody>\n",
       "</table>\n",
       "</div>"
      ],
      "text/plain": [
       "  Future Dates  ARIMA Prediction  SARIMA Prediction  \\\n",
       "0   2021-11-01         27.857880          25.656719   \n",
       "1   2021-11-02         55.117316          38.881787   \n",
       "2   2021-11-03         35.891366          24.928360   \n",
       "3   2021-11-04         47.003866          33.656291   \n",
       "4   2021-11-05         53.861303          32.629916   \n",
       "5   2021-11-06         43.184289          25.355898   \n",
       "6   2021-11-07         63.668474          37.157403   \n",
       "\n",
       "  Excepted Range of Prediction  Final Excepted Prediction  \n",
       "0                 25   to   27                         28  \n",
       "1                 38   to   55                         35  \n",
       "2                 24   to   35                         35  \n",
       "3                 33   to   47                         38  \n",
       "4                 32   to   53                         40  \n",
       "5                 25   to   43                         39  \n",
       "6                 37   to   63                         42  "
      ]
     },
     "execution_count": 107,
     "metadata": {},
     "output_type": "execute_result"
    }
   ],
   "source": [
    "final_prediction"
   ]
  },
  {
   "cell_type": "code",
   "execution_count": 108,
   "id": "discrete-colon",
   "metadata": {},
   "outputs": [],
   "source": [
    "# final_prediction.to_json()"
   ]
  },
  {
   "cell_type": "code",
   "execution_count": null,
   "id": "rising-tablet",
   "metadata": {},
   "outputs": [],
   "source": []
  },
  {
   "cell_type": "code",
   "execution_count": null,
   "id": "exempt-titanium",
   "metadata": {},
   "outputs": [],
   "source": []
  },
  {
   "cell_type": "code",
   "execution_count": 109,
   "id": "radio-reform",
   "metadata": {},
   "outputs": [],
   "source": [
    "pyplot.figure('Final model Forcasting')\n",
    "pyplot.plot(maindata['date'],maindata_labels,label='Original Data')\n",
    "pyplot.plot(daterange,arima_model_forcast,label='ARIMA Future Prediction')\n",
    "pyplot.plot(daterange,sarima_model_forcast,label='SARIMA Future Prediction')\n",
    "pyplot.plot(daterange,final_model_forcast,label='final Future {} Prediction'.format(name_of_case))\n",
    "\n",
    "for i in range(number_of_next_days):\n",
    "    pyplot.text(daterange[i],arima_model_forcast.to_numpy()[i],'{}'.format(int(arima_model_forcast.to_numpy()[i])))\n",
    "for i in range(number_of_next_days):\n",
    "    pyplot.text(daterange[i],sarima_model_forcast.to_numpy()[i],'{}'.format(int(sarima_model_forcast.to_numpy()[i])))\n",
    "for i in range(number_of_next_days):\n",
    "    pyplot.text(daterange[i],final_model_forcast[i],'{}'.format(int(final_model_forcast[i])))\n",
    "    \n",
    "pyplot.xlabel('Date')\n",
    "pyplot.ylabel('{}'.format(name_of_case))\n",
    "\n",
    "pyplot.grid(axis='x')\n",
    "pyplot.legend()\n",
    "pyplot.show()"
   ]
  },
  {
   "cell_type": "code",
   "execution_count": null,
   "id": "handy-birthday",
   "metadata": {},
   "outputs": [],
   "source": []
  },
  {
   "cell_type": "code",
   "execution_count": null,
   "id": "together-space",
   "metadata": {},
   "outputs": [],
   "source": []
  },
  {
   "cell_type": "code",
   "execution_count": null,
   "id": "single-ethics",
   "metadata": {},
   "outputs": [],
   "source": []
  },
  {
   "cell_type": "code",
   "execution_count": null,
   "id": "answering-plaza",
   "metadata": {},
   "outputs": [],
   "source": []
  },
  {
   "cell_type": "code",
   "execution_count": null,
   "id": "atmospheric-developer",
   "metadata": {},
   "outputs": [],
   "source": []
  },
  {
   "cell_type": "code",
   "execution_count": null,
   "id": "institutional-guide",
   "metadata": {},
   "outputs": [],
   "source": []
  },
  {
   "cell_type": "code",
   "execution_count": null,
   "id": "coral-finish",
   "metadata": {},
   "outputs": [],
   "source": []
  },
  {
   "cell_type": "code",
   "execution_count": null,
   "id": "homeless-functionality",
   "metadata": {},
   "outputs": [],
   "source": []
  },
  {
   "cell_type": "code",
   "execution_count": null,
   "id": "assigned-appearance",
   "metadata": {},
   "outputs": [],
   "source": []
  },
  {
   "cell_type": "code",
   "execution_count": 111,
   "id": "hazardous-grammar",
   "metadata": {},
   "outputs": [],
   "source": [
    "# train_absolute_error=[]\n",
    "# test_absolute_error=[]\n",
    "# train_rmse=[]\n",
    "# test_rmse=[]\n",
    "# index=[]\n",
    "# for p in range(7):\n",
    "#     for q in range(7):\n",
    "#         for r in range(7):\n",
    "#             try:\n",
    "#                 print('\\nfor p={} , q={} , r={}'.format(p,q,r))\n",
    "#                 train_sarima_model = ARIMA(forcasting_train_data_features,order=(p,q,r))\n",
    "#                 train_sarima_fit_model=train_sarima_model.fit()\n",
    "#                 train_sarima_fit_model_predicted=train_sarima_fit_model.predict()\n",
    "#                 test_sarima_predicted=train_sarima_fit_model.forecast(steps=len(forcasting_test_data_features))\n",
    "#                 train_absolute_error.append(mean_absolute_error(train_sarima_fit_model_predicted,train_labels))\n",
    "#                 train_rmse.append(numpy.sqrt(mean_squared_error(train_sarima_fit_model_predicted,train_labels)))\n",
    "#                 test_absolute_error.append(mean_absolute_error(test_sarima_predicted,test_labels))\n",
    "#                 test_rmse.append(numpy.sqrt(mean_squared_error(test_sarima_predicted,test_labels)))\n",
    "#                 index.append(\"{}{}{}\".format(p,q,r))\n",
    "#                 print(mean_absolute_error(train_sarima_fit_model_predicted,train_labels),numpy.sqrt(mean_squared_error(train_sarima_fit_model_predicted,train_labels)))\n",
    "#                 print(mean_absolute_error(test_sarima_predicted,test_labels),numpy.sqrt(mean_squared_error(test_sarima_predicted,test_labels)))\n",
    "#             except Exception as e:\n",
    "#                 print(e)\n",
    "# errors=pandas.DataFrame()\n",
    "# errors['index']=index\n",
    "# errors['train_absolute_error']=train_absolute_error\n",
    "# errors['test_absolute_error']=test_absolute_error\n",
    "# errors['train_rmse']=train_rmse\n",
    "# errors['test_rmse']=test_rmse"
   ]
  },
  {
   "cell_type": "code",
   "execution_count": 115,
   "id": "indoor-input",
   "metadata": {
    "scrolled": true
   },
   "outputs": [],
   "source": [
    "# errors[errors['test_absolute_error']==min(errors['test_absolute_error'])]"
   ]
  },
  {
   "cell_type": "code",
   "execution_count": null,
   "id": "differential-identifier",
   "metadata": {},
   "outputs": [],
   "source": []
  },
  {
   "cell_type": "code",
   "execution_count": null,
   "id": "revised-juvenile",
   "metadata": {},
   "outputs": [],
   "source": []
  },
  {
   "cell_type": "code",
   "execution_count": null,
   "id": "nearby-agreement",
   "metadata": {},
   "outputs": [],
   "source": []
  },
  {
   "cell_type": "markdown",
   "id": "treated-interim",
   "metadata": {},
   "source": [
    "## VAR Model"
   ]
  },
  {
   "cell_type": "code",
   "execution_count": 116,
   "id": "jewish-linux",
   "metadata": {},
   "outputs": [],
   "source": [
    "forcasting_data_features_for_VAR=maindata[['date','delta_confirmed','delta_vaccinated1','delta_vaccinated2']]\n",
    "forcasting_train_data_features_for_VAR=train_data[['date','delta_confirmed','delta_vaccinated1','delta_vaccinated2']]"
   ]
  },
  {
   "cell_type": "code",
   "execution_count": 117,
   "id": "opposite-browse",
   "metadata": {},
   "outputs": [
    {
     "data": {
      "text/html": [
       "<div>\n",
       "<style scoped>\n",
       "    .dataframe tbody tr th:only-of-type {\n",
       "        vertical-align: middle;\n",
       "    }\n",
       "\n",
       "    .dataframe tbody tr th {\n",
       "        vertical-align: top;\n",
       "    }\n",
       "\n",
       "    .dataframe thead th {\n",
       "        text-align: right;\n",
       "    }\n",
       "</style>\n",
       "<table border=\"1\" class=\"dataframe\">\n",
       "  <thead>\n",
       "    <tr style=\"text-align: right;\">\n",
       "      <th></th>\n",
       "      <th>date</th>\n",
       "      <th>delta_confirmed</th>\n",
       "      <th>delta_vaccinated1</th>\n",
       "      <th>delta_vaccinated2</th>\n",
       "    </tr>\n",
       "  </thead>\n",
       "  <tbody>\n",
       "    <tr>\n",
       "      <th>0</th>\n",
       "      <td>2020-04-26</td>\n",
       "      <td>0</td>\n",
       "      <td>0</td>\n",
       "      <td>0</td>\n",
       "    </tr>\n",
       "    <tr>\n",
       "      <th>1</th>\n",
       "      <td>2020-04-27</td>\n",
       "      <td>4</td>\n",
       "      <td>0</td>\n",
       "      <td>0</td>\n",
       "    </tr>\n",
       "    <tr>\n",
       "      <th>2</th>\n",
       "      <td>2020-04-28</td>\n",
       "      <td>5</td>\n",
       "      <td>0</td>\n",
       "      <td>0</td>\n",
       "    </tr>\n",
       "    <tr>\n",
       "      <th>3</th>\n",
       "      <td>2020-04-29</td>\n",
       "      <td>3</td>\n",
       "      <td>0</td>\n",
       "      <td>0</td>\n",
       "    </tr>\n",
       "    <tr>\n",
       "      <th>4</th>\n",
       "      <td>2020-04-30</td>\n",
       "      <td>2</td>\n",
       "      <td>0</td>\n",
       "      <td>0</td>\n",
       "    </tr>\n",
       "    <tr>\n",
       "      <th>...</th>\n",
       "      <td>...</td>\n",
       "      <td>...</td>\n",
       "      <td>...</td>\n",
       "      <td>...</td>\n",
       "    </tr>\n",
       "    <tr>\n",
       "      <th>549</th>\n",
       "      <td>2021-10-27</td>\n",
       "      <td>39</td>\n",
       "      <td>3536</td>\n",
       "      <td>4449</td>\n",
       "    </tr>\n",
       "    <tr>\n",
       "      <th>550</th>\n",
       "      <td>2021-10-28</td>\n",
       "      <td>48</td>\n",
       "      <td>2742</td>\n",
       "      <td>4458</td>\n",
       "    </tr>\n",
       "    <tr>\n",
       "      <th>551</th>\n",
       "      <td>2021-10-29</td>\n",
       "      <td>59</td>\n",
       "      <td>2803</td>\n",
       "      <td>4641</td>\n",
       "    </tr>\n",
       "    <tr>\n",
       "      <th>552</th>\n",
       "      <td>2021-10-30</td>\n",
       "      <td>13</td>\n",
       "      <td>3027</td>\n",
       "      <td>5713</td>\n",
       "    </tr>\n",
       "    <tr>\n",
       "      <th>553</th>\n",
       "      <td>2021-10-31</td>\n",
       "      <td>26</td>\n",
       "      <td>326</td>\n",
       "      <td>1214</td>\n",
       "    </tr>\n",
       "  </tbody>\n",
       "</table>\n",
       "<p>554 rows × 4 columns</p>\n",
       "</div>"
      ],
      "text/plain": [
       "           date  delta_confirmed  delta_vaccinated1  delta_vaccinated2\n",
       "0    2020-04-26                0                  0                  0\n",
       "1    2020-04-27                4                  0                  0\n",
       "2    2020-04-28                5                  0                  0\n",
       "3    2020-04-29                3                  0                  0\n",
       "4    2020-04-30                2                  0                  0\n",
       "..          ...              ...                ...                ...\n",
       "549  2021-10-27               39               3536               4449\n",
       "550  2021-10-28               48               2742               4458\n",
       "551  2021-10-29               59               2803               4641\n",
       "552  2021-10-30               13               3027               5713\n",
       "553  2021-10-31               26                326               1214\n",
       "\n",
       "[554 rows x 4 columns]"
      ]
     },
     "execution_count": 117,
     "metadata": {},
     "output_type": "execute_result"
    }
   ],
   "source": [
    "forcasting_data_features_for_VAR\n",
    "# forcasting_train_data_features_for_VAR"
   ]
  },
  {
   "cell_type": "code",
   "execution_count": 118,
   "id": "great-candy",
   "metadata": {},
   "outputs": [
    {
     "name": "stderr",
     "output_type": "stream",
     "text": [
      "<ipython-input-118-1b0de2c1aaa6>:1: SettingWithCopyWarning: \n",
      "A value is trying to be set on a copy of a slice from a DataFrame.\n",
      "Try using .loc[row_indexer,col_indexer] = value instead\n",
      "\n",
      "See the caveats in the documentation: https://pandas.pydata.org/pandas-docs/stable/user_guide/indexing.html#returning-a-view-versus-a-copy\n",
      "  forcasting_data_features_for_VAR['date']=pandas.to_datetime(forcasting_data_features_for_VAR['date'])\n",
      "<ipython-input-118-1b0de2c1aaa6>:2: SettingWithCopyWarning: \n",
      "A value is trying to be set on a copy of a slice from a DataFrame.\n",
      "Try using .loc[row_indexer,col_indexer] = value instead\n",
      "\n",
      "See the caveats in the documentation: https://pandas.pydata.org/pandas-docs/stable/user_guide/indexing.html#returning-a-view-versus-a-copy\n",
      "  forcasting_train_data_features_for_VAR['date']=pandas.to_datetime(forcasting_train_data_features_for_VAR['date'])\n"
     ]
    }
   ],
   "source": [
    "forcasting_data_features_for_VAR['date']=pandas.to_datetime(forcasting_data_features_for_VAR['date'])\n",
    "forcasting_train_data_features_for_VAR['date']=pandas.to_datetime(forcasting_train_data_features_for_VAR['date'])"
   ]
  },
  {
   "cell_type": "code",
   "execution_count": 119,
   "id": "hungarian-shoot",
   "metadata": {
    "scrolled": false
   },
   "outputs": [
    {
     "data": {
      "text/html": [
       "<div>\n",
       "<style scoped>\n",
       "    .dataframe tbody tr th:only-of-type {\n",
       "        vertical-align: middle;\n",
       "    }\n",
       "\n",
       "    .dataframe tbody tr th {\n",
       "        vertical-align: top;\n",
       "    }\n",
       "\n",
       "    .dataframe thead th {\n",
       "        text-align: right;\n",
       "    }\n",
       "</style>\n",
       "<table border=\"1\" class=\"dataframe\">\n",
       "  <thead>\n",
       "    <tr style=\"text-align: right;\">\n",
       "      <th></th>\n",
       "      <th>date</th>\n",
       "      <th>delta_confirmed</th>\n",
       "      <th>delta_vaccinated1</th>\n",
       "      <th>delta_vaccinated2</th>\n",
       "    </tr>\n",
       "  </thead>\n",
       "  <tbody>\n",
       "    <tr>\n",
       "      <th>0</th>\n",
       "      <td>2020-04-26</td>\n",
       "      <td>0</td>\n",
       "      <td>0</td>\n",
       "      <td>0</td>\n",
       "    </tr>\n",
       "    <tr>\n",
       "      <th>1</th>\n",
       "      <td>2020-04-27</td>\n",
       "      <td>4</td>\n",
       "      <td>0</td>\n",
       "      <td>0</td>\n",
       "    </tr>\n",
       "    <tr>\n",
       "      <th>2</th>\n",
       "      <td>2020-04-28</td>\n",
       "      <td>5</td>\n",
       "      <td>0</td>\n",
       "      <td>0</td>\n",
       "    </tr>\n",
       "    <tr>\n",
       "      <th>3</th>\n",
       "      <td>2020-04-29</td>\n",
       "      <td>3</td>\n",
       "      <td>0</td>\n",
       "      <td>0</td>\n",
       "    </tr>\n",
       "    <tr>\n",
       "      <th>4</th>\n",
       "      <td>2020-04-30</td>\n",
       "      <td>2</td>\n",
       "      <td>0</td>\n",
       "      <td>0</td>\n",
       "    </tr>\n",
       "    <tr>\n",
       "      <th>...</th>\n",
       "      <td>...</td>\n",
       "      <td>...</td>\n",
       "      <td>...</td>\n",
       "      <td>...</td>\n",
       "    </tr>\n",
       "    <tr>\n",
       "      <th>521</th>\n",
       "      <td>2021-09-29</td>\n",
       "      <td>157</td>\n",
       "      <td>45182</td>\n",
       "      <td>16086</td>\n",
       "    </tr>\n",
       "    <tr>\n",
       "      <th>522</th>\n",
       "      <td>2021-09-30</td>\n",
       "      <td>126</td>\n",
       "      <td>25650</td>\n",
       "      <td>9726</td>\n",
       "    </tr>\n",
       "    <tr>\n",
       "      <th>523</th>\n",
       "      <td>2021-10-01</td>\n",
       "      <td>120</td>\n",
       "      <td>28392</td>\n",
       "      <td>9694</td>\n",
       "    </tr>\n",
       "    <tr>\n",
       "      <th>524</th>\n",
       "      <td>2021-10-02</td>\n",
       "      <td>140</td>\n",
       "      <td>15961</td>\n",
       "      <td>9604</td>\n",
       "    </tr>\n",
       "    <tr>\n",
       "      <th>525</th>\n",
       "      <td>2021-10-03</td>\n",
       "      <td>122</td>\n",
       "      <td>4096</td>\n",
       "      <td>2803</td>\n",
       "    </tr>\n",
       "  </tbody>\n",
       "</table>\n",
       "<p>526 rows × 4 columns</p>\n",
       "</div>"
      ],
      "text/plain": [
       "          date  delta_confirmed  delta_vaccinated1  delta_vaccinated2\n",
       "0   2020-04-26                0                  0                  0\n",
       "1   2020-04-27                4                  0                  0\n",
       "2   2020-04-28                5                  0                  0\n",
       "3   2020-04-29                3                  0                  0\n",
       "4   2020-04-30                2                  0                  0\n",
       "..         ...              ...                ...                ...\n",
       "521 2021-09-29              157              45182              16086\n",
       "522 2021-09-30              126              25650               9726\n",
       "523 2021-10-01              120              28392               9694\n",
       "524 2021-10-02              140              15961               9604\n",
       "525 2021-10-03              122               4096               2803\n",
       "\n",
       "[526 rows x 4 columns]"
      ]
     },
     "execution_count": 119,
     "metadata": {},
     "output_type": "execute_result"
    }
   ],
   "source": [
    "# forcasting_data_features_for_VAR\n",
    "forcasting_train_data_features_for_VAR"
   ]
  },
  {
   "cell_type": "code",
   "execution_count": 120,
   "id": "committed-daisy",
   "metadata": {},
   "outputs": [],
   "source": [
    "forcasting_data_features_for_VAR=forcasting_data_features_for_VAR.set_index('date')\n",
    "forcasting_train_data_features_for_VAR=forcasting_train_data_features_for_VAR.set_index('date')"
   ]
  },
  {
   "cell_type": "code",
   "execution_count": 121,
   "id": "nervous-better",
   "metadata": {},
   "outputs": [
    {
     "data": {
      "text/html": [
       "<div>\n",
       "<style scoped>\n",
       "    .dataframe tbody tr th:only-of-type {\n",
       "        vertical-align: middle;\n",
       "    }\n",
       "\n",
       "    .dataframe tbody tr th {\n",
       "        vertical-align: top;\n",
       "    }\n",
       "\n",
       "    .dataframe thead th {\n",
       "        text-align: right;\n",
       "    }\n",
       "</style>\n",
       "<table border=\"1\" class=\"dataframe\">\n",
       "  <thead>\n",
       "    <tr style=\"text-align: right;\">\n",
       "      <th></th>\n",
       "      <th>delta_confirmed</th>\n",
       "      <th>delta_vaccinated1</th>\n",
       "      <th>delta_vaccinated2</th>\n",
       "    </tr>\n",
       "    <tr>\n",
       "      <th>date</th>\n",
       "      <th></th>\n",
       "      <th></th>\n",
       "      <th></th>\n",
       "    </tr>\n",
       "  </thead>\n",
       "  <tbody>\n",
       "    <tr>\n",
       "      <th>2020-04-26</th>\n",
       "      <td>0</td>\n",
       "      <td>0</td>\n",
       "      <td>0</td>\n",
       "    </tr>\n",
       "    <tr>\n",
       "      <th>2020-04-27</th>\n",
       "      <td>4</td>\n",
       "      <td>0</td>\n",
       "      <td>0</td>\n",
       "    </tr>\n",
       "    <tr>\n",
       "      <th>2020-04-28</th>\n",
       "      <td>5</td>\n",
       "      <td>0</td>\n",
       "      <td>0</td>\n",
       "    </tr>\n",
       "    <tr>\n",
       "      <th>2020-04-29</th>\n",
       "      <td>3</td>\n",
       "      <td>0</td>\n",
       "      <td>0</td>\n",
       "    </tr>\n",
       "    <tr>\n",
       "      <th>2020-04-30</th>\n",
       "      <td>2</td>\n",
       "      <td>0</td>\n",
       "      <td>0</td>\n",
       "    </tr>\n",
       "    <tr>\n",
       "      <th>...</th>\n",
       "      <td>...</td>\n",
       "      <td>...</td>\n",
       "      <td>...</td>\n",
       "    </tr>\n",
       "    <tr>\n",
       "      <th>2021-09-29</th>\n",
       "      <td>157</td>\n",
       "      <td>45182</td>\n",
       "      <td>16086</td>\n",
       "    </tr>\n",
       "    <tr>\n",
       "      <th>2021-09-30</th>\n",
       "      <td>126</td>\n",
       "      <td>25650</td>\n",
       "      <td>9726</td>\n",
       "    </tr>\n",
       "    <tr>\n",
       "      <th>2021-10-01</th>\n",
       "      <td>120</td>\n",
       "      <td>28392</td>\n",
       "      <td>9694</td>\n",
       "    </tr>\n",
       "    <tr>\n",
       "      <th>2021-10-02</th>\n",
       "      <td>140</td>\n",
       "      <td>15961</td>\n",
       "      <td>9604</td>\n",
       "    </tr>\n",
       "    <tr>\n",
       "      <th>2021-10-03</th>\n",
       "      <td>122</td>\n",
       "      <td>4096</td>\n",
       "      <td>2803</td>\n",
       "    </tr>\n",
       "  </tbody>\n",
       "</table>\n",
       "<p>526 rows × 3 columns</p>\n",
       "</div>"
      ],
      "text/plain": [
       "            delta_confirmed  delta_vaccinated1  delta_vaccinated2\n",
       "date                                                             \n",
       "2020-04-26                0                  0                  0\n",
       "2020-04-27                4                  0                  0\n",
       "2020-04-28                5                  0                  0\n",
       "2020-04-29                3                  0                  0\n",
       "2020-04-30                2                  0                  0\n",
       "...                     ...                ...                ...\n",
       "2021-09-29              157              45182              16086\n",
       "2021-09-30              126              25650               9726\n",
       "2021-10-01              120              28392               9694\n",
       "2021-10-02              140              15961               9604\n",
       "2021-10-03              122               4096               2803\n",
       "\n",
       "[526 rows x 3 columns]"
      ]
     },
     "execution_count": 121,
     "metadata": {},
     "output_type": "execute_result"
    }
   ],
   "source": [
    "# forcasting_data_features_for_VAR\n",
    "forcasting_train_data_features_for_VAR"
   ]
  },
  {
   "cell_type": "code",
   "execution_count": 122,
   "id": "coastal-galaxy",
   "metadata": {},
   "outputs": [
    {
     "name": "stderr",
     "output_type": "stream",
     "text": [
      "C:\\Users\\Pankaj singh\\AppData\\Roaming\\Python\\Python39\\site-packages\\statsmodels\\tsa\\base\\tsa_model.py:524: ValueWarning: No frequency information was provided, so inferred frequency D will be used.\n",
      "  warnings.warn('No frequency information was'\n",
      "C:\\Users\\Pankaj singh\\AppData\\Roaming\\Python\\Python39\\site-packages\\statsmodels\\tsa\\base\\tsa_model.py:524: ValueWarning: No frequency information was provided, so inferred frequency D will be used.\n",
      "  warnings.warn('No frequency information was'\n"
     ]
    }
   ],
   "source": [
    "main_var_model=VAR(forcasting_data_features_for_VAR)\n",
    "main_var_train_model=VAR(forcasting_train_data_features_for_VAR)"
   ]
  },
  {
   "cell_type": "code",
   "execution_count": 123,
   "id": "caring-utilization",
   "metadata": {},
   "outputs": [],
   "source": [
    "main_var_model_fit=main_var_model.fit()\n",
    "main_var_train_model_fit=main_var_train_model.fit()"
   ]
  },
  {
   "cell_type": "code",
   "execution_count": 124,
   "id": "figured-desert",
   "metadata": {},
   "outputs": [],
   "source": [
    "# main_var_train_model_fit.plot()"
   ]
  },
  {
   "cell_type": "code",
   "execution_count": 125,
   "id": "compatible-occasion",
   "metadata": {},
   "outputs": [
    {
     "name": "stderr",
     "output_type": "stream",
     "text": [
      "<ipython-input-125-3f5b0806b51a>:1: FutureWarning: y is a deprecated alias for endog, will be removed in version 0.11.0\n",
      "  var_model_forcast=main_var_model_fit.forecast(main_var_model.y,steps=7)\n",
      "<ipython-input-125-3f5b0806b51a>:2: FutureWarning: y is a deprecated alias for endog, will be removed in version 0.11.0\n",
      "  var_model_test_forcast=main_var_train_model_fit.forecast(main_var_model.y,steps=len(test_data))\n"
     ]
    }
   ],
   "source": [
    "var_model_forcast=main_var_model_fit.forecast(main_var_model.y,steps=7)\n",
    "var_model_test_forcast=main_var_train_model_fit.forecast(main_var_model.y,steps=len(test_data))"
   ]
  },
  {
   "cell_type": "code",
   "execution_count": 126,
   "id": "flying-acceptance",
   "metadata": {},
   "outputs": [],
   "source": [
    "var_model_test_forcast_data=pandas.DataFrame(var_model_test_forcast)"
   ]
  },
  {
   "cell_type": "code",
   "execution_count": 127,
   "id": "thermal-iraqi",
   "metadata": {},
   "outputs": [],
   "source": [
    "var_model_forcast_data=pandas.DataFrame(var_model_forcast)"
   ]
  },
  {
   "cell_type": "code",
   "execution_count": 128,
   "id": "fleet-facility",
   "metadata": {},
   "outputs": [
    {
     "data": {
      "text/html": [
       "<div>\n",
       "<style scoped>\n",
       "    .dataframe tbody tr th:only-of-type {\n",
       "        vertical-align: middle;\n",
       "    }\n",
       "\n",
       "    .dataframe tbody tr th {\n",
       "        vertical-align: top;\n",
       "    }\n",
       "\n",
       "    .dataframe thead th {\n",
       "        text-align: right;\n",
       "    }\n",
       "</style>\n",
       "<table border=\"1\" class=\"dataframe\">\n",
       "  <thead>\n",
       "    <tr style=\"text-align: right;\">\n",
       "      <th></th>\n",
       "      <th>0</th>\n",
       "      <th>1</th>\n",
       "      <th>2</th>\n",
       "    </tr>\n",
       "  </thead>\n",
       "  <tbody>\n",
       "    <tr>\n",
       "      <th>0</th>\n",
       "      <td>46.550501</td>\n",
       "      <td>2051.312027</td>\n",
       "      <td>1346.006853</td>\n",
       "    </tr>\n",
       "    <tr>\n",
       "      <th>1</th>\n",
       "      <td>69.628548</td>\n",
       "      <td>2692.703955</td>\n",
       "      <td>1408.086804</td>\n",
       "    </tr>\n",
       "    <tr>\n",
       "      <th>2</th>\n",
       "      <td>92.230286</td>\n",
       "      <td>2949.496518</td>\n",
       "      <td>1437.615898</td>\n",
       "    </tr>\n",
       "    <tr>\n",
       "      <th>3</th>\n",
       "      <td>113.456902</td>\n",
       "      <td>3064.452313</td>\n",
       "      <td>1451.040114</td>\n",
       "    </tr>\n",
       "    <tr>\n",
       "      <th>4</th>\n",
       "      <td>133.106215</td>\n",
       "      <td>3123.918533</td>\n",
       "      <td>1456.154883</td>\n",
       "    </tr>\n",
       "    <tr>\n",
       "      <th>5</th>\n",
       "      <td>151.201524</td>\n",
       "      <td>3159.796637</td>\n",
       "      <td>1456.899082</td>\n",
       "    </tr>\n",
       "    <tr>\n",
       "      <th>6</th>\n",
       "      <td>167.834353</td>\n",
       "      <td>3184.543962</td>\n",
       "      <td>1455.359377</td>\n",
       "    </tr>\n",
       "  </tbody>\n",
       "</table>\n",
       "</div>"
      ],
      "text/plain": [
       "            0            1            2\n",
       "0   46.550501  2051.312027  1346.006853\n",
       "1   69.628548  2692.703955  1408.086804\n",
       "2   92.230286  2949.496518  1437.615898\n",
       "3  113.456902  3064.452313  1451.040114\n",
       "4  133.106215  3123.918533  1456.154883\n",
       "5  151.201524  3159.796637  1456.899082\n",
       "6  167.834353  3184.543962  1455.359377"
      ]
     },
     "execution_count": 128,
     "metadata": {},
     "output_type": "execute_result"
    }
   ],
   "source": [
    "var_model_forcast_data"
   ]
  },
  {
   "cell_type": "code",
   "execution_count": 129,
   "id": "auburn-accounting",
   "metadata": {},
   "outputs": [],
   "source": [
    "pyplot.figure('VAR model Forcasting')\n",
    "pyplot.plot(maindata['date'],maindata_labels,label='Original Data')\n",
    "# pyplot.plot(maindata['date'],maindata['delta_vaccinated1'],label='Original Data')\n",
    "pyplot.plot(test_data['date'],var_model_test_forcast_data[0],label='VAR Testing Prediction')\n",
    "pyplot.plot(daterange,var_model_forcast_data[0],label='VAR Future Confirmed Prediction')\n",
    "# pyplot.plot(daterange,var_model_forcast_data[1],label='VAR Future Vaccinated1 Prediction')\n",
    "\n",
    "pyplot.legend()\n",
    "pyplot.show()"
   ]
  },
  {
   "cell_type": "code",
   "execution_count": 233,
   "id": "circular-encyclopedia",
   "metadata": {},
   "outputs": [
    {
     "name": "stdout",
     "output_type": "stream",
     "text": [
      "191.91474643331475 230.41637384048587\n"
     ]
    }
   ],
   "source": [
    "print(mean_absolute_error(var_model_test_forcast_data[0],test_labels),numpy.sqrt(mean_squared_error(var_model_test_forcast_data[0],test_labels)))\n"
   ]
  },
  {
   "cell_type": "code",
   "execution_count": null,
   "id": "twenty-rating",
   "metadata": {},
   "outputs": [],
   "source": []
  }
 ],
 "metadata": {
  "kernelspec": {
   "display_name": "Python 3",
   "language": "python",
   "name": "python3"
  },
  "language_info": {
   "codemirror_mode": {
    "name": "ipython",
    "version": 3
   },
   "file_extension": ".py",
   "mimetype": "text/x-python",
   "name": "python",
   "nbconvert_exporter": "python",
   "pygments_lexer": "ipython3",
   "version": "3.9.2"
  }
 },
 "nbformat": 4,
 "nbformat_minor": 5
}
