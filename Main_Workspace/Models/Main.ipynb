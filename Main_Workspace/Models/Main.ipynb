{
 "cells": [
  {
   "cell_type": "markdown",
   "id": "developed-guitar",
   "metadata": {},
   "source": [
    "## Imports"
   ]
  },
  {
   "cell_type": "code",
   "execution_count": 1,
   "id": "stable-dominant",
   "metadata": {},
   "outputs": [],
   "source": [
    "import pandas\n",
    "import numpy\n",
    "import matplotlib.pyplot as plt\n",
    "from pandas.plotting import scatter_matrix\n",
    "import mysql.connector\n",
    "from sklearn.linear_model import LinearRegression,Lasso\n",
    "from sklearn.ensemble import RandomForestRegressor\n",
    "from sklearn.tree import DecisionTreeRegressor,ExtraTreeRegressor\n",
    "from sklearn.metrics import mean_squared_error,mean_absolute_error,r2_score,mean_squared_log_error\n",
    "import joblib\n",
    "from sklearn.model_selection import train_test_split\n",
    "from sklearn import svm\n",
    "from sklearn.neural_network import MLPRegressor"
   ]
  },
  {
   "cell_type": "code",
   "execution_count": 2,
   "id": "appropriate-ethernet",
   "metadata": {},
   "outputs": [],
   "source": [
    "with open('../config.env') as f:\n",
    "    credentials=f.read()\n",
    "credentials=credentials.split(\" \")\n",
    "con = mysql.connector.connect(username=credentials[0],password=credentials[1],host=credentials[2],port=credentials[3],database=credentials[4])\n",
    "query=con.cursor()"
   ]
  },
  {
   "cell_type": "code",
   "execution_count": 3,
   "id": "understanding-perth",
   "metadata": {},
   "outputs": [],
   "source": [
    "sql=\"SELECT * FROM total_india_cases\"\n",
    "query.execute(sql)\n",
    "result=query.fetchall()\n",
    "column=[columns[0] for columns in query.description]"
   ]
  },
  {
   "cell_type": "code",
   "execution_count": 4,
   "id": "equipped-corpus",
   "metadata": {},
   "outputs": [],
   "source": [
    "data=pandas.DataFrame(result,columns=column)"
   ]
  },
  {
   "cell_type": "code",
   "execution_count": 5,
   "id": "fallen-newman",
   "metadata": {},
   "outputs": [],
   "source": [
    "# data"
   ]
  },
  {
   "cell_type": "code",
   "execution_count": 6,
   "id": "aerial-enhancement",
   "metadata": {},
   "outputs": [],
   "source": [
    "# data=data[520:]"
   ]
  },
  {
   "cell_type": "code",
   "execution_count": 7,
   "id": "cubic-insider",
   "metadata": {},
   "outputs": [],
   "source": [
    "# %matplotlib qt\n",
    "%matplotlib inline"
   ]
  },
  {
   "cell_type": "code",
   "execution_count": 8,
   "id": "universal-serbia",
   "metadata": {},
   "outputs": [],
   "source": [
    "# data.plot(kind='scatter',x='date',y='total_confirmed',figsize=(20,15))"
   ]
  },
  {
   "cell_type": "code",
   "execution_count": 9,
   "id": "tamil-attempt",
   "metadata": {},
   "outputs": [],
   "source": [
    "# data.plot(kind='line',x='date',y=['total_confirmed','total_active','total_recovered'],figsize=(20,15))"
   ]
  },
  {
   "cell_type": "code",
   "execution_count": 10,
   "id": "consecutive-nation",
   "metadata": {},
   "outputs": [],
   "source": [
    "# data.plot(kind='line',x='date',y=['delta_confirmed','delta_active','delta_recovered'],figsize=(20,15))"
   ]
  },
  {
   "cell_type": "code",
   "execution_count": 11,
   "id": "resident-luxembourg",
   "metadata": {},
   "outputs": [],
   "source": [
    "# data.plot(kind='line',x='date',y=['delta7_confirmed','delta7_active','delta7_recovered'],figsize=(20,15))"
   ]
  },
  {
   "cell_type": "code",
   "execution_count": null,
   "id": "checked-chess",
   "metadata": {},
   "outputs": [],
   "source": []
  },
  {
   "cell_type": "code",
   "execution_count": null,
   "id": "swedish-value",
   "metadata": {},
   "outputs": [],
   "source": []
  },
  {
   "cell_type": "markdown",
   "id": "virgin-appearance",
   "metadata": {},
   "source": [
    "### Train Test Splitting"
   ]
  },
  {
   "cell_type": "code",
   "execution_count": 12,
   "id": "terminal-virginia",
   "metadata": {},
   "outputs": [],
   "source": [
    "train_data,test_data=train_test_split(data,train_size=0.99,shuffle=False)"
   ]
  },
  {
   "cell_type": "code",
   "execution_count": 13,
   "id": "impaired-container",
   "metadata": {},
   "outputs": [],
   "source": [
    "# train_data"
   ]
  },
  {
   "cell_type": "code",
   "execution_count": 14,
   "id": "instructional-expense",
   "metadata": {},
   "outputs": [],
   "source": [
    "# test_data"
   ]
  },
  {
   "cell_type": "code",
   "execution_count": null,
   "id": "median-tracker",
   "metadata": {},
   "outputs": [],
   "source": []
  },
  {
   "cell_type": "code",
   "execution_count": 15,
   "id": "assured-showcase",
   "metadata": {},
   "outputs": [],
   "source": [
    "train_features1=train_data[['ordinal_date']].to_numpy()"
   ]
  },
  {
   "cell_type": "code",
   "execution_count": 16,
   "id": "worth-specification",
   "metadata": {},
   "outputs": [],
   "source": [
    "train_features2=train_data[['ordinal_date','delta_tested']].to_numpy()"
   ]
  },
  {
   "cell_type": "code",
   "execution_count": 17,
   "id": "organizational-forestry",
   "metadata": {},
   "outputs": [],
   "source": [
    "train_features3=train_data[['ordinal_date','delta_tested','delta_recovered']].to_numpy()"
   ]
  },
  {
   "cell_type": "code",
   "execution_count": 18,
   "id": "ecological-exercise",
   "metadata": {},
   "outputs": [],
   "source": [
    "train_labels=train_data['delta_confirmed']"
   ]
  },
  {
   "cell_type": "code",
   "execution_count": 19,
   "id": "remarkable-medium",
   "metadata": {},
   "outputs": [],
   "source": [
    "# train_labels"
   ]
  },
  {
   "cell_type": "code",
   "execution_count": null,
   "id": "isolated-caribbean",
   "metadata": {},
   "outputs": [],
   "source": []
  },
  {
   "cell_type": "code",
   "execution_count": 20,
   "id": "encouraging-shopping",
   "metadata": {},
   "outputs": [],
   "source": [
    "test_features1=test_data[['ordinal_date']].to_numpy()"
   ]
  },
  {
   "cell_type": "code",
   "execution_count": 21,
   "id": "recent-package",
   "metadata": {},
   "outputs": [],
   "source": [
    "test_features2=test_data[['ordinal_date','delta_tested']].to_numpy()"
   ]
  },
  {
   "cell_type": "code",
   "execution_count": 22,
   "id": "dense-carolina",
   "metadata": {},
   "outputs": [],
   "source": [
    "test_features3=test_data[['ordinal_date','delta_tested','delta_recovered']].to_numpy()"
   ]
  },
  {
   "cell_type": "code",
   "execution_count": 23,
   "id": "furnished-wiring",
   "metadata": {},
   "outputs": [],
   "source": [
    "test_labels=test_data['delta_confirmed']"
   ]
  },
  {
   "cell_type": "code",
   "execution_count": 24,
   "id": "conditional-footage",
   "metadata": {},
   "outputs": [],
   "source": [
    "# test_labels"
   ]
  },
  {
   "cell_type": "markdown",
   "id": "simplified-rogers",
   "metadata": {},
   "source": [
    "## Model selection"
   ]
  },
  {
   "cell_type": "code",
   "execution_count": 25,
   "id": "distinct-burst",
   "metadata": {},
   "outputs": [],
   "source": [
    "model1=RandomForestRegressor(n_estimators=1000,random_state=42,min_samples_split=5)\n",
    "model2=DecisionTreeRegressor()\n",
    "model3=ExtraTreeRegressor()"
   ]
  },
  {
   "cell_type": "code",
   "execution_count": 26,
   "id": "lovely-recall",
   "metadata": {},
   "outputs": [
    {
     "data": {
      "text/plain": [
       "RandomForestRegressor(min_samples_split=5, n_estimators=1000, random_state=42)"
      ]
     },
     "execution_count": 26,
     "metadata": {},
     "output_type": "execute_result"
    }
   ],
   "source": [
    "model1.fit(train_features1,train_labels)"
   ]
  },
  {
   "cell_type": "code",
   "execution_count": 27,
   "id": "hybrid-attack",
   "metadata": {},
   "outputs": [],
   "source": [
    "train_data_predicted1=model1.predict(train_features1)"
   ]
  },
  {
   "cell_type": "code",
   "execution_count": 28,
   "id": "skilled-yacht",
   "metadata": {},
   "outputs": [
    {
     "data": {
      "text/plain": [
       "array([1.05988687e+00, 1.05988687e+00, 1.05988687e+00, 1.03675354e+00,\n",
       "       2.64327540e+00, 2.64161825e+00, 1.33994548e+01, 6.55999971e+00,\n",
       "       3.54202987e+00, 3.49613146e+00, 4.43616717e+00, 9.03598066e+00,\n",
       "       1.13574183e+01, 1.02381752e+01, 1.03136648e+01, 1.04297993e+01,\n",
       "       1.04326064e+01, 1.07928782e+01, 1.39982052e+01, 2.07474217e+01,\n",
       "       2.40120992e+01, 2.80246199e+01, 5.15324108e+01, 7.21390851e+01,\n",
       "       7.64741803e+01, 8.09801442e+01, 8.10355644e+01, 8.23360799e+01,\n",
       "       8.81210803e+01, 1.33140544e+02, 1.46662242e+02, 1.52994795e+02,\n",
       "       1.76653745e+02, 2.85686389e+02, 3.96449409e+02, 4.77488683e+02,\n",
       "       5.40560529e+02, 5.55121882e+02, 5.55717847e+02, 5.45817293e+02,\n",
       "       5.50604454e+02, 5.76862680e+02, 7.58752952e+02, 8.21965791e+02,\n",
       "       8.35961963e+02, 8.56620834e+02, 1.01293244e+03, 1.00988752e+03,\n",
       "       1.01349628e+03, 1.02655083e+03, 1.05549254e+03, 1.29216138e+03,\n",
       "       1.39727961e+03, 1.39434445e+03, 1.43840010e+03, 1.44197302e+03,\n",
       "       1.53507744e+03, 1.55228376e+03, 1.66928117e+03, 1.67828740e+03,\n",
       "       1.68730545e+03, 1.77815222e+03, 1.79591892e+03, 1.84674890e+03,\n",
       "       2.30458584e+03, 2.55749180e+03, 2.84950478e+03, 3.24444084e+03,\n",
       "       3.20207315e+03, 3.33537735e+03, 3.34424872e+03, 3.35868968e+03,\n",
       "       3.39725487e+03, 3.80958867e+03, 3.75415369e+03, 3.74737900e+03,\n",
       "       3.80084344e+03, 3.85847104e+03, 3.94248755e+03, 4.55610280e+03,\n",
       "       4.82669622e+03, 4.96486440e+03, 5.69057720e+03, 5.97456315e+03,\n",
       "       6.05743741e+03, 6.41170996e+03, 6.52152246e+03, 6.56590883e+03,\n",
       "       6.55553003e+03, 6.44822231e+03, 7.01682060e+03, 7.34750067e+03,\n",
       "       7.97237666e+03, 8.21172166e+03, 8.29479255e+03, 8.34638105e+03,\n",
       "       8.70582443e+03, 9.48134436e+03, 9.70902573e+03, 9.74914796e+03,\n",
       "       9.99231725e+03, 1.00963930e+04, 9.70978136e+03, 9.80049596e+03,\n",
       "       1.08334028e+04, 1.11781367e+04, 1.12440013e+04, 1.13556721e+04,\n",
       "       1.13429570e+04, 1.09750052e+04, 1.11559499e+04, 1.29065729e+04,\n",
       "       1.38438777e+04, 1.45635867e+04, 1.48476310e+04, 1.48898661e+04,\n",
       "       1.48600683e+04, 1.53174949e+04, 1.65987066e+04, 1.80112670e+04,\n",
       "       1.84798817e+04, 1.90319835e+04, 1.90903643e+04, 1.89453796e+04,\n",
       "       1.89706174e+04, 1.93024255e+04, 2.15878415e+04, 2.26242280e+04,\n",
       "       2.32220958e+04, 2.33120378e+04, 2.33451389e+04, 2.35860131e+04,\n",
       "       2.54509228e+04, 2.63519080e+04, 2.76909648e+04, 2.81018624e+04,\n",
       "       2.83613980e+04, 2.85423096e+04, 2.94055003e+04, 3.23486643e+04,\n",
       "       3.48342967e+04, 3.57304021e+04, 3.70442378e+04, 3.78082026e+04,\n",
       "       3.80157101e+04, 3.87791867e+04, 4.41878952e+04, 4.77018625e+04,\n",
       "       4.84278981e+04, 4.85665294e+04, 4.86414344e+04, 4.83722747e+04,\n",
       "       4.90202899e+04, 5.23918916e+04, 5.41025358e+04, 5.44394305e+04,\n",
       "       5.43549133e+04, 5.33124502e+04, 5.28061152e+04, 5.29563063e+04,\n",
       "       5.56155794e+04, 6.00072208e+04, 6.13665601e+04, 6.16617928e+04,\n",
       "       6.15167323e+04, 5.93550475e+04, 6.03871063e+04, 6.36645515e+04,\n",
       "       6.43184806e+04, 6.43231297e+04, 6.38067223e+04, 5.98855273e+04,\n",
       "       5.87009746e+04, 6.33918865e+04, 6.72791721e+04, 6.79718856e+04,\n",
       "       6.79945667e+04, 6.77648583e+04, 6.45836656e+04, 6.39416101e+04,\n",
       "       6.50150604e+04, 7.32422046e+04, 7.61538874e+04, 7.66371016e+04,\n",
       "       7.70014873e+04, 7.70039760e+04, 7.49942954e+04, 7.61090836e+04,\n",
       "       8.16996546e+04, 8.43727023e+04, 8.57419484e+04, 8.72097350e+04,\n",
       "       8.73785018e+04, 8.42123440e+04, 8.84121385e+04, 9.38304826e+04,\n",
       "       9.51959534e+04, 9.52281189e+04, 9.43875384e+04, 9.30443904e+04,\n",
       "       8.89912963e+04, 9.06554490e+04, 9.38508525e+04, 9.41291902e+04,\n",
       "       9.36463079e+04, 9.28947699e+04, 8.74878185e+04, 8.03251552e+04,\n",
       "       8.35671858e+04, 8.52968353e+04, 8.54936973e+04, 8.54987100e+04,\n",
       "       8.56481155e+04, 8.26911977e+04, 7.76862288e+04, 8.01305593e+04,\n",
       "       8.12633931e+04, 8.09031161e+04, 7.97156203e+04, 7.55713215e+04,\n",
       "       7.33909131e+04, 6.89763894e+04, 7.16923191e+04, 7.34933611e+04,\n",
       "       7.26681922e+04, 7.25647938e+04, 7.21408870e+04, 6.85846608e+04,\n",
       "       6.14385899e+04, 6.29607090e+04, 6.34205020e+04, 6.27920372e+04,\n",
       "       6.24176623e+04, 6.16259223e+04, 5.69015779e+04, 5.17447438e+04,\n",
       "       5.33339375e+04, 5.36045398e+04, 5.35099779e+04, 5.31810957e+04,\n",
       "       5.08182417e+04, 4.47343930e+04, 4.20040340e+04, 4.33744079e+04,\n",
       "       4.70102653e+04, 4.78358692e+04, 4.75972726e+04, 4.68054823e+04,\n",
       "       4.56212232e+04, 4.34063730e+04, 4.53154301e+04, 4.79845953e+04,\n",
       "       4.82938388e+04, 4.83462512e+04, 4.70375801e+04, 4.61336078e+04,\n",
       "       4.22554945e+04, 4.39021305e+04, 4.44838427e+04, 4.39065095e+04,\n",
       "       4.31551796e+04, 3.95385596e+04, 3.50421729e+04, 3.44232781e+04,\n",
       "       3.68519577e+04, 4.30401740e+04, 4.51496781e+04, 4.53513129e+04,\n",
       "       4.52795561e+04, 4.45442960e+04, 4.12358689e+04, 4.27097552e+04,\n",
       "       4.30023989e+04, 4.26455400e+04, 4.18130813e+04, 4.14849362e+04,\n",
       "       3.96328708e+04, 3.48918102e+04, 3.53821609e+04, 3.57051815e+04,\n",
       "       3.57335200e+04, 3.57291696e+04, 3.55706696e+04, 3.37276812e+04,\n",
       "       2.96364720e+04, 3.04029539e+04, 3.05945369e+04, 3.00190718e+04,\n",
       "       2.99250760e+04, 2.96664772e+04, 2.75900477e+04, 2.40183983e+04,\n",
       "       2.36524323e+04, 2.29134895e+04, 2.48910840e+04, 2.59450961e+04,\n",
       "       2.59325765e+04, 2.48008884e+04, 2.26183942e+04, 2.31276118e+04,\n",
       "       2.32529045e+04, 2.31292912e+04, 2.25660509e+04, 1.98836224e+04,\n",
       "       1.92492162e+04, 1.87617706e+04, 1.97863056e+04, 2.02891881e+04,\n",
       "       1.97980388e+04, 1.95204867e+04, 1.82984653e+04, 1.75173468e+04,\n",
       "       1.74900637e+04, 1.78383764e+04, 1.86688304e+04, 1.86320461e+04,\n",
       "       1.86254837e+04, 1.84058257e+04, 1.61836337e+04, 1.44987790e+04,\n",
       "       1.53903029e+04, 1.58092121e+04, 1.56314248e+04, 1.52470964e+04,\n",
       "       1.49717464e+04, 1.36409579e+04, 1.25029775e+04, 1.35474313e+04,\n",
       "       1.42795810e+04, 1.43407870e+04, 1.43328190e+04, 1.42519290e+04,\n",
       "       1.31826446e+04, 1.12571314e+04, 1.19151530e+04, 1.26456292e+04,\n",
       "       1.51489116e+04, 1.41000162e+04, 1.33078644e+04, 1.14033026e+04,\n",
       "       1.04834408e+04, 1.10086108e+04, 1.20451655e+04, 1.21631884e+04,\n",
       "       1.19179189e+04, 1.18251474e+04, 1.16745445e+04, 1.02523219e+04,\n",
       "       1.05879536e+04, 1.12207331e+04, 1.08239911e+04, 1.14223816e+04,\n",
       "       1.15985861e+04, 1.15037591e+04, 1.06966748e+04, 1.08801388e+04,\n",
       "       1.26070512e+04, 1.32857880e+04, 1.35262143e+04, 1.35389545e+04,\n",
       "       1.34566723e+04, 1.24957440e+04, 1.29506678e+04, 1.54102210e+04,\n",
       "       1.61395062e+04, 1.62000736e+04, 1.61944127e+04, 1.58426867e+04,\n",
       "       1.46939529e+04, 1.48040655e+04, 1.66601090e+04, 1.72610755e+04,\n",
       "       1.77759108e+04, 1.79223506e+04, 1.79022013e+04, 1.72837944e+04,\n",
       "       1.77927412e+04, 2.22549662e+04, 2.41945647e+04, 2.50842165e+04,\n",
       "       2.52269670e+04, 2.54807814e+04, 2.56921950e+04, 2.78933437e+04,\n",
       "       3.41541879e+04, 3.95026061e+04, 4.14395189e+04, 4.31351759e+04,\n",
       "       4.38090740e+04, 4.40481931e+04, 4.55910345e+04, 5.29423403e+04,\n",
       "       5.92349493e+04, 6.08673011e+04, 6.10370439e+04, 6.12955730e+04,\n",
       "       5.91882679e+04, 5.94254413e+04, 7.02410721e+04, 8.50549106e+04,\n",
       "       9.24972232e+04, 9.53257938e+04, 9.78899007e+04, 9.93773017e+04,\n",
       "       1.11188795e+05, 1.22320835e+05, 1.29630714e+05, 1.44823339e+05,\n",
       "       1.56046426e+05, 1.64951041e+05, 1.68221720e+05, 1.80156415e+05,\n",
       "       1.90885309e+05, 2.07823288e+05, 2.38502613e+05, 2.61004236e+05,\n",
       "       2.66506155e+05, 2.68058959e+05, 2.77741432e+05, 3.01342979e+05,\n",
       "       3.29204563e+05, 3.38971048e+05, 3.40678401e+05, 3.41662763e+05,\n",
       "       3.40300531e+05, 3.57935452e+05, 3.77830688e+05, 3.84549768e+05,\n",
       "       3.85510133e+05, 3.85528566e+05, 3.77893816e+05, 3.75148213e+05,\n",
       "       3.78846431e+05, 4.00069367e+05, 4.05382334e+05, 4.05581858e+05,\n",
       "       4.01511292e+05, 3.78559636e+05, 3.49467750e+05, 3.45506939e+05,\n",
       "       3.44317872e+05, 3.41609669e+05, 3.30417165e+05, 3.18633837e+05,\n",
       "       2.89570827e+05, 2.70980499e+05, 2.67299684e+05, 2.66416798e+05,\n",
       "       2.61066477e+05, 2.57641642e+05, 2.46968403e+05, 2.22413009e+05,\n",
       "       2.05966199e+05, 2.03217930e+05, 2.02371566e+05, 1.90323319e+05,\n",
       "       1.82864311e+05, 1.74739039e+05, 1.58187999e+05, 1.36609077e+05,\n",
       "       1.30711084e+05, 1.30037790e+05, 1.29703302e+05, 1.25001768e+05,\n",
       "       1.20520497e+05, 1.03525170e+05, 9.23857044e+04, 9.10763888e+04,\n",
       "       9.08194092e+04, 9.06672158e+04, 8.76144467e+04, 8.36632711e+04,\n",
       "       7.34583943e+04, 6.47858828e+04, 6.31694659e+04, 6.29606749e+04,\n",
       "       6.25683402e+04, 6.16784257e+04, 6.00722035e+04, 5.33420718e+04,\n",
       "       4.82415634e+04, 5.01371172e+04, 5.09503189e+04, 5.09294414e+04,\n",
       "       4.97733248e+04, 4.92134165e+04, 4.63928963e+04, 4.22092489e+04,\n",
       "       4.48436098e+04, 4.60454048e+04, 4.60035197e+04, 4.41246734e+04,\n",
       "       4.25105886e+04, 4.02987410e+04, 3.95422555e+04, 4.20716705e+04,\n",
       "       4.32459621e+04, 4.32590854e+04, 4.27847355e+04, 4.15414808e+04,\n",
       "       3.74564419e+04, 3.59595422e+04, 3.87764138e+04, 3.99454779e+04,\n",
       "       3.93920983e+04, 3.91748846e+04, 3.92945929e+04, 3.83117463e+04,\n",
       "       3.49837489e+04, 3.86721761e+04, 3.97260729e+04, 3.82360073e+04,\n",
       "       3.84071508e+04, 3.85032982e+04, 3.81380208e+04, 3.48193005e+04,\n",
       "       4.04620976e+04, 4.25316027e+04, 4.28277274e+04, 4.20391448e+04,\n",
       "       4.17022723e+04, 4.06765315e+04, 3.62622097e+04, 3.96995760e+04,\n",
       "       4.18865423e+04, 4.24533891e+04, 3.97039185e+04, 3.82704677e+04,\n",
       "       3.56499652e+04, 3.40190781e+04, 3.68806930e+04, 3.87728906e+04,\n",
       "       3.89194159e+04, 3.86637492e+04, 3.62052643e+04, 3.28420048e+04,\n",
       "       3.12704752e+04, 3.37413761e+04, 3.45051100e+04, 3.44971936e+04,\n",
       "       3.41066257e+04, 3.19885062e+04, 2.88364544e+04, 2.86553837e+04,\n",
       "       3.38232522e+04, 4.21850706e+04, 4.44598888e+04, 4.46832222e+04,\n",
       "       4.45116370e+04, 4.28213337e+04, 3.75804295e+04, 4.16311053e+04,\n",
       "       4.37341830e+04, 4.38640177e+04, 4.30013413e+04, 4.23375447e+04,\n",
       "       4.00845154e+04, 3.73484085e+04, 3.72802518e+04, 3.72189067e+04,\n",
       "       3.00862133e+04, 3.36142258e+04, 3.12671159e+04, 2.96005616e+04,\n",
       "       2.85729026e+04, 2.87289765e+04, 3.05189151e+04, 3.25364860e+04,\n",
       "       3.28039964e+04, 3.18431264e+04, 3.10590693e+04, 2.82155837e+04,\n",
       "       2.83577504e+04, 2.96553847e+04, 2.97526345e+04, 2.93495776e+04,\n",
       "       2.85810957e+04, 2.72877534e+04, 2.00108742e+04])"
      ]
     },
     "execution_count": 28,
     "metadata": {},
     "output_type": "execute_result"
    }
   ],
   "source": [
    "train_data_predicted1"
   ]
  },
  {
   "cell_type": "code",
   "execution_count": 29,
   "id": "destroyed-discussion",
   "metadata": {},
   "outputs": [
    {
     "data": {
      "text/plain": [
       "0          1\n",
       "1          1\n",
       "2          1\n",
       "3          0\n",
       "4          2\n",
       "       ...  \n",
       "574    31411\n",
       "575    29565\n",
       "576    28169\n",
       "577    26999\n",
       "578    14907\n",
       "Name: delta_confirmed, Length: 579, dtype: int64"
      ]
     },
     "execution_count": 29,
     "metadata": {},
     "output_type": "execute_result"
    }
   ],
   "source": [
    "train_labels"
   ]
  },
  {
   "cell_type": "code",
   "execution_count": 30,
   "id": "dramatic-dependence",
   "metadata": {},
   "outputs": [
    {
     "data": {
      "text/plain": [
       "1903.7622044692089"
      ]
     },
     "execution_count": 30,
     "metadata": {},
     "output_type": "execute_result"
    }
   ],
   "source": [
    "mean_absolute_error(train_labels,train_data_predicted1)"
   ]
  },
  {
   "cell_type": "code",
   "execution_count": 31,
   "id": "square-isolation",
   "metadata": {},
   "outputs": [
    {
     "data": {
      "text/plain": [
       "3470.088726159209"
      ]
     },
     "execution_count": 31,
     "metadata": {},
     "output_type": "execute_result"
    }
   ],
   "source": [
    "numpy.sqrt(mean_squared_error(train_labels,train_data_predicted1))"
   ]
  },
  {
   "cell_type": "code",
   "execution_count": 32,
   "id": "typical-fellowship",
   "metadata": {},
   "outputs": [
    {
     "data": {
      "text/plain": [
       "0.009083379984322472"
      ]
     },
     "execution_count": 32,
     "metadata": {},
     "output_type": "execute_result"
    }
   ],
   "source": [
    "mean_squared_log_error(train_labels,train_data_predicted1)"
   ]
  },
  {
   "cell_type": "code",
   "execution_count": 33,
   "id": "banned-avenue",
   "metadata": {},
   "outputs": [
    {
     "data": {
      "text/plain": [
       "0.9981650224149302"
      ]
     },
     "execution_count": 33,
     "metadata": {},
     "output_type": "execute_result"
    }
   ],
   "source": [
    "r2_score(train_labels,train_data_predicted1)"
   ]
  },
  {
   "cell_type": "code",
   "execution_count": 34,
   "id": "informed-depth",
   "metadata": {},
   "outputs": [],
   "source": [
    "test_data_predicted1=model1.predict(test_features1)"
   ]
  },
  {
   "cell_type": "code",
   "execution_count": 35,
   "id": "cardiovascular-equity",
   "metadata": {},
   "outputs": [
    {
     "data": {
      "text/plain": [
       "array([20010.87417989, 20010.87417989, 20010.87417989, 20010.87417989,\n",
       "       20010.87417989, 20010.87417989])"
      ]
     },
     "execution_count": 35,
     "metadata": {},
     "output_type": "execute_result"
    }
   ],
   "source": [
    "test_data_predicted1"
   ]
  },
  {
   "cell_type": "code",
   "execution_count": 36,
   "id": "received-developer",
   "metadata": {},
   "outputs": [
    {
     "data": {
      "text/plain": [
       "579    21898\n",
       "580    23166\n",
       "581    27285\n",
       "582    23918\n",
       "583    23189\n",
       "584    21644\n",
       "Name: delta_confirmed, dtype: int64"
      ]
     },
     "execution_count": 36,
     "metadata": {},
     "output_type": "execute_result"
    }
   ],
   "source": [
    "test_labels"
   ]
  },
  {
   "cell_type": "code",
   "execution_count": 37,
   "id": "cubic-confirmation",
   "metadata": {},
   "outputs": [
    {
     "data": {
      "text/plain": [
       "3505.792486779896"
      ]
     },
     "execution_count": 37,
     "metadata": {},
     "output_type": "execute_result"
    }
   ],
   "source": [
    "mean_absolute_error(test_labels,test_data_predicted1)"
   ]
  },
  {
   "cell_type": "code",
   "execution_count": null,
   "id": "essential-chester",
   "metadata": {},
   "outputs": [],
   "source": []
  },
  {
   "cell_type": "code",
   "execution_count": null,
   "id": "atmospheric-detail",
   "metadata": {},
   "outputs": [],
   "source": []
  },
  {
   "cell_type": "code",
   "execution_count": 76,
   "id": "yellow-median",
   "metadata": {},
   "outputs": [
    {
     "data": {
      "text/plain": [
       "ExtraTreeRegressor()"
      ]
     },
     "execution_count": 76,
     "metadata": {},
     "output_type": "execute_result"
    }
   ],
   "source": [
    "# model2.fit(train_features1,train_labels)\n",
    "model3.fit(train_features1,train_labels)"
   ]
  },
  {
   "cell_type": "code",
   "execution_count": 77,
   "id": "detected-detroit",
   "metadata": {},
   "outputs": [],
   "source": [
    "# train_data_predicted2=model2.predict(train_features1)\n",
    "train_data_predicted2=model3.predict(train_features1)"
   ]
  },
  {
   "cell_type": "code",
   "execution_count": 40,
   "id": "adjacent-winning",
   "metadata": {},
   "outputs": [
    {
     "data": {
      "text/plain": [
       "array([1.00000e+00, 1.00000e+00, 1.00000e+00, 0.00000e+00, 2.00000e+00,\n",
       "       1.00000e+00, 2.20000e+01, 2.00000e+00, 1.00000e+00, 3.00000e+00,\n",
       "       5.00000e+00, 9.00000e+00, 1.50000e+01, 8.00000e+00, 1.00000e+01,\n",
       "       1.00000e+01, 1.10000e+01, 1.00000e+01, 1.40000e+01, 2.00000e+01,\n",
       "       2.50000e+01, 2.70000e+01, 5.80000e+01, 7.80000e+01, 6.90000e+01,\n",
       "       9.40000e+01, 7.40000e+01, 8.60000e+01, 7.30000e+01, 1.53000e+02,\n",
       "       1.36000e+02, 1.20000e+02, 1.87000e+02, 3.09000e+02, 4.24000e+02,\n",
       "       4.86000e+02, 5.60000e+02, 5.79000e+02, 6.09000e+02, 4.84000e+02,\n",
       "       5.73000e+02, 5.65000e+02, 8.13000e+02, 8.71000e+02, 8.54000e+02,\n",
       "       7.58000e+02, 1.24300e+03, 1.03100e+03, 8.86000e+02, 1.06100e+03,\n",
       "       9.22000e+02, 1.37100e+03, 1.58000e+03, 1.23900e+03, 1.53700e+03,\n",
       "       1.29200e+03, 1.66700e+03, 1.40800e+03, 1.83500e+03, 1.60700e+03,\n",
       "       1.56800e+03, 1.90200e+03, 1.70500e+03, 1.80200e+03, 2.39600e+03,\n",
       "       2.56400e+03, 2.95200e+03, 3.65600e+03, 2.97100e+03, 3.60200e+03,\n",
       "       3.34400e+03, 3.33900e+03, 3.17500e+03, 4.31100e+03, 3.59200e+03,\n",
       "       3.56200e+03, 3.72600e+03, 3.99100e+03, 3.80800e+03, 4.79400e+03,\n",
       "       5.04900e+03, 4.62800e+03, 6.15400e+03, 5.72000e+03, 6.02300e+03,\n",
       "       6.53600e+03, 6.66500e+03, 7.11100e+03, 6.41400e+03, 5.90700e+03,\n",
       "       7.24600e+03, 7.25400e+03, 8.13800e+03, 8.36400e+03, 8.78900e+03,\n",
       "       7.72400e+03, 8.81200e+03, 9.68800e+03, 9.84700e+03, 9.47200e+03,\n",
       "       1.04080e+04, 1.08820e+04, 8.53600e+03, 9.98100e+03, 1.11560e+04,\n",
       "       1.11350e+04, 1.13060e+04, 1.20390e+04, 1.14040e+04, 1.00320e+04,\n",
       "       1.10850e+04, 1.31080e+04, 1.38290e+04, 1.47400e+04, 1.59180e+04,\n",
       "       1.51510e+04, 1.35600e+04, 1.56560e+04, 1.68680e+04, 1.82050e+04,\n",
       "       1.82550e+04, 2.01420e+04, 1.96100e+04, 1.83390e+04, 1.82550e+04,\n",
       "       1.94300e+04, 2.19470e+04, 2.27180e+04, 2.40180e+04, 2.39420e+04,\n",
       "       2.25000e+04, 2.31480e+04, 2.55610e+04, 2.57900e+04, 2.77490e+04,\n",
       "       2.77540e+04, 2.91060e+04, 2.81780e+04, 2.99170e+04, 3.26070e+04,\n",
       "       3.54680e+04, 3.48240e+04, 3.74110e+04, 4.02350e+04, 3.68060e+04,\n",
       "       3.91700e+04, 4.56010e+04, 4.84430e+04, 4.88880e+04, 5.00720e+04,\n",
       "       4.89320e+04, 4.64840e+04, 4.96310e+04, 5.24790e+04, 5.49680e+04,\n",
       "       5.74860e+04, 5.51170e+04, 5.26720e+04, 5.04910e+04, 5.12820e+04,\n",
       "       5.66260e+04, 6.21700e+04, 6.14550e+04, 6.51560e+04, 6.21170e+04,\n",
       "       5.30160e+04, 6.12520e+04, 6.70660e+04, 6.41410e+04, 6.56100e+04,\n",
       "       6.39860e+04, 5.80960e+04, 5.42980e+04, 6.50240e+04, 6.91960e+04,\n",
       "       6.85180e+04, 6.90290e+04, 7.00670e+04, 6.17490e+04, 5.96960e+04,\n",
       "       6.68730e+04, 7.59950e+04, 7.68270e+04, 7.66570e+04, 7.84790e+04,\n",
       "       7.94610e+04, 6.87660e+04, 7.81680e+04, 8.28650e+04, 8.41590e+04,\n",
       "       8.71070e+04, 9.06060e+04, 9.17250e+04, 7.50150e+04, 8.98550e+04,\n",
       "       9.55360e+04, 9.67620e+04, 9.76550e+04, 9.44140e+04, 9.32200e+04,\n",
       "       8.19090e+04, 9.10970e+04, 9.78600e+04, 9.67870e+04, 9.29730e+04,\n",
       "       9.25740e+04, 8.73950e+04, 7.44930e+04, 8.33620e+04, 8.67030e+04,\n",
       "       8.59210e+04, 8.57170e+04, 8.87590e+04, 8.27700e+04, 6.96690e+04,\n",
       "       8.05000e+04, 8.67480e+04, 8.17850e+04, 7.98850e+04, 7.54790e+04,\n",
       "       7.47700e+04, 6.01300e+04, 7.18690e+04, 7.88090e+04, 7.07980e+04,\n",
       "       7.33050e+04, 7.44180e+04, 6.77890e+04, 5.42620e+04, 6.37170e+04,\n",
       "       6.78110e+04, 6.34410e+04, 6.23040e+04, 6.18930e+04, 5.65190e+04,\n",
       "       4.55060e+04, 5.43480e+04, 5.62640e+04, 5.43710e+04, 5.39310e+04,\n",
       "       5.03660e+04, 4.59220e+04, 3.61040e+04, 4.30360e+04, 5.01880e+04,\n",
       "       4.87650e+04, 4.81170e+04, 4.72280e+04, 4.59280e+04, 3.75920e+04,\n",
       "       4.60270e+04, 5.04650e+04, 4.76280e+04, 5.03590e+04, 4.58110e+04,\n",
       "       4.67070e+04, 3.71190e+04, 4.47240e+04, 4.82850e+04, 4.45840e+04,\n",
       "       4.46200e+04, 4.16920e+04, 3.06810e+04, 2.86090e+04, 3.85480e+04,\n",
       "       4.53660e+04, 4.61850e+04, 4.62830e+04, 4.53010e+04, 4.44040e+04,\n",
       "       3.74410e+04, 4.42450e+04, 4.46990e+04, 4.31740e+04, 4.13530e+04,\n",
       "       4.18150e+04, 3.90360e+04, 3.11790e+04, 3.64740e+04, 3.55060e+04,\n",
       "       3.65740e+04, 3.67110e+04, 3.60100e+04, 3.31780e+04, 2.62270e+04,\n",
       "       3.20830e+04, 3.16370e+04, 2.94110e+04, 2.99610e+04, 3.03540e+04,\n",
       "       2.73360e+04, 2.19410e+04, 2.62510e+04, 1.81720e+04, 2.67540e+04,\n",
       "       2.69910e+04, 2.68340e+04, 2.46220e+04, 1.91470e+04, 2.38800e+04,\n",
       "       2.47160e+04, 2.34440e+04, 2.23490e+04, 1.85750e+04, 2.03330e+04,\n",
       "       1.60720e+04, 2.05420e+04, 2.19450e+04, 1.90260e+04, 2.01590e+04,\n",
       "       1.81440e+04, 1.66780e+04, 1.62780e+04, 1.79090e+04, 2.04720e+04,\n",
       "       1.81230e+04, 1.84530e+04, 1.88200e+04, 1.60860e+04, 1.24810e+04,\n",
       "       1.59030e+04, 1.70150e+04, 1.56770e+04, 1.51550e+04, 1.50500e+04,\n",
       "       1.39620e+04, 9.98700e+03, 1.37870e+04, 1.52790e+04, 1.44950e+04,\n",
       "       1.43230e+04, 1.48960e+04, 1.32320e+04, 9.09800e+03, 1.27330e+04,\n",
       "       1.15560e+04, 1.89120e+04, 1.30540e+04, 1.30730e+04, 1.15270e+04,\n",
       "       8.57900e+03, 1.10010e+04, 1.29250e+04, 1.24010e+04, 1.17110e+04,\n",
       "       1.20690e+04, 1.17860e+04, 8.71500e+03, 1.07310e+04, 1.25390e+04,\n",
       "       9.35300e+03, 1.21370e+04, 1.21980e+04, 1.17060e+04, 9.08600e+03,\n",
       "       1.15920e+04, 1.28620e+04, 1.32380e+04, 1.39160e+04, 1.39190e+04,\n",
       "       1.42780e+04, 1.04940e+04, 1.36820e+04, 1.69300e+04, 1.65990e+04,\n",
       "       1.65620e+04, 1.68050e+04, 1.56140e+04, 1.22700e+04, 1.49980e+04,\n",
       "       1.74250e+04, 1.68240e+04, 1.83240e+04, 1.87240e+04, 1.86500e+04,\n",
       "       1.53530e+04, 1.78730e+04, 2.28510e+04, 2.32980e+04, 2.48450e+04,\n",
       "       2.51540e+04, 2.65130e+04, 2.44370e+04, 2.88690e+04, 3.58380e+04,\n",
       "       3.96870e+04, 4.09060e+04, 4.38150e+04, 4.70090e+04, 4.06360e+04,\n",
       "       4.72390e+04, 5.34190e+04, 5.90850e+04, 6.22760e+04, 6.26320e+04,\n",
       "       6.82060e+04, 5.61520e+04, 5.32370e+04, 7.21150e+04, 8.13980e+04,\n",
       "       8.90230e+04, 9.29940e+04, 1.03794e+05, 9.65630e+04, 1.15312e+05,\n",
       "       1.26276e+05, 1.31878e+05, 1.44997e+05, 1.52565e+05, 1.69915e+05,\n",
       "       1.60854e+05, 1.85306e+05, 1.99584e+05, 2.16838e+05, 2.34002e+05,\n",
       "       2.60895e+05, 2.75083e+05, 2.57017e+05, 2.94378e+05, 3.15752e+05,\n",
       "       3.32531e+05, 3.45296e+05, 3.48996e+05, 3.54658e+05, 3.19471e+05,\n",
       "       3.62913e+05, 3.79403e+05, 3.86773e+05, 4.02014e+05, 3.92576e+05,\n",
       "       3.70090e+05, 3.55769e+05, 3.82847e+05, 4.12624e+05, 4.14280e+05,\n",
       "       4.06901e+05, 4.03808e+05, 3.66455e+05, 3.29491e+05, 3.48555e+05,\n",
       "       3.62632e+05, 3.43005e+05, 3.26256e+05, 3.10757e+05, 2.81837e+05,\n",
       "       2.63021e+05, 2.67246e+05, 2.76187e+05, 2.59242e+05, 2.57299e+05,\n",
       "       2.40897e+05, 2.22834e+05, 1.95857e+05, 2.08992e+05, 2.11510e+05,\n",
       "       1.86075e+05, 1.74083e+05, 1.65282e+05, 1.53396e+05, 1.26883e+05,\n",
       "       1.33152e+05, 1.34044e+05, 1.32424e+05, 1.20454e+05, 1.14488e+05,\n",
       "       1.01209e+05, 8.58040e+04, 9.27870e+04, 9.38830e+04, 9.18490e+04,\n",
       "       8.45740e+04, 8.05250e+04, 7.10010e+04, 6.00080e+04, 6.22170e+04,\n",
       "       6.72890e+04, 6.24360e+04, 6.07650e+04, 5.86150e+04, 5.29780e+04,\n",
       "       4.26830e+04, 5.08170e+04, 5.43090e+04, 5.16590e+04, 4.87680e+04,\n",
       "       4.98440e+04, 4.65230e+04, 3.70700e+04, 4.61040e+04, 4.86060e+04,\n",
       "       4.67810e+04, 4.41870e+04, 4.30270e+04, 4.01500e+04, 3.40260e+04,\n",
       "       4.39640e+04, 4.57010e+04, 4.35040e+04, 4.26600e+04, 4.14940e+04,\n",
       "       3.76540e+04, 3.08180e+04, 4.03140e+04, 4.17590e+04, 3.90710e+04,\n",
       "       3.81170e+04, 4.12830e+04, 3.83300e+04, 2.94200e+04, 4.21280e+04,\n",
       "       4.16870e+04, 3.48630e+04, 3.95010e+04, 4.02290e+04, 3.81790e+04,\n",
       "       3.08200e+04, 4.29710e+04, 4.31650e+04, 4.46710e+04, 4.14990e+04,\n",
       "       4.19430e+04, 4.06290e+04, 3.00850e+04, 4.25300e+04, 4.27970e+04,\n",
       "       4.50050e+04, 3.87050e+04, 3.90680e+04, 3.60360e+04, 2.74280e+04,\n",
       "       3.83800e+04, 4.15860e+04, 4.00810e+04, 3.87610e+04, 3.61350e+04,\n",
       "       3.32450e+04, 2.46960e+04, 3.52080e+04, 3.65020e+04, 3.66000e+04,\n",
       "       3.43080e+04, 3.10230e+04, 2.54200e+04, 2.47940e+04, 3.77390e+04,\n",
       "       4.61290e+04, 4.45500e+04, 4.68060e+04, 4.50640e+04, 4.33740e+04,\n",
       "       3.02480e+04, 4.30730e+04, 4.59750e+04, 4.56240e+04, 4.26670e+04,\n",
       "       4.26070e+04, 3.95370e+04, 3.01640e+04, 3.81350e+04, 4.34010e+04,\n",
       "       2.41510e+04, 3.78750e+04, 3.12880e+04, 3.14410e+04, 2.44140e+04,\n",
       "       2.75020e+04, 3.03550e+04, 3.46530e+04, 3.53540e+04, 3.11300e+04,\n",
       "       3.08280e+04, 2.49070e+04, 2.73380e+04, 3.20100e+04, 3.14110e+04,\n",
       "       2.95650e+04, 2.81690e+04, 2.69990e+04, 1.49070e+04])"
      ]
     },
     "execution_count": 40,
     "metadata": {},
     "output_type": "execute_result"
    }
   ],
   "source": [
    "train_data_predicted2"
   ]
  },
  {
   "cell_type": "code",
   "execution_count": 78,
   "id": "vocal-catholic",
   "metadata": {},
   "outputs": [
    {
     "data": {
      "text/plain": [
       "0.0"
      ]
     },
     "execution_count": 78,
     "metadata": {},
     "output_type": "execute_result"
    }
   ],
   "source": [
    "mean_absolute_error(train_labels,train_data_predicted2\n",
    "                   )"
   ]
  },
  {
   "cell_type": "code",
   "execution_count": 79,
   "id": "guided-retreat",
   "metadata": {},
   "outputs": [],
   "source": [
    "test_data_predicted2=model3.predict(test_features1)"
   ]
  },
  {
   "cell_type": "code",
   "execution_count": 80,
   "id": "cleared-counter",
   "metadata": {},
   "outputs": [
    {
     "data": {
      "text/plain": [
       "8609.666666666666"
      ]
     },
     "execution_count": 80,
     "metadata": {},
     "output_type": "execute_result"
    }
   ],
   "source": [
    "mean_absolute_error(test_labels,test_data_predicted2)"
   ]
  },
  {
   "cell_type": "code",
   "execution_count": 81,
   "id": "above-contractor",
   "metadata": {},
   "outputs": [
    {
     "data": {
      "text/plain": [
       "array([14907., 14907., 14907., 14907., 14907., 14907.])"
      ]
     },
     "execution_count": 81,
     "metadata": {},
     "output_type": "execute_result"
    }
   ],
   "source": [
    "model3.predict(test_features1)"
   ]
  },
  {
   "cell_type": "code",
   "execution_count": null,
   "id": "binary-webcam",
   "metadata": {},
   "outputs": [],
   "source": []
  },
  {
   "cell_type": "code",
   "execution_count": null,
   "id": "uniform-serve",
   "metadata": {},
   "outputs": [],
   "source": []
  },
  {
   "cell_type": "code",
   "execution_count": null,
   "id": "casual-detective",
   "metadata": {},
   "outputs": [],
   "source": []
  },
  {
   "cell_type": "code",
   "execution_count": null,
   "id": "nuclear-wealth",
   "metadata": {},
   "outputs": [],
   "source": [
    "svmmodel=svm.SVR(kernel='rbf', C=10, gamma=0.1, epsilon=.1)\n",
    "svmmodel=svm.SVR(kernel='poly', C=10, gamma='auto', degree=2,coef0=1)"
   ]
  },
  {
   "cell_type": "code",
   "execution_count": null,
   "id": "younger-dividend",
   "metadata": {},
   "outputs": [],
   "source": [
    "svmmodel.fit(train_features1,train_labels)"
   ]
  },
  {
   "cell_type": "code",
   "execution_count": null,
   "id": "surface-better",
   "metadata": {},
   "outputs": [],
   "source": [
    "svmmodel.predict(train_features1)"
   ]
  },
  {
   "cell_type": "code",
   "execution_count": null,
   "id": "everyday-welcome",
   "metadata": {},
   "outputs": [],
   "source": [
    "mean_absolute_error(train_labels,svmmodel.predict(train_features1))"
   ]
  },
  {
   "cell_type": "code",
   "execution_count": 48,
   "id": "tired-surveillance",
   "metadata": {},
   "outputs": [],
   "source": [
    "lassomodel=Lasso()"
   ]
  },
  {
   "cell_type": "code",
   "execution_count": 49,
   "id": "caroline-honduras",
   "metadata": {},
   "outputs": [
    {
     "data": {
      "text/plain": [
       "Lasso()"
      ]
     },
     "execution_count": 49,
     "metadata": {},
     "output_type": "execute_result"
    }
   ],
   "source": [
    "lassomodel.fit(train_features1,train_labels)"
   ]
  },
  {
   "cell_type": "code",
   "execution_count": 50,
   "id": "accurate-baltimore",
   "metadata": {},
   "outputs": [
    {
     "data": {
      "text/plain": [
       "array([  4619.04287155,   5126.30660729,   5295.39451921,   7155.36155029,\n",
       "        10029.85605288,  10198.94396479,  10368.03187671,  10537.11978863,\n",
       "        10706.20770055,  10875.29561245,  11044.38352437,  11213.47143629,\n",
       "        11382.55934821,  11551.64726013,  11720.73517205,  11889.82308397,\n",
       "        12058.91099587,  12227.99890779,  12397.08681971,  12566.17473163,\n",
       "        12735.26264355,  12904.35055546,  13073.43846738,  13242.52637929,\n",
       "        13411.61429121,  13580.70220312,  13749.79011504,  13918.87802696,\n",
       "        14087.96593888,  14257.0538508 ,  14426.1417627 ,  14595.22967462,\n",
       "        14764.31758654,  14933.40549846,  15102.49341038,  15271.5813223 ,\n",
       "        15440.66923422,  15609.75714612,  15778.84505804,  15947.93296996,\n",
       "        16117.02088188,  16286.1087938 ,  16455.19670571,  16624.28461763,\n",
       "        16793.37252954,  16962.46044146,  17131.54835337,  17300.63626529,\n",
       "        17469.72417721,  17638.81208913,  17807.90000105,  17976.98791297,\n",
       "        18146.07582487,  18315.16373679,  18484.25164871,  18653.33956063,\n",
       "        18822.42747255,  18991.51538447,  19160.60329638,  19329.69120829,\n",
       "        19498.77912021,  19667.86703213,  19836.95494404,  20006.04285596,\n",
       "        20175.13076788,  20344.2186798 ,  20513.3065917 ,  20682.39450362,\n",
       "        20851.48241554,  21020.57032746,  21189.65823938,  21358.7461513 ,\n",
       "        21527.83406322,  21696.92197512,  21866.00988704,  22035.09779896,\n",
       "        22204.18571088,  22373.2736228 ,  22542.36153471,  22711.44944663,\n",
       "        22880.53735854,  23049.62527046,  23218.71318237,  23387.80109429,\n",
       "        23556.88900621,  23725.97691813,  23895.06483005,  24064.15274195,\n",
       "        24233.24065387,  24402.32856579,  24571.41647771,  24740.50438963,\n",
       "        24909.59230155,  25078.68021347,  25247.76812539,  25416.85603729,\n",
       "        25585.94394921,  25755.03186113,  25924.11977305,  26093.20768496,\n",
       "        26262.29559688,  26431.3835088 ,  26600.47142071,  26769.55933262,\n",
       "        26938.64724454,  27107.73515646,  27276.82306838,  27445.9109803 ,\n",
       "        27614.99889222,  27784.08680412,  27953.17471604,  28122.26262796,\n",
       "        28291.35053988,  28460.4384518 ,  28629.52636372,  28798.61427563,\n",
       "        28967.70218754,  29136.79009946,  29305.87801138,  29474.96592329,\n",
       "        29644.05383521,  29813.14174713,  29982.22965905,  30151.31757095,\n",
       "        30320.40548287,  30489.49339479,  30658.58130671,  30827.66921863,\n",
       "        30996.75713055,  31165.84504247,  31334.93295437,  31504.02086629,\n",
       "        31673.10877821,  31842.19669013,  32011.28460205,  32180.37251396,\n",
       "        32349.46042588,  32518.5483378 ,  32687.63624971,  32856.72416162,\n",
       "        33025.81207354,  33194.89998546,  33363.98789738,  33533.0758093 ,\n",
       "        33702.16372122,  33871.25163312,  34040.33954504,  34209.42745696,\n",
       "        34378.51536888,  34547.6032808 ,  34716.69119272,  34885.77910464,\n",
       "        35054.86701654,  35223.95492846,  35393.04284038,  35562.1307523 ,\n",
       "        35731.21866421,  35900.30657613,  36069.39448805,  36238.48239996,\n",
       "        36407.57031187,  36576.65822379,  36745.74613571,  36914.83404763,\n",
       "        37083.92195955,  37253.00987147,  37422.09778337,  37591.18569529,\n",
       "        37760.27360721,  37929.36151913,  38098.44943105,  38267.53734297,\n",
       "        38436.62525488,  38605.71316679,  38774.80107871,  38943.88899063,\n",
       "        39112.97690254,  39282.06481446,  39451.15272638,  39620.2406383 ,\n",
       "        39789.3285502 ,  39958.41646212,  40127.50437404,  40296.59228596,\n",
       "        40465.68019788,  40634.7681098 ,  40803.85602172,  40972.94393364,\n",
       "        41142.03184554,  41311.11975746,  41480.20766938,  41649.2955813 ,\n",
       "        41818.38349321,  41987.47140513,  42156.55931705,  42325.64722896,\n",
       "        42494.73514087,  42663.82305279,  42832.91096471,  43001.99887663,\n",
       "        43171.08678855,  43340.17470047,  43509.26261237,  43678.35052429,\n",
       "        43847.43843621,  44016.52634813,  44185.61426005,  44354.70217197,\n",
       "        44523.79008389,  44692.87799579,  44861.96590771,  45031.05381963,\n",
       "        45200.14173155,  45369.22964346,  45538.31755538,  45707.4054673 ,\n",
       "        45876.49337921,  46045.58129112,  46214.66920304,  46383.75711496,\n",
       "        46552.84502688,  46721.9329388 ,  46891.02085072,  47060.10876262,\n",
       "        47229.19667454,  47398.28458646,  47567.37249838,  47736.4604103 ,\n",
       "        47905.54832222,  48074.63623413,  48243.72414605,  48412.81205796,\n",
       "        48581.89996988,  48750.98788179,  48920.07579371,  49089.16370563,\n",
       "        49258.25161755,  49427.33952947,  49596.42744137,  49765.51535329,\n",
       "        49934.60326521,  50103.69117713,  50272.77908905,  50441.86700097,\n",
       "        50610.95491289,  50780.04282479,  50949.13073671,  51118.21864863,\n",
       "        51287.30656055,  51456.39447246,  51625.48238438,  51794.5702963 ,\n",
       "        51963.65820821,  52132.74612013,  52301.83403204,  52470.92194396,\n",
       "        52640.00985588,  52809.0977678 ,  52978.18567972,  53147.27359162,\n",
       "        53316.36150354,  53485.44941546,  53654.53732738,  53823.6252393 ,\n",
       "        53992.71315122,  54161.80106314,  54330.88897504,  54499.97688696,\n",
       "        54669.06479888,  54838.1527108 ,  55007.24062271,  55176.32853463,\n",
       "        55345.41644655,  55514.50435846,  55683.59227037,  55852.68018229,\n",
       "        56021.76809421,  56190.85600613,  56359.94391805,  56529.03182997,\n",
       "        56698.11974189,  56867.20765379,  57036.29556571,  57205.38347763,\n",
       "        57374.47138955,  57543.55930147,  57712.64721338,  57881.7351253 ,\n",
       "        58050.82303721,  58219.91094913,  58388.99886104,  58558.08677296,\n",
       "        58727.17468488,  58896.2625968 ,  59065.35050872,  59234.43842062,\n",
       "        59403.52633254,  59572.61424446,  59741.70215638,  59910.7900683 ,\n",
       "        60079.87798022,  60248.96589214,  60418.05380404,  60587.14171596,\n",
       "        60756.22962788,  60925.3175398 ,  61094.40545171,  61263.49336363,\n",
       "        61432.58127555,  61601.66918746,  61770.75709938,  61939.84501129,\n",
       "        62108.93292321,  62278.02083513,  62447.10874705,  62616.19665897,\n",
       "        62785.28457087,  62954.37248279,  63123.46039471,  63292.54830663,\n",
       "        63461.63621855,  63630.72413047,  63799.81204239,  63968.8999543 ,\n",
       "        64137.98786621,  64307.07577813,  64476.16369005,  64645.25160196,\n",
       "        64814.33951388,  64983.4274258 ,  65152.51533772,  65321.60324962,\n",
       "        65490.69116154,  65659.77907346,  65828.86698538,  65997.9548973 ,\n",
       "        66167.04280922,  66336.13072114,  66505.21863304,  66674.30654496,\n",
       "        66843.39445688,  67012.4823688 ,  67181.57028072,  67350.65819263,\n",
       "        67519.74610455,  67688.83401646,  67857.92192838,  68027.00984029,\n",
       "        68196.09775221,  68365.18566413,  68534.27357605,  68703.36148797,\n",
       "        68872.44939987,  69041.53731179,  69210.62522371,  69379.71313563,\n",
       "        69548.80104755,  69717.88895947,  69886.97687139,  70056.06478329,\n",
       "        70225.15269521,  70394.24060713,  70563.32851905,  70732.41643097,\n",
       "        70901.50434288,  71070.5922548 ,  71239.68016671,  71408.76807863,\n",
       "        71577.85599054,  71746.94390246,  71916.03181438,  72085.1197263 ,\n",
       "        72254.20763822,  72423.29555014,  72592.38346204,  72761.47137396,\n",
       "        72930.55928588,  73099.6471978 ,  73268.73510972,  73437.82302164,\n",
       "        73606.91093355,  73775.99884546,  73945.08675738,  74114.1746693 ,\n",
       "        74283.26258121,  74452.35049313,  74621.43840505,  74790.52631697,\n",
       "        74959.61422887,  75128.70214079,  75297.79005271,  75466.87796463,\n",
       "        75635.96587655,  75805.05378847,  75974.14170039,  76143.22961229,\n",
       "        76312.31752421,  76481.40543613,  76650.49334805,  76819.58125997,\n",
       "        76988.66917188,  77157.7570838 ,  77326.84499571,  77495.93290763,\n",
       "        77665.02081954,  77834.10873146,  78003.19664338,  78172.2845553 ,\n",
       "        78341.37246722,  78510.46037912,  78679.54829104,  78848.63620296,\n",
       "        79017.72411488,  79186.8120268 ,  79355.89993872,  79524.98785064,\n",
       "        79694.07576256,  79863.16367446,  80032.25158638,  80201.3394983 ,\n",
       "        80370.42741022,  80539.51532213,  80708.60323405,  80877.69114597,\n",
       "        81046.77905788,  81215.86696979,  81384.95488171,  81554.04279363,\n",
       "        81723.13070555,  81892.21861747,  82061.30652939,  82230.39444129,\n",
       "        82399.48235321,  82568.57026513,  82737.65817705,  82906.74608897,\n",
       "        83075.83400089,  83244.9219128 ,  83414.00982471,  83583.09773663,\n",
       "        83752.18564855,  83921.27356046,  84090.36147238,  84259.4493843 ,\n",
       "        84428.53729622,  84597.62520812,  84766.71312004,  84935.80103196,\n",
       "        85104.88894388,  85273.9768558 ,  85443.06476772,  85612.15267964,\n",
       "        85781.24059154,  85950.32850346,  86119.41641538,  86288.5043273 ,\n",
       "        86457.59223922,  86626.68015113,  86795.76806305,  86964.85597497,\n",
       "        87133.94388688,  87303.03179879,  87472.11971071,  87641.20762263,\n",
       "        87810.29553455,  87979.38344647,  88148.47135839,  88317.55927029,\n",
       "        88486.64718221,  88655.73509413,  88824.82300605,  88993.91091797,\n",
       "        89162.99882989,  89332.08674181,  89501.17465371,  89670.26256563,\n",
       "        89839.35047755,  90008.43838947,  90177.52630138,  90346.6142133 ,\n",
       "        90515.70212522,  90684.79003713,  90853.87794904,  91022.96586096,\n",
       "        91192.05377288,  91361.1416848 ,  91530.22959672,  91699.31750864,\n",
       "        91868.40542054,  92037.49333246,  92206.58124438,  92375.6691563 ,\n",
       "        92544.75706822,  92713.84498014,  92882.93289205,  93052.02080396,\n",
       "        93221.10871588,  93390.1966278 ,  93559.28453971,  93728.37245163,\n",
       "        93897.46036355,  94066.54827547,  94235.63618737,  94404.72409929,\n",
       "        94573.81201121,  94742.89992313,  94911.98783505,  95081.07574697,\n",
       "        95250.16365889,  95419.25157081,  95588.33948271,  95757.42739463,\n",
       "        95926.51530655,  96095.60321847,  96264.69113038,  96433.7790423 ,\n",
       "        96602.86695422,  96771.95486613,  96941.04277804,  97110.13068996,\n",
       "        97279.21860188,  97448.3065138 ,  97617.39442572,  97786.48233764,\n",
       "        97955.57024954,  98124.65816146,  98293.74607338,  98462.8339853 ,\n",
       "        98631.92189722,  98801.00980914,  98970.09772106,  99139.18563296,\n",
       "        99308.27354488,  99477.3614568 ,  99646.44936872,  99815.53728063,\n",
       "        99984.62519255, 100153.71310447, 100322.80101638, 100491.88892829,\n",
       "       100660.97684021, 100830.06475213, 100999.15266405, 101168.24057597,\n",
       "       101337.32848789, 101506.41639979, 101675.50431171, 101844.59222363,\n",
       "       102013.68013555, 102182.76804747, 102351.85595939, 102520.9438713 ,\n",
       "       102690.03178322, 102859.11969513, 103028.20760705, 103197.29551896,\n",
       "       103366.38343088, 103535.4713428 , 103704.55925472, 103873.64716664,\n",
       "       104042.73507854, 104211.82299046, 104380.91090238, 104549.9988143 ,\n",
       "       104719.08672622, 104888.17463814, 105057.26255006, 105226.35046196,\n",
       "       105395.43837388, 105564.5262858 , 105733.61419772, 105902.70210963,\n",
       "       106071.79002155, 106240.87793347, 106409.96584538, 106579.0537573 ,\n",
       "       106748.14166921, 106917.22958113, 107086.31749305])"
      ]
     },
     "execution_count": 50,
     "metadata": {},
     "output_type": "execute_result"
    }
   ],
   "source": [
    "lassomodel.predict(train_features1)"
   ]
  },
  {
   "cell_type": "code",
   "execution_count": 51,
   "id": "assured-boost",
   "metadata": {},
   "outputs": [
    {
     "data": {
      "text/plain": [
       "47976.48680444705"
      ]
     },
     "execution_count": 51,
     "metadata": {},
     "output_type": "execute_result"
    }
   ],
   "source": [
    "mean_absolute_error(train_labels,lassomodel.predict(train_features1))"
   ]
  },
  {
   "cell_type": "code",
   "execution_count": null,
   "id": "stretch-assignment",
   "metadata": {},
   "outputs": [],
   "source": []
  },
  {
   "cell_type": "code",
   "execution_count": 52,
   "id": "annual-rental",
   "metadata": {},
   "outputs": [],
   "source": [
    "nnregrassion=MLPRegressor(alpha=0.1)"
   ]
  },
  {
   "cell_type": "code",
   "execution_count": 53,
   "id": "polar-highland",
   "metadata": {},
   "outputs": [
    {
     "data": {
      "text/plain": [
       "MLPRegressor(alpha=0.1)"
      ]
     },
     "execution_count": 53,
     "metadata": {},
     "output_type": "execute_result"
    }
   ],
   "source": [
    "nnregrassion.fit(train_features1,train_labels)"
   ]
  },
  {
   "cell_type": "code",
   "execution_count": 54,
   "id": "effective-bookmark",
   "metadata": {},
   "outputs": [
    {
     "data": {
      "text/plain": [
       "array([58808.91938115, 58809.1586187 , 58809.23836456, 58810.11556893,\n",
       "       58811.47124843, 58811.55099428, 58811.63074013, 58811.71048598,\n",
       "       58811.79023184, 58811.86997769, 58811.94972354, 58812.02946939,\n",
       "       58812.10921525, 58812.1889611 , 58812.26870695, 58812.3484528 ,\n",
       "       58812.42819866, 58812.50794451, 58812.58769036, 58812.66743621,\n",
       "       58812.74718207, 58812.82692792, 58812.90667377, 58812.98641962,\n",
       "       58813.06616548, 58813.14591133, 58813.22565718, 58813.30540303,\n",
       "       58813.38514889, 58813.46489474, 58813.54464059, 58813.62438644,\n",
       "       58813.7041323 , 58813.78387815, 58813.863624  , 58813.94336985,\n",
       "       58814.02311571, 58814.10286156, 58814.18260741, 58814.26235326,\n",
       "       58814.34209912, 58814.42184497, 58814.50159082, 58814.58133667,\n",
       "       58814.66108253, 58814.74082838, 58814.82057423, 58814.90032008,\n",
       "       58814.98006594, 58815.05981179, 58815.13955764, 58815.21930349,\n",
       "       58815.29904935, 58815.3787952 , 58815.45854105, 58815.5382869 ,\n",
       "       58815.61803276, 58815.69777861, 58815.77752446, 58815.85727031,\n",
       "       58815.93701617, 58816.01676202, 58816.09650787, 58816.17625372,\n",
       "       58816.25599958, 58816.33574543, 58816.41549128, 58816.49523713,\n",
       "       58816.57498299, 58816.65472884, 58816.73447469, 58816.81422054,\n",
       "       58816.8939664 , 58816.97371225, 58817.0534581 , 58817.13320395,\n",
       "       58817.21294981, 58817.29269566, 58817.37244151, 58817.45218736,\n",
       "       58817.53193322, 58817.61167907, 58817.69142492, 58817.77117077,\n",
       "       58817.85091663, 58817.93066248, 58818.01040833, 58818.09015418,\n",
       "       58818.16990004, 58818.24964589, 58818.32939174, 58818.40913759,\n",
       "       58818.48888345, 58818.5686293 , 58818.64837515, 58818.728121  ,\n",
       "       58818.80786686, 58818.88761271, 58818.96735856, 58819.04710441,\n",
       "       58819.12685027, 58819.20659612, 58819.28634197, 58819.36608782,\n",
       "       58819.44583368, 58819.52557953, 58819.60532538, 58819.68507123,\n",
       "       58819.76481709, 58819.84456294, 58819.92430879, 58820.00405464,\n",
       "       58820.0838005 , 58820.16354635, 58820.2432922 , 58820.32303805,\n",
       "       58820.40278391, 58820.48252976, 58820.56227561, 58820.64202146,\n",
       "       58820.72176732, 58820.80151317, 58820.88125902, 58820.96100487,\n",
       "       58821.04075073, 58821.12049658, 58821.20024243, 58821.27998828,\n",
       "       58821.35973414, 58821.43947999, 58821.51922584, 58821.5989717 ,\n",
       "       58821.67871755, 58821.7584634 , 58821.83820925, 58821.91795511,\n",
       "       58821.99770096, 58822.07744681, 58822.15719266, 58822.23693852,\n",
       "       58822.31668437, 58822.39643022, 58822.47617607, 58822.55592193,\n",
       "       58822.63566778, 58822.71541363, 58822.79515948, 58822.87490534,\n",
       "       58822.95465119, 58823.03439704, 58823.11414289, 58823.19388875,\n",
       "       58823.2736346 , 58823.35338045, 58823.4331263 , 58823.51287216,\n",
       "       58823.59261801, 58823.67236386, 58823.75210971, 58823.83185557,\n",
       "       58823.91160142, 58823.99134727, 58824.07109312, 58824.15083898,\n",
       "       58824.23058483, 58824.31033068, 58824.39007653, 58824.46982239,\n",
       "       58824.54956824, 58824.62931409, 58824.70905994, 58824.7888058 ,\n",
       "       58824.86855165, 58824.9482975 , 58825.02804335, 58825.10778921,\n",
       "       58825.18753506, 58825.26728091, 58825.34702676, 58825.42677262,\n",
       "       58825.50651847, 58825.58626432, 58825.66601017, 58825.74575603,\n",
       "       58825.82550188, 58825.90524773, 58825.98499358, 58826.06473944,\n",
       "       58826.14448529, 58826.22423114, 58826.30397699, 58826.38372285,\n",
       "       58826.4634687 , 58826.54321455, 58826.6229604 , 58826.70270626,\n",
       "       58826.78245211, 58826.86219796, 58826.94194381, 58827.02168967,\n",
       "       58827.10143552, 58827.18118137, 58827.26092722, 58827.34067308,\n",
       "       58827.42041893, 58827.50016478, 58827.57991063, 58827.65965649,\n",
       "       58827.73940234, 58827.81914819, 58827.89889404, 58827.9786399 ,\n",
       "       58828.05838575, 58828.1381316 , 58828.21787745, 58828.29762331,\n",
       "       58828.37736916, 58828.45711501, 58828.53686086, 58828.61660672,\n",
       "       58828.69635257, 58828.77609842, 58828.85584427, 58828.93559013,\n",
       "       58829.01533598, 58829.09508183, 58829.17482768, 58829.25457354,\n",
       "       58829.33431939, 58829.41406524, 58829.49381109, 58829.57355695,\n",
       "       58829.6533028 , 58829.73304865, 58829.8127945 , 58829.89254036,\n",
       "       58829.97228621, 58830.05203206, 58830.13177791, 58830.21152377,\n",
       "       58830.29126962, 58830.37101547, 58830.45076132, 58830.53050718,\n",
       "       58830.61025303, 58830.68999888, 58830.76974473, 58830.84949059,\n",
       "       58830.92923644, 58831.00898229, 58831.08872814, 58831.168474  ,\n",
       "       58831.24821985, 58831.3279657 , 58831.40771155, 58831.48745741,\n",
       "       58831.56720326, 58831.64694911, 58831.72669496, 58831.80644082,\n",
       "       58831.88618667, 58831.96593252, 58832.04567837, 58832.12542423,\n",
       "       58832.20517008, 58832.28491593, 58832.36466178, 58832.44440764,\n",
       "       58832.52415349, 58832.60389934, 58832.68364519, 58832.76339105,\n",
       "       58832.8431369 , 58832.92288275, 58833.0026286 , 58833.08237446,\n",
       "       58833.16212031, 58833.24186616, 58833.32161201, 58833.40135787,\n",
       "       58833.48110372, 58833.56084957, 58833.64059542, 58833.72034128,\n",
       "       58833.80008713, 58833.87983298, 58833.95957883, 58834.03932469,\n",
       "       58834.11907054, 58834.19881639, 58834.27856224, 58834.3583081 ,\n",
       "       58834.43805395, 58834.5177998 , 58834.59754566, 58834.67729151,\n",
       "       58834.75703736, 58834.83678321, 58834.91652907, 58834.99627492,\n",
       "       58835.07602077, 58835.15576662, 58835.23551248, 58835.31525833,\n",
       "       58835.39500418, 58835.47475003, 58835.55449589, 58835.63424174,\n",
       "       58835.71398759, 58835.79373344, 58835.8734793 , 58835.95322515,\n",
       "       58836.032971  , 58836.11271685, 58836.19246271, 58836.27220856,\n",
       "       58836.35195441, 58836.43170026, 58836.51144612, 58836.59119197,\n",
       "       58836.67093782, 58836.75068367, 58836.83042953, 58836.91017538,\n",
       "       58836.98992123, 58837.06966708, 58837.14941294, 58837.22915879,\n",
       "       58837.30890464, 58837.38865049, 58837.46839635, 58837.5481422 ,\n",
       "       58837.62788805, 58837.7076339 , 58837.78737976, 58837.86712561,\n",
       "       58837.94687146, 58838.02661731, 58838.10636317, 58838.18610902,\n",
       "       58838.26585487, 58838.34560072, 58838.42534658, 58838.50509243,\n",
       "       58838.58483828, 58838.66458413, 58838.74432999, 58838.82407584,\n",
       "       58838.90382169, 58838.98356754, 58839.0633134 , 58839.14305925,\n",
       "       58839.2228051 , 58839.30255095, 58839.38229681, 58839.46204266,\n",
       "       58839.54178851, 58839.62153436, 58839.70128022, 58839.78102607,\n",
       "       58839.86077192, 58839.94051777, 58840.02026363, 58840.10000948,\n",
       "       58840.17975533, 58840.25950118, 58840.33924704, 58840.41899289,\n",
       "       58840.49873874, 58840.57848459, 58840.65823045, 58840.7379763 ,\n",
       "       58840.81772215, 58840.897468  , 58840.97721386, 58841.05695971,\n",
       "       58841.13670556, 58841.21645141, 58841.29619727, 58841.37594312,\n",
       "       58841.45568897, 58841.53543482, 58841.61518068, 58841.69492653,\n",
       "       58841.77467238, 58841.85441823, 58841.93416409, 58842.01390994,\n",
       "       58842.09365579, 58842.17340164, 58842.2531475 , 58842.33289335,\n",
       "       58842.4126392 , 58842.49238505, 58842.57213091, 58842.65187676,\n",
       "       58842.73162261, 58842.81136846, 58842.89111432, 58842.97086017,\n",
       "       58843.05060602, 58843.13035187, 58843.21009773, 58843.28984358,\n",
       "       58843.36958943, 58843.44933528, 58843.52908114, 58843.60882699,\n",
       "       58843.68857284, 58843.76831869, 58843.84806455, 58843.9278104 ,\n",
       "       58844.00755625, 58844.0873021 , 58844.16704796, 58844.24679381,\n",
       "       58844.32653966, 58844.40628551, 58844.48603137, 58844.56577722,\n",
       "       58844.64552307, 58844.72526892, 58844.80501478, 58844.88476063,\n",
       "       58844.96450648, 58845.04425233, 58845.12399819, 58845.20374404,\n",
       "       58845.28348989, 58845.36323574, 58845.4429816 , 58845.52272745,\n",
       "       58845.6024733 , 58845.68221915, 58845.76196501, 58845.84171086,\n",
       "       58845.92145671, 58846.00120256, 58846.08094842, 58846.16069427,\n",
       "       58846.24044012, 58846.32018597, 58846.39993183, 58846.47967768,\n",
       "       58846.55942353, 58846.63916938, 58846.71891524, 58846.79866109,\n",
       "       58846.87840694, 58846.95815279, 58847.03789865, 58847.1176445 ,\n",
       "       58847.19739035, 58847.2771362 , 58847.35688206, 58847.43662791,\n",
       "       58847.51637376, 58847.59611962, 58847.67586547, 58847.75561132,\n",
       "       58847.83535717, 58847.91510303, 58847.99484888, 58848.07459473,\n",
       "       58848.15434058, 58848.23408644, 58848.31383229, 58848.39357814,\n",
       "       58848.47332399, 58848.55306985, 58848.6328157 , 58848.71256155,\n",
       "       58848.7923074 , 58848.87205326, 58848.95179911, 58849.03154496,\n",
       "       58849.11129081, 58849.19103667, 58849.27078252, 58849.35052837,\n",
       "       58849.43027422, 58849.51002008, 58849.58976593, 58849.66951178,\n",
       "       58849.74925763, 58849.82900349, 58849.90874934, 58849.98849519,\n",
       "       58850.06824104, 58850.1479869 , 58850.22773275, 58850.3074786 ,\n",
       "       58850.38722445, 58850.46697031, 58850.54671616, 58850.62646201,\n",
       "       58850.70620786, 58850.78595372, 58850.86569957, 58850.94544542,\n",
       "       58851.02519127, 58851.10493713, 58851.18468298, 58851.26442883,\n",
       "       58851.34417468, 58851.42392054, 58851.50366639, 58851.58341224,\n",
       "       58851.66315809, 58851.74290395, 58851.8226498 , 58851.90239565,\n",
       "       58851.9821415 , 58852.06188736, 58852.14163321, 58852.22137906,\n",
       "       58852.30112491, 58852.38087077, 58852.46061662, 58852.54036247,\n",
       "       58852.62010832, 58852.69985418, 58852.77960003, 58852.85934588,\n",
       "       58852.93909173, 58853.01883759, 58853.09858344, 58853.17832929,\n",
       "       58853.25807514, 58853.337821  , 58853.41756685, 58853.4973127 ,\n",
       "       58853.57705855, 58853.65680441, 58853.73655026, 58853.81629611,\n",
       "       58853.89604196, 58853.97578782, 58854.05553367, 58854.13527952,\n",
       "       58854.21502537, 58854.29477123, 58854.37451708, 58854.45426293,\n",
       "       58854.53400878, 58854.61375464, 58854.69350049, 58854.77324634,\n",
       "       58854.85299219, 58854.93273805, 58855.0124839 , 58855.09222975,\n",
       "       58855.1719756 , 58855.25172146, 58855.33146731, 58855.41121316,\n",
       "       58855.49095901, 58855.57070487, 58855.65045072, 58855.73019657,\n",
       "       58855.80994242, 58855.88968828, 58855.96943413, 58856.04917998,\n",
       "       58856.12892583, 58856.20867169, 58856.28841754, 58856.36816339,\n",
       "       58856.44790924, 58856.5276551 , 58856.60740095, 58856.6871468 ,\n",
       "       58856.76689265, 58856.84663851, 58856.92638436, 58857.00613021,\n",
       "       58857.08587606, 58857.16562192, 58857.24536777])"
      ]
     },
     "execution_count": 54,
     "metadata": {},
     "output_type": "execute_result"
    }
   ],
   "source": [
    "nnregrassion.predict(train_features1)"
   ]
  },
  {
   "cell_type": "code",
   "execution_count": 55,
   "id": "accredited-agreement",
   "metadata": {},
   "outputs": [
    {
     "data": {
      "text/plain": [
       "49810.16813827238"
      ]
     },
     "execution_count": 55,
     "metadata": {},
     "output_type": "execute_result"
    }
   ],
   "source": [
    "mean_absolute_error(train_labels,nnregrassion.predict(train_features1))"
   ]
  },
  {
   "cell_type": "code",
   "execution_count": null,
   "id": "treated-architect",
   "metadata": {},
   "outputs": [],
   "source": []
  },
  {
   "cell_type": "code",
   "execution_count": null,
   "id": "consolidated-minute",
   "metadata": {},
   "outputs": [],
   "source": []
  },
  {
   "cell_type": "code",
   "execution_count": 56,
   "id": "civil-proceeding",
   "metadata": {},
   "outputs": [],
   "source": [
    "from sklearn.linear_model import Ridge"
   ]
  },
  {
   "cell_type": "code",
   "execution_count": 57,
   "id": "metric-interaction",
   "metadata": {},
   "outputs": [],
   "source": [
    "ridgemodel=Ridge()"
   ]
  },
  {
   "cell_type": "code",
   "execution_count": 58,
   "id": "incorporated-diagnosis",
   "metadata": {},
   "outputs": [
    {
     "data": {
      "text/plain": [
       "Ridge()"
      ]
     },
     "execution_count": 58,
     "metadata": {},
     "output_type": "execute_result"
    }
   ],
   "source": [
    "ridgemodel.fit(train_features1,train_labels)"
   ]
  },
  {
   "cell_type": "code",
   "execution_count": 59,
   "id": "shared-fairy",
   "metadata": {},
   "outputs": [
    {
     "data": {
      "text/plain": [
       "array([  4619.03487088,   5126.29868239,   5295.38661955,   7155.3539284 ,\n",
       "        10029.84886028,  10198.93679744,  10368.02473462,  10537.11267178,\n",
       "        10706.20060895,  10875.28854612,  11044.37648329,  11213.46442045,\n",
       "        11382.55235763,  11551.64029479,  11720.72823195,  11889.81616913,\n",
       "        12058.90410629,  12227.99204347,  12397.07998063,  12566.1679178 ,\n",
       "        12735.25585496,  12904.34379214,  13073.4317293 ,  13242.51966648,\n",
       "        13411.60760364,  13580.69554082,  13749.78347798,  13918.87141515,\n",
       "        14087.95935231,  14257.04728949,  14426.13522665,  14595.22316383,\n",
       "        14764.31110099,  14933.39903817,  15102.48697533,  15271.5749125 ,\n",
       "        15440.66284966,  15609.75078684,  15778.838724  ,  15947.92666118,\n",
       "        16117.01459834,  16286.10253552,  16455.19047268,  16624.27840985,\n",
       "        16793.36634701,  16962.45428419,  17131.54222135,  17300.63015851,\n",
       "        17469.71809569,  17638.80603285,  17807.89397003,  17976.98190719,\n",
       "        18146.06984437,  18315.15778153,  18484.2457187 ,  18653.33365586,\n",
       "        18822.42159304,  18991.5095302 ,  19160.59746738,  19329.68540454,\n",
       "        19498.77334172,  19667.86127888,  19836.94921605,  20006.03715321,\n",
       "        20175.12509039,  20344.21302755,  20513.30096473,  20682.38890189,\n",
       "        20851.47683907,  21020.56477623,  21189.6527134 ,  21358.74065056,\n",
       "        21527.82858774,  21696.9165249 ,  21866.00446208,  22035.09239924,\n",
       "        22204.18033642,  22373.26827358,  22542.35621074,  22711.44414791,\n",
       "        22880.53208508,  23049.62002225,  23218.70795941,  23387.79589659,\n",
       "        23556.88383375,  23725.97177093,  23895.05970809,  24064.14764526,\n",
       "        24233.23558243,  24402.3235196 ,  24571.41145676,  24740.49939394,\n",
       "        24909.5873311 ,  25078.67526828,  25247.76320544,  25416.85114262,\n",
       "        25585.93907978,  25755.02701695,  25924.11495411,  26093.20289129,\n",
       "        26262.29082845,  26431.37876563,  26600.46670279,  26769.55463997,\n",
       "        26938.64257713,  27107.7305143 ,  27276.81845146,  27445.90638864,\n",
       "        27614.9943258 ,  27784.08226298,  27953.17020014,  28122.2581373 ,\n",
       "        28291.34607448,  28460.43401164,  28629.52194881,  28798.60988598,\n",
       "        28967.69782315,  29136.78576031,  29305.87369749,  29474.96163465,\n",
       "        29644.04957183,  29813.13750899,  29982.22544616,  30151.31338333,\n",
       "        30320.4013205 ,  30489.48925766,  30658.57719484,  30827.665132  ,\n",
       "        30996.75306918,  31165.84100634,  31334.92894351,  31504.01688068,\n",
       "        31673.10481785,  31842.19275501,  32011.28069219,  32180.36862935,\n",
       "        32349.45656653,  32518.54450369,  32687.63244087,  32856.72037803,\n",
       "        33025.8083152 ,  33194.89625236,  33363.98418953,  33533.0721267 ,\n",
       "        33702.16006386,  33871.24800104,  34040.3359382 ,  34209.42387538,\n",
       "        34378.51181254,  34547.59974971,  34716.68768688,  34885.77562405,\n",
       "        35054.86356121,  35223.95149839,  35393.03943555,  35562.12737273,\n",
       "        35731.21530989,  35900.30324706,  36069.39118423,  36238.4791214 ,\n",
       "        36407.56705856,  36576.65499574,  36745.7429329 ,  36914.83087008,\n",
       "        37083.91880724,  37253.00674441,  37422.09468158,  37591.18261875,\n",
       "        37760.27055591,  37929.35849309,  38098.44643025,  38267.53436743,\n",
       "        38436.62230459,  38605.71024175,  38774.79817893,  38943.88611609,\n",
       "        39112.97405326,  39282.06199042,  39451.1499276 ,  39620.23786476,\n",
       "        39789.32580194,  39958.4137391 ,  40127.50167628,  40296.58961344,\n",
       "        40465.67755061,  40634.76548778,  40803.85342495,  40972.94136211,\n",
       "        41142.02929929,  41311.11723645,  41480.20517363,  41649.29311079,\n",
       "        41818.38104796,  41987.46898513,  42156.5569223 ,  42325.64485946,\n",
       "        42494.73279664,  42663.8207338 ,  42832.90867098,  43001.99660814,\n",
       "        43171.08454531,  43340.17248248,  43509.26041965,  43678.34835681,\n",
       "        43847.43629399,  44016.52423115,  44185.61216831,  44354.70010549,\n",
       "        44523.78804265,  44692.87597983,  44861.96391699,  45031.05185416,\n",
       "        45200.13979132,  45369.2277285 ,  45538.31566566,  45707.40360284,\n",
       "        45876.49154   ,  46045.57947718,  46214.66741434,  46383.75535151,\n",
       "        46552.84328867,  46721.93122585,  46891.01916301,  47060.10710019,\n",
       "        47229.19503735,  47398.28297453,  47567.37091169,  47736.45884886,\n",
       "        47905.54678603,  48074.6347232 ,  48243.72266036,  48412.81059754,\n",
       "        48581.8985347 ,  48750.98647188,  48920.07440904,  49089.16234621,\n",
       "        49258.25028338,  49427.33822054,  49596.42615771,  49765.51409487,\n",
       "        49934.60203205,  50103.68996921,  50272.77790639,  50441.86584355,\n",
       "        50610.95378073,  50780.04171789,  50949.12965506,  51118.21759222,\n",
       "        51287.3055294 ,  51456.39346656,  51625.48140374,  51794.5693409 ,\n",
       "        51963.65727808,  52132.74521524,  52301.83315241,  52470.92108957,\n",
       "        52640.00902675,  52809.09696391,  52978.18490109,  53147.27283825,\n",
       "        53316.36077543,  53485.44871259,  53654.53664976,  53823.62458692,\n",
       "        53992.7125241 ,  54161.80046126,  54330.88839844,  54499.9763356 ,\n",
       "        54669.06427276,  54838.15220994,  55007.2401471 ,  55176.32808428,\n",
       "        55345.41602144,  55514.50395861,  55683.59189577,  55852.67983295,\n",
       "        56021.76777011,  56190.85570729,  56359.94364445,  56529.03158163,\n",
       "        56698.11951879,  56867.20745596,  57036.29539312,  57205.3833303 ,\n",
       "        57374.47126746,  57543.55920464,  57712.6471418 ,  57881.73507898,\n",
       "        58050.82301614,  58219.91095331,  58388.99889047,  58558.08682765,\n",
       "        58727.17476481,  58896.26270199,  59065.35063915,  59234.43857633,\n",
       "        59403.52651349,  59572.61445066,  59741.70238782,  59910.790325  ,\n",
       "        60079.87826216,  60248.96619932,  60418.0541365 ,  60587.14207366,\n",
       "        60756.23001084,  60925.317948  ,  61094.40588517,  61263.49382234,\n",
       "        61432.58175951,  61601.66969667,  61770.75763385,  61939.84557101,\n",
       "        62108.93350819,  62278.02144535,  62447.10938253,  62616.19731969,\n",
       "        62785.28525686,  62954.37319402,  63123.4611312 ,  63292.54906836,\n",
       "        63461.63700554,  63630.7249427 ,  63799.81287988,  63968.90081704,\n",
       "        64137.98875421,  64307.07669137,  64476.16462855,  64645.25256571,\n",
       "        64814.34050289,  64983.42844005,  65152.51637723,  65321.60431439,\n",
       "        65490.69225155,  65659.78018872,  65828.86812589,  65997.95606306,\n",
       "        66167.04400022,  66336.1319374 ,  66505.21987456,  66674.30781174,\n",
       "        66843.3957489 ,  67012.48368607,  67181.57162324,  67350.65956041,\n",
       "        67519.74749757,  67688.83543475,  67857.92337191,  68027.01130909,\n",
       "        68196.09924625,  68365.18718342,  68534.27512059,  68703.36305776,\n",
       "        68872.45099492,  69041.5389321 ,  69210.62686926,  69379.71480644,\n",
       "        69548.8027436 ,  69717.89068078,  69886.97861794,  70056.06655511,\n",
       "        70225.15449227,  70394.24242945,  70563.33036661,  70732.41830377,\n",
       "        70901.50624095,  71070.59417811,  71239.68211529,  71408.77005245,\n",
       "        71577.85798962,  71746.94592679,  71916.03386396,  72085.12180112,\n",
       "        72254.2097383 ,  72423.29767546,  72592.38561264,  72761.4735498 ,\n",
       "        72930.56148697,  73099.64942414,  73268.73736131,  73437.82529847,\n",
       "        73606.91323565,  73776.00117281,  73945.08910999,  74114.17704715,\n",
       "        74283.26498432,  74452.35292149,  74621.44085866,  74790.52879582,\n",
       "        74959.616733  ,  75128.70467016,  75297.79260734,  75466.8805445 ,\n",
       "        75635.96848167,  75805.05641884,  75974.14435601,  76143.23229317,\n",
       "        76312.32023033,  76481.40816751,  76650.49610467,  76819.58404185,\n",
       "        76988.67197901,  77157.75991619,  77326.84785335,  77495.93579052,\n",
       "        77665.02372769,  77834.11166486,  78003.19960202,  78172.2875392 ,\n",
       "        78341.37547636,  78510.46341354,  78679.5513507 ,  78848.63928787,\n",
       "        79017.72722504,  79186.81516221,  79355.90309937,  79524.99103655,\n",
       "        79694.07897371,  79863.16691089,  80032.25484805,  80201.34278522,\n",
       "        80370.43072239,  80539.51865956,  80708.60659672,  80877.6945339 ,\n",
       "        81046.78247106,  81215.87040824,  81384.9583454 ,  81554.04628256,\n",
       "        81723.13421974,  81892.2221569 ,  82061.31009407,  82230.39803123,\n",
       "        82399.48596841,  82568.57390557,  82737.66184275,  82906.74977991,\n",
       "        83075.83771709,  83244.92565425,  83414.01359142,  83583.10152858,\n",
       "        83752.18946576,  83921.27740292,  84090.3653401 ,  84259.45327726,\n",
       "        84428.54121444,  84597.6291516 ,  84766.71708877,  84935.80502594,\n",
       "        85104.89296311,  85273.98090027,  85443.06883745,  85612.15677461,\n",
       "        85781.24471179,  85950.33264895,  86119.42058612,  86288.50852329,\n",
       "        86457.59646046,  86626.68439762,  86795.77233478,  86964.86027196,\n",
       "        87133.94820912,  87303.0361463 ,  87472.12408346,  87641.21202064,\n",
       "        87810.2999578 ,  87979.38789497,  88148.47583213,  88317.56376931,\n",
       "        88486.65170647,  88655.73964365,  88824.82758081,  88993.91551799,\n",
       "        89163.00345515,  89332.09139232,  89501.17932948,  89670.26726666,\n",
       "        89839.35520382,  90008.443141  ,  90177.53107816,  90346.61901534,\n",
       "        90515.7069525 ,  90684.79488967,  90853.88282683,  91022.97076401,\n",
       "        91192.05870117,  91361.14663835,  91530.23457551,  91699.32251269,\n",
       "        91868.41044985,  92037.49838702,  92206.58632419,  92375.67426135,\n",
       "        92544.76219852,  92713.85013568,  92882.93807286,  93052.02601002,\n",
       "        93221.1139472 ,  93390.20188436,  93559.28982154,  93728.3777587 ,\n",
       "        93897.46569587,  94066.55363303,  94235.64157021,  94404.72950737,\n",
       "        94573.81744455,  94742.90538171,  94911.99331889,  95081.08125605,\n",
       "        95250.16919322,  95419.25713038,  95588.34506756,  95757.43300472,\n",
       "        95926.5209419 ,  96095.60887906,  96264.69681624,  96433.7847534 ,\n",
       "        96602.87269057,  96771.96062773,  96941.04856491,  97110.13650207,\n",
       "        97279.22443925,  97448.31237641,  97617.40031357,  97786.48825075,\n",
       "        97955.57618791,  98124.66412508,  98293.75206225,  98462.83999942,\n",
       "        98631.92793658,  98801.01587376,  98970.10381092,  99139.1917481 ,\n",
       "        99308.27968526,  99477.36762244,  99646.4555596 ,  99815.54349677,\n",
       "        99984.63143393, 100153.71937111, 100322.80730827, 100491.89524545,\n",
       "       100660.98318261, 100830.07111979, 100999.15905695, 101168.24699412,\n",
       "       101337.33493128, 101506.42286846, 101675.51080562, 101844.5987428 ,\n",
       "       102013.68667996, 102182.77461714, 102351.8625543 , 102520.95049147,\n",
       "       102690.03842863, 102859.1263658 , 103028.21430297, 103197.30224013,\n",
       "       103366.39017731, 103535.47811447, 103704.56605165, 103873.65398881,\n",
       "       104042.74192598, 104211.82986315, 104380.91780032, 104550.00573748,\n",
       "       104719.09367466, 104888.18161182, 105057.269549  , 105226.35748616,\n",
       "       105395.44542333, 105564.5333605 , 105733.62129767, 105902.70923483,\n",
       "       106071.79717201, 106240.88510917, 106409.97304635, 106579.06098351,\n",
       "       106748.14892069, 106917.23685785, 107086.32479502])"
      ]
     },
     "execution_count": 59,
     "metadata": {},
     "output_type": "execute_result"
    }
   ],
   "source": [
    "ridgemodel.predict(train_features1)"
   ]
  },
  {
   "cell_type": "code",
   "execution_count": 60,
   "id": "creative-secondary",
   "metadata": {},
   "outputs": [
    {
     "data": {
      "text/plain": [
       "679578.9585492228"
      ]
     },
     "execution_count": 60,
     "metadata": {},
     "output_type": "execute_result"
    }
   ],
   "source": [
    "mean_absolute_error(train_labels,train_features1)"
   ]
  },
  {
   "cell_type": "code",
   "execution_count": null,
   "id": "russian-filename",
   "metadata": {},
   "outputs": [],
   "source": []
  },
  {
   "cell_type": "code",
   "execution_count": null,
   "id": "micro-volume",
   "metadata": {},
   "outputs": [],
   "source": []
  },
  {
   "cell_type": "code",
   "execution_count": 61,
   "id": "asian-handy",
   "metadata": {},
   "outputs": [],
   "source": [
    "from sklearn.neighbors import KNeighborsRegressor"
   ]
  },
  {
   "cell_type": "code",
   "execution_count": 62,
   "id": "comprehensive-conservation",
   "metadata": {},
   "outputs": [],
   "source": [
    "knnregression=KNeighborsRegressor()"
   ]
  },
  {
   "cell_type": "code",
   "execution_count": 63,
   "id": "growing-singing",
   "metadata": {},
   "outputs": [
    {
     "data": {
      "text/plain": [
       "KNeighborsRegressor()"
      ]
     },
     "execution_count": 63,
     "metadata": {},
     "output_type": "execute_result"
    }
   ],
   "source": [
    "knnregression.fit(train_features1,train_labels)"
   ]
  },
  {
   "cell_type": "code",
   "execution_count": 64,
   "id": "aggregate-consumption",
   "metadata": {},
   "outputs": [
    {
     "data": {
      "text/plain": [
       "array([1.000000e+00, 1.000000e+00, 1.000000e+00, 1.000000e+00,\n",
       "       5.600000e+00, 5.600000e+00, 5.600000e+00, 5.800000e+00,\n",
       "       6.600000e+00, 4.000000e+00, 6.600000e+00, 8.000000e+00,\n",
       "       9.400000e+00, 1.040000e+01, 1.080000e+01, 9.800000e+00,\n",
       "       1.100000e+01, 1.300000e+01, 1.600000e+01, 1.920000e+01,\n",
       "       2.880000e+01, 4.160000e+01, 5.140000e+01, 6.520000e+01,\n",
       "       7.460000e+01, 8.020000e+01, 7.920000e+01, 9.600000e+01,\n",
       "       1.044000e+02, 1.136000e+02, 1.338000e+02, 1.810000e+02,\n",
       "       2.352000e+02, 3.052000e+02, 3.932000e+02, 4.716000e+02,\n",
       "       5.316000e+02, 5.436000e+02, 5.610000e+02, 5.620000e+02,\n",
       "       6.088000e+02, 6.612000e+02, 7.352000e+02, 7.722000e+02,\n",
       "       9.078000e+02, 9.514000e+02, 9.544000e+02, 9.958000e+02,\n",
       "       1.028600e+03, 1.054200e+03, 1.164000e+03, 1.234600e+03,\n",
       "       1.329800e+03, 1.403800e+03, 1.463000e+03, 1.428600e+03,\n",
       "       1.547800e+03, 1.561800e+03, 1.617000e+03, 1.664000e+03,\n",
       "       1.723400e+03, 1.716800e+03, 1.874600e+03, 2.073800e+03,\n",
       "       2.283800e+03, 2.674000e+03, 2.907800e+03, 3.149000e+03,\n",
       "       3.305000e+03, 3.382400e+03, 3.286200e+03, 3.554200e+03,\n",
       "       3.552200e+03, 3.595800e+03, 3.673200e+03, 3.836400e+03,\n",
       "       3.735800e+03, 3.976200e+03, 4.273600e+03, 4.454000e+03,\n",
       "       4.886600e+03, 5.269000e+03, 5.514800e+03, 5.812200e+03,\n",
       "       6.219600e+03, 6.411000e+03, 6.549800e+03, 6.526600e+03,\n",
       "       6.668600e+03, 6.786400e+03, 6.991800e+03, 7.381800e+03,\n",
       "       7.958200e+03, 8.053800e+03, 8.365400e+03, 8.675400e+03,\n",
       "       8.972000e+03, 9.108600e+03, 9.645400e+03, 1.005940e+04,\n",
       "       9.829000e+03, 9.855800e+03, 1.019260e+04, 1.033800e+04,\n",
       "       1.042280e+04, 1.112340e+04, 1.140800e+04, 1.118320e+04,\n",
       "       1.117320e+04, 1.153360e+04, 1.189160e+04, 1.255880e+04,\n",
       "       1.373600e+04, 1.454920e+04, 1.463960e+04, 1.500500e+04,\n",
       "       1.543060e+04, 1.588800e+04, 1.650880e+04, 1.782520e+04,\n",
       "       1.861600e+04, 1.891020e+04, 1.892020e+04, 1.915520e+04,\n",
       "       1.951620e+04, 2.013780e+04, 2.127360e+04, 2.241100e+04,\n",
       "       2.302500e+04, 2.326520e+04, 2.383380e+04, 2.418820e+04,\n",
       "       2.494960e+04, 2.600040e+04, 2.719200e+04, 2.771540e+04,\n",
       "       2.854080e+04, 2.951240e+04, 3.105520e+04, 3.219880e+04,\n",
       "       3.404540e+04, 3.610900e+04, 3.694880e+04, 3.768920e+04,\n",
       "       3.984460e+04, 4.205100e+04, 4.378160e+04, 4.643480e+04,\n",
       "       4.838720e+04, 4.856380e+04, 4.880140e+04, 4.951960e+04,\n",
       "       5.049880e+04, 5.220960e+04, 5.393620e+04, 5.454440e+04,\n",
       "       5.414680e+04, 5.340960e+04, 5.323760e+04, 5.464820e+04,\n",
       "       5.640480e+04, 5.933780e+04, 6.150480e+04, 6.078280e+04,\n",
       "       6.059920e+04, 6.172140e+04, 6.151840e+04, 6.221700e+04,\n",
       "       6.441100e+04, 6.377980e+04, 6.122620e+04, 6.140280e+04,\n",
       "       6.212000e+04, 6.302640e+04, 6.521300e+04, 6.836680e+04,\n",
       "       6.771180e+04, 6.581180e+04, 6.548280e+04, 6.687600e+04,\n",
       "       6.822800e+04, 7.120960e+04, 7.496620e+04, 7.748380e+04,\n",
       "       7.603800e+04, 7.630620e+04, 7.754780e+04, 7.868380e+04,\n",
       "       8.021300e+04, 8.458100e+04, 8.729240e+04, 8.572240e+04,\n",
       "       8.686160e+04, 8.854740e+04, 8.977860e+04, 9.096460e+04,\n",
       "       9.484440e+04, 9.551740e+04, 9.279200e+04, 9.165900e+04,\n",
       "       9.170000e+04, 9.217460e+04, 9.212520e+04, 9.425820e+04,\n",
       "       9.351780e+04, 8.884440e+04, 8.615940e+04, 8.490540e+04,\n",
       "       8.357480e+04, 8.323920e+04, 8.609240e+04, 8.597400e+04,\n",
       "       8.256720e+04, 8.148300e+04, 8.168920e+04, 8.029440e+04,\n",
       "       7.971740e+04, 8.087940e+04, 7.973340e+04, 7.440980e+04,\n",
       "       7.242660e+04, 7.221140e+04, 7.127520e+04, 7.098220e+04,\n",
       "       7.383980e+04, 7.302380e+04, 6.811440e+04, 6.669820e+04,\n",
       "       6.559940e+04, 6.340400e+04, 6.230700e+04, 6.383320e+04,\n",
       "       6.239360e+04, 5.793260e+04, 5.611400e+04, 5.490600e+04,\n",
       "       5.340160e+04, 5.288400e+04, 5.385600e+04, 5.217080e+04,\n",
       "       4.813880e+04, 4.587180e+04, 4.512320e+04, 4.480300e+04,\n",
       "       4.524200e+04, 4.746680e+04, 4.804520e+04, 4.552600e+04,\n",
       "       4.497840e+04, 4.544800e+04, 4.552800e+04, 4.641420e+04,\n",
       "       4.805800e+04, 4.819400e+04, 4.552480e+04, 4.494400e+04,\n",
       "       4.452920e+04, 4.428380e+04, 4.386640e+04, 4.478100e+04,\n",
       "       4.197240e+04, 3.803720e+04, 3.683000e+04, 3.697920e+04,\n",
       "       3.787780e+04, 4.099820e+04, 4.433660e+04, 4.550780e+04,\n",
       "       4.392280e+04, 4.353480e+04, 4.321800e+04, 4.279260e+04,\n",
       "       4.218240e+04, 4.305720e+04, 4.201540e+04, 3.931140e+04,\n",
       "       3.797140e+04, 3.680200e+04, 3.575380e+04, 3.528880e+04,\n",
       "       3.625500e+04, 3.559580e+04, 3.374000e+04, 3.284180e+04,\n",
       "       3.182700e+04, 3.050720e+04, 2.986380e+04, 3.068920e+04,\n",
       "       2.973980e+04, 2.780060e+04, 2.716860e+04, 2.481080e+04,\n",
       "       2.409080e+04, 2.402180e+04, 2.500040e+04, 2.467460e+04,\n",
       "       2.486960e+04, 2.429480e+04, 2.383980e+04, 2.316180e+04,\n",
       "       2.270720e+04, 2.259280e+04, 2.188340e+04, 2.015460e+04,\n",
       "       1.957420e+04, 1.949340e+04, 1.958360e+04, 1.954880e+04,\n",
       "       1.996320e+04, 1.919040e+04, 1.805700e+04, 1.783360e+04,\n",
       "       1.789620e+04, 1.789200e+04, 1.824700e+04, 1.875540e+04,\n",
       "       1.839080e+04, 1.679260e+04, 1.634860e+04, 1.606100e+04,\n",
       "       1.543240e+04, 1.524620e+04, 1.576000e+04, 1.537180e+04,\n",
       "       1.396620e+04, 1.358820e+04, 1.361300e+04, 1.350200e+04,\n",
       "       1.357420e+04, 1.455600e+04, 1.444500e+04, 1.320880e+04,\n",
       "       1.285640e+04, 1.230300e+04, 1.310620e+04, 1.307060e+04,\n",
       "       1.386560e+04, 1.362440e+04, 1.302900e+04, 1.144680e+04,\n",
       "       1.142100e+04, 1.128660e+04, 1.132340e+04, 1.202140e+04,\n",
       "       1.217840e+04, 1.133640e+04, 1.100240e+04, 1.116800e+04,\n",
       "       1.062480e+04, 1.069500e+04, 1.139160e+04, 1.158660e+04,\n",
       "       1.089600e+04, 1.134380e+04, 1.148880e+04, 1.169680e+04,\n",
       "       1.213880e+04, 1.310540e+04, 1.364260e+04, 1.316900e+04,\n",
       "       1.325780e+04, 1.386060e+04, 1.439660e+04, 1.485340e+04,\n",
       "       1.611560e+04, 1.650200e+04, 1.557000e+04, 1.524980e+04,\n",
       "       1.542240e+04, 1.542620e+04, 1.596820e+04, 1.725900e+04,\n",
       "       1.798940e+04, 1.757500e+04, 1.778480e+04, 1.869020e+04,\n",
       "       1.960500e+04, 2.084400e+04, 2.280420e+04, 2.453220e+04,\n",
       "       2.484940e+04, 2.596360e+04, 2.816220e+04, 3.106880e+04,\n",
       "       3.394740e+04, 3.782300e+04, 4.145100e+04, 4.241060e+04,\n",
       "       4.392100e+04, 4.642360e+04, 4.947760e+04, 5.253100e+04,\n",
       "       5.693020e+04, 6.112360e+04, 6.167020e+04, 6.050060e+04,\n",
       "       6.246840e+04, 6.622160e+04, 7.038500e+04, 7.775340e+04,\n",
       "       8.786480e+04, 9.275440e+04, 9.953720e+04, 1.069878e+05,\n",
       "       1.147646e+05, 1.230052e+05, 1.342056e+05, 1.451262e+05,\n",
       "       1.520418e+05, 1.627274e+05, 1.736448e+05, 1.864994e+05,\n",
       "       1.993168e+05, 2.193250e+05, 2.372804e+05, 2.487670e+05,\n",
       "       2.642750e+05, 2.806250e+05, 2.949522e+05, 3.089948e+05,\n",
       "       3.273906e+05, 3.394466e+05, 3.401904e+05, 3.462668e+05,\n",
       "       3.530882e+05, 3.606436e+05, 3.701148e+05, 3.847358e+05,\n",
       "       3.861712e+05, 3.814444e+05, 3.806592e+05, 3.827812e+05,\n",
       "       3.871220e+05, 3.944842e+05, 4.040920e+05, 4.008136e+05,\n",
       "       3.841870e+05, 3.710420e+05, 3.621882e+05, 3.500276e+05,\n",
       "       3.419878e+05, 3.382410e+05, 3.248974e+05, 3.049752e+05,\n",
       "       2.898234e+05, 2.798096e+05, 2.695066e+05, 2.645990e+05,\n",
       "       2.601742e+05, 2.512918e+05, 2.352258e+05, 2.251758e+05,\n",
       "       2.160180e+05, 2.050536e+05, 1.953034e+05, 1.891884e+05,\n",
       "       1.780692e+05, 1.611438e+05, 1.505592e+05, 1.425514e+05,\n",
       "       1.359798e+05, 1.293914e+05, 1.269124e+05, 1.205238e+05,\n",
       "       1.108758e+05, 1.029484e+05, 9.763420e+04, 9.310640e+04,\n",
       "       8.977940e+04, 8.872360e+04, 8.436640e+04, 7.759140e+04,\n",
       "       7.166500e+04, 6.820800e+04, 6.459020e+04, 6.254300e+04,\n",
       "       6.226440e+04, 6.041660e+04, 5.549540e+04, 5.317160e+04,\n",
       "       5.188040e+04, 5.048920e+04, 4.964720e+04, 5.107940e+04,\n",
       "       5.022060e+04, 4.677280e+04, 4.566180e+04, 4.562940e+04,\n",
       "       4.501680e+04, 4.454960e+04, 4.574100e+04, 4.455020e+04,\n",
       "       4.163420e+04, 4.107080e+04, 4.137360e+04, 4.146900e+04,\n",
       "       4.197100e+04, 4.346460e+04, 4.220260e+04, 3.922600e+04,\n",
       "       3.858800e+04, 3.840780e+04, 3.792320e+04, 3.801580e+04,\n",
       "       4.010880e+04, 3.971200e+04, 3.724420e+04, 3.785560e+04,\n",
       "       3.856960e+04, 3.728560e+04, 3.751980e+04, 3.968160e+04,\n",
       "       3.889180e+04, 3.671840e+04, 3.834000e+04, 3.907280e+04,\n",
       "       3.996120e+04, 4.062520e+04, 4.284980e+04, 4.238140e+04,\n",
       "       3.976540e+04, 3.933720e+04, 3.959680e+04, 4.020920e+04,\n",
       "       3.982440e+04, 4.162100e+04, 4.032220e+04, 3.724840e+04,\n",
       "       3.592340e+04, 3.649960e+04, 3.670220e+04, 3.724720e+04,\n",
       "       3.898860e+04, 3.796160e+04, 3.458360e+04, 3.360900e+04,\n",
       "       3.315720e+04, 3.325020e+04, 3.346280e+04, 3.472820e+04,\n",
       "       3.277060e+04, 3.042900e+04, 3.065680e+04, 3.302100e+04,\n",
       "       3.572640e+04, 4.000360e+04, 4.405760e+04, 4.518460e+04,\n",
       "       4.200840e+04, 4.171300e+04, 4.154680e+04, 4.165880e+04,\n",
       "       4.151740e+04, 4.398920e+04, 4.328200e+04, 4.011980e+04,\n",
       "       3.862200e+04, 3.876880e+04, 3.507760e+04, 3.474520e+04,\n",
       "       3.497000e+04, 3.363120e+04, 2.983380e+04, 3.050400e+04,\n",
       "       2.900000e+04, 2.967300e+04, 3.045560e+04, 3.179880e+04,\n",
       "       3.246400e+04, 3.137440e+04, 2.991140e+04, 2.924260e+04,\n",
       "       2.929880e+04, 2.904620e+04, 2.969860e+04, 2.963080e+04,\n",
       "       2.621020e+04, 2.621020e+04, 2.621020e+04])"
      ]
     },
     "execution_count": 64,
     "metadata": {},
     "output_type": "execute_result"
    }
   ],
   "source": [
    "knnregression.predict(train_features1)"
   ]
  },
  {
   "cell_type": "code",
   "execution_count": 65,
   "id": "sunrise-cambridge",
   "metadata": {},
   "outputs": [
    {
     "data": {
      "text/plain": [
       "2598.4642487046635"
      ]
     },
     "execution_count": 65,
     "metadata": {},
     "output_type": "execute_result"
    }
   ],
   "source": [
    "mean_absolute_error(train_labels,knnregression.predict(train_features1))"
   ]
  },
  {
   "cell_type": "code",
   "execution_count": 66,
   "id": "bright-commission",
   "metadata": {},
   "outputs": [
    {
     "data": {
      "text/plain": [
       "array([26210.2, 26210.2, 26210.2, 26210.2, 26210.2, 26210.2])"
      ]
     },
     "execution_count": 66,
     "metadata": {},
     "output_type": "execute_result"
    }
   ],
   "source": [
    "knnregression.predict(test_features1)"
   ]
  },
  {
   "cell_type": "code",
   "execution_count": null,
   "id": "missing-method",
   "metadata": {},
   "outputs": [],
   "source": []
  },
  {
   "cell_type": "code",
   "execution_count": 67,
   "id": "mysterious-worker",
   "metadata": {},
   "outputs": [],
   "source": [
    "# model1.fit(train_features2,train_labels)"
   ]
  },
  {
   "cell_type": "code",
   "execution_count": 68,
   "id": "improved-surveillance",
   "metadata": {},
   "outputs": [],
   "source": [
    "# train_data_predicted2=model1.predict(train_features2)"
   ]
  },
  {
   "cell_type": "code",
   "execution_count": 69,
   "id": "boring-shoulder",
   "metadata": {},
   "outputs": [],
   "source": [
    "# train_data_predicted2"
   ]
  },
  {
   "cell_type": "code",
   "execution_count": 70,
   "id": "exotic-crowd",
   "metadata": {},
   "outputs": [],
   "source": [
    "# train_labels"
   ]
  },
  {
   "cell_type": "code",
   "execution_count": 71,
   "id": "taken-norwegian",
   "metadata": {},
   "outputs": [],
   "source": [
    "# mean_absolute_error(train_labels,train_data_predicted2)"
   ]
  },
  {
   "cell_type": "code",
   "execution_count": 72,
   "id": "employed-start",
   "metadata": {},
   "outputs": [],
   "source": [
    "# numpy.sqrt(mean_squared_error(train_labels,train_data_predicted2))"
   ]
  },
  {
   "cell_type": "code",
   "execution_count": 73,
   "id": "dependent-airport",
   "metadata": {},
   "outputs": [],
   "source": [
    "# mean_squared_log_error(train_labels,train_data_predicted2)"
   ]
  },
  {
   "cell_type": "code",
   "execution_count": 74,
   "id": "instant-divide",
   "metadata": {},
   "outputs": [],
   "source": [
    "# r2_score(train_labels,train_data_predicted2)"
   ]
  },
  {
   "cell_type": "code",
   "execution_count": null,
   "id": "liked-peoples",
   "metadata": {},
   "outputs": [],
   "source": []
  }
 ],
 "metadata": {
  "interpreter": {
   "hash": "ac59ebe37160ed0dfa835113d9b8498d9f09ceb179beaac4002f036b9467c963"
  },
  "kernelspec": {
   "display_name": "Python 3",
   "language": "python",
   "name": "python3"
  },
  "language_info": {
   "codemirror_mode": {
    "name": "ipython",
    "version": 3
   },
   "file_extension": ".py",
   "mimetype": "text/x-python",
   "name": "python",
   "nbconvert_exporter": "python",
   "pygments_lexer": "ipython3",
   "version": "3.9.2"
  }
 },
 "nbformat": 4,
 "nbformat_minor": 5
}
