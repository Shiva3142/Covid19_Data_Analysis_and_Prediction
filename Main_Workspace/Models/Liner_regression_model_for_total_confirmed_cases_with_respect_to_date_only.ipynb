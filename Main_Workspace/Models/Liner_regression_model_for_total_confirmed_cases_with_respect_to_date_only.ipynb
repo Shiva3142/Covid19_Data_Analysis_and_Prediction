{
 "cells": [
  {
   "cell_type": "markdown",
   "id": "sunrise-encyclopedia",
   "metadata": {},
   "source": [
    "## Imports"
   ]
  },
  {
   "cell_type": "code",
   "execution_count": 1,
   "id": "sunrise-favor",
   "metadata": {},
   "outputs": [],
   "source": [
    "import pandas\n",
    "import numpy\n",
    "import matplotlib.pyplot as plt\n",
    "from pandas.plotting import scatter_matrix\n",
    "import mysql.connector\n",
    "from sklearn.linear_model import LinearRegression\n",
    "from sklearn.metrics import mean_squared_error,mean_absolute_error\n",
    "import joblib\n",
    "import datetime\n",
    "import statsmodels\n",
    "%matplotlib qt"
   ]
  },
  {
   "cell_type": "code",
   "execution_count": 2,
   "id": "differential-worship",
   "metadata": {},
   "outputs": [],
   "source": [
    "with open('../config.env') as f:\n",
    "    credentials=f.read()\n",
    "credentials=credentials.split(\" \")\n",
    "con = mysql.connector.connect(username=credentials[0],password=credentials[1],host=credentials[2],port=credentials[3],database=credentials[4])\n",
    "query=con.cursor()\n",
    "\n"
   ]
  },
  {
   "cell_type": "code",
   "execution_count": 3,
   "id": "cognitive-drunk",
   "metadata": {},
   "outputs": [],
   "source": [
    "sql=\"SELECT * FROM total_india_cases\"\n",
    "query.execute(sql)\n",
    "result=query.fetchall()\n",
    "column=[columns[0] for columns in query.description]"
   ]
  },
  {
   "cell_type": "code",
   "execution_count": 4,
   "id": "cheap-separate",
   "metadata": {},
   "outputs": [],
   "source": [
    "data=pandas.DataFrame(result,columns=column)"
   ]
  },
  {
   "cell_type": "code",
   "execution_count": 5,
   "id": "streaming-architect",
   "metadata": {},
   "outputs": [],
   "source": [
    "# data"
   ]
  },
  {
   "cell_type": "code",
   "execution_count": 6,
   "id": "unnecessary-colorado",
   "metadata": {},
   "outputs": [],
   "source": [
    "# data.info()"
   ]
  },
  {
   "cell_type": "code",
   "execution_count": 7,
   "id": "level-villa",
   "metadata": {},
   "outputs": [],
   "source": [
    "# data.describe()"
   ]
  },
  {
   "cell_type": "code",
   "execution_count": 8,
   "id": "headed-desperate",
   "metadata": {},
   "outputs": [],
   "source": [
    "# data.plot(kind='line',x='date',y='total_confirmed',figsize=(20,15))"
   ]
  },
  {
   "cell_type": "code",
   "execution_count": 9,
   "id": "recorded-bacon",
   "metadata": {},
   "outputs": [],
   "source": [
    "# data.plot(kind='line',x='date',y='total_active',figsize=(20,15))"
   ]
  },
  {
   "cell_type": "code",
   "execution_count": 10,
   "id": "affected-puppy",
   "metadata": {},
   "outputs": [],
   "source": [
    "# data.plot(kind='line',x='date',y='delta_active',figsize=(20,15))"
   ]
  },
  {
   "cell_type": "code",
   "execution_count": 11,
   "id": "southeast-explosion",
   "metadata": {},
   "outputs": [],
   "source": [
    "# data.plot(kind='line',x='date',y=['total_confirmed','total_active','total_tested'],figsize=(20,15))"
   ]
  },
  {
   "cell_type": "code",
   "execution_count": 12,
   "id": "minimal-aviation",
   "metadata": {},
   "outputs": [],
   "source": [
    "# data.plot(kind='line',x='date',y=['delta_confirmed','delta_active','delta_tested'],figsize=(20,15))"
   ]
  },
  {
   "cell_type": "code",
   "execution_count": 13,
   "id": "incorporated-efficiency",
   "metadata": {},
   "outputs": [],
   "source": [
    "# data.plot(kind='line',x='date',y=['delta7_confirmed','delta7_active','delta7_tested'],figsize=(20,15))"
   ]
  },
  {
   "cell_type": "code",
   "execution_count": 14,
   "id": "several-underwear",
   "metadata": {},
   "outputs": [],
   "source": [
    "# data.corr()"
   ]
  },
  {
   "cell_type": "code",
   "execution_count": 15,
   "id": "valid-burke",
   "metadata": {},
   "outputs": [],
   "source": [
    "def splitting(data,training_ratio):\n",
    "    length=len(data)\n",
    "    traing_indexes=int(length*training_ratio)\n",
    "    training_set=data[:traing_indexes]\n",
    "    testing_set=data[traing_indexes:]\n",
    "    return training_set,testing_set"
   ]
  },
  {
   "cell_type": "code",
   "execution_count": 16,
   "id": "continued-pillow",
   "metadata": {},
   "outputs": [],
   "source": [
    "training_data,testing_data=splitting(data,0.9)"
   ]
  },
  {
   "cell_type": "code",
   "execution_count": 17,
   "id": "golden-people",
   "metadata": {},
   "outputs": [
    {
     "data": {
      "text/plain": [
       "506"
      ]
     },
     "execution_count": 17,
     "metadata": {},
     "output_type": "execute_result"
    }
   ],
   "source": [
    "len(training_data)"
   ]
  },
  {
   "cell_type": "code",
   "execution_count": 18,
   "id": "metallic-afternoon",
   "metadata": {},
   "outputs": [
    {
     "data": {
      "text/plain": [
       "57"
      ]
     },
     "execution_count": 18,
     "metadata": {},
     "output_type": "execute_result"
    }
   ],
   "source": [
    "len(testing_data)"
   ]
  },
  {
   "cell_type": "code",
   "execution_count": 19,
   "id": "fixed-helen",
   "metadata": {},
   "outputs": [],
   "source": [
    "# training_data.value_counts()"
   ]
  },
  {
   "cell_type": "code",
   "execution_count": 20,
   "id": "english-thermal",
   "metadata": {},
   "outputs": [],
   "source": [
    "# testing_data.value_counts()"
   ]
  },
  {
   "cell_type": "code",
   "execution_count": null,
   "id": "excited-typing",
   "metadata": {},
   "outputs": [],
   "source": []
  },
  {
   "cell_type": "code",
   "execution_count": 21,
   "id": "black-graphic",
   "metadata": {},
   "outputs": [],
   "source": [
    "features_data=training_data[['ordinal_date']]"
   ]
  },
  {
   "cell_type": "code",
   "execution_count": 22,
   "id": "industrial-brooklyn",
   "metadata": {},
   "outputs": [],
   "source": [
    "# features_data"
   ]
  },
  {
   "cell_type": "code",
   "execution_count": 23,
   "id": "blind-sunrise",
   "metadata": {},
   "outputs": [],
   "source": [
    "labels=training_data['total_confirmed']"
   ]
  },
  {
   "cell_type": "code",
   "execution_count": 24,
   "id": "consecutive-consciousness",
   "metadata": {},
   "outputs": [],
   "source": [
    "# labels"
   ]
  },
  {
   "cell_type": "code",
   "execution_count": 25,
   "id": "frequent-overall",
   "metadata": {},
   "outputs": [],
   "source": [
    "features=features_data.to_numpy()"
   ]
  },
  {
   "cell_type": "code",
   "execution_count": 26,
   "id": "alpine-hormone",
   "metadata": {},
   "outputs": [],
   "source": [
    "# features"
   ]
  },
  {
   "cell_type": "code",
   "execution_count": null,
   "id": "pursuant-might",
   "metadata": {},
   "outputs": [],
   "source": []
  },
  {
   "cell_type": "markdown",
   "id": "floral-shame",
   "metadata": {},
   "source": [
    "# model implementation"
   ]
  },
  {
   "cell_type": "code",
   "execution_count": 27,
   "id": "prescription-bedroom",
   "metadata": {},
   "outputs": [],
   "source": [
    "model=LinearRegression()"
   ]
  },
  {
   "cell_type": "code",
   "execution_count": 28,
   "id": "diagnostic-steam",
   "metadata": {},
   "outputs": [
    {
     "data": {
      "text/plain": [
       "LinearRegression()"
      ]
     },
     "execution_count": 28,
     "metadata": {},
     "output_type": "execute_result"
    }
   ],
   "source": [
    "model.fit(features,labels)"
   ]
  },
  {
   "cell_type": "code",
   "execution_count": 29,
   "id": "satellite-spread",
   "metadata": {},
   "outputs": [
    {
     "data": {
      "text/plain": [
       "array([23878880.2206955])"
      ]
     },
     "execution_count": 29,
     "metadata": {},
     "output_type": "execute_result"
    }
   ],
   "source": [
    "model.predict([[737987]])"
   ]
  },
  {
   "cell_type": "code",
   "execution_count": 30,
   "id": "latin-country",
   "metadata": {},
   "outputs": [],
   "source": [
    "train_predicted=model.predict(features)"
   ]
  },
  {
   "cell_type": "code",
   "execution_count": 31,
   "id": "beginning-delhi",
   "metadata": {},
   "outputs": [],
   "source": [
    "test_features=testing_data[['ordinal_date']].to_numpy()"
   ]
  },
  {
   "cell_type": "code",
   "execution_count": 32,
   "id": "vanilla-remains",
   "metadata": {},
   "outputs": [],
   "source": [
    "test_labels=testing_data['total_confirmed']"
   ]
  },
  {
   "cell_type": "code",
   "execution_count": 33,
   "id": "derived-oracle",
   "metadata": {},
   "outputs": [],
   "source": [
    "test_predicted=model.predict(test_features)"
   ]
  },
  {
   "cell_type": "code",
   "execution_count": 34,
   "id": "cooked-container",
   "metadata": {},
   "outputs": [
    {
     "data": {
      "text/plain": [
       "array([-7054633.67407227, -6880523.83976746, -6822487.22833252,\n",
       "       -6184084.50254822, -5197462.10816193, -5139425.49672699,\n",
       "       -5081388.88529205, -5023352.27385712, -4965315.66242218,\n",
       "       -4907279.05098724, -4849242.43955231, -4791205.82811737,\n",
       "       -4733169.21668243, -4675132.6052475 , -4617095.99381256,\n",
       "       -4559059.38237762, -4501022.77094269, -4442986.15950775,\n",
       "       -4384949.54807281, -4326912.93663788, -4268876.32520294,\n",
       "       -4210839.71376801, -4152803.10233307, -4094766.49089813,\n",
       "       -4036729.8794632 , -3978693.26802826, -3920656.65659332,\n",
       "       -3862620.04515839, -3804583.43372345, -3746546.82228851,\n",
       "       -3688510.21085358, -3630473.59941864, -3572436.9879837 ,\n",
       "       -3514400.37654877, -3456363.76511383, -3398327.15367889,\n",
       "       -3340290.54224396, -3282253.93080902, -3224217.31937408,\n",
       "       -3166180.70793915, -3108144.09650421, -3050107.48506927,\n",
       "       -2992070.87363434, -2934034.2621994 , -2875997.65076447,\n",
       "       -2817961.03932953, -2759924.42789459, -2701887.81645966,\n",
       "       -2643851.20502472, -2585814.59358978, -2527777.98215485,\n",
       "       -2469741.37071991, -2411704.75928497, -2353668.14785004,\n",
       "       -2295631.5364151 , -2237594.92498016, -2179558.31354523,\n",
       "       -2121521.70211029, -2063485.09067535, -2005448.47924042,\n",
       "       -1947411.86780548, -1889375.25637054, -1831338.64493561,\n",
       "       -1773302.03350067, -1715265.42206573, -1657228.8106308 ,\n",
       "       -1599192.19919586, -1541155.58776093, -1483118.97632599,\n",
       "       -1425082.36489105, -1367045.75345612, -1309009.14202118,\n",
       "       -1250972.53059387, -1192935.91915894, -1134899.307724  ,\n",
       "       -1076862.69628906, -1018826.08485413,  -960789.47341919,\n",
       "        -902752.86198425,  -844716.25054932,  -786679.63911438,\n",
       "        -728643.02767944,  -670606.41624451,  -612569.80480957,\n",
       "        -554533.19337463,  -496496.5819397 ,  -438459.97050476,\n",
       "        -380423.35906982,  -322386.74763489,  -264350.13619995,\n",
       "        -206313.52476501,  -148276.91333008,   -90240.30189514,\n",
       "         -32203.69046021,    25832.92097473,    83869.53240967,\n",
       "         141906.1438446 ,   199942.75527954,   257979.36671448,\n",
       "         316015.97814941,   374052.58958435,   432089.20101929,\n",
       "         490125.81245422,   548162.42388916,   606199.0353241 ,\n",
       "         664235.64675903,   722272.25819397,   780308.86962891,\n",
       "         838345.48106384,   896382.09249878,   954418.70393372,\n",
       "        1012455.31536865,  1070491.92680359,  1128528.53823853,\n",
       "        1186565.14967346,  1244601.7611084 ,  1302638.37254333,\n",
       "        1360674.98397827,  1418711.59541321,  1476748.20684814,\n",
       "        1534784.81828308,  1592821.42971802,  1650858.04115295,\n",
       "        1708894.65258789,  1766931.26402283,  1824967.87545776,\n",
       "        1883004.4868927 ,  1941041.09832764,  1999077.70976257,\n",
       "        2057114.32119751,  2115150.93263245,  2173187.54406738,\n",
       "        2231224.15550232,  2289260.76693726,  2347297.37837219,\n",
       "        2405333.98980713,  2463370.60124207,  2521407.212677  ,\n",
       "        2579443.82411194,  2637480.43554688,  2695517.04698181,\n",
       "        2753553.65841675,  2811590.26985168,  2869626.88128662,\n",
       "        2927663.49272156,  2985700.10415649,  3043736.71559143,\n",
       "        3101773.32702637,  3159809.9384613 ,  3217846.54989624,\n",
       "        3275883.16133118,  3333919.77276611,  3391956.38419342,\n",
       "        3449992.99562836,  3508029.60706329,  3566066.21849823,\n",
       "        3624102.82993317,  3682139.4413681 ,  3740176.05280304,\n",
       "        3798212.66423798,  3856249.27567291,  3914285.88710785,\n",
       "        3972322.49854279,  4030359.10997772,  4088395.72141266,\n",
       "        4146432.3328476 ,  4204468.94428253,  4262505.55571747,\n",
       "        4320542.1671524 ,  4378578.77858734,  4436615.39002228,\n",
       "        4494652.00145721,  4552688.61289215,  4610725.22432709,\n",
       "        4668761.83576202,  4726798.44719696,  4784835.0586319 ,\n",
       "        4842871.67006683,  4900908.28150177,  4958944.89293671,\n",
       "        5016981.50437164,  5075018.11580658,  5133054.72724152,\n",
       "        5191091.33867645,  5249127.95011139,  5307164.56154633,\n",
       "        5365201.17298126,  5423237.7844162 ,  5481274.39585114,\n",
       "        5539311.00728607,  5597347.61872101,  5655384.23015594,\n",
       "        5713420.84159088,  5771457.45302582,  5829494.06446075,\n",
       "        5887530.67589569,  5945567.28733063,  6003603.89876556,\n",
       "        6061640.5102005 ,  6119677.12163544,  6177713.73307037,\n",
       "        6235750.34450531,  6293786.95594025,  6351823.56737518,\n",
       "        6409860.17881012,  6467896.79024506,  6525933.40167999,\n",
       "        6583970.01311493,  6642006.62454987,  6700043.2359848 ,\n",
       "        6758079.84741974,  6816116.45885468,  6874153.07028961,\n",
       "        6932189.68172455,  6990226.29315948,  7048262.90459442,\n",
       "        7106299.51602936,  7164336.12746429,  7222372.73889923,\n",
       "        7280409.35033417,  7338445.9617691 ,  7396482.57320404,\n",
       "        7454519.18463898,  7512555.79607391,  7570592.40750885,\n",
       "        7628629.01894379,  7686665.63037872,  7744702.24181366,\n",
       "        7802738.8532486 ,  7860775.46468353,  7918812.07611847,\n",
       "        7976848.68755341,  8034885.29898071,  8092921.91041565,\n",
       "        8150958.52185059,  8208995.13328552,  8267031.74472046,\n",
       "        8325068.3561554 ,  8383104.96759033,  8441141.57902527,\n",
       "        8499178.19046021,  8557214.80189514,  8615251.41333008,\n",
       "        8673288.02476501,  8731324.63619995,  8789361.24763489,\n",
       "        8847397.85906982,  8905434.47050476,  8963471.0819397 ,\n",
       "        9021507.69337463,  9079544.30480957,  9137580.91624451,\n",
       "        9195617.52767944,  9253654.13911438,  9311690.75054932,\n",
       "        9369727.36198425,  9427763.97341919,  9485800.58485413,\n",
       "        9543837.19628906,  9601873.807724  ,  9659910.41915894,\n",
       "        9717947.03059387,  9775983.64202881,  9834020.25346375,\n",
       "        9892056.86489868,  9950093.47633362, 10008130.08776855,\n",
       "       10066166.69920349, 10124203.31063843, 10182239.92207336,\n",
       "       10240276.5335083 , 10298313.14494324, 10356349.75637817,\n",
       "       10414386.36781311, 10472422.97924805, 10530459.59068298,\n",
       "       10588496.20211792, 10646532.81355286, 10704569.42498779,\n",
       "       10762606.03642273, 10820642.64785767, 10878679.2592926 ,\n",
       "       10936715.87072754, 10994752.48216248, 11052789.09359741,\n",
       "       11110825.70503235, 11168862.31646729, 11226898.92790222,\n",
       "       11284935.53933716, 11342972.15077209, 11401008.76220703,\n",
       "       11459045.37364197, 11517081.9850769 , 11575118.59651184,\n",
       "       11633155.20794678, 11691191.81938171, 11749228.43081665,\n",
       "       11807265.04225159, 11865301.65368652, 11923338.26512146,\n",
       "       11981374.8765564 , 12039411.48799133, 12097448.09942627,\n",
       "       12155484.71086121, 12213521.32229614, 12271557.93373108,\n",
       "       12329594.54516602, 12387631.15660095, 12445667.76803589,\n",
       "       12503704.37947083, 12561740.99090576, 12619777.6023407 ,\n",
       "       12677814.21376801, 12735850.82520294, 12793887.43663788,\n",
       "       12851924.04807281, 12909960.65950775, 12967997.27094269,\n",
       "       13026033.88237762, 13084070.49381256, 13142107.1052475 ,\n",
       "       13200143.71668243, 13258180.32811737, 13316216.93955231,\n",
       "       13374253.55098724, 13432290.16242218, 13490326.77385712,\n",
       "       13548363.38529205, 13606399.99672699, 13664436.60816193,\n",
       "       13722473.21959686, 13780509.8310318 , 13838546.44246674,\n",
       "       13896583.05390167, 13954619.66533661, 14012656.27677155,\n",
       "       14070692.88820648, 14128729.49964142, 14186766.11107635,\n",
       "       14244802.72251129, 14302839.33394623, 14360875.94538116,\n",
       "       14418912.5568161 , 14476949.16825104, 14534985.77968597,\n",
       "       14593022.39112091, 14651059.00255585, 14709095.61399078,\n",
       "       14767132.22542572, 14825168.83686066, 14883205.44829559,\n",
       "       14941242.05973053, 14999278.67116547, 15057315.2826004 ,\n",
       "       15115351.89403534, 15173388.50547028, 15231425.11690521,\n",
       "       15289461.72834015, 15347498.33977509, 15405534.95121002,\n",
       "       15463571.56264496, 15521608.1740799 , 15579644.78551483,\n",
       "       15637681.39694977, 15695718.0083847 , 15753754.61981964,\n",
       "       15811791.23125458, 15869827.84268951, 15927864.45412445,\n",
       "       15985901.06555939, 16043937.67699432, 16101974.28842926,\n",
       "       16160010.8998642 , 16218047.51129913, 16276084.12273407,\n",
       "       16334120.73416901, 16392157.34560394, 16450193.95703888,\n",
       "       16508230.56847382, 16566267.17990875, 16624303.79134369,\n",
       "       16682340.40277863, 16740377.01421356, 16798413.6256485 ,\n",
       "       16856450.23708344, 16914486.84851837, 16972523.45995331,\n",
       "       17030560.07138824, 17088596.68282318, 17146633.29425812,\n",
       "       17204669.90569305, 17262706.51712799, 17320743.1285553 ,\n",
       "       17378779.73999023, 17436816.35142517, 17494852.96286011,\n",
       "       17552889.57429504, 17610926.18572998, 17668962.79716492,\n",
       "       17726999.40859985, 17785036.02003479, 17843072.63146973,\n",
       "       17901109.24290466, 17959145.8543396 , 18017182.46577454,\n",
       "       18075219.07720947, 18133255.68864441, 18191292.30007935,\n",
       "       18249328.91151428, 18307365.52294922, 18365402.13438416,\n",
       "       18423438.74581909, 18481475.35725403, 18539511.96868896,\n",
       "       18597548.5801239 , 18655585.19155884, 18713621.80299377,\n",
       "       18771658.41442871, 18829695.02586365, 18887731.63729858,\n",
       "       18945768.24873352, 19003804.86016846, 19061841.47160339,\n",
       "       19119878.08303833, 19177914.69447327, 19235951.3059082 ,\n",
       "       19293987.91734314, 19352024.52877808, 19410061.14021301,\n",
       "       19468097.75164795, 19526134.36308289, 19584170.97451782,\n",
       "       19642207.58595276, 19700244.1973877 , 19758280.80882263,\n",
       "       19816317.42025757, 19874354.0316925 , 19932390.64312744,\n",
       "       19990427.25456238, 20048463.86599731, 20106500.47743225,\n",
       "       20164537.08886719, 20222573.70030212, 20280610.31173706,\n",
       "       20338646.923172  , 20396683.53460693, 20454720.14604187,\n",
       "       20512756.75747681, 20570793.36891174, 20628829.98034668,\n",
       "       20686866.59178162, 20744903.20321655, 20802939.81465149,\n",
       "       20860976.42608643, 20919013.03752136, 20977049.6489563 ,\n",
       "       21035086.26039124, 21093122.87182617, 21151159.48326111,\n",
       "       21209196.09469604, 21267232.70613098, 21325269.31756592,\n",
       "       21383305.92900085, 21441342.54043579, 21499379.15187073,\n",
       "       21557415.76330566, 21615452.3747406 , 21673488.98617554,\n",
       "       21731525.59761047, 21789562.20904541, 21847598.82048035,\n",
       "       21905635.43191528, 21963672.04334259, 22021708.65477753,\n",
       "       22079745.26621246, 22137781.8776474 , 22195818.48908234,\n",
       "       22253855.10051727, 22311891.71195221, 22369928.32338715,\n",
       "       22427964.93482208, 22486001.54625702, 22544038.15769196,\n",
       "       22602074.76912689, 22660111.38056183, 22718147.99199677,\n",
       "       22776184.6034317 , 22834221.21486664, 22892257.82630157,\n",
       "       22950294.43773651, 23008331.04917145, 23066367.66060638,\n",
       "       23124404.27204132, 23182440.88347626, 23240477.49491119,\n",
       "       23298514.10634613, 23356550.71778107, 23414587.329216  ,\n",
       "       23472623.94065094, 23530660.55208588, 23588697.16352081,\n",
       "       23646733.77495575, 23704770.38639069, 23762806.99782562,\n",
       "       23820843.60926056, 23878880.2206955 ])"
      ]
     },
     "execution_count": 34,
     "metadata": {},
     "output_type": "execute_result"
    }
   ],
   "source": [
    "train_predicted"
   ]
  },
  {
   "cell_type": "code",
   "execution_count": 35,
   "id": "civilian-moldova",
   "metadata": {
    "scrolled": true
   },
   "outputs": [
    {
     "data": {
      "text/plain": [
       "array([23936916.83213043, 23994953.44356537, 24052990.05500031,\n",
       "       24111026.66643524, 24169063.27787018, 24227099.88930511,\n",
       "       24285136.50074005, 24343173.11217499, 24401209.72360992,\n",
       "       24459246.33504486, 24517282.9464798 , 24575319.55791473,\n",
       "       24633356.16934967, 24691392.78078461, 24749429.39221954,\n",
       "       24807466.00365448, 24865502.61508942, 24923539.22652435,\n",
       "       24981575.83795929, 25039612.44939423, 25097649.06082916,\n",
       "       25155685.6722641 , 25213722.28369904, 25271758.89513397,\n",
       "       25329795.50656891, 25387832.11800385, 25445868.72943878,\n",
       "       25503905.34087372, 25561941.95230865, 25619978.56374359,\n",
       "       25678015.17517853, 25736051.78661346, 25794088.3980484 ,\n",
       "       25852125.00948334, 25910161.62091827, 25968198.23235321,\n",
       "       26026234.84378815, 26084271.45522308, 26142308.06665802,\n",
       "       26200344.67809296, 26258381.28952789, 26316417.90096283,\n",
       "       26374454.51239777, 26432491.1238327 , 26490527.73526764,\n",
       "       26548564.34670258, 26606600.95812988, 26664637.56956482,\n",
       "       26722674.18099976, 26780710.79243469, 26838747.40386963,\n",
       "       26896784.01530457, 26954820.6267395 , 27012857.23817444,\n",
       "       27070893.84960938, 27128930.46104431, 27186967.07247925])"
      ]
     },
     "execution_count": 35,
     "metadata": {},
     "output_type": "execute_result"
    }
   ],
   "source": [
    "test_predicted"
   ]
  },
  {
   "cell_type": "code",
   "execution_count": 36,
   "id": "tribal-spirituality",
   "metadata": {},
   "outputs": [],
   "source": [
    "# plt.plot(predicted,test_features)"
   ]
  },
  {
   "cell_type": "code",
   "execution_count": 37,
   "id": "foreign-kitchen",
   "metadata": {},
   "outputs": [],
   "source": [
    "# plt.plot(test_features,predicted)"
   ]
  },
  {
   "cell_type": "markdown",
   "id": "serial-cradle",
   "metadata": {},
   "source": [
    "## Evaluation"
   ]
  },
  {
   "cell_type": "code",
   "execution_count": 39,
   "id": "million-fault",
   "metadata": {},
   "outputs": [],
   "source": [
    "mean_squared_error_evaluation=mean_squared_error(test_labels,test_predicted)\n",
    "mean_absolute_error_evaluation=mean_absolute_error(test_labels,test_predicted)"
   ]
  },
  {
   "cell_type": "code",
   "execution_count": 40,
   "id": "convertible-charity",
   "metadata": {},
   "outputs": [
    {
     "data": {
      "text/plain": [
       "43831974439937.06"
      ]
     },
     "execution_count": 40,
     "metadata": {},
     "output_type": "execute_result"
    }
   ],
   "source": [
    "mean_squared_error_evaluation"
   ]
  },
  {
   "cell_type": "code",
   "execution_count": 41,
   "id": "maritime-beads",
   "metadata": {},
   "outputs": [
    {
     "data": {
      "text/plain": [
       "6620572.062891322"
      ]
     },
     "execution_count": 41,
     "metadata": {},
     "output_type": "execute_result"
    }
   ],
   "source": [
    "numpy.sqrt(mean_squared_error_evaluation)"
   ]
  },
  {
   "cell_type": "code",
   "execution_count": 42,
   "id": "colored-platform",
   "metadata": {},
   "outputs": [
    {
     "data": {
      "text/plain": [
       "6612273.626640186"
      ]
     },
     "execution_count": 42,
     "metadata": {},
     "output_type": "execute_result"
    }
   ],
   "source": [
    "mean_absolute_error_evaluation"
   ]
  },
  {
   "cell_type": "code",
   "execution_count": 43,
   "id": "plastic-wesley",
   "metadata": {},
   "outputs": [
    {
     "name": "stdout",
     "output_type": "stream",
     "text": [
      "[[738045], [738046], [738047], [738048], [738049], [738050], [738051]]\n",
      "[datetime.date(2021, 9, 12), datetime.date(2021, 9, 13), datetime.date(2021, 9, 14), datetime.date(2021, 9, 15), datetime.date(2021, 9, 16), datetime.date(2021, 9, 17), datetime.date(2021, 9, 18)]\n"
     ]
    }
   ],
   "source": [
    "def returnNext7days():\n",
    "    date=738044\n",
    "    date_range=[]\n",
    "    l=[]\n",
    "    for i in range(1,8):\n",
    "        l.append([date+i])\n",
    "        date_range.append(datetime.date.fromordinal(date+i))\n",
    "    return l,date_range\n",
    "predictingdate,daterange=returnNext7days()\n",
    "print(predictingdate)\n",
    "print(daterange)"
   ]
  },
  {
   "cell_type": "code",
   "execution_count": null,
   "id": "academic-grounds",
   "metadata": {},
   "outputs": [],
   "source": []
  },
  {
   "cell_type": "code",
   "execution_count": 63,
   "id": "impossible-protection",
   "metadata": {},
   "outputs": [
    {
     "ename": "NameError",
     "evalue": "name 'predictingdate' is not defined",
     "output_type": "error",
     "traceback": [
      "\u001b[1;31m---------------------------------------------------------------------------\u001b[0m",
      "\u001b[1;31mNameError\u001b[0m                                 Traceback (most recent call last)",
      "\u001b[1;32m<ipython-input-63-9c17b85c353a>\u001b[0m in \u001b[0;36m<module>\u001b[1;34m\u001b[0m\n\u001b[1;32m----> 1\u001b[1;33m \u001b[0mnext7days_predicted\u001b[0m\u001b[1;33m=\u001b[0m\u001b[0mmodel\u001b[0m\u001b[1;33m.\u001b[0m\u001b[0mpredict\u001b[0m\u001b[1;33m(\u001b[0m\u001b[0mpredictingdate\u001b[0m\u001b[1;33m)\u001b[0m\u001b[1;33m\u001b[0m\u001b[1;33m\u001b[0m\u001b[0m\n\u001b[0m",
      "\u001b[1;31mNameError\u001b[0m: name 'predictingdate' is not defined"
     ]
    }
   ],
   "source": [
    "next7days_predicted=model.predict(predictingdate)"
   ]
  },
  {
   "cell_type": "code",
   "execution_count": 45,
   "id": "dependent-accordance",
   "metadata": {},
   "outputs": [
    {
     "data": {
      "text/plain": [
       "array([27245003.68391418, 27303040.29534912, 27361076.90678406,\n",
       "       27419113.51821899, 27477150.12965393, 27535186.74108887,\n",
       "       27593223.3525238 ])"
      ]
     },
     "execution_count": 45,
     "metadata": {},
     "output_type": "execute_result"
    }
   ],
   "source": [
    "next7days_predicted"
   ]
  },
  {
   "cell_type": "markdown",
   "id": "hourly-palmer",
   "metadata": {},
   "source": [
    "## forcasting the results for next 7 days"
   ]
  },
  {
   "cell_type": "code",
   "execution_count": 46,
   "id": "bibliographic-approval",
   "metadata": {},
   "outputs": [],
   "source": [
    "plt.plot(data['date'],numpy.concatenate((train_predicted,test_predicted)),label='Line of Regression')\n",
    "plt.plot(data['date'],numpy.concatenate((labels,test_labels)),label='Acual Data')\n",
    "plt.plot(daterange,next7days_predicted)\n",
    "plt.legend()\n",
    "plt.show()"
   ]
  },
  {
   "cell_type": "markdown",
   "id": "banned-there",
   "metadata": {},
   "source": [
    "## Forcasting tecnique"
   ]
  },
  {
   "cell_type": "code",
   "execution_count": null,
   "id": "interpreted-austin",
   "metadata": {},
   "outputs": [],
   "source": []
  },
  {
   "cell_type": "code",
   "execution_count": null,
   "id": "expensive-consultation",
   "metadata": {},
   "outputs": [],
   "source": []
  },
  {
   "cell_type": "code",
   "execution_count": null,
   "id": "taken-island",
   "metadata": {},
   "outputs": [],
   "source": []
  }
 ],
 "metadata": {
  "interpreter": {
   "hash": "ac59ebe37160ed0dfa835113d9b8498d9f09ceb179beaac4002f036b9467c963"
  },
  "kernelspec": {
   "display_name": "Python 3",
   "language": "python",
   "name": "python3"
  },
  "language_info": {
   "codemirror_mode": {
    "name": "ipython",
    "version": 3
   },
   "file_extension": ".py",
   "mimetype": "text/x-python",
   "name": "python",
   "nbconvert_exporter": "python",
   "pygments_lexer": "ipython3",
   "version": "3.9.2"
  }
 },
 "nbformat": 4,
 "nbformat_minor": 5
}
