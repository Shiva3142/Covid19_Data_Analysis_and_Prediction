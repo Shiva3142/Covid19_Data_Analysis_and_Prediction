{
 "cells": [
  {
   "cell_type": "markdown",
   "id": "naughty-advancement",
   "metadata": {},
   "source": [
    "## Imports"
   ]
  },
  {
   "cell_type": "code",
   "execution_count": 1,
   "id": "central-comparison",
   "metadata": {},
   "outputs": [],
   "source": [
    "import pandas\n",
    "import numpy\n",
    "import matplotlib.pyplot as plt\n",
    "from pandas.plotting import scatter_matrix\n",
    "import mysql.connector\n",
    "from sklearn.linear_model import LinearRegression\n",
    "from sklearn.ensemble import RandomForestRegressor\n",
    "from sklearn.metrics import mean_squared_error,mean_absolute_error\n",
    "import joblib\n",
    "import datetime\n",
    "%matplotlib qt"
   ]
  },
  {
   "cell_type": "code",
   "execution_count": 2,
   "id": "agreed-easter",
   "metadata": {},
   "outputs": [],
   "source": [
    "with open('../config.env') as f:\n",
    "    credentials=f.read()\n",
    "credentials=credentials.split(\" \")\n",
    "con = mysql.connector.connect(username=credentials[0],password=credentials[1],host=credentials[2],port=credentials[3],database=credentials[4])\n",
    "query=con.cursor()\n",
    "\n"
   ]
  },
  {
   "cell_type": "code",
   "execution_count": 3,
   "id": "agricultural-spain",
   "metadata": {},
   "outputs": [],
   "source": [
    "sql=\"SELECT * FROM total_india_cases\"\n",
    "query.execute(sql)\n",
    "result=query.fetchall()\n",
    "column=[columns[0] for columns in query.description]"
   ]
  },
  {
   "cell_type": "code",
   "execution_count": 4,
   "id": "applicable-young",
   "metadata": {},
   "outputs": [],
   "source": [
    "data=pandas.DataFrame(result,columns=column)"
   ]
  },
  {
   "cell_type": "code",
   "execution_count": 5,
   "id": "confirmed-rehabilitation",
   "metadata": {},
   "outputs": [
    {
     "data": {
      "text/html": [
       "<div>\n",
       "<style scoped>\n",
       "    .dataframe tbody tr th:only-of-type {\n",
       "        vertical-align: middle;\n",
       "    }\n",
       "\n",
       "    .dataframe tbody tr th {\n",
       "        vertical-align: top;\n",
       "    }\n",
       "\n",
       "    .dataframe thead th {\n",
       "        text-align: right;\n",
       "    }\n",
       "</style>\n",
       "<table border=\"1\" class=\"dataframe\">\n",
       "  <thead>\n",
       "    <tr style=\"text-align: right;\">\n",
       "      <th></th>\n",
       "      <th>index_no</th>\n",
       "      <th>date</th>\n",
       "      <th>ordinal_date</th>\n",
       "      <th>total_confirmed</th>\n",
       "      <th>total_active</th>\n",
       "      <th>total_recovered</th>\n",
       "      <th>total_deaths</th>\n",
       "      <th>total_tested</th>\n",
       "      <th>total_vaccinated1</th>\n",
       "      <th>total_vaccinated2</th>\n",
       "      <th>...</th>\n",
       "      <th>delta7_confirmed</th>\n",
       "      <th>delta7_active</th>\n",
       "      <th>delta7_recovered</th>\n",
       "      <th>delta7_deaths</th>\n",
       "      <th>delta7_tested</th>\n",
       "      <th>delta7_vaccinated1</th>\n",
       "      <th>delta7_vaccinated2</th>\n",
       "      <th>total_other</th>\n",
       "      <th>delta_other</th>\n",
       "      <th>delta7_other</th>\n",
       "    </tr>\n",
       "  </thead>\n",
       "  <tbody>\n",
       "    <tr>\n",
       "      <th>0</th>\n",
       "      <td>1</td>\n",
       "      <td>2020-01-30</td>\n",
       "      <td>737454</td>\n",
       "      <td>1</td>\n",
       "      <td>1</td>\n",
       "      <td>0</td>\n",
       "      <td>0</td>\n",
       "      <td>0</td>\n",
       "      <td>0</td>\n",
       "      <td>0</td>\n",
       "      <td>...</td>\n",
       "      <td>1</td>\n",
       "      <td>1</td>\n",
       "      <td>0</td>\n",
       "      <td>0</td>\n",
       "      <td>0</td>\n",
       "      <td>0</td>\n",
       "      <td>0</td>\n",
       "      <td>0</td>\n",
       "      <td>0</td>\n",
       "      <td>0</td>\n",
       "    </tr>\n",
       "    <tr>\n",
       "      <th>1</th>\n",
       "      <td>2</td>\n",
       "      <td>2020-02-02</td>\n",
       "      <td>737457</td>\n",
       "      <td>2</td>\n",
       "      <td>2</td>\n",
       "      <td>0</td>\n",
       "      <td>0</td>\n",
       "      <td>0</td>\n",
       "      <td>0</td>\n",
       "      <td>0</td>\n",
       "      <td>...</td>\n",
       "      <td>2</td>\n",
       "      <td>2</td>\n",
       "      <td>0</td>\n",
       "      <td>0</td>\n",
       "      <td>0</td>\n",
       "      <td>0</td>\n",
       "      <td>0</td>\n",
       "      <td>0</td>\n",
       "      <td>0</td>\n",
       "      <td>0</td>\n",
       "    </tr>\n",
       "    <tr>\n",
       "      <th>2</th>\n",
       "      <td>3</td>\n",
       "      <td>2020-02-03</td>\n",
       "      <td>737458</td>\n",
       "      <td>3</td>\n",
       "      <td>3</td>\n",
       "      <td>0</td>\n",
       "      <td>0</td>\n",
       "      <td>0</td>\n",
       "      <td>0</td>\n",
       "      <td>0</td>\n",
       "      <td>...</td>\n",
       "      <td>3</td>\n",
       "      <td>3</td>\n",
       "      <td>0</td>\n",
       "      <td>0</td>\n",
       "      <td>0</td>\n",
       "      <td>0</td>\n",
       "      <td>0</td>\n",
       "      <td>0</td>\n",
       "      <td>0</td>\n",
       "      <td>0</td>\n",
       "    </tr>\n",
       "    <tr>\n",
       "      <th>3</th>\n",
       "      <td>4</td>\n",
       "      <td>2020-02-14</td>\n",
       "      <td>737469</td>\n",
       "      <td>3</td>\n",
       "      <td>0</td>\n",
       "      <td>3</td>\n",
       "      <td>0</td>\n",
       "      <td>0</td>\n",
       "      <td>0</td>\n",
       "      <td>0</td>\n",
       "      <td>...</td>\n",
       "      <td>0</td>\n",
       "      <td>-3</td>\n",
       "      <td>3</td>\n",
       "      <td>0</td>\n",
       "      <td>0</td>\n",
       "      <td>0</td>\n",
       "      <td>0</td>\n",
       "      <td>0</td>\n",
       "      <td>0</td>\n",
       "      <td>0</td>\n",
       "    </tr>\n",
       "    <tr>\n",
       "      <th>4</th>\n",
       "      <td>5</td>\n",
       "      <td>2020-03-02</td>\n",
       "      <td>737486</td>\n",
       "      <td>5</td>\n",
       "      <td>2</td>\n",
       "      <td>3</td>\n",
       "      <td>0</td>\n",
       "      <td>0</td>\n",
       "      <td>0</td>\n",
       "      <td>0</td>\n",
       "      <td>...</td>\n",
       "      <td>2</td>\n",
       "      <td>2</td>\n",
       "      <td>0</td>\n",
       "      <td>0</td>\n",
       "      <td>0</td>\n",
       "      <td>0</td>\n",
       "      <td>0</td>\n",
       "      <td>0</td>\n",
       "      <td>0</td>\n",
       "      <td>0</td>\n",
       "    </tr>\n",
       "    <tr>\n",
       "      <th>...</th>\n",
       "      <td>...</td>\n",
       "      <td>...</td>\n",
       "      <td>...</td>\n",
       "      <td>...</td>\n",
       "      <td>...</td>\n",
       "      <td>...</td>\n",
       "      <td>...</td>\n",
       "      <td>...</td>\n",
       "      <td>...</td>\n",
       "      <td>...</td>\n",
       "      <td>...</td>\n",
       "      <td>...</td>\n",
       "      <td>...</td>\n",
       "      <td>...</td>\n",
       "      <td>...</td>\n",
       "      <td>...</td>\n",
       "      <td>...</td>\n",
       "      <td>...</td>\n",
       "      <td>...</td>\n",
       "      <td>...</td>\n",
       "      <td>...</td>\n",
       "    </tr>\n",
       "    <tr>\n",
       "      <th>574</th>\n",
       "      <td>575</td>\n",
       "      <td>2021-09-23</td>\n",
       "      <td>738056</td>\n",
       "      <td>33593513</td>\n",
       "      <td>293402</td>\n",
       "      <td>32840724</td>\n",
       "      <td>446399</td>\n",
       "      <td>559932709</td>\n",
       "      <td>622902393</td>\n",
       "      <td>218615633</td>\n",
       "      <td>...</td>\n",
       "      <td>212978</td>\n",
       "      <td>-39045</td>\n",
       "      <td>249839</td>\n",
       "      <td>2121</td>\n",
       "      <td>10703560</td>\n",
       "      <td>40295488</td>\n",
       "      <td>28796794</td>\n",
       "      <td>12988</td>\n",
       "      <td>13</td>\n",
       "      <td>63</td>\n",
       "    </tr>\n",
       "    <tr>\n",
       "      <th>575</th>\n",
       "      <td>576</td>\n",
       "      <td>2021-09-24</td>\n",
       "      <td>738057</td>\n",
       "      <td>33623078</td>\n",
       "      <td>294619</td>\n",
       "      <td>32868773</td>\n",
       "      <td>446690</td>\n",
       "      <td>561661383</td>\n",
       "      <td>627174874</td>\n",
       "      <td>221754286</td>\n",
       "      <td>...</td>\n",
       "      <td>207189</td>\n",
       "      <td>-39055</td>\n",
       "      <td>244055</td>\n",
       "      <td>2127</td>\n",
       "      <td>10881110</td>\n",
       "      <td>31083028</td>\n",
       "      <td>22537043</td>\n",
       "      <td>12996</td>\n",
       "      <td>8</td>\n",
       "      <td>62</td>\n",
       "    </tr>\n",
       "    <tr>\n",
       "      <th>576</th>\n",
       "      <td>577</td>\n",
       "      <td>2021-09-25</td>\n",
       "      <td>738058</td>\n",
       "      <td>33651247</td>\n",
       "      <td>296493</td>\n",
       "      <td>32894794</td>\n",
       "      <td>446949</td>\n",
       "      <td>563243245</td>\n",
       "      <td>630831085</td>\n",
       "      <td>225250442</td>\n",
       "      <td>...</td>\n",
       "      <td>204228</td>\n",
       "      <td>-28342</td>\n",
       "      <td>230424</td>\n",
       "      <td>2080</td>\n",
       "      <td>10903077</td>\n",
       "      <td>29784635</td>\n",
       "      <td>21924561</td>\n",
       "      <td>13011</td>\n",
       "      <td>15</td>\n",
       "      <td>66</td>\n",
       "    </tr>\n",
       "    <tr>\n",
       "      <th>577</th>\n",
       "      <td>578</td>\n",
       "      <td>2021-09-26</td>\n",
       "      <td>738059</td>\n",
       "      <td>33678246</td>\n",
       "      <td>293584</td>\n",
       "      <td>32924419</td>\n",
       "      <td>447225</td>\n",
       "      <td>564408251</td>\n",
       "      <td>633216286</td>\n",
       "      <td>226942725</td>\n",
       "      <td>...</td>\n",
       "      <td>200399</td>\n",
       "      <td>-18559</td>\n",
       "      <td>216832</td>\n",
       "      <td>2060</td>\n",
       "      <td>10786485</td>\n",
       "      <td>29549513</td>\n",
       "      <td>22041354</td>\n",
       "      <td>13018</td>\n",
       "      <td>7</td>\n",
       "      <td>66</td>\n",
       "    </tr>\n",
       "    <tr>\n",
       "      <th>578</th>\n",
       "      <td>579</td>\n",
       "      <td>2021-09-27</td>\n",
       "      <td>738060</td>\n",
       "      <td>33693153</td>\n",
       "      <td>284052</td>\n",
       "      <td>32948670</td>\n",
       "      <td>447406</td>\n",
       "      <td>565730031</td>\n",
       "      <td>639614662</td>\n",
       "      <td>231093974</td>\n",
       "      <td>...</td>\n",
       "      <td>190399</td>\n",
       "      <td>-18271</td>\n",
       "      <td>206613</td>\n",
       "      <td>1990</td>\n",
       "      <td>10694314</td>\n",
       "      <td>30046502</td>\n",
       "      <td>22148307</td>\n",
       "      <td>13025</td>\n",
       "      <td>7</td>\n",
       "      <td>67</td>\n",
       "    </tr>\n",
       "  </tbody>\n",
       "</table>\n",
       "<p>579 rows × 27 columns</p>\n",
       "</div>"
      ],
      "text/plain": [
       "     index_no        date  ordinal_date  total_confirmed  total_active  \\\n",
       "0           1  2020-01-30        737454                1             1   \n",
       "1           2  2020-02-02        737457                2             2   \n",
       "2           3  2020-02-03        737458                3             3   \n",
       "3           4  2020-02-14        737469                3             0   \n",
       "4           5  2020-03-02        737486                5             2   \n",
       "..        ...         ...           ...              ...           ...   \n",
       "574       575  2021-09-23        738056         33593513        293402   \n",
       "575       576  2021-09-24        738057         33623078        294619   \n",
       "576       577  2021-09-25        738058         33651247        296493   \n",
       "577       578  2021-09-26        738059         33678246        293584   \n",
       "578       579  2021-09-27        738060         33693153        284052   \n",
       "\n",
       "     total_recovered  total_deaths  total_tested  total_vaccinated1  \\\n",
       "0                  0             0             0                  0   \n",
       "1                  0             0             0                  0   \n",
       "2                  0             0             0                  0   \n",
       "3                  3             0             0                  0   \n",
       "4                  3             0             0                  0   \n",
       "..               ...           ...           ...                ...   \n",
       "574         32840724        446399     559932709          622902393   \n",
       "575         32868773        446690     561661383          627174874   \n",
       "576         32894794        446949     563243245          630831085   \n",
       "577         32924419        447225     564408251          633216286   \n",
       "578         32948670        447406     565730031          639614662   \n",
       "\n",
       "     total_vaccinated2  ...  delta7_confirmed  delta7_active  \\\n",
       "0                    0  ...                 1              1   \n",
       "1                    0  ...                 2              2   \n",
       "2                    0  ...                 3              3   \n",
       "3                    0  ...                 0             -3   \n",
       "4                    0  ...                 2              2   \n",
       "..                 ...  ...               ...            ...   \n",
       "574          218615633  ...            212978         -39045   \n",
       "575          221754286  ...            207189         -39055   \n",
       "576          225250442  ...            204228         -28342   \n",
       "577          226942725  ...            200399         -18559   \n",
       "578          231093974  ...            190399         -18271   \n",
       "\n",
       "     delta7_recovered  delta7_deaths  delta7_tested  delta7_vaccinated1  \\\n",
       "0                   0              0              0                   0   \n",
       "1                   0              0              0                   0   \n",
       "2                   0              0              0                   0   \n",
       "3                   3              0              0                   0   \n",
       "4                   0              0              0                   0   \n",
       "..                ...            ...            ...                 ...   \n",
       "574            249839           2121       10703560            40295488   \n",
       "575            244055           2127       10881110            31083028   \n",
       "576            230424           2080       10903077            29784635   \n",
       "577            216832           2060       10786485            29549513   \n",
       "578            206613           1990       10694314            30046502   \n",
       "\n",
       "     delta7_vaccinated2  total_other  delta_other  delta7_other  \n",
       "0                     0            0            0             0  \n",
       "1                     0            0            0             0  \n",
       "2                     0            0            0             0  \n",
       "3                     0            0            0             0  \n",
       "4                     0            0            0             0  \n",
       "..                  ...          ...          ...           ...  \n",
       "574            28796794        12988           13            63  \n",
       "575            22537043        12996            8            62  \n",
       "576            21924561        13011           15            66  \n",
       "577            22041354        13018            7            66  \n",
       "578            22148307        13025            7            67  \n",
       "\n",
       "[579 rows x 27 columns]"
      ]
     },
     "execution_count": 5,
     "metadata": {},
     "output_type": "execute_result"
    }
   ],
   "source": [
    "data"
   ]
  },
  {
   "cell_type": "code",
   "execution_count": 6,
   "id": "convertible-holocaust",
   "metadata": {},
   "outputs": [],
   "source": [
    "# data.info()"
   ]
  },
  {
   "cell_type": "code",
   "execution_count": 7,
   "id": "enabling-teaching",
   "metadata": {},
   "outputs": [],
   "source": [
    "# data.describe()"
   ]
  },
  {
   "cell_type": "code",
   "execution_count": 8,
   "id": "sapphire-millennium",
   "metadata": {},
   "outputs": [],
   "source": [
    "# data.plot(kind='line',x='date',y='total_confirmed',figsize=(20,15))"
   ]
  },
  {
   "cell_type": "code",
   "execution_count": 9,
   "id": "covered-sphere",
   "metadata": {},
   "outputs": [],
   "source": [
    "# data.plot(kind='line',x='date',y='total_active',figsize=(20,15))"
   ]
  },
  {
   "cell_type": "code",
   "execution_count": 10,
   "id": "enabling-peripheral",
   "metadata": {},
   "outputs": [],
   "source": [
    "# data.plot(kind='line',x='date',y='delta_active',figsize=(20,15))"
   ]
  },
  {
   "cell_type": "code",
   "execution_count": 11,
   "id": "detected-filling",
   "metadata": {},
   "outputs": [],
   "source": [
    "# data.plot(kind='line',x='date',y=['total_confirmed','total_active','total_tested'],figsize=(20,15))"
   ]
  },
  {
   "cell_type": "code",
   "execution_count": 12,
   "id": "colored-horizon",
   "metadata": {},
   "outputs": [],
   "source": [
    "# data.plot(kind='line',x='date',y=['delta_confirmed','delta_active','delta_tested'],figsize=(20,15))"
   ]
  },
  {
   "cell_type": "code",
   "execution_count": 13,
   "id": "educational-reynolds",
   "metadata": {},
   "outputs": [],
   "source": [
    "# data.plot(kind='line',x='date',y=['delta7_confirmed','delta7_active','delta7_tested'],figsize=(20,15))"
   ]
  },
  {
   "cell_type": "code",
   "execution_count": 14,
   "id": "enclosed-winning",
   "metadata": {},
   "outputs": [],
   "source": [
    "# data.corr()"
   ]
  },
  {
   "cell_type": "code",
   "execution_count": 15,
   "id": "coordinate-habitat",
   "metadata": {},
   "outputs": [],
   "source": [
    "def splitting(data,training_ratio):\n",
    "    length=len(data)\n",
    "    traing_indexes=int(length*training_ratio)\n",
    "    training_set=data[:traing_indexes]\n",
    "    testing_set=data[traing_indexes:]\n",
    "    return training_set,testing_set"
   ]
  },
  {
   "cell_type": "code",
   "execution_count": 16,
   "id": "unavailable-facing",
   "metadata": {},
   "outputs": [],
   "source": [
    "# training_data,testing_data=splitting(data,0.9)"
   ]
  },
  {
   "cell_type": "code",
   "execution_count": 17,
   "id": "after-poker",
   "metadata": {},
   "outputs": [],
   "source": [
    "# len(training_data)"
   ]
  },
  {
   "cell_type": "code",
   "execution_count": 18,
   "id": "other-marks",
   "metadata": {},
   "outputs": [],
   "source": [
    "# len(testing_data)"
   ]
  },
  {
   "cell_type": "code",
   "execution_count": 19,
   "id": "wrong-blackjack",
   "metadata": {},
   "outputs": [],
   "source": [
    "# training_data.value_counts()"
   ]
  },
  {
   "cell_type": "code",
   "execution_count": 20,
   "id": "assigned-product",
   "metadata": {},
   "outputs": [],
   "source": [
    "# testing_data.value_counts()"
   ]
  },
  {
   "cell_type": "code",
   "execution_count": null,
   "id": "adjacent-prince",
   "metadata": {},
   "outputs": [],
   "source": []
  },
  {
   "cell_type": "code",
   "execution_count": 21,
   "id": "similar-inspection",
   "metadata": {},
   "outputs": [],
   "source": [
    "# features_data=training_data[['ordinal_date']]"
   ]
  },
  {
   "cell_type": "code",
   "execution_count": 22,
   "id": "willing-algebra",
   "metadata": {},
   "outputs": [],
   "source": [
    "# features_data"
   ]
  },
  {
   "cell_type": "code",
   "execution_count": 23,
   "id": "turkish-collector",
   "metadata": {},
   "outputs": [],
   "source": [
    "# labels=training_data['total_confirmed']"
   ]
  },
  {
   "cell_type": "code",
   "execution_count": 24,
   "id": "serial-greeting",
   "metadata": {},
   "outputs": [],
   "source": [
    "# labels"
   ]
  },
  {
   "cell_type": "code",
   "execution_count": 25,
   "id": "selected-cigarette",
   "metadata": {},
   "outputs": [],
   "source": [
    "# features=features_data.to_numpy()"
   ]
  },
  {
   "cell_type": "code",
   "execution_count": 26,
   "id": "standing-gothic",
   "metadata": {},
   "outputs": [],
   "source": [
    "# features"
   ]
  },
  {
   "cell_type": "code",
   "execution_count": null,
   "id": "unknown-eleven",
   "metadata": {},
   "outputs": [],
   "source": []
  },
  {
   "cell_type": "markdown",
   "id": "positive-setting",
   "metadata": {},
   "source": [
    "# model implementation"
   ]
  },
  {
   "cell_type": "code",
   "execution_count": 27,
   "id": "cordless-curtis",
   "metadata": {},
   "outputs": [],
   "source": [
    "# model=LinearRegression()"
   ]
  },
  {
   "cell_type": "code",
   "execution_count": 28,
   "id": "mineral-handbook",
   "metadata": {},
   "outputs": [],
   "source": [
    "# model.fit(features,labels)"
   ]
  },
  {
   "cell_type": "code",
   "execution_count": 29,
   "id": "solved-brake",
   "metadata": {},
   "outputs": [],
   "source": [
    "# model.predict([[737987]])"
   ]
  },
  {
   "cell_type": "code",
   "execution_count": 30,
   "id": "addressed-decrease",
   "metadata": {},
   "outputs": [],
   "source": [
    "# train_predicted=model.predict(features)"
   ]
  },
  {
   "cell_type": "code",
   "execution_count": 31,
   "id": "configured-oasis",
   "metadata": {},
   "outputs": [],
   "source": [
    "# test_features=testing_data[['ordinal_date']].to_numpy()"
   ]
  },
  {
   "cell_type": "code",
   "execution_count": 32,
   "id": "future-confidentiality",
   "metadata": {},
   "outputs": [],
   "source": [
    "# test_labels=testing_data['total_confirmed']"
   ]
  },
  {
   "cell_type": "code",
   "execution_count": 33,
   "id": "actual-brazil",
   "metadata": {},
   "outputs": [],
   "source": [
    "# test_predicted=model.predict(test_features)"
   ]
  },
  {
   "cell_type": "code",
   "execution_count": 34,
   "id": "answering-intro",
   "metadata": {},
   "outputs": [],
   "source": [
    "# train_predicted"
   ]
  },
  {
   "cell_type": "code",
   "execution_count": 35,
   "id": "defensive-exploration",
   "metadata": {
    "scrolled": true
   },
   "outputs": [],
   "source": [
    "# test_predicted"
   ]
  },
  {
   "cell_type": "code",
   "execution_count": 36,
   "id": "after-colors",
   "metadata": {},
   "outputs": [],
   "source": [
    "# plt.plot(predicted,test_features)"
   ]
  },
  {
   "cell_type": "code",
   "execution_count": 37,
   "id": "angry-atlanta",
   "metadata": {},
   "outputs": [],
   "source": [
    "# plt.plot(test_features,predicted)"
   ]
  },
  {
   "cell_type": "markdown",
   "id": "noted-reservoir",
   "metadata": {},
   "source": [
    "## Evaluation"
   ]
  },
  {
   "cell_type": "code",
   "execution_count": 38,
   "id": "devoted-personal",
   "metadata": {},
   "outputs": [],
   "source": [
    "# mean_squared_error_evaluation=mean_squared_error(test_labels,test_predicted)\n",
    "# mean_absolute_error_evaluation=mean_absolute_error(test_labels,test_predicted)"
   ]
  },
  {
   "cell_type": "code",
   "execution_count": 39,
   "id": "grand-member",
   "metadata": {},
   "outputs": [],
   "source": [
    "# mean_squared_error_evaluation"
   ]
  },
  {
   "cell_type": "code",
   "execution_count": 40,
   "id": "ultimate-nightlife",
   "metadata": {},
   "outputs": [],
   "source": [
    "# numpy.sqrt(mean_squared_error_evaluation)"
   ]
  },
  {
   "cell_type": "code",
   "execution_count": 41,
   "id": "numerous-thanksgiving",
   "metadata": {},
   "outputs": [],
   "source": [
    "# mean_absolute_error_evaluation"
   ]
  },
  {
   "cell_type": "code",
   "execution_count": 42,
   "id": "charged-wellington",
   "metadata": {},
   "outputs": [
    {
     "name": "stdout",
     "output_type": "stream",
     "text": [
      "[[738045], [738046], [738047], [738048], [738049], [738050], [738051]]\n",
      "[datetime.date(2021, 9, 12), datetime.date(2021, 9, 13), datetime.date(2021, 9, 14), datetime.date(2021, 9, 15), datetime.date(2021, 9, 16), datetime.date(2021, 9, 17), datetime.date(2021, 9, 18)]\n"
     ]
    }
   ],
   "source": [
    "def returnNext7days():\n",
    "    date=738044\n",
    "    date_range=[]\n",
    "    l=[]\n",
    "    for i in range(1,8):\n",
    "        l.append([date+i])\n",
    "        date_range.append(datetime.date.fromordinal(date+i))\n",
    "    return l,date_range\n",
    "predictingdate,daterange=returnNext7days()\n",
    "print(predictingdate)\n",
    "print(daterange)"
   ]
  },
  {
   "cell_type": "code",
   "execution_count": null,
   "id": "historic-athens",
   "metadata": {},
   "outputs": [],
   "source": []
  },
  {
   "cell_type": "code",
   "execution_count": 43,
   "id": "sticky-measure",
   "metadata": {},
   "outputs": [],
   "source": [
    "# next7days_predicted=model.predict(predictingdate)"
   ]
  },
  {
   "cell_type": "code",
   "execution_count": 44,
   "id": "sublime-lodging",
   "metadata": {},
   "outputs": [],
   "source": [
    "# next7days_predicted"
   ]
  },
  {
   "cell_type": "markdown",
   "id": "enhanced-moderator",
   "metadata": {},
   "source": [
    "## forcasting the results for next 7 days"
   ]
  },
  {
   "cell_type": "code",
   "execution_count": 45,
   "id": "injured-midwest",
   "metadata": {},
   "outputs": [],
   "source": [
    "# plt.plot(data['date'],numpy.concatenate((train_predicted,test_predicted)),label='Line of Regression')\n",
    "# plt.plot(data['date'],numpy.concatenate((labels,test_labels)),label='Acual Data')\n",
    "# plt.plot(daterange,next7days_predicted)\n",
    "# plt.legend()\n",
    "# plt.show()"
   ]
  },
  {
   "cell_type": "code",
   "execution_count": null,
   "id": "freelance-transport",
   "metadata": {},
   "outputs": [],
   "source": []
  },
  {
   "cell_type": "markdown",
   "id": "legal-drinking",
   "metadata": {},
   "source": [
    "# New Model Try"
   ]
  },
  {
   "cell_type": "code",
   "execution_count": 46,
   "id": "invisible-indian",
   "metadata": {},
   "outputs": [
    {
     "data": {
      "text/html": [
       "<div>\n",
       "<style scoped>\n",
       "    .dataframe tbody tr th:only-of-type {\n",
       "        vertical-align: middle;\n",
       "    }\n",
       "\n",
       "    .dataframe tbody tr th {\n",
       "        vertical-align: top;\n",
       "    }\n",
       "\n",
       "    .dataframe thead th {\n",
       "        text-align: right;\n",
       "    }\n",
       "</style>\n",
       "<table border=\"1\" class=\"dataframe\">\n",
       "  <thead>\n",
       "    <tr style=\"text-align: right;\">\n",
       "      <th></th>\n",
       "      <th>index_no</th>\n",
       "      <th>date</th>\n",
       "      <th>ordinal_date</th>\n",
       "      <th>total_confirmed</th>\n",
       "      <th>total_active</th>\n",
       "      <th>total_recovered</th>\n",
       "      <th>total_deaths</th>\n",
       "      <th>total_tested</th>\n",
       "      <th>total_vaccinated1</th>\n",
       "      <th>total_vaccinated2</th>\n",
       "      <th>...</th>\n",
       "      <th>delta7_confirmed</th>\n",
       "      <th>delta7_active</th>\n",
       "      <th>delta7_recovered</th>\n",
       "      <th>delta7_deaths</th>\n",
       "      <th>delta7_tested</th>\n",
       "      <th>delta7_vaccinated1</th>\n",
       "      <th>delta7_vaccinated2</th>\n",
       "      <th>total_other</th>\n",
       "      <th>delta_other</th>\n",
       "      <th>delta7_other</th>\n",
       "    </tr>\n",
       "  </thead>\n",
       "  <tbody>\n",
       "    <tr>\n",
       "      <th>0</th>\n",
       "      <td>1</td>\n",
       "      <td>2020-01-30</td>\n",
       "      <td>737454</td>\n",
       "      <td>1</td>\n",
       "      <td>1</td>\n",
       "      <td>0</td>\n",
       "      <td>0</td>\n",
       "      <td>0</td>\n",
       "      <td>0</td>\n",
       "      <td>0</td>\n",
       "      <td>...</td>\n",
       "      <td>1</td>\n",
       "      <td>1</td>\n",
       "      <td>0</td>\n",
       "      <td>0</td>\n",
       "      <td>0</td>\n",
       "      <td>0</td>\n",
       "      <td>0</td>\n",
       "      <td>0</td>\n",
       "      <td>0</td>\n",
       "      <td>0</td>\n",
       "    </tr>\n",
       "    <tr>\n",
       "      <th>1</th>\n",
       "      <td>2</td>\n",
       "      <td>2020-02-02</td>\n",
       "      <td>737457</td>\n",
       "      <td>2</td>\n",
       "      <td>2</td>\n",
       "      <td>0</td>\n",
       "      <td>0</td>\n",
       "      <td>0</td>\n",
       "      <td>0</td>\n",
       "      <td>0</td>\n",
       "      <td>...</td>\n",
       "      <td>2</td>\n",
       "      <td>2</td>\n",
       "      <td>0</td>\n",
       "      <td>0</td>\n",
       "      <td>0</td>\n",
       "      <td>0</td>\n",
       "      <td>0</td>\n",
       "      <td>0</td>\n",
       "      <td>0</td>\n",
       "      <td>0</td>\n",
       "    </tr>\n",
       "    <tr>\n",
       "      <th>2</th>\n",
       "      <td>3</td>\n",
       "      <td>2020-02-03</td>\n",
       "      <td>737458</td>\n",
       "      <td>3</td>\n",
       "      <td>3</td>\n",
       "      <td>0</td>\n",
       "      <td>0</td>\n",
       "      <td>0</td>\n",
       "      <td>0</td>\n",
       "      <td>0</td>\n",
       "      <td>...</td>\n",
       "      <td>3</td>\n",
       "      <td>3</td>\n",
       "      <td>0</td>\n",
       "      <td>0</td>\n",
       "      <td>0</td>\n",
       "      <td>0</td>\n",
       "      <td>0</td>\n",
       "      <td>0</td>\n",
       "      <td>0</td>\n",
       "      <td>0</td>\n",
       "    </tr>\n",
       "    <tr>\n",
       "      <th>3</th>\n",
       "      <td>4</td>\n",
       "      <td>2020-02-14</td>\n",
       "      <td>737469</td>\n",
       "      <td>3</td>\n",
       "      <td>0</td>\n",
       "      <td>3</td>\n",
       "      <td>0</td>\n",
       "      <td>0</td>\n",
       "      <td>0</td>\n",
       "      <td>0</td>\n",
       "      <td>...</td>\n",
       "      <td>0</td>\n",
       "      <td>-3</td>\n",
       "      <td>3</td>\n",
       "      <td>0</td>\n",
       "      <td>0</td>\n",
       "      <td>0</td>\n",
       "      <td>0</td>\n",
       "      <td>0</td>\n",
       "      <td>0</td>\n",
       "      <td>0</td>\n",
       "    </tr>\n",
       "    <tr>\n",
       "      <th>4</th>\n",
       "      <td>5</td>\n",
       "      <td>2020-03-02</td>\n",
       "      <td>737486</td>\n",
       "      <td>5</td>\n",
       "      <td>2</td>\n",
       "      <td>3</td>\n",
       "      <td>0</td>\n",
       "      <td>0</td>\n",
       "      <td>0</td>\n",
       "      <td>0</td>\n",
       "      <td>...</td>\n",
       "      <td>2</td>\n",
       "      <td>2</td>\n",
       "      <td>0</td>\n",
       "      <td>0</td>\n",
       "      <td>0</td>\n",
       "      <td>0</td>\n",
       "      <td>0</td>\n",
       "      <td>0</td>\n",
       "      <td>0</td>\n",
       "      <td>0</td>\n",
       "    </tr>\n",
       "    <tr>\n",
       "      <th>...</th>\n",
       "      <td>...</td>\n",
       "      <td>...</td>\n",
       "      <td>...</td>\n",
       "      <td>...</td>\n",
       "      <td>...</td>\n",
       "      <td>...</td>\n",
       "      <td>...</td>\n",
       "      <td>...</td>\n",
       "      <td>...</td>\n",
       "      <td>...</td>\n",
       "      <td>...</td>\n",
       "      <td>...</td>\n",
       "      <td>...</td>\n",
       "      <td>...</td>\n",
       "      <td>...</td>\n",
       "      <td>...</td>\n",
       "      <td>...</td>\n",
       "      <td>...</td>\n",
       "      <td>...</td>\n",
       "      <td>...</td>\n",
       "      <td>...</td>\n",
       "    </tr>\n",
       "    <tr>\n",
       "      <th>574</th>\n",
       "      <td>575</td>\n",
       "      <td>2021-09-23</td>\n",
       "      <td>738056</td>\n",
       "      <td>33593513</td>\n",
       "      <td>293402</td>\n",
       "      <td>32840724</td>\n",
       "      <td>446399</td>\n",
       "      <td>559932709</td>\n",
       "      <td>622902393</td>\n",
       "      <td>218615633</td>\n",
       "      <td>...</td>\n",
       "      <td>212978</td>\n",
       "      <td>-39045</td>\n",
       "      <td>249839</td>\n",
       "      <td>2121</td>\n",
       "      <td>10703560</td>\n",
       "      <td>40295488</td>\n",
       "      <td>28796794</td>\n",
       "      <td>12988</td>\n",
       "      <td>13</td>\n",
       "      <td>63</td>\n",
       "    </tr>\n",
       "    <tr>\n",
       "      <th>575</th>\n",
       "      <td>576</td>\n",
       "      <td>2021-09-24</td>\n",
       "      <td>738057</td>\n",
       "      <td>33623078</td>\n",
       "      <td>294619</td>\n",
       "      <td>32868773</td>\n",
       "      <td>446690</td>\n",
       "      <td>561661383</td>\n",
       "      <td>627174874</td>\n",
       "      <td>221754286</td>\n",
       "      <td>...</td>\n",
       "      <td>207189</td>\n",
       "      <td>-39055</td>\n",
       "      <td>244055</td>\n",
       "      <td>2127</td>\n",
       "      <td>10881110</td>\n",
       "      <td>31083028</td>\n",
       "      <td>22537043</td>\n",
       "      <td>12996</td>\n",
       "      <td>8</td>\n",
       "      <td>62</td>\n",
       "    </tr>\n",
       "    <tr>\n",
       "      <th>576</th>\n",
       "      <td>577</td>\n",
       "      <td>2021-09-25</td>\n",
       "      <td>738058</td>\n",
       "      <td>33651247</td>\n",
       "      <td>296493</td>\n",
       "      <td>32894794</td>\n",
       "      <td>446949</td>\n",
       "      <td>563243245</td>\n",
       "      <td>630831085</td>\n",
       "      <td>225250442</td>\n",
       "      <td>...</td>\n",
       "      <td>204228</td>\n",
       "      <td>-28342</td>\n",
       "      <td>230424</td>\n",
       "      <td>2080</td>\n",
       "      <td>10903077</td>\n",
       "      <td>29784635</td>\n",
       "      <td>21924561</td>\n",
       "      <td>13011</td>\n",
       "      <td>15</td>\n",
       "      <td>66</td>\n",
       "    </tr>\n",
       "    <tr>\n",
       "      <th>577</th>\n",
       "      <td>578</td>\n",
       "      <td>2021-09-26</td>\n",
       "      <td>738059</td>\n",
       "      <td>33678246</td>\n",
       "      <td>293584</td>\n",
       "      <td>32924419</td>\n",
       "      <td>447225</td>\n",
       "      <td>564408251</td>\n",
       "      <td>633216286</td>\n",
       "      <td>226942725</td>\n",
       "      <td>...</td>\n",
       "      <td>200399</td>\n",
       "      <td>-18559</td>\n",
       "      <td>216832</td>\n",
       "      <td>2060</td>\n",
       "      <td>10786485</td>\n",
       "      <td>29549513</td>\n",
       "      <td>22041354</td>\n",
       "      <td>13018</td>\n",
       "      <td>7</td>\n",
       "      <td>66</td>\n",
       "    </tr>\n",
       "    <tr>\n",
       "      <th>578</th>\n",
       "      <td>579</td>\n",
       "      <td>2021-09-27</td>\n",
       "      <td>738060</td>\n",
       "      <td>33693153</td>\n",
       "      <td>284052</td>\n",
       "      <td>32948670</td>\n",
       "      <td>447406</td>\n",
       "      <td>565730031</td>\n",
       "      <td>639614662</td>\n",
       "      <td>231093974</td>\n",
       "      <td>...</td>\n",
       "      <td>190399</td>\n",
       "      <td>-18271</td>\n",
       "      <td>206613</td>\n",
       "      <td>1990</td>\n",
       "      <td>10694314</td>\n",
       "      <td>30046502</td>\n",
       "      <td>22148307</td>\n",
       "      <td>13025</td>\n",
       "      <td>7</td>\n",
       "      <td>67</td>\n",
       "    </tr>\n",
       "  </tbody>\n",
       "</table>\n",
       "<p>579 rows × 27 columns</p>\n",
       "</div>"
      ],
      "text/plain": [
       "     index_no        date  ordinal_date  total_confirmed  total_active  \\\n",
       "0           1  2020-01-30        737454                1             1   \n",
       "1           2  2020-02-02        737457                2             2   \n",
       "2           3  2020-02-03        737458                3             3   \n",
       "3           4  2020-02-14        737469                3             0   \n",
       "4           5  2020-03-02        737486                5             2   \n",
       "..        ...         ...           ...              ...           ...   \n",
       "574       575  2021-09-23        738056         33593513        293402   \n",
       "575       576  2021-09-24        738057         33623078        294619   \n",
       "576       577  2021-09-25        738058         33651247        296493   \n",
       "577       578  2021-09-26        738059         33678246        293584   \n",
       "578       579  2021-09-27        738060         33693153        284052   \n",
       "\n",
       "     total_recovered  total_deaths  total_tested  total_vaccinated1  \\\n",
       "0                  0             0             0                  0   \n",
       "1                  0             0             0                  0   \n",
       "2                  0             0             0                  0   \n",
       "3                  3             0             0                  0   \n",
       "4                  3             0             0                  0   \n",
       "..               ...           ...           ...                ...   \n",
       "574         32840724        446399     559932709          622902393   \n",
       "575         32868773        446690     561661383          627174874   \n",
       "576         32894794        446949     563243245          630831085   \n",
       "577         32924419        447225     564408251          633216286   \n",
       "578         32948670        447406     565730031          639614662   \n",
       "\n",
       "     total_vaccinated2  ...  delta7_confirmed  delta7_active  \\\n",
       "0                    0  ...                 1              1   \n",
       "1                    0  ...                 2              2   \n",
       "2                    0  ...                 3              3   \n",
       "3                    0  ...                 0             -3   \n",
       "4                    0  ...                 2              2   \n",
       "..                 ...  ...               ...            ...   \n",
       "574          218615633  ...            212978         -39045   \n",
       "575          221754286  ...            207189         -39055   \n",
       "576          225250442  ...            204228         -28342   \n",
       "577          226942725  ...            200399         -18559   \n",
       "578          231093974  ...            190399         -18271   \n",
       "\n",
       "     delta7_recovered  delta7_deaths  delta7_tested  delta7_vaccinated1  \\\n",
       "0                   0              0              0                   0   \n",
       "1                   0              0              0                   0   \n",
       "2                   0              0              0                   0   \n",
       "3                   3              0              0                   0   \n",
       "4                   0              0              0                   0   \n",
       "..                ...            ...            ...                 ...   \n",
       "574            249839           2121       10703560            40295488   \n",
       "575            244055           2127       10881110            31083028   \n",
       "576            230424           2080       10903077            29784635   \n",
       "577            216832           2060       10786485            29549513   \n",
       "578            206613           1990       10694314            30046502   \n",
       "\n",
       "     delta7_vaccinated2  total_other  delta_other  delta7_other  \n",
       "0                     0            0            0             0  \n",
       "1                     0            0            0             0  \n",
       "2                     0            0            0             0  \n",
       "3                     0            0            0             0  \n",
       "4                     0            0            0             0  \n",
       "..                  ...          ...          ...           ...  \n",
       "574            28796794        12988           13            63  \n",
       "575            22537043        12996            8            62  \n",
       "576            21924561        13011           15            66  \n",
       "577            22041354        13018            7            66  \n",
       "578            22148307        13025            7            67  \n",
       "\n",
       "[579 rows x 27 columns]"
      ]
     },
     "execution_count": 46,
     "metadata": {},
     "output_type": "execute_result"
    }
   ],
   "source": [
    "data"
   ]
  },
  {
   "cell_type": "code",
   "execution_count": 47,
   "id": "tropical-regard",
   "metadata": {},
   "outputs": [
    {
     "data": {
      "text/plain": [
       "<AxesSubplot:xlabel='date', ylabel='[delta_confirmed]'>"
      ]
     },
     "execution_count": 47,
     "metadata": {},
     "output_type": "execute_result"
    }
   ],
   "source": [
    "data.plot(kind='scatter',x='date',y=['delta_confirmed'],figsize=(20,15))"
   ]
  },
  {
   "cell_type": "code",
   "execution_count": 48,
   "id": "beneficial-miller",
   "metadata": {},
   "outputs": [
    {
     "data": {
      "text/plain": [
       "<AxesSubplot:xlabel='date'>"
      ]
     },
     "execution_count": 48,
     "metadata": {},
     "output_type": "execute_result"
    }
   ],
   "source": [
    "data.plot(kind='line',x='date',y=['delta_confirmed'],figsize=(20,15))"
   ]
  },
  {
   "cell_type": "code",
   "execution_count": 49,
   "id": "disabled-monkey",
   "metadata": {},
   "outputs": [],
   "source": [
    "# data.plot(kind='bar',x='date',y=['delta_confirmed','delta_recovered'],figsize=(20,15))"
   ]
  },
  {
   "cell_type": "code",
   "execution_count": 50,
   "id": "disabled-lunch",
   "metadata": {},
   "outputs": [],
   "source": [
    "# data.plot(kind='line',x='date',y=['delta_confirmed'],figsize=(20,15))"
   ]
  },
  {
   "cell_type": "code",
   "execution_count": 51,
   "id": "ahead-earthquake",
   "metadata": {},
   "outputs": [],
   "source": [
    "# data.plot(kind='line',x='date',y=['delta_confirmed','delta_vaccinated1'],figsize=(20,15))"
   ]
  },
  {
   "cell_type": "code",
   "execution_count": 52,
   "id": "cross-symposium",
   "metadata": {},
   "outputs": [],
   "source": [
    "# data.plot(kind='line',x='date',y=['delta_confirmed','delta_vaccinated1','delta_tested'],figsize=(20,15))"
   ]
  },
  {
   "cell_type": "code",
   "execution_count": 53,
   "id": "engaged-conviction",
   "metadata": {},
   "outputs": [
    {
     "data": {
      "text/plain": [
       "<AxesSubplot:xlabel='date'>"
      ]
     },
     "execution_count": 53,
     "metadata": {},
     "output_type": "execute_result"
    }
   ],
   "source": [
    "data.plot(kind='line',x='date',y=['delta_confirmed','delta_vaccinated1','delta_tested','delta_vaccinated2'],figsize=(20,15))"
   ]
  },
  {
   "cell_type": "code",
   "execution_count": null,
   "id": "e082ac3a-2d2b-4bf2-8279-0ebdd723d4d0",
   "metadata": {},
   "outputs": [],
   "source": []
  },
  {
   "cell_type": "code",
   "execution_count": null,
   "id": "82e9d19f-72af-4d34-948f-a2513b714019",
   "metadata": {},
   "outputs": [],
   "source": []
  },
  {
   "cell_type": "code",
   "execution_count": 54,
   "id": "ebbfad97-0827-403a-93c5-902626d010a0",
   "metadata": {},
   "outputs": [],
   "source": [
    "# data=data[100:]"
   ]
  },
  {
   "cell_type": "markdown",
   "id": "79d33da0-673e-4477-ac67-bfce5f149258",
   "metadata": {},
   "source": [
    "### model training and testing"
   ]
  },
  {
   "cell_type": "code",
   "execution_count": null,
   "id": "reliable-tooth",
   "metadata": {},
   "outputs": [],
   "source": []
  },
  {
   "cell_type": "markdown",
   "id": "coordinate-cocktail",
   "metadata": {},
   "source": [
    "<h2>RandomForestRegressor</h2>"
   ]
  },
  {
   "cell_type": "code",
   "execution_count": 55,
   "id": "dbb98fc0-5c64-41ac-8508-c43aef539a36",
   "metadata": {},
   "outputs": [],
   "source": [
    "training_data,testing_data=splitting(data,0.90)"
   ]
  },
  {
   "cell_type": "code",
   "execution_count": 56,
   "id": "54cda746-5876-42dd-8c2a-a9e54fa8d0ef",
   "metadata": {},
   "outputs": [],
   "source": [
    "training_fetures=training_data[['ordinal_date','delta_vaccinated1','delta_tested']].to_numpy()"
   ]
  },
  {
   "cell_type": "code",
   "execution_count": 57,
   "id": "b30a20da-db91-414a-8495-a11cadc1258f",
   "metadata": {},
   "outputs": [],
   "source": [
    "training_labels=training_data['delta_confirmed']"
   ]
  },
  {
   "cell_type": "code",
   "execution_count": 58,
   "id": "621b9da6-404d-4044-9c0e-e944d6a2f813",
   "metadata": {},
   "outputs": [],
   "source": [
    "testing_fetures=testing_data[['ordinal_date','delta_vaccinated1','delta_tested']].to_numpy()"
   ]
  },
  {
   "cell_type": "code",
   "execution_count": 59,
   "id": "3fd2879a-0622-44e8-9e68-0975d6a95c15",
   "metadata": {},
   "outputs": [],
   "source": [
    "testing_labels=testing_data['delta_confirmed']"
   ]
  },
  {
   "cell_type": "code",
   "execution_count": 60,
   "id": "1088746e-d085-44fb-ae24-7d6dd78ef266",
   "metadata": {},
   "outputs": [],
   "source": [
    "# testing_labels"
   ]
  },
  {
   "cell_type": "code",
   "execution_count": 61,
   "id": "b7746da3-0fb0-4a82-9084-8d117f394921",
   "metadata": {},
   "outputs": [],
   "source": [
    "randomforest_model=RandomForestRegressor()"
   ]
  },
  {
   "cell_type": "code",
   "execution_count": 62,
   "id": "1bbb5907-0b9a-4a7d-bfb9-9c5e2b1a0272",
   "metadata": {},
   "outputs": [
    {
     "data": {
      "text/plain": [
       "RandomForestRegressor()"
      ]
     },
     "execution_count": 62,
     "metadata": {},
     "output_type": "execute_result"
    }
   ],
   "source": [
    "randomforest_model.fit(training_fetures,training_labels)"
   ]
  },
  {
   "cell_type": "code",
   "execution_count": 63,
   "id": "145be522-ee57-45ee-9131-3fa952e3ea60",
   "metadata": {},
   "outputs": [],
   "source": [
    "training_prediction=randomforest_model.predict(training_fetures)"
   ]
  },
  {
   "cell_type": "code",
   "execution_count": 64,
   "id": "070c9684-8a3d-454e-80f2-d564bc03b2eb",
   "metadata": {},
   "outputs": [],
   "source": [
    "# training_prediction"
   ]
  },
  {
   "cell_type": "code",
   "execution_count": 65,
   "id": "6fff66d7-8498-4e15-9517-d5d3562443ab",
   "metadata": {},
   "outputs": [],
   "source": [
    "testing_prediction=randomforest_model.predict(testing_fetures)"
   ]
  },
  {
   "cell_type": "code",
   "execution_count": 66,
   "id": "030ee2c7-3127-4d52-bc35-1481f8165196",
   "metadata": {},
   "outputs": [],
   "source": [
    "# testing_prediction"
   ]
  },
  {
   "cell_type": "code",
   "execution_count": 67,
   "id": "f81d7afa-5ed5-4ffa-a387-4ce93af4bf3e",
   "metadata": {},
   "outputs": [
    {
     "data": {
      "text/plain": [
       "1496.7694625719766"
      ]
     },
     "execution_count": 67,
     "metadata": {},
     "output_type": "execute_result"
    }
   ],
   "source": [
    "mean_absolute_error(training_labels,training_prediction)"
   ]
  },
  {
   "cell_type": "code",
   "execution_count": 68,
   "id": "d1264841-d92d-4a3d-9841-39b9fd70cb20",
   "metadata": {},
   "outputs": [
    {
     "data": {
      "text/plain": [
       "7318.233103448276"
      ]
     },
     "execution_count": 68,
     "metadata": {},
     "output_type": "execute_result"
    }
   ],
   "source": [
    "mean_absolute_error(testing_labels,testing_prediction)"
   ]
  },
  {
   "cell_type": "code",
   "execution_count": 69,
   "id": "95ec286f-a5dd-443c-8fee-e5a58ad0bee9",
   "metadata": {},
   "outputs": [
    {
     "data": {
      "text/plain": [
       "[<matplotlib.lines.Line2D at 0x1d95526f3d0>]"
      ]
     },
     "execution_count": 69,
     "metadata": {},
     "output_type": "execute_result"
    }
   ],
   "source": [
    "plt.plot(training_data['date'],training_labels)\n",
    "plt.plot(training_data['date'],training_prediction)\n",
    "plt.plot(testing_data['date'],testing_prediction)"
   ]
  },
  {
   "cell_type": "code",
   "execution_count": null,
   "id": "7c8dc3fb-3b20-4fd6-81cf-01130556959c",
   "metadata": {},
   "outputs": [],
   "source": []
  },
  {
   "cell_type": "markdown",
   "id": "excess-flashing",
   "metadata": {},
   "source": [
    "## Forcasting Model Implementation"
   ]
  },
  {
   "cell_type": "code",
   "execution_count": null,
   "id": "d190d9e6-f961-496f-b4f6-860e4172d60f",
   "metadata": {},
   "outputs": [],
   "source": []
  },
  {
   "cell_type": "markdown",
   "id": "express-parade",
   "metadata": {},
   "source": [
    "### ARIMA model try"
   ]
  },
  {
   "cell_type": "code",
   "execution_count": null,
   "id": "stainless-dancing",
   "metadata": {},
   "outputs": [],
   "source": []
  },
  {
   "cell_type": "code",
   "execution_count": 74,
   "id": "lesser-policy",
   "metadata": {},
   "outputs": [
    {
     "data": {
      "text/plain": [
       "0     2020-01-30\n",
       "1     2020-02-02\n",
       "2     2020-02-03\n",
       "3     2020-02-14\n",
       "4     2020-03-02\n",
       "         ...    \n",
       "574   2021-09-23\n",
       "575   2021-09-24\n",
       "576   2021-09-25\n",
       "577   2021-09-26\n",
       "578   2021-09-27\n",
       "Name: date, Length: 579, dtype: datetime64[ns]"
      ]
     },
     "execution_count": 74,
     "metadata": {},
     "output_type": "execute_result"
    }
   ],
   "source": [
    "pandas.to_datetime(data['date'])"
   ]
  },
  {
   "cell_type": "code",
   "execution_count": null,
   "id": "emotional-injury",
   "metadata": {},
   "outputs": [],
   "source": []
  },
  {
   "cell_type": "code",
   "execution_count": null,
   "id": "golden-assessment",
   "metadata": {},
   "outputs": [],
   "source": []
  },
  {
   "cell_type": "code",
   "execution_count": 70,
   "id": "5e7e0469-f9ab-46c2-9d04-5ab51b9c2b2d",
   "metadata": {},
   "outputs": [],
   "source": [
    "from statsmodels.tsa.arima.model import ARIMA"
   ]
  },
  {
   "cell_type": "code",
   "execution_count": 71,
   "id": "0db2cb61-60b4-4a5a-8cd2-028a03717844",
   "metadata": {},
   "outputs": [],
   "source": [
    "# arima_model_data=pandas.DataFrame(data[[]])"
   ]
  },
  {
   "cell_type": "code",
   "execution_count": 396,
   "id": "ac475e04-0036-44ec-acfb-85c72739b2df",
   "metadata": {},
   "outputs": [],
   "source": [
    "arima_model_data=data[['ordinal_date','delta_confirmed','delta_tested']]"
   ]
  },
  {
   "cell_type": "code",
   "execution_count": 403,
   "id": "active-bankruptcy",
   "metadata": {},
   "outputs": [
    {
     "data": {
      "text/html": [
       "<div>\n",
       "<style scoped>\n",
       "    .dataframe tbody tr th:only-of-type {\n",
       "        vertical-align: middle;\n",
       "    }\n",
       "\n",
       "    .dataframe tbody tr th {\n",
       "        vertical-align: top;\n",
       "    }\n",
       "\n",
       "    .dataframe thead th {\n",
       "        text-align: right;\n",
       "    }\n",
       "</style>\n",
       "<table border=\"1\" class=\"dataframe\">\n",
       "  <thead>\n",
       "    <tr style=\"text-align: right;\">\n",
       "      <th></th>\n",
       "      <th>delta_confirmed</th>\n",
       "      <th>delta_tested</th>\n",
       "    </tr>\n",
       "    <tr>\n",
       "      <th>ordinal_date</th>\n",
       "      <th></th>\n",
       "      <th></th>\n",
       "    </tr>\n",
       "  </thead>\n",
       "  <tbody>\n",
       "    <tr>\n",
       "      <th>737454</th>\n",
       "      <td>1</td>\n",
       "      <td>0</td>\n",
       "    </tr>\n",
       "    <tr>\n",
       "      <th>737457</th>\n",
       "      <td>1</td>\n",
       "      <td>0</td>\n",
       "    </tr>\n",
       "    <tr>\n",
       "      <th>737458</th>\n",
       "      <td>1</td>\n",
       "      <td>0</td>\n",
       "    </tr>\n",
       "    <tr>\n",
       "      <th>737469</th>\n",
       "      <td>0</td>\n",
       "      <td>0</td>\n",
       "    </tr>\n",
       "    <tr>\n",
       "      <th>737486</th>\n",
       "      <td>2</td>\n",
       "      <td>0</td>\n",
       "    </tr>\n",
       "    <tr>\n",
       "      <th>...</th>\n",
       "      <td>...</td>\n",
       "      <td>...</td>\n",
       "    </tr>\n",
       "    <tr>\n",
       "      <th>738027</th>\n",
       "      <td>46129</td>\n",
       "      <td>1944831</td>\n",
       "    </tr>\n",
       "    <tr>\n",
       "      <th>738028</th>\n",
       "      <td>44550</td>\n",
       "      <td>1824931</td>\n",
       "    </tr>\n",
       "    <tr>\n",
       "      <th>738029</th>\n",
       "      <td>46806</td>\n",
       "      <td>1933293</td>\n",
       "    </tr>\n",
       "    <tr>\n",
       "      <th>738030</th>\n",
       "      <td>45064</td>\n",
       "      <td>1755327</td>\n",
       "    </tr>\n",
       "    <tr>\n",
       "      <th>738031</th>\n",
       "      <td>43374</td>\n",
       "      <td>1503596</td>\n",
       "    </tr>\n",
       "  </tbody>\n",
       "</table>\n",
       "<p>550 rows × 2 columns</p>\n",
       "</div>"
      ],
      "text/plain": [
       "              delta_confirmed  delta_tested\n",
       "ordinal_date                               \n",
       "737454                      1             0\n",
       "737457                      1             0\n",
       "737458                      1             0\n",
       "737469                      0             0\n",
       "737486                      2             0\n",
       "...                       ...           ...\n",
       "738027                  46129       1944831\n",
       "738028                  44550       1824931\n",
       "738029                  46806       1933293\n",
       "738030                  45064       1755327\n",
       "738031                  43374       1503596\n",
       "\n",
       "[550 rows x 2 columns]"
      ]
     },
     "execution_count": 403,
     "metadata": {},
     "output_type": "execute_result"
    }
   ],
   "source": [
    "arima_model_data_train"
   ]
  },
  {
   "cell_type": "code",
   "execution_count": 398,
   "id": "satisfactory-death",
   "metadata": {},
   "outputs": [
    {
     "data": {
      "text/html": [
       "<div>\n",
       "<style scoped>\n",
       "    .dataframe tbody tr th:only-of-type {\n",
       "        vertical-align: middle;\n",
       "    }\n",
       "\n",
       "    .dataframe tbody tr th {\n",
       "        vertical-align: top;\n",
       "    }\n",
       "\n",
       "    .dataframe thead th {\n",
       "        text-align: right;\n",
       "    }\n",
       "</style>\n",
       "<table border=\"1\" class=\"dataframe\">\n",
       "  <thead>\n",
       "    <tr style=\"text-align: right;\">\n",
       "      <th></th>\n",
       "      <th>ordinal_date</th>\n",
       "      <th>delta_confirmed</th>\n",
       "      <th>delta_tested</th>\n",
       "    </tr>\n",
       "  </thead>\n",
       "  <tbody>\n",
       "    <tr>\n",
       "      <th>0</th>\n",
       "      <td>737454</td>\n",
       "      <td>1</td>\n",
       "      <td>0</td>\n",
       "    </tr>\n",
       "    <tr>\n",
       "      <th>1</th>\n",
       "      <td>737457</td>\n",
       "      <td>1</td>\n",
       "      <td>0</td>\n",
       "    </tr>\n",
       "    <tr>\n",
       "      <th>2</th>\n",
       "      <td>737458</td>\n",
       "      <td>1</td>\n",
       "      <td>0</td>\n",
       "    </tr>\n",
       "    <tr>\n",
       "      <th>3</th>\n",
       "      <td>737469</td>\n",
       "      <td>0</td>\n",
       "      <td>0</td>\n",
       "    </tr>\n",
       "    <tr>\n",
       "      <th>4</th>\n",
       "      <td>737486</td>\n",
       "      <td>2</td>\n",
       "      <td>0</td>\n",
       "    </tr>\n",
       "    <tr>\n",
       "      <th>...</th>\n",
       "      <td>...</td>\n",
       "      <td>...</td>\n",
       "      <td>...</td>\n",
       "    </tr>\n",
       "    <tr>\n",
       "      <th>574</th>\n",
       "      <td>738056</td>\n",
       "      <td>31411</td>\n",
       "      <td>1565696</td>\n",
       "    </tr>\n",
       "    <tr>\n",
       "      <th>575</th>\n",
       "      <td>738057</td>\n",
       "      <td>29565</td>\n",
       "      <td>1728674</td>\n",
       "    </tr>\n",
       "    <tr>\n",
       "      <th>576</th>\n",
       "      <td>738058</td>\n",
       "      <td>28169</td>\n",
       "      <td>1581862</td>\n",
       "    </tr>\n",
       "    <tr>\n",
       "      <th>577</th>\n",
       "      <td>738059</td>\n",
       "      <td>26999</td>\n",
       "      <td>1165006</td>\n",
       "    </tr>\n",
       "    <tr>\n",
       "      <th>578</th>\n",
       "      <td>738060</td>\n",
       "      <td>14907</td>\n",
       "      <td>1321780</td>\n",
       "    </tr>\n",
       "  </tbody>\n",
       "</table>\n",
       "<p>579 rows × 3 columns</p>\n",
       "</div>"
      ],
      "text/plain": [
       "     ordinal_date  delta_confirmed  delta_tested\n",
       "0          737454                1             0\n",
       "1          737457                1             0\n",
       "2          737458                1             0\n",
       "3          737469                0             0\n",
       "4          737486                2             0\n",
       "..            ...              ...           ...\n",
       "574        738056            31411       1565696\n",
       "575        738057            29565       1728674\n",
       "576        738058            28169       1581862\n",
       "577        738059            26999       1165006\n",
       "578        738060            14907       1321780\n",
       "\n",
       "[579 rows x 3 columns]"
      ]
     },
     "execution_count": 398,
     "metadata": {},
     "output_type": "execute_result"
    }
   ],
   "source": [
    "arima_model_data"
   ]
  },
  {
   "cell_type": "code",
   "execution_count": 399,
   "id": "backed-student",
   "metadata": {},
   "outputs": [],
   "source": [
    "arima_model_data=arima_model_data.set_index('ordinal_date')"
   ]
  },
  {
   "cell_type": "code",
   "execution_count": 400,
   "id": "selective-zealand",
   "metadata": {},
   "outputs": [
    {
     "data": {
      "text/html": [
       "<div>\n",
       "<style scoped>\n",
       "    .dataframe tbody tr th:only-of-type {\n",
       "        vertical-align: middle;\n",
       "    }\n",
       "\n",
       "    .dataframe tbody tr th {\n",
       "        vertical-align: top;\n",
       "    }\n",
       "\n",
       "    .dataframe thead th {\n",
       "        text-align: right;\n",
       "    }\n",
       "</style>\n",
       "<table border=\"1\" class=\"dataframe\">\n",
       "  <thead>\n",
       "    <tr style=\"text-align: right;\">\n",
       "      <th></th>\n",
       "      <th>delta_confirmed</th>\n",
       "      <th>delta_tested</th>\n",
       "    </tr>\n",
       "    <tr>\n",
       "      <th>ordinal_date</th>\n",
       "      <th></th>\n",
       "      <th></th>\n",
       "    </tr>\n",
       "  </thead>\n",
       "  <tbody>\n",
       "    <tr>\n",
       "      <th>737454</th>\n",
       "      <td>1</td>\n",
       "      <td>0</td>\n",
       "    </tr>\n",
       "    <tr>\n",
       "      <th>737457</th>\n",
       "      <td>1</td>\n",
       "      <td>0</td>\n",
       "    </tr>\n",
       "    <tr>\n",
       "      <th>737458</th>\n",
       "      <td>1</td>\n",
       "      <td>0</td>\n",
       "    </tr>\n",
       "    <tr>\n",
       "      <th>737469</th>\n",
       "      <td>0</td>\n",
       "      <td>0</td>\n",
       "    </tr>\n",
       "    <tr>\n",
       "      <th>737486</th>\n",
       "      <td>2</td>\n",
       "      <td>0</td>\n",
       "    </tr>\n",
       "    <tr>\n",
       "      <th>...</th>\n",
       "      <td>...</td>\n",
       "      <td>...</td>\n",
       "    </tr>\n",
       "    <tr>\n",
       "      <th>738056</th>\n",
       "      <td>31411</td>\n",
       "      <td>1565696</td>\n",
       "    </tr>\n",
       "    <tr>\n",
       "      <th>738057</th>\n",
       "      <td>29565</td>\n",
       "      <td>1728674</td>\n",
       "    </tr>\n",
       "    <tr>\n",
       "      <th>738058</th>\n",
       "      <td>28169</td>\n",
       "      <td>1581862</td>\n",
       "    </tr>\n",
       "    <tr>\n",
       "      <th>738059</th>\n",
       "      <td>26999</td>\n",
       "      <td>1165006</td>\n",
       "    </tr>\n",
       "    <tr>\n",
       "      <th>738060</th>\n",
       "      <td>14907</td>\n",
       "      <td>1321780</td>\n",
       "    </tr>\n",
       "  </tbody>\n",
       "</table>\n",
       "<p>579 rows × 2 columns</p>\n",
       "</div>"
      ],
      "text/plain": [
       "              delta_confirmed  delta_tested\n",
       "ordinal_date                               \n",
       "737454                      1             0\n",
       "737457                      1             0\n",
       "737458                      1             0\n",
       "737469                      0             0\n",
       "737486                      2             0\n",
       "...                       ...           ...\n",
       "738056                  31411       1565696\n",
       "738057                  29565       1728674\n",
       "738058                  28169       1581862\n",
       "738059                  26999       1165006\n",
       "738060                  14907       1321780\n",
       "\n",
       "[579 rows x 2 columns]"
      ]
     },
     "execution_count": 400,
     "metadata": {},
     "output_type": "execute_result"
    }
   ],
   "source": [
    "arima_model_data"
   ]
  },
  {
   "cell_type": "code",
   "execution_count": 401,
   "id": "8cb8f4f6-3454-4584-aa0e-1af03a4c078c",
   "metadata": {},
   "outputs": [],
   "source": [
    "from statsmodels.graphics.tsaplots import plot_pacf,plot_acf"
   ]
  },
  {
   "cell_type": "code",
   "execution_count": 402,
   "id": "descending-pressure",
   "metadata": {},
   "outputs": [],
   "source": [
    "arima_model_data_train=arima_model_data[:550]"
   ]
  },
  {
   "cell_type": "code",
   "execution_count": 355,
   "id": "e1d3598a-248c-4b45-a5fa-08dd16bef79a",
   "metadata": {},
   "outputs": [
    {
     "data": {
      "image/png": "[encoded data removed]",
      "text/plain": [
       "<Figure size 640x480 with 1 Axes>"
      ]
     },
     "execution_count": 355,
     "metadata": {},
     "output_type": "execute_result"
    }
   ],
   "source": [
    "plot_acf(arima_model_data_train)"
   ]
  },
  {
   "cell_type": "code",
   "execution_count": 356,
   "id": "5f761eed-a893-4bd8-afe3-022f1814e3ba",
   "metadata": {
    "scrolled": false
   },
   "outputs": [
    {
     "name": "stderr",
     "output_type": "stream",
     "text": [
      "C:\\Users\\Pankaj singh\\AppData\\Roaming\\Python\\Python39\\site-packages\\statsmodels\\regression\\linear_model.py:1434: RuntimeWarning: invalid value encountered in sqrt\n",
      "  return rho, np.sqrt(sigmasq)\n"
     ]
    },
    {
     "data": {
      "image/png": "[encoded data removed]",
      "text/plain": [
       "<Figure size 640x480 with 1 Axes>"
      ]
     },
     "execution_count": 356,
     "metadata": {},
     "output_type": "execute_result"
    }
   ],
   "source": [
    "plot_pacf(arima_model_data_train)"
   ]
  },
  {
   "cell_type": "code",
   "execution_count": null,
   "id": "59168842-17f8-48a3-8bf6-2dec926aac01",
   "metadata": {},
   "outputs": [],
   "source": []
  },
  {
   "cell_type": "code",
   "execution_count": 357,
   "id": "e4b2312d-2451-4cf4-904c-9cdd6c465707",
   "metadata": {},
   "outputs": [
    {
     "name": "stderr",
     "output_type": "stream",
     "text": [
      "C:\\Users\\Pankaj singh\\AppData\\Roaming\\Python\\Python39\\site-packages\\statsmodels\\tsa\\base\\tsa_model.py:578: ValueWarning: An unsupported index was provided and will be ignored when e.g. forecasting.\n",
      "  warnings.warn('An unsupported index was provided and will be'\n",
      "C:\\Users\\Pankaj singh\\AppData\\Roaming\\Python\\Python39\\site-packages\\statsmodels\\tsa\\base\\tsa_model.py:578: ValueWarning: An unsupported index was provided and will be ignored when e.g. forecasting.\n",
      "  warnings.warn('An unsupported index was provided and will be'\n",
      "C:\\Users\\Pankaj singh\\AppData\\Roaming\\Python\\Python39\\site-packages\\statsmodels\\tsa\\base\\tsa_model.py:578: ValueWarning: An unsupported index was provided and will be ignored when e.g. forecasting.\n",
      "  warnings.warn('An unsupported index was provided and will be'\n"
     ]
    }
   ],
   "source": [
    "model = ARIMA(arima_model_data_train,order=(5,0,3))"
   ]
  },
  {
   "cell_type": "code",
   "execution_count": 358,
   "id": "458cab62-330b-444a-ac65-e7a906de2ae1",
   "metadata": {},
   "outputs": [
    {
     "name": "stderr",
     "output_type": "stream",
     "text": [
      "C:\\Users\\Pankaj singh\\AppData\\Roaming\\Python\\Python39\\site-packages\\statsmodels\\tsa\\statespace\\sarimax.py:966: UserWarning: Non-stationary starting autoregressive parameters found. Using zeros as starting parameters.\n",
      "  warn('Non-stationary starting autoregressive parameters'\n",
      "C:\\Users\\Pankaj singh\\AppData\\Roaming\\Python\\Python39\\site-packages\\statsmodels\\tsa\\statespace\\sarimax.py:978: UserWarning: Non-invertible starting MA parameters found. Using zeros as starting parameters.\n",
      "  warn('Non-invertible starting MA parameters found.'\n"
     ]
    }
   ],
   "source": [
    "arima_fit_model=model.fit()"
   ]
  },
  {
   "cell_type": "code",
   "execution_count": 359,
   "id": "e1948360-ccda-47d3-b2b4-ee67ae7d38c8",
   "metadata": {},
   "outputs": [
    {
     "data": {
      "text/plain": [
       "<statsmodels.tsa.arima.model.ARIMAResultsWrapper at 0x1d93fc8ca90>"
      ]
     },
     "execution_count": 359,
     "metadata": {},
     "output_type": "execute_result"
    }
   ],
   "source": [
    "arima_fit_model"
   ]
  },
  {
   "cell_type": "code",
   "execution_count": 360,
   "id": "21b8933d-db3d-45bf-96b4-688995b23ee2",
   "metadata": {},
   "outputs": [
    {
     "data": {
      "text/plain": [
       "11786.458142161593"
      ]
     },
     "execution_count": 360,
     "metadata": {},
     "output_type": "execute_result"
    }
   ],
   "source": [
    "arima_fit_model.aic"
   ]
  },
  {
   "cell_type": "code",
   "execution_count": 361,
   "id": "empirical-placement",
   "metadata": {},
   "outputs": [
    {
     "data": {
      "text/html": [
       "<table class=\"simpletable\">\n",
       "<caption>SARIMAX Results</caption>\n",
       "<tr>\n",
       "  <th>Dep. Variable:</th>    <td>delta_confirmed</td> <th>  No. Observations:  </th>    <td>570</td>   \n",
       "</tr>\n",
       "<tr>\n",
       "  <th>Model:</th>            <td>ARIMA(5, 0, 3)</td>  <th>  Log Likelihood     </th> <td>-5883.229</td>\n",
       "</tr>\n",
       "<tr>\n",
       "  <th>Date:</th>            <td>Wed, 29 Sep 2021</td> <th>  AIC                </th> <td>11786.458</td>\n",
       "</tr>\n",
       "<tr>\n",
       "  <th>Time:</th>                <td>12:27:16</td>     <th>  BIC                </th> <td>11829.915</td>\n",
       "</tr>\n",
       "<tr>\n",
       "  <th>Sample:</th>                  <td>0</td>        <th>  HQIC               </th> <td>11803.413</td>\n",
       "</tr>\n",
       "<tr>\n",
       "  <th></th>                      <td> - 570</td>      <th>                     </th>     <td> </td>    \n",
       "</tr>\n",
       "<tr>\n",
       "  <th>Covariance Type:</th>        <td>opg</td>       <th>                     </th>     <td> </td>    \n",
       "</tr>\n",
       "</table>\n",
       "<table class=\"simpletable\">\n",
       "<tr>\n",
       "     <td></td>       <th>coef</th>     <th>std err</th>      <th>z</th>      <th>P>|z|</th>  <th>[0.025</th>    <th>0.975]</th>  \n",
       "</tr>\n",
       "<tr>\n",
       "  <th>const</th>  <td> 5.868e+04</td> <td> 3.48e+04</td> <td>    1.688</td> <td> 0.091</td> <td>-9442.031</td> <td> 1.27e+05</td>\n",
       "</tr>\n",
       "<tr>\n",
       "  <th>ar.L1</th>  <td>    0.1093</td> <td>    0.043</td> <td>    2.534</td> <td> 0.011</td> <td>    0.025</td> <td>    0.194</td>\n",
       "</tr>\n",
       "<tr>\n",
       "  <th>ar.L2</th>  <td>    0.1049</td> <td>    0.043</td> <td>    2.434</td> <td> 0.015</td> <td>    0.020</td> <td>    0.189</td>\n",
       "</tr>\n",
       "<tr>\n",
       "  <th>ar.L3</th>  <td>    0.4291</td> <td>    0.035</td> <td>   12.292</td> <td> 0.000</td> <td>    0.361</td> <td>    0.497</td>\n",
       "</tr>\n",
       "<tr>\n",
       "  <th>ar.L4</th>  <td>    0.6577</td> <td>    0.051</td> <td>   12.883</td> <td> 0.000</td> <td>    0.558</td> <td>    0.758</td>\n",
       "</tr>\n",
       "<tr>\n",
       "  <th>ar.L5</th>  <td>   -0.3217</td> <td>    0.021</td> <td>  -15.042</td> <td> 0.000</td> <td>   -0.364</td> <td>   -0.280</td>\n",
       "</tr>\n",
       "<tr>\n",
       "  <th>ma.L1</th>  <td>    1.0846</td> <td>    0.038</td> <td>   28.650</td> <td> 0.000</td> <td>    1.010</td> <td>    1.159</td>\n",
       "</tr>\n",
       "<tr>\n",
       "  <th>ma.L2</th>  <td>    1.0742</td> <td>    0.013</td> <td>   83.911</td> <td> 0.000</td> <td>    1.049</td> <td>    1.099</td>\n",
       "</tr>\n",
       "<tr>\n",
       "  <th>ma.L3</th>  <td>    0.8633</td> <td>    0.034</td> <td>   25.109</td> <td> 0.000</td> <td>    0.796</td> <td>    0.931</td>\n",
       "</tr>\n",
       "<tr>\n",
       "  <th>sigma2</th> <td> 2.352e+07</td> <td>  233.008</td> <td> 1.01e+05</td> <td> 0.000</td> <td> 2.35e+07</td> <td> 2.35e+07</td>\n",
       "</tr>\n",
       "</table>\n",
       "<table class=\"simpletable\">\n",
       "<tr>\n",
       "  <th>Ljung-Box (L1) (Q):</th>     <td>0.09</td>  <th>  Jarque-Bera (JB):  </th> <td>1402.44</td>\n",
       "</tr>\n",
       "<tr>\n",
       "  <th>Prob(Q):</th>                <td>0.76</td>  <th>  Prob(JB):          </th>  <td>0.00</td>  \n",
       "</tr>\n",
       "<tr>\n",
       "  <th>Heteroskedasticity (H):</th> <td>19.82</td> <th>  Skew:              </th>  <td>0.70</td>  \n",
       "</tr>\n",
       "<tr>\n",
       "  <th>Prob(H) (two-sided):</th>    <td>0.00</td>  <th>  Kurtosis:          </th>  <td>10.56</td> \n",
       "</tr>\n",
       "</table><br/><br/>Warnings:<br/>[1] Covariance matrix calculated using the outer product of gradients (complex-step).<br/>[2] Covariance matrix is singular or near-singular, with condition number 1.66e+20. Standard errors may be unstable."
      ],
      "text/plain": [
       "<class 'statsmodels.iolib.summary.Summary'>\n",
       "\"\"\"\n",
       "                               SARIMAX Results                                \n",
       "==============================================================================\n",
       "Dep. Variable:        delta_confirmed   No. Observations:                  570\n",
       "Model:                 ARIMA(5, 0, 3)   Log Likelihood               -5883.229\n",
       "Date:                Wed, 29 Sep 2021   AIC                          11786.458\n",
       "Time:                        12:27:16   BIC                          11829.915\n",
       "Sample:                             0   HQIC                         11803.413\n",
       "                                - 570                                         \n",
       "Covariance Type:                  opg                                         \n",
       "==============================================================================\n",
       "                 coef    std err          z      P>|z|      [0.025      0.975]\n",
       "------------------------------------------------------------------------------\n",
       "const       5.868e+04   3.48e+04      1.688      0.091   -9442.031    1.27e+05\n",
       "ar.L1          0.1093      0.043      2.534      0.011       0.025       0.194\n",
       "ar.L2          0.1049      0.043      2.434      0.015       0.020       0.189\n",
       "ar.L3          0.4291      0.035     12.292      0.000       0.361       0.497\n",
       "ar.L4          0.6577      0.051     12.883      0.000       0.558       0.758\n",
       "ar.L5         -0.3217      0.021    -15.042      0.000      -0.364      -0.280\n",
       "ma.L1          1.0846      0.038     28.650      0.000       1.010       1.159\n",
       "ma.L2          1.0742      0.013     83.911      0.000       1.049       1.099\n",
       "ma.L3          0.8633      0.034     25.109      0.000       0.796       0.931\n",
       "sigma2      2.352e+07    233.008   1.01e+05      0.000    2.35e+07    2.35e+07\n",
       "===================================================================================\n",
       "Ljung-Box (L1) (Q):                   0.09   Jarque-Bera (JB):              1402.44\n",
       "Prob(Q):                              0.76   Prob(JB):                         0.00\n",
       "Heteroskedasticity (H):              19.82   Skew:                             0.70\n",
       "Prob(H) (two-sided):                  0.00   Kurtosis:                        10.56\n",
       "===================================================================================\n",
       "\n",
       "Warnings:\n",
       "[1] Covariance matrix calculated using the outer product of gradients (complex-step).\n",
       "[2] Covariance matrix is singular or near-singular, with condition number 1.66e+20. Standard errors may be unstable.\n",
       "\"\"\""
      ]
     },
     "execution_count": 361,
     "metadata": {},
     "output_type": "execute_result"
    }
   ],
   "source": [
    "arima_fit_model.summary()"
   ]
  },
  {
   "cell_type": "code",
   "execution_count": 366,
   "id": "abb78a36-27cf-45cb-a111-cb3cbe5b0cfe",
   "metadata": {},
   "outputs": [
    {
     "name": "stderr",
     "output_type": "stream",
     "text": [
      "C:\\Users\\Pankaj singh\\AppData\\Roaming\\Python\\Python39\\site-packages\\statsmodels\\tsa\\base\\tsa_model.py:376: ValueWarning: No supported index is available. Prediction results will be given with an integer index beginning at `start`.\n",
      "  warnings.warn('No supported index is available.'\n"
     ]
    }
   ],
   "source": [
    "arima_model_forcast=arima_fit_model.forecast(steps=9)"
   ]
  },
  {
   "cell_type": "code",
   "execution_count": 367,
   "id": "14042ee4-e2a9-47c3-9db5-e6e0e5dda97e",
   "metadata": {},
   "outputs": [
    {
     "data": {
      "text/plain": [
       "570    28588.279319\n",
       "571    21986.820749\n",
       "572    24784.416571\n",
       "573    27598.895863\n",
       "574    25054.514768\n",
       "575    22747.955833\n",
       "576    27400.269221\n",
       "577    27525.977482\n",
       "578    24459.299338\n",
       "Name: predicted_mean, dtype: float64"
      ]
     },
     "execution_count": 367,
     "metadata": {},
     "output_type": "execute_result"
    }
   ],
   "source": [
    "arima_model_forcast"
   ]
  },
  {
   "cell_type": "code",
   "execution_count": 368,
   "id": "a8a77a21-4b0f-4a74-85ad-f51aa9c4f377",
   "metadata": {},
   "outputs": [
    {
     "data": {
      "text/plain": [
       "4016.236055146877"
      ]
     },
     "execution_count": 368,
     "metadata": {},
     "output_type": "execute_result"
    }
   ],
   "source": [
    "mean_absolute_error(arima_model_data[570:],arima_model_forcast)"
   ]
  },
  {
   "cell_type": "code",
   "execution_count": null,
   "id": "4ab7fdd7-767b-4109-9266-6512834837dc",
   "metadata": {},
   "outputs": [],
   "source": []
  },
  {
   "cell_type": "code",
   "execution_count": 404,
   "id": "fifth-tucson",
   "metadata": {},
   "outputs": [],
   "source": [
    "var_model_data=arima_model_data"
   ]
  },
  {
   "cell_type": "code",
   "execution_count": 405,
   "id": "japanese-intellectual",
   "metadata": {},
   "outputs": [
    {
     "data": {
      "text/html": [
       "<div>\n",
       "<style scoped>\n",
       "    .dataframe tbody tr th:only-of-type {\n",
       "        vertical-align: middle;\n",
       "    }\n",
       "\n",
       "    .dataframe tbody tr th {\n",
       "        vertical-align: top;\n",
       "    }\n",
       "\n",
       "    .dataframe thead th {\n",
       "        text-align: right;\n",
       "    }\n",
       "</style>\n",
       "<table border=\"1\" class=\"dataframe\">\n",
       "  <thead>\n",
       "    <tr style=\"text-align: right;\">\n",
       "      <th></th>\n",
       "      <th>delta_confirmed</th>\n",
       "      <th>delta_tested</th>\n",
       "    </tr>\n",
       "    <tr>\n",
       "      <th>ordinal_date</th>\n",
       "      <th></th>\n",
       "      <th></th>\n",
       "    </tr>\n",
       "  </thead>\n",
       "  <tbody>\n",
       "    <tr>\n",
       "      <th>737454</th>\n",
       "      <td>1</td>\n",
       "      <td>0</td>\n",
       "    </tr>\n",
       "    <tr>\n",
       "      <th>737457</th>\n",
       "      <td>1</td>\n",
       "      <td>0</td>\n",
       "    </tr>\n",
       "    <tr>\n",
       "      <th>737458</th>\n",
       "      <td>1</td>\n",
       "      <td>0</td>\n",
       "    </tr>\n",
       "    <tr>\n",
       "      <th>737469</th>\n",
       "      <td>0</td>\n",
       "      <td>0</td>\n",
       "    </tr>\n",
       "    <tr>\n",
       "      <th>737486</th>\n",
       "      <td>2</td>\n",
       "      <td>0</td>\n",
       "    </tr>\n",
       "    <tr>\n",
       "      <th>...</th>\n",
       "      <td>...</td>\n",
       "      <td>...</td>\n",
       "    </tr>\n",
       "    <tr>\n",
       "      <th>738056</th>\n",
       "      <td>31411</td>\n",
       "      <td>1565696</td>\n",
       "    </tr>\n",
       "    <tr>\n",
       "      <th>738057</th>\n",
       "      <td>29565</td>\n",
       "      <td>1728674</td>\n",
       "    </tr>\n",
       "    <tr>\n",
       "      <th>738058</th>\n",
       "      <td>28169</td>\n",
       "      <td>1581862</td>\n",
       "    </tr>\n",
       "    <tr>\n",
       "      <th>738059</th>\n",
       "      <td>26999</td>\n",
       "      <td>1165006</td>\n",
       "    </tr>\n",
       "    <tr>\n",
       "      <th>738060</th>\n",
       "      <td>14907</td>\n",
       "      <td>1321780</td>\n",
       "    </tr>\n",
       "  </tbody>\n",
       "</table>\n",
       "<p>579 rows × 2 columns</p>\n",
       "</div>"
      ],
      "text/plain": [
       "              delta_confirmed  delta_tested\n",
       "ordinal_date                               \n",
       "737454                      1             0\n",
       "737457                      1             0\n",
       "737458                      1             0\n",
       "737469                      0             0\n",
       "737486                      2             0\n",
       "...                       ...           ...\n",
       "738056                  31411       1565696\n",
       "738057                  29565       1728674\n",
       "738058                  28169       1581862\n",
       "738059                  26999       1165006\n",
       "738060                  14907       1321780\n",
       "\n",
       "[579 rows x 2 columns]"
      ]
     },
     "execution_count": 405,
     "metadata": {},
     "output_type": "execute_result"
    }
   ],
   "source": [
    "var_model_data"
   ]
  },
  {
   "cell_type": "code",
   "execution_count": 406,
   "id": "cosmetic-lending",
   "metadata": {},
   "outputs": [],
   "source": [
    "var_model_data_train=var_model_data[:550]"
   ]
  },
  {
   "cell_type": "code",
   "execution_count": 407,
   "id": "local-subsection",
   "metadata": {},
   "outputs": [
    {
     "data": {
      "text/html": [
       "<div>\n",
       "<style scoped>\n",
       "    .dataframe tbody tr th:only-of-type {\n",
       "        vertical-align: middle;\n",
       "    }\n",
       "\n",
       "    .dataframe tbody tr th {\n",
       "        vertical-align: top;\n",
       "    }\n",
       "\n",
       "    .dataframe thead th {\n",
       "        text-align: right;\n",
       "    }\n",
       "</style>\n",
       "<table border=\"1\" class=\"dataframe\">\n",
       "  <thead>\n",
       "    <tr style=\"text-align: right;\">\n",
       "      <th></th>\n",
       "      <th>delta_confirmed</th>\n",
       "      <th>delta_tested</th>\n",
       "    </tr>\n",
       "    <tr>\n",
       "      <th>ordinal_date</th>\n",
       "      <th></th>\n",
       "      <th></th>\n",
       "    </tr>\n",
       "  </thead>\n",
       "  <tbody>\n",
       "    <tr>\n",
       "      <th>737454</th>\n",
       "      <td>1</td>\n",
       "      <td>0</td>\n",
       "    </tr>\n",
       "    <tr>\n",
       "      <th>737457</th>\n",
       "      <td>1</td>\n",
       "      <td>0</td>\n",
       "    </tr>\n",
       "    <tr>\n",
       "      <th>737458</th>\n",
       "      <td>1</td>\n",
       "      <td>0</td>\n",
       "    </tr>\n",
       "    <tr>\n",
       "      <th>737469</th>\n",
       "      <td>0</td>\n",
       "      <td>0</td>\n",
       "    </tr>\n",
       "    <tr>\n",
       "      <th>737486</th>\n",
       "      <td>2</td>\n",
       "      <td>0</td>\n",
       "    </tr>\n",
       "    <tr>\n",
       "      <th>...</th>\n",
       "      <td>...</td>\n",
       "      <td>...</td>\n",
       "    </tr>\n",
       "    <tr>\n",
       "      <th>738027</th>\n",
       "      <td>46129</td>\n",
       "      <td>1944831</td>\n",
       "    </tr>\n",
       "    <tr>\n",
       "      <th>738028</th>\n",
       "      <td>44550</td>\n",
       "      <td>1824931</td>\n",
       "    </tr>\n",
       "    <tr>\n",
       "      <th>738029</th>\n",
       "      <td>46806</td>\n",
       "      <td>1933293</td>\n",
       "    </tr>\n",
       "    <tr>\n",
       "      <th>738030</th>\n",
       "      <td>45064</td>\n",
       "      <td>1755327</td>\n",
       "    </tr>\n",
       "    <tr>\n",
       "      <th>738031</th>\n",
       "      <td>43374</td>\n",
       "      <td>1503596</td>\n",
       "    </tr>\n",
       "  </tbody>\n",
       "</table>\n",
       "<p>550 rows × 2 columns</p>\n",
       "</div>"
      ],
      "text/plain": [
       "              delta_confirmed  delta_tested\n",
       "ordinal_date                               \n",
       "737454                      1             0\n",
       "737457                      1             0\n",
       "737458                      1             0\n",
       "737469                      0             0\n",
       "737486                      2             0\n",
       "...                       ...           ...\n",
       "738027                  46129       1944831\n",
       "738028                  44550       1824931\n",
       "738029                  46806       1933293\n",
       "738030                  45064       1755327\n",
       "738031                  43374       1503596\n",
       "\n",
       "[550 rows x 2 columns]"
      ]
     },
     "execution_count": 407,
     "metadata": {},
     "output_type": "execute_result"
    }
   ],
   "source": [
    "var_model_data_train"
   ]
  },
  {
   "cell_type": "code",
   "execution_count": null,
   "id": "scientific-alexander",
   "metadata": {},
   "outputs": [],
   "source": []
  },
  {
   "cell_type": "code",
   "execution_count": 408,
   "id": "ff8ccc77-1779-406b-abd7-333cd4d9078c",
   "metadata": {},
   "outputs": [],
   "source": [
    "from statsmodels.tsa.vector_ar.var_model import VAR\n"
   ]
  },
  {
   "cell_type": "code",
   "execution_count": 412,
   "id": "20a87e32-9687-4d09-a859-ae54fdc7e6d1",
   "metadata": {},
   "outputs": [
    {
     "name": "stderr",
     "output_type": "stream",
     "text": [
      "C:\\Users\\Pankaj singh\\AppData\\Roaming\\Python\\Python39\\site-packages\\statsmodels\\tsa\\base\\tsa_model.py:578: ValueWarning: An unsupported index was provided and will be ignored when e.g. forecasting.\n",
      "  warnings.warn('An unsupported index was provided and will be'\n"
     ]
    }
   ],
   "source": [
    "var_model=VAR(var_model_data_train)"
   ]
  },
  {
   "cell_type": "code",
   "execution_count": 413,
   "id": "9ce1ea9d-4d79-440e-a109-60e3942a5c43",
   "metadata": {},
   "outputs": [],
   "source": [
    "var_model_fit=var_model.fit()"
   ]
  },
  {
   "cell_type": "code",
   "execution_count": 414,
   "id": "bb9a3cd3-8694-4c43-9607-43e235e47be6",
   "metadata": {},
   "outputs": [
    {
     "name": "stderr",
     "output_type": "stream",
     "text": [
      "<ipython-input-414-8c051d3cf4d7>:1: FutureWarning: y is a deprecated alias for endog, will be removed in version 0.11.0\n",
      "  var_model_fit.forecast(var_model.y,steps=29)\n"
     ]
    },
    {
     "data": {
      "text/plain": [
       "array([[  43209.7609591 , 1464129.53560773],\n",
       "       [  43065.65449171, 1427216.54784586],\n",
       "       [  42940.35571272, 1392694.82648874],\n",
       "       [  42832.62400856, 1360412.45125382],\n",
       "       [  42741.29769077, 1330227.13912181],\n",
       "       [  42665.28898878, 1302005.63305525],\n",
       "       [  42603.57936029, 1275623.12948964],\n",
       "       [  42555.21509905, 1250962.74213793],\n",
       "       [  42519.3032213 , 1227914.99980491],\n",
       "       [  42495.00761311, 1206377.37605456],\n",
       "       [  42481.54542206, 1186253.84870976],\n",
       "       [  42478.18367787, 1167454.48729221],\n",
       "       [  42484.2361273 , 1149895.06663044],\n",
       "       [  42499.06026989, 1133496.70497598],\n",
       "       [  42522.05458166, 1118185.52507328],\n",
       "       [  42552.65591492, 1103892.3367274 ],\n",
       "       [  42590.33706308, 1090552.33950597],\n",
       "       [  42634.60447984, 1078104.84429823],\n",
       "       [  42684.99614308, 1066493.01253521],\n",
       "       [  42741.07955428, 1055663.6119507 ],\n",
       "       [  42802.44986476, 1045566.78783398],\n",
       "       [  42868.72812092, 1036155.84879159],\n",
       "       [  42939.55962057, 1027387.0660979 ],\n",
       "       [  43014.61237375, 1019219.4857726 ],\n",
       "       [  43093.57566102, 1011614.7525778 ],\n",
       "       [  43176.15868326, 1004536.94517873],\n",
       "       [  43262.08929714,  997952.42175993],\n",
       "       [  43351.11283074,  991829.67543379],\n",
       "       [  43442.99097434,  986139.19882037]])"
      ]
     },
     "execution_count": 414,
     "metadata": {},
     "output_type": "execute_result"
    }
   ],
   "source": [
    "var_model_fit.forecast(var_model.y,steps=29)"
   ]
  },
  {
   "cell_type": "code",
   "execution_count": null,
   "id": "immediate-combination",
   "metadata": {},
   "outputs": [],
   "source": []
  },
  {
   "cell_type": "code",
   "execution_count": null,
   "id": "conventional-shannon",
   "metadata": {},
   "outputs": [],
   "source": []
  },
  {
   "cell_type": "code",
   "execution_count": null,
   "id": "tracked-borough",
   "metadata": {},
   "outputs": [],
   "source": []
  },
  {
   "cell_type": "code",
   "execution_count": 350,
   "id": "ac274102-09a3-49bf-88cd-f9fe99b110a7",
   "metadata": {},
   "outputs": [],
   "source": [
    "from statsmodels.tsa.statespace.sarimax import SARIMAX"
   ]
  },
  {
   "cell_type": "code",
   "execution_count": 384,
   "id": "b335ebd2-03c6-49fb-88c1-e03d9d7567ab",
   "metadata": {},
   "outputs": [
    {
     "name": "stderr",
     "output_type": "stream",
     "text": [
      "C:\\Users\\Pankaj singh\\AppData\\Roaming\\Python\\Python39\\site-packages\\statsmodels\\tsa\\base\\tsa_model.py:578: ValueWarning: An unsupported index was provided and will be ignored when e.g. forecasting.\n",
      "  warnings.warn('An unsupported index was provided and will be'\n",
      "C:\\Users\\Pankaj singh\\AppData\\Roaming\\Python\\Python39\\site-packages\\statsmodels\\tsa\\base\\tsa_model.py:578: ValueWarning: An unsupported index was provided and will be ignored when e.g. forecasting.\n",
      "  warnings.warn('An unsupported index was provided and will be'\n"
     ]
    }
   ],
   "source": [
    "sarima_model=SARIMAX(arima_model_data)"
   ]
  },
  {
   "cell_type": "code",
   "execution_count": 385,
   "id": "7972c829-072e-432d-a5f6-a128b3ab6889",
   "metadata": {},
   "outputs": [],
   "source": [
    "sarima_model_fit=sarima_model.fit()"
   ]
  },
  {
   "cell_type": "code",
   "execution_count": 386,
   "id": "7fb65bc5-f1d9-4f4d-861c-30b89aa674dd",
   "metadata": {},
   "outputs": [
    {
     "name": "stderr",
     "output_type": "stream",
     "text": [
      "C:\\Users\\Pankaj singh\\AppData\\Roaming\\Python\\Python39\\site-packages\\statsmodels\\tsa\\base\\tsa_model.py:376: ValueWarning: No supported index is available. Prediction results will be given with an integer index beginning at `start`.\n",
      "  warnings.warn('No supported index is available.'\n"
     ]
    }
   ],
   "source": [
    "sarima_model_forcast=sarima_model_fit.forecast()"
   ]
  },
  {
   "cell_type": "code",
   "execution_count": 387,
   "id": "56d06055-b4b4-43a0-bce9-d3a04c8e6d46",
   "metadata": {},
   "outputs": [],
   "source": [
    "# mean_absolute_error(arima_model_data[575:],sarima_model_forcast)"
   ]
  },
  {
   "cell_type": "code",
   "execution_count": 388,
   "id": "1dd2072a-d834-4456-81ce-6b3c95917f88",
   "metadata": {},
   "outputs": [
    {
     "data": {
      "text/html": [
       "<div>\n",
       "<style scoped>\n",
       "    .dataframe tbody tr th:only-of-type {\n",
       "        vertical-align: middle;\n",
       "    }\n",
       "\n",
       "    .dataframe tbody tr th {\n",
       "        vertical-align: top;\n",
       "    }\n",
       "\n",
       "    .dataframe thead th {\n",
       "        text-align: right;\n",
       "    }\n",
       "</style>\n",
       "<table border=\"1\" class=\"dataframe\">\n",
       "  <thead>\n",
       "    <tr style=\"text-align: right;\">\n",
       "      <th></th>\n",
       "      <th>delta_confirmed</th>\n",
       "    </tr>\n",
       "    <tr>\n",
       "      <th>ordinal_date</th>\n",
       "      <th></th>\n",
       "    </tr>\n",
       "  </thead>\n",
       "  <tbody>\n",
       "    <tr>\n",
       "      <th>738057</th>\n",
       "      <td>29565</td>\n",
       "    </tr>\n",
       "    <tr>\n",
       "      <th>738058</th>\n",
       "      <td>28169</td>\n",
       "    </tr>\n",
       "    <tr>\n",
       "      <th>738059</th>\n",
       "      <td>26999</td>\n",
       "    </tr>\n",
       "    <tr>\n",
       "      <th>738060</th>\n",
       "      <td>14907</td>\n",
       "    </tr>\n",
       "  </tbody>\n",
       "</table>\n",
       "</div>"
      ],
      "text/plain": [
       "              delta_confirmed\n",
       "ordinal_date                 \n",
       "738057                  29565\n",
       "738058                  28169\n",
       "738059                  26999\n",
       "738060                  14907"
      ]
     },
     "execution_count": 388,
     "metadata": {},
     "output_type": "execute_result"
    }
   ],
   "source": [
    "arima_model_data[575:]"
   ]
  },
  {
   "cell_type": "code",
   "execution_count": 390,
   "id": "quality-colors",
   "metadata": {},
   "outputs": [
    {
     "data": {
      "text/plain": [
       "579    14845.808971\n",
       "dtype: float64"
      ]
     },
     "execution_count": 390,
     "metadata": {},
     "output_type": "execute_result"
    }
   ],
   "source": [
    "sarima_model_forcast"
   ]
  },
  {
   "cell_type": "code",
   "execution_count": null,
   "id": "threatened-festival",
   "metadata": {},
   "outputs": [],
   "source": []
  }
 ],
 "metadata": {
  "interpreter": {
   "hash": "ac59ebe37160ed0dfa835113d9b8498d9f09ceb179beaac4002f036b9467c963"
  },
  "kernelspec": {
   "display_name": "Python 3",
   "language": "python",
   "name": "python3"
  },
  "language_info": {
   "codemirror_mode": {
    "name": "ipython",
    "version": 3
   },
   "file_extension": ".py",
   "mimetype": "text/x-python",
   "name": "python",
   "nbconvert_exporter": "python",
   "pygments_lexer": "ipython3",
   "version": "3.9.2"
  }
 },
 "nbformat": 4,
 "nbformat_minor": 5
}
